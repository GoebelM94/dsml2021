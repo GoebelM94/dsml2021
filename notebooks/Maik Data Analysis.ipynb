{
 "cells": [
  {
   "cell_type": "code",
   "execution_count": 68,
   "metadata": {
    "collapsed": true
   },
   "outputs": [],
   "source": [
    "##Imports¶\n"
   ]
  },
  {
   "cell_type": "code",
   "execution_count": 69,
   "outputs": [],
   "source": [
    "#general imports\n",
    "import pandas as pd\n",
    "import numpy as np\n",
    "\n",
    "#statsmodels for regression\n",
    "import statsmodels.api as sm\n",
    "import statsmodels.formula.api as smf\n",
    "from statsmodels.iolib.summary2 import summary_col\n",
    "\n",
    "#scipy for testing\n",
    "from scipy import stats\n",
    "\n",
    "#for visualization\n",
    "import matplotlib.pyplot as plt\n",
    "import seaborn as sns\n",
    "\n",
    "from datetime import datetime\n"
   ],
   "metadata": {
    "collapsed": false,
    "pycharm": {
     "name": "#%%\n"
    }
   }
  },
  {
   "cell_type": "code",
   "execution_count": 70,
   "outputs": [],
   "source": [
    "##Bike Data"
   ],
   "metadata": {
    "collapsed": false,
    "pycharm": {
     "name": "#%%\n"
    }
   }
  },
  {
   "cell_type": "code",
   "execution_count": 71,
   "outputs": [
    {
     "data": {
      "text/plain": "      start_time       end_time  start_station_id  end_station_id  bike_id  \\\n0  1/1/2017 0:05  1/1/2017 0:16              3046            3041     5347   \n1  1/1/2017 0:21  1/1/2017 0:57              3110            3054     3364   \n2  1/1/2017 0:22  1/1/2017 0:57              3110            3054     2536   \n3  1/1/2017 0:27  1/1/2017 0:39              3041            3005     5176   \n4  1/1/2017 0:28  1/1/2017 0:36              3047            3124     5370   \n\n  user_type           start_station_name     end_station_name  \n0  Indego30                 2nd & Market  Girard Station, MFL  \n1   Walk-up  Del. River Trail & Penn St.         Rodin Museum  \n2   Walk-up  Del. River Trail & Penn St.         Rodin Museum  \n3  Indego30          Girard Station, MFL    Welcome Park, NPS  \n4   Walk-up       Independence Mall, NPS     Race Street Pier  ",
      "text/html": "<div>\n<style scoped>\n    .dataframe tbody tr th:only-of-type {\n        vertical-align: middle;\n    }\n\n    .dataframe tbody tr th {\n        vertical-align: top;\n    }\n\n    .dataframe thead th {\n        text-align: right;\n    }\n</style>\n<table border=\"1\" class=\"dataframe\">\n  <thead>\n    <tr style=\"text-align: right;\">\n      <th></th>\n      <th>start_time</th>\n      <th>end_time</th>\n      <th>start_station_id</th>\n      <th>end_station_id</th>\n      <th>bike_id</th>\n      <th>user_type</th>\n      <th>start_station_name</th>\n      <th>end_station_name</th>\n    </tr>\n  </thead>\n  <tbody>\n    <tr>\n      <th>0</th>\n      <td>1/1/2017 0:05</td>\n      <td>1/1/2017 0:16</td>\n      <td>3046</td>\n      <td>3041</td>\n      <td>5347</td>\n      <td>Indego30</td>\n      <td>2nd &amp; Market</td>\n      <td>Girard Station, MFL</td>\n    </tr>\n    <tr>\n      <th>1</th>\n      <td>1/1/2017 0:21</td>\n      <td>1/1/2017 0:57</td>\n      <td>3110</td>\n      <td>3054</td>\n      <td>3364</td>\n      <td>Walk-up</td>\n      <td>Del. River Trail &amp; Penn St.</td>\n      <td>Rodin Museum</td>\n    </tr>\n    <tr>\n      <th>2</th>\n      <td>1/1/2017 0:22</td>\n      <td>1/1/2017 0:57</td>\n      <td>3110</td>\n      <td>3054</td>\n      <td>2536</td>\n      <td>Walk-up</td>\n      <td>Del. River Trail &amp; Penn St.</td>\n      <td>Rodin Museum</td>\n    </tr>\n    <tr>\n      <th>3</th>\n      <td>1/1/2017 0:27</td>\n      <td>1/1/2017 0:39</td>\n      <td>3041</td>\n      <td>3005</td>\n      <td>5176</td>\n      <td>Indego30</td>\n      <td>Girard Station, MFL</td>\n      <td>Welcome Park, NPS</td>\n    </tr>\n    <tr>\n      <th>4</th>\n      <td>1/1/2017 0:28</td>\n      <td>1/1/2017 0:36</td>\n      <td>3047</td>\n      <td>3124</td>\n      <td>5370</td>\n      <td>Walk-up</td>\n      <td>Independence Mall, NPS</td>\n      <td>Race Street Pier</td>\n    </tr>\n  </tbody>\n</table>\n</div>"
     },
     "execution_count": 71,
     "metadata": {},
     "output_type": "execute_result"
    }
   ],
   "source": [
    "df_bikes = pd.read_csv('../data/philadelphia_2017.csv')\n",
    "df_weather = pd.read_csv('../data/weather_hourly_philadelphia.csv')\n",
    "\n",
    "df_bikes.head()"
   ],
   "metadata": {
    "collapsed": false,
    "pycharm": {
     "name": "#%%\n"
    }
   }
  },
  {
   "cell_type": "code",
   "execution_count": 72,
   "outputs": [
    {
     "data": {
      "text/plain": "       start_station_id  end_station_id        bike_id\ncount     788907.000000   788907.000000  788907.000000\nmean        3057.400081     3056.431487    5428.980913\nstd           41.126829       41.108792    3221.972215\nmin         3000.000000     3000.000000       0.000000\n25%         3023.000000     3023.000000    3350.000000\n50%         3050.000000     3049.000000    3703.000000\n75%         3075.000000     3074.000000    5370.000000\nmax         3170.000000     3170.000000   11965.000000",
      "text/html": "<div>\n<style scoped>\n    .dataframe tbody tr th:only-of-type {\n        vertical-align: middle;\n    }\n\n    .dataframe tbody tr th {\n        vertical-align: top;\n    }\n\n    .dataframe thead th {\n        text-align: right;\n    }\n</style>\n<table border=\"1\" class=\"dataframe\">\n  <thead>\n    <tr style=\"text-align: right;\">\n      <th></th>\n      <th>start_station_id</th>\n      <th>end_station_id</th>\n      <th>bike_id</th>\n    </tr>\n  </thead>\n  <tbody>\n    <tr>\n      <th>count</th>\n      <td>788907.000000</td>\n      <td>788907.000000</td>\n      <td>788907.000000</td>\n    </tr>\n    <tr>\n      <th>mean</th>\n      <td>3057.400081</td>\n      <td>3056.431487</td>\n      <td>5428.980913</td>\n    </tr>\n    <tr>\n      <th>std</th>\n      <td>41.126829</td>\n      <td>41.108792</td>\n      <td>3221.972215</td>\n    </tr>\n    <tr>\n      <th>min</th>\n      <td>3000.000000</td>\n      <td>3000.000000</td>\n      <td>0.000000</td>\n    </tr>\n    <tr>\n      <th>25%</th>\n      <td>3023.000000</td>\n      <td>3023.000000</td>\n      <td>3350.000000</td>\n    </tr>\n    <tr>\n      <th>50%</th>\n      <td>3050.000000</td>\n      <td>3049.000000</td>\n      <td>3703.000000</td>\n    </tr>\n    <tr>\n      <th>75%</th>\n      <td>3075.000000</td>\n      <td>3074.000000</td>\n      <td>5370.000000</td>\n    </tr>\n    <tr>\n      <th>max</th>\n      <td>3170.000000</td>\n      <td>3170.000000</td>\n      <td>11965.000000</td>\n    </tr>\n  </tbody>\n</table>\n</div>"
     },
     "execution_count": 72,
     "metadata": {},
     "output_type": "execute_result"
    }
   ],
   "source": [
    "df_bikes.describe()"
   ],
   "metadata": {
    "collapsed": false,
    "pycharm": {
     "name": "#%%\n"
    }
   }
  },
  {
   "cell_type": "code",
   "execution_count": 73,
   "outputs": [],
   "source": [
    "##Weather Data"
   ],
   "metadata": {
    "collapsed": false,
    "pycharm": {
     "name": "#%%\n"
    }
   }
  },
  {
   "cell_type": "code",
   "execution_count": 74,
   "outputs": [
    {
     "data": {
      "text/plain": "             date_time  max_temp  min_temp  precip\n0  2015-01-02 01:00:00       3.3       3.3     0.0\n1  2015-01-02 02:00:00       2.8       2.8     0.0\n2  2015-01-02 03:00:00       2.2       2.2     0.0\n3  2015-01-02 04:00:00       0.6       0.6     0.0\n4  2015-01-02 05:00:00       1.1       1.1     0.0",
      "text/html": "<div>\n<style scoped>\n    .dataframe tbody tr th:only-of-type {\n        vertical-align: middle;\n    }\n\n    .dataframe tbody tr th {\n        vertical-align: top;\n    }\n\n    .dataframe thead th {\n        text-align: right;\n    }\n</style>\n<table border=\"1\" class=\"dataframe\">\n  <thead>\n    <tr style=\"text-align: right;\">\n      <th></th>\n      <th>date_time</th>\n      <th>max_temp</th>\n      <th>min_temp</th>\n      <th>precip</th>\n    </tr>\n  </thead>\n  <tbody>\n    <tr>\n      <th>0</th>\n      <td>2015-01-02 01:00:00</td>\n      <td>3.3</td>\n      <td>3.3</td>\n      <td>0.0</td>\n    </tr>\n    <tr>\n      <th>1</th>\n      <td>2015-01-02 02:00:00</td>\n      <td>2.8</td>\n      <td>2.8</td>\n      <td>0.0</td>\n    </tr>\n    <tr>\n      <th>2</th>\n      <td>2015-01-02 03:00:00</td>\n      <td>2.2</td>\n      <td>2.2</td>\n      <td>0.0</td>\n    </tr>\n    <tr>\n      <th>3</th>\n      <td>2015-01-02 04:00:00</td>\n      <td>0.6</td>\n      <td>0.6</td>\n      <td>0.0</td>\n    </tr>\n    <tr>\n      <th>4</th>\n      <td>2015-01-02 05:00:00</td>\n      <td>1.1</td>\n      <td>1.1</td>\n      <td>0.0</td>\n    </tr>\n  </tbody>\n</table>\n</div>"
     },
     "execution_count": 74,
     "metadata": {},
     "output_type": "execute_result"
    }
   ],
   "source": [
    "df_weather.head()"
   ],
   "metadata": {
    "collapsed": false,
    "pycharm": {
     "name": "#%%\n"
    }
   }
  },
  {
   "cell_type": "code",
   "execution_count": 75,
   "outputs": [
    {
     "data": {
      "text/plain": "           max_temp      min_temp        precip\ncount  43785.000000  43785.000000  43785.000000\nmean      14.204796     14.121300      0.087770\nstd       10.272673     10.259344      0.282963\nmin      -16.700000    -16.700000      0.000000\n25%        6.100000      6.100000      0.000000\n50%       15.000000     14.400000      0.000000\n75%       22.800000     22.800000      0.000000\nmax       36.700000     36.700000      1.000000",
      "text/html": "<div>\n<style scoped>\n    .dataframe tbody tr th:only-of-type {\n        vertical-align: middle;\n    }\n\n    .dataframe tbody tr th {\n        vertical-align: top;\n    }\n\n    .dataframe thead th {\n        text-align: right;\n    }\n</style>\n<table border=\"1\" class=\"dataframe\">\n  <thead>\n    <tr style=\"text-align: right;\">\n      <th></th>\n      <th>max_temp</th>\n      <th>min_temp</th>\n      <th>precip</th>\n    </tr>\n  </thead>\n  <tbody>\n    <tr>\n      <th>count</th>\n      <td>43785.000000</td>\n      <td>43785.000000</td>\n      <td>43785.000000</td>\n    </tr>\n    <tr>\n      <th>mean</th>\n      <td>14.204796</td>\n      <td>14.121300</td>\n      <td>0.087770</td>\n    </tr>\n    <tr>\n      <th>std</th>\n      <td>10.272673</td>\n      <td>10.259344</td>\n      <td>0.282963</td>\n    </tr>\n    <tr>\n      <th>min</th>\n      <td>-16.700000</td>\n      <td>-16.700000</td>\n      <td>0.000000</td>\n    </tr>\n    <tr>\n      <th>25%</th>\n      <td>6.100000</td>\n      <td>6.100000</td>\n      <td>0.000000</td>\n    </tr>\n    <tr>\n      <th>50%</th>\n      <td>15.000000</td>\n      <td>14.400000</td>\n      <td>0.000000</td>\n    </tr>\n    <tr>\n      <th>75%</th>\n      <td>22.800000</td>\n      <td>22.800000</td>\n      <td>0.000000</td>\n    </tr>\n    <tr>\n      <th>max</th>\n      <td>36.700000</td>\n      <td>36.700000</td>\n      <td>1.000000</td>\n    </tr>\n  </tbody>\n</table>\n</div>"
     },
     "execution_count": 75,
     "metadata": {},
     "output_type": "execute_result"
    }
   ],
   "source": [
    "df_weather.describe()"
   ],
   "metadata": {
    "collapsed": false,
    "pycharm": {
     "name": "#%%\n"
    }
   }
  },
  {
   "cell_type": "code",
   "execution_count": 76,
   "outputs": [
    {
     "name": "stdout",
     "output_type": "stream",
     "text": [
      "2017-01-13 06:34:00\n",
      "16.243590901009362\n"
     ]
    }
   ],
   "source": [
    "\"\"\"\n",
    "Die Funktion ist an sich jetzt richtig, die Wetterdaten müssen nur noch sortiert werden, hab ich jetzt leider nicht gerafft,\n",
    "dass sie es nicht gemacht haben / die Daten extra kaputt gemacht haben :D\n",
    "\"\"\"\n",
    "def get_datetime(date_string):\n",
    "    new_string = \"\"\n",
    "    running_string = \"\"\n",
    "    for char in date_string:\n",
    "        if char == \"/\" or  char == \":\" or char == \" \":\n",
    "            if len(running_string) == 1:\n",
    "                running_string = \"0\" + running_string\n",
    "            new_string += running_string + char\n",
    "            running_string = \"\"\n",
    "        else:\n",
    "            running_string += char\n",
    "    new_string += running_string\n",
    "    if len(new_string) > 16:\n",
    "        return datetime.strptime(new_string, '%m/%d/%Y %H:%M:%S')\n",
    "    else:\n",
    "        return datetime.strptime(new_string, '%m/%d/%Y %H:%M')\n",
    "\n",
    "def would_be_rounded_up(num):\n",
    "    if round(num) == int(num) + 1:\n",
    "        return True\n",
    "    else:\n",
    "        return False\n",
    "\n",
    "def get_temperature(start_time, end_time):\n",
    "    duration_of_travel = end_time-start_time\n",
    "    average_timestamp = end_time - datetime.fromisoformat(\"2017-01-01 00:00:00\") - duration_of_travel/2\n",
    "    weather_row = 17521 + average_timestamp.total_seconds()/3600\n",
    "    as_int = int(weather_row)\n",
    "    if would_be_rounded_up(weather_row):\n",
    "        rows = [[df_weather[\"min_temp\"][as_int],df_weather[\"max_temp\"][as_int]], [df_weather[\"min_temp\"][as_int+1],df_weather[\"max_temp\"][as_int+1]]]\n",
    "    else:\n",
    "        rows = [[df_weather[\"min_temp\"][as_int],df_weather[\"max_temp\"][as_int]], [df_weather[\"min_temp\"][as_int-1],df_weather[\"max_temp\"][as_int-1]]]\n",
    "    result = 0;\n",
    "    avg_temp = (rows[0][0] + rows[0][1]) / 2\n",
    "    result += avg_temp/(weather_row - int(weather_row))\n",
    "    avg_temp = (rows[1][0] + rows[1][1]) / 2\n",
    "    result += avg_temp/(1 - weather_row - int(weather_row))\n",
    "\n",
    "    return result\n",
    "\n",
    "\n",
    "\n",
    "def temperature_at_time(start_time, end_time):\n",
    "    start_time = get_datetime(start_time)\n",
    "    end_time = get_datetime(end_time)\n",
    "    print(start_time)\n",
    "    print(get_temperature(start_time, end_time))\n",
    "\n",
    "\n",
    "\n",
    "\n",
    "\n",
    "temperature_at_time(df_bikes[\"start_time\"][10000],df_bikes[\"end_time\"][10000])"
   ],
   "metadata": {
    "collapsed": false,
    "pycharm": {
     "name": "#%%\n"
    }
   }
  },
  {
   "cell_type": "code",
   "execution_count": 77,
   "outputs": [
    {
     "name": "stdout",
     "output_type": "stream",
     "text": [
      "[[3072, 'Front & Carpenter'], [3073, '9th & Spring Garden'], [3074, '44th & Walnut'], [3075, 'Fairmount & Ridge'], [3077, '17th & Girard'], [3078, '19th & Market'], [3083, '3083'], [3086, 'Broad & Christian'], [3088, '3rd & Girard'], [3093, '33rd & Diamond'], [3095, '29th & Diamond'], [3096, '29th & Dauphin'], [3097, 'Berks Station, MFL'], [3098, '10th & Federal'], [3099, '4th & Washington'], [3100, 'Moyamensing & Tasker'], [3101, '11th & South'], [3102, 'Pennsylvania & Fairmount Perelman Building'], [3103, '27th & Master, Athletic Recreation Center'], [3104, '34th & Mantua'], [3105, 'Penn Treaty Park'], [3106, '33rd & Dauphin'], [3107, '33rd & Reservoir'], [3108, '15th & Market'], [3109, 'Parkside & Girard'], [3110, 'Del. River Trail & Penn St.'], [3111, 'Parkside & Belmont, Case Building'], [3112, '48th & Spruce'], [3113, 'Philadelphia Zoo'], [3114, '22nd & Federal'], [3115, '19th & Girard, PTTI'], [3116, 'Barnes Foundation'], [3117, 'ParkWest Town Center'], [3118, '46th Street Station, MFL'], [3119, '42nd & Lancaster'], [3120, '31st & Girard'], [3121, '27th & Girard'], [3122, '24th & Cecil B. Moore, Cecil B. Moore Library'], [3123, '22nd & Cecil B. Moore'], [3124, 'Race Street Pier'], [3125, '15th & South'], [3129, \"The Children's Hospital of Philadelphia, Osler Circle\"], [3150, '15th & Castle, DiSilvestro Playground'], [3152, '40th & Baltimore, Trolley Portal'], [3153, 'Thompson & Palmer, Adaire School'], [3154, '12th & Callowhill'], [3155, '7th & Fitzwater'], [3156, '20th & Market'], [3157, '8th & Mifflin, Bok Building'], [3158, 'Broad & Passyunk'], [3159, '38th & Spruce'], [3160, '38th & Market'], [3161, '30th Street Station East'], [3162, '27th & South'], [3163, '25th & Locust'], [3164, '12th & Passyunk'], [3165, '24th & Race SRT'], [3168, '20th & Sansom'], [3169, '2nd & Race'], [3170, 'Grays Ferry & Pemberton'], [3000, 'Virtual Station'], [3004, 'Municipal Services Building Plaza'], [3005, 'Welcome Park, NPS'], [3006, '40th & Spruce'], [3007, '11th & Pine, Kahn Park'], [3008, 'Temple University Station'], [3009, '33rd & Market'], [3010, '15th & Spruce'], [3011, '38th & Powelton'], [3012, '21st & Catharine'], [3013, '6th & Fairmount'], [3014, '21st & Winter, Franklin Institute'], [3015, '4th & Walnut, NPS'], [3016, '11th & Poplar, John F. Street Community Center'], [3017, '6th & Berks'], [3018, '12th & Filbert'], [3019, '6th & Race'], [3020, 'University City Station'], [3021, '18th & JFK'], [3022, 'Amtrak 30th Street Station'], [3023, 'Rittenhouse Square'], [3024, '43rd & Chester, Clark Park'], [3025, '11th & Washington'], [3026, '2nd & South'], [3027, '40th Street Station, MFL'], [3028, '4th & Bainbridge'], [3029, '36th & Sansom'], [3030, 'Darien & Catharine'], [3031, '13th & Montgomery'], [3032, '23rd & South'], [3033, '10th & Chestnut'], [3034, '11th & Reed'], [3035, 'Dornsife Center'], [3036, '2nd & Germantown'], [3037, 'Pennsylvania Convention Center'], [3038, \"The Children's Hospital of Philadelphia (CHOP)\"], [3039, 'Broad & Girard'], [3040, '17th & Spring Garden'], [3041, 'Girard Station, MFL'], [3043, '18th & Fernon, Aquinas Center'], [3045, '13th & Locust'], [3046, '2nd & Market'], [3047, 'Independence Mall, NPS'], [3049, 'Foglietta Plaza'], [3050, '9th & Arch'], [3051, '23rd & Fairmount'], [3052, '9th & Locust'], [3053, 'Point Breeze & Tasker'], [3054, 'Rodin Museum'], [3055, '8th & Market'], [3056, 'Broad & Oxford'], [3057, 'Philadelphia Museum of Art'], [3058, '20th & Fairmount'], [3059, 'Spring Garden Station, BSL'], [3060, 'Free Library of Philadelphia - Central Library'], [3061, '23rd & Market'], [3062, '24th & Sansom'], [3063, '17th & Pine'], [3064, '18th & Washington, Chew Playground'], [3065, 'Girard & Hutchinson'], [3066, '19th & Lombard'], [3067, '39th & Mt. Vernon, Mantua Haverford Community Center'], [3068, 'Broad & Federal'], [3069, '4th & Christian'], [3070, 'Spring Garden Station, MFL'], [3071, '32nd & Baring, Drexel Park']]\n"
     ]
    }
   ],
   "source": [
    "unique_station_ids = set(df_bikes['start_station_id'])\n",
    "id_mapped_to_station = []\n",
    "for id in unique_station_ids:\n",
    "    this_station = []\n",
    "    this_station.append(id)\n",
    "    this_station.append(df_bikes.loc[df_bikes['start_station_id'] == id].iloc[0]['start_station_name'])\n",
    "    id_mapped_to_station.append(this_station)\n",
    "print(id_mapped_to_station)"
   ],
   "metadata": {
    "collapsed": false,
    "pycharm": {
     "name": "#%%\n"
    }
   }
  },
  {
   "cell_type": "code",
   "execution_count": 78,
   "outputs": [
    {
     "name": "stdout",
     "output_type": "stream",
     "text": [
      "[4674, 6124, 5374, 5451, 2214, 10971, 10, 5653, 2802, 769, 1605, 990, 2628, 4731, 4372, 6517, 13888, 11755, 1095, 1836, 1169, 1206, 1394, 13004, 1402, 3423, 1691, 4840, 859, 6487, 3161, 48, 879, 2494, 2092, 5455, 5637, 844, 1339, 5178, 10237, 4049, 1662, 782, 1483, 3459, 1269, 5723, 2228, 2879, 4064, 2786, 4522, 3733, 4718, 588, 971, 133, 967, 3636, 110, 9020, 4688, 7828, 12102, 2966, 11430, 23655, 4242, 15344, 4919, 1892, 6552, 754, 1413, 11657, 4099, 16036, 19828, 14391, 24828, 5001, 6628, 8498, 4577, 12775, 11648, 9002, 6071, 16343, 8485, 7854, 5434, 2810, 6744, 10015, 5111, 9965, 4333, 5319, 19222, 9380, 9071, 5591, 7454, 9335, 12305, 8139, 16405, 6208, 8989, 14204, 9967, 8090, 8406, 10236, 6611, 12844, 9215, 1426, 10832, 750, 7750, 6370, 5396, 4394]\n"
     ]
    }
   ],
   "source": [
    "# das noch mit den IDs oder Namen der Stations matchen\n",
    "starting_id_loans = []\n",
    "for id in unique_station_ids:\n",
    "    starting_id_loans.append(sum(1 for i in df_bikes['start_station_id'] if i == id))\n",
    "print(starting_id_loans)"
   ],
   "metadata": {
    "collapsed": false,
    "pycharm": {
     "name": "#%%\n"
    }
   }
  },
  {
   "cell_type": "code",
   "execution_count": 79,
   "outputs": [
    {
     "name": "stdout",
     "output_type": "stream",
     "text": [
      "[4674, 6124, 5374, 5451, 2214, 10971, 10, 5653, 2802, 769, 1605, 990, 2628, 4731, 4372, 6517, 13888, 11755, 1095, 1836, 1169, 1206, 1394, 13004, 1402, 3423, 1691, 4840, 859, 6487, 3161, 48, 879, 2494, 2092, 5455, 5637, 844, 1339, 5178, 10237, 4049, 1662, 782, 1483, 3459, 1269, 5723, 2228, 2879, 4064, 2786, 4522, 3733, 4718, 588, 971, 133, 967, 3636, 110, 9020, 4688, 7828, 12102, 2966, 11430, 23655, 4242, 15344, 4919, 1892, 6552, 754, 1413, 11657, 4099, 16036, 19828, 14391, 24828, 5001, 6628, 8498, 4577, 12775, 11648, 9002, 6071, 16343, 8485, 7854, 5434, 2810, 6744, 10015, 5111, 9965, 4333, 5319, 19222, 9380, 9071, 5591, 7454, 9335, 12305, 8139, 16405, 6208, 8989, 14204, 9967, 8090, 8406, 10236, 6611, 12844, 9215, 1426, 10832, 750, 7750, 6370, 5396, 4394]\n"
     ]
    }
   ],
   "source": [
    "# das noch mit den IDs oder Namen der Stations matchen\n",
    "ending_id_loans = []\n",
    "for id in unique_station_ids:\n",
    "    ending_id_loans.append(sum(1 for i in df_bikes['end_station_id'] if i == id))\n",
    "print(starting_id_loans)"
   ],
   "metadata": {
    "collapsed": false,
    "pycharm": {
     "name": "#%%\n"
    }
   }
  },
  {
   "cell_type": "code",
   "execution_count": 80,
   "outputs": [
    {
     "data": {
      "text/plain": "<Figure size 360x360 with 1 Axes>",
      "image/png": "[encoded data removed]"
     },
     "metadata": {
      "needs_background": "light"
     },
     "output_type": "display_data"
    }
   ],
   "source": [
    "# keine Ahnung was da angezeigt wird, aber dachte es könnte nice sein\n",
    "sns.displot(starting_id_loans, bins=unique_station_ids.__len__(),kde=True)\n",
    "plt.show()"
   ],
   "metadata": {
    "collapsed": false,
    "pycharm": {
     "name": "#%%\n"
    }
   }
  },
  {
   "cell_type": "code",
   "execution_count": 81,
   "outputs": [
    {
     "data": {
      "text/plain": "Text(0, 0.5, 'EndID')"
     },
     "execution_count": 81,
     "metadata": {},
     "output_type": "execute_result"
    },
    {
     "data": {
      "text/plain": "<Figure size 432x288 with 1 Axes>",
      "image/png": "[encoded data removed]"
     },
     "metadata": {
      "needs_background": "light"
     },
     "output_type": "display_data"
    }
   ],
   "source": [
    "# schade, ich erkenne kein Muster :D\n",
    "fig, scplot_ids = plt.subplots(nrows=1,ncols=1)\n",
    "scplot_ids.scatter(df_bikes['start_station_id'],df_bikes['end_station_id'],s=3)\n",
    "scplot_ids.set_title(\"StartID - EndID Scatterplot\",fontsize=16)\n",
    "scplot_ids.set_xlabel(\"StartID\")\n",
    "scplot_ids.set_ylabel(\"EndID\")\n",
    "#scplot_ids.show()"
   ],
   "metadata": {
    "collapsed": false,
    "pycharm": {
     "name": "#%%\n"
    }
   }
  },
  {
   "cell_type": "code",
   "execution_count": 95,
   "outputs": [
    {
     "name": "stdout",
     "output_type": "stream",
     "text": [
      "<class 'pandas._libs.tslibs.timestamps.Timestamp'>\n"
     ]
    }
   ],
   "source": [
    "# Zeiten in Daytime umgewandelt und Leihdauer hinzugefügt\n",
    "df_bikes[\"start_time\"] = pd.to_datetime(df_bikes[\"start_time\"], dayfirst = True)\n",
    "\n",
    "df_bikes[\"end_time\"] = pd.to_datetime(df_bikes[\"end_time\"], dayfirst = True)\n",
    "\n",
    "df_bikes['ride_duration_minutes'] = df_bikes['end_time'] - df_bikes['start_time']\n"
   ],
   "metadata": {
    "collapsed": false,
    "pycharm": {
     "name": "#%%\n"
    }
   }
  },
  {
   "cell_type": "code",
   "execution_count": 88,
   "outputs": [
    {
     "data": {
      "text/plain": "Timedelta('0 days 00:11:00')"
     },
     "execution_count": 88,
     "metadata": {},
     "output_type": "execute_result"
    }
   ],
   "source": [
    "ride_lengths = []\n",
    "\n",
    "for label, content in df_bikes.iterrows():\n",
    "    ride_lengths.append(content[\"ride_duration_minutes\"])\n",
    "\n",
    "ride_lengths_np = np.array(ride_lengths)\n",
    "iqr = stats.iqr(ride_lengths_np)\n",
    "iqr"
   ],
   "metadata": {
    "collapsed": false,
    "pycharm": {
     "name": "#%%\n"
    }
   }
  },
  {
   "cell_type": "code",
   "execution_count": 125,
   "outputs": [
    {
     "name": "stdout",
     "output_type": "stream",
     "text": [
      "0 days 05:29:58.199999998\n"
     ]
    },
    {
     "data": {
      "text/plain": "           start_time            end_time  start_station_id  end_station_id  \\\n0 2017-01-01 00:05:00 2017-01-01 00:16:00              3046            3041   \n1 2017-01-01 00:21:00 2017-01-01 00:57:00              3110            3054   \n2 2017-01-01 00:22:00 2017-01-01 00:57:00              3110            3054   \n3 2017-01-01 00:27:00 2017-01-01 00:39:00              3041            3005   \n4 2017-01-01 00:28:00 2017-01-01 00:36:00              3047            3124   \n\n   bike_id user_type           start_station_name     end_station_name  \\\n0     5347  Indego30                 2nd & Market  Girard Station, MFL   \n1     3364   Walk-up  Del. River Trail & Penn St.         Rodin Museum   \n2     2536   Walk-up  Del. River Trail & Penn St.         Rodin Museum   \n3     5176  Indego30          Girard Station, MFL    Welcome Park, NPS   \n4     5370   Walk-up       Independence Mall, NPS     Race Street Pier   \n\n  ride_duration_minutes  \n0       0 days 00:11:00  \n1       0 days 00:36:00  \n2       0 days 00:35:00  \n3       0 days 00:12:00  \n4       0 days 00:08:00  ",
      "text/html": "<div>\n<style scoped>\n    .dataframe tbody tr th:only-of-type {\n        vertical-align: middle;\n    }\n\n    .dataframe tbody tr th {\n        vertical-align: top;\n    }\n\n    .dataframe thead th {\n        text-align: right;\n    }\n</style>\n<table border=\"1\" class=\"dataframe\">\n  <thead>\n    <tr style=\"text-align: right;\">\n      <th></th>\n      <th>start_time</th>\n      <th>end_time</th>\n      <th>start_station_id</th>\n      <th>end_station_id</th>\n      <th>bike_id</th>\n      <th>user_type</th>\n      <th>start_station_name</th>\n      <th>end_station_name</th>\n      <th>ride_duration_minutes</th>\n    </tr>\n  </thead>\n  <tbody>\n    <tr>\n      <th>0</th>\n      <td>2017-01-01 00:05:00</td>\n      <td>2017-01-01 00:16:00</td>\n      <td>3046</td>\n      <td>3041</td>\n      <td>5347</td>\n      <td>Indego30</td>\n      <td>2nd &amp; Market</td>\n      <td>Girard Station, MFL</td>\n      <td>0 days 00:11:00</td>\n    </tr>\n    <tr>\n      <th>1</th>\n      <td>2017-01-01 00:21:00</td>\n      <td>2017-01-01 00:57:00</td>\n      <td>3110</td>\n      <td>3054</td>\n      <td>3364</td>\n      <td>Walk-up</td>\n      <td>Del. River Trail &amp; Penn St.</td>\n      <td>Rodin Museum</td>\n      <td>0 days 00:36:00</td>\n    </tr>\n    <tr>\n      <th>2</th>\n      <td>2017-01-01 00:22:00</td>\n      <td>2017-01-01 00:57:00</td>\n      <td>3110</td>\n      <td>3054</td>\n      <td>2536</td>\n      <td>Walk-up</td>\n      <td>Del. River Trail &amp; Penn St.</td>\n      <td>Rodin Museum</td>\n      <td>0 days 00:35:00</td>\n    </tr>\n    <tr>\n      <th>3</th>\n      <td>2017-01-01 00:27:00</td>\n      <td>2017-01-01 00:39:00</td>\n      <td>3041</td>\n      <td>3005</td>\n      <td>5176</td>\n      <td>Indego30</td>\n      <td>Girard Station, MFL</td>\n      <td>Welcome Park, NPS</td>\n      <td>0 days 00:12:00</td>\n    </tr>\n    <tr>\n      <th>4</th>\n      <td>2017-01-01 00:28:00</td>\n      <td>2017-01-01 00:36:00</td>\n      <td>3047</td>\n      <td>3124</td>\n      <td>5370</td>\n      <td>Walk-up</td>\n      <td>Independence Mall, NPS</td>\n      <td>Race Street Pier</td>\n      <td>0 days 00:08:00</td>\n    </tr>\n  </tbody>\n</table>\n</div>"
     },
     "execution_count": 125,
     "metadata": {},
     "output_type": "execute_result"
    }
   ],
   "source": [
    "q1,q3 = np.percentile(ride_lengths_np, [25,75])\n",
    "\n",
    "lower_range = pd.to_timedelta(0)\n",
    "upper_range = q3 + (1.5*iqr)\n",
    "\n",
    "df_bikes.drop(df_bikes[ (df_bikes.ride_duration_minutes > upper_range) | (df_bikes.ride_duration_minutes < lower_range) ].index , inplace=True)\n",
    "\n",
    "print(upper_range)\n",
    "\n",
    "df_bikes.head()"
   ],
   "metadata": {
    "collapsed": false,
    "pycharm": {
     "name": "#%%\n"
    }
   }
  },
  {
   "cell_type": "code",
   "execution_count": 126,
   "outputs": [
    {
     "data": {
      "text/plain": "       start_station_id  end_station_id        bike_id  \\\ncount     763125.000000   763125.000000  763125.000000   \nmean        3057.303222     3056.606950    5429.523475   \nstd           41.160222       41.047182    3222.354371   \nmin         3000.000000     3000.000000       0.000000   \n25%         3023.000000     3023.000000    3350.000000   \n50%         3050.000000     3049.000000    3703.000000   \n75%         3075.000000     3074.000000    5370.000000   \nmax         3170.000000     3170.000000   11965.000000   \n\n           ride_duration_minutes  \ncount                     763125  \nmean   0 days 00:14:26.934722358  \nstd    0 days 00:11:26.608200111  \nmin              0 days 00:01:00  \n25%              0 days 00:07:00  \n50%              0 days 00:11:00  \n75%              0 days 00:17:00  \nmax              0 days 01:10:00  ",
      "text/html": "<div>\n<style scoped>\n    .dataframe tbody tr th:only-of-type {\n        vertical-align: middle;\n    }\n\n    .dataframe tbody tr th {\n        vertical-align: top;\n    }\n\n    .dataframe thead th {\n        text-align: right;\n    }\n</style>\n<table border=\"1\" class=\"dataframe\">\n  <thead>\n    <tr style=\"text-align: right;\">\n      <th></th>\n      <th>start_station_id</th>\n      <th>end_station_id</th>\n      <th>bike_id</th>\n      <th>ride_duration_minutes</th>\n    </tr>\n  </thead>\n  <tbody>\n    <tr>\n      <th>count</th>\n      <td>763125.000000</td>\n      <td>763125.000000</td>\n      <td>763125.000000</td>\n      <td>763125</td>\n    </tr>\n    <tr>\n      <th>mean</th>\n      <td>3057.303222</td>\n      <td>3056.606950</td>\n      <td>5429.523475</td>\n      <td>0 days 00:14:26.934722358</td>\n    </tr>\n    <tr>\n      <th>std</th>\n      <td>41.160222</td>\n      <td>41.047182</td>\n      <td>3222.354371</td>\n      <td>0 days 00:11:26.608200111</td>\n    </tr>\n    <tr>\n      <th>min</th>\n      <td>3000.000000</td>\n      <td>3000.000000</td>\n      <td>0.000000</td>\n      <td>0 days 00:01:00</td>\n    </tr>\n    <tr>\n      <th>25%</th>\n      <td>3023.000000</td>\n      <td>3023.000000</td>\n      <td>3350.000000</td>\n      <td>0 days 00:07:00</td>\n    </tr>\n    <tr>\n      <th>50%</th>\n      <td>3050.000000</td>\n      <td>3049.000000</td>\n      <td>3703.000000</td>\n      <td>0 days 00:11:00</td>\n    </tr>\n    <tr>\n      <th>75%</th>\n      <td>3075.000000</td>\n      <td>3074.000000</td>\n      <td>5370.000000</td>\n      <td>0 days 00:17:00</td>\n    </tr>\n    <tr>\n      <th>max</th>\n      <td>3170.000000</td>\n      <td>3170.000000</td>\n      <td>11965.000000</td>\n      <td>0 days 01:10:00</td>\n    </tr>\n  </tbody>\n</table>\n</div>"
     },
     "execution_count": 126,
     "metadata": {},
     "output_type": "execute_result"
    }
   ],
   "source": [
    "df_bikes.describe()"
   ],
   "metadata": {
    "collapsed": false,
    "pycharm": {
     "name": "#%%\n"
    }
   }
  },
  {
   "cell_type": "code",
   "execution_count": 127,
   "outputs": [
    {
     "data": {
      "text/plain": "        start_time  end_time  start_station_id  end_station_id  bike_id  \\\n0             True      True              True            True     True   \n1             True      True              True            True     True   \n2             True      True              True            True     True   \n3             True      True              True            True     True   \n4             True      True              True            True     True   \n...            ...       ...               ...             ...      ...   \n788900        True      True              True            True     True   \n788902        True      True              True            True     True   \n788904        True      True              True            True     True   \n788905        True      True              True            True     True   \n788906        True      True              True            True     True   \n\n        user_type  start_station_name  end_station_name  ride_duration_minutes  \n0            True                True              True                   True  \n1            True                True              True                   True  \n2            True                True              True                   True  \n3            True                True              True                   True  \n4            True                True              True                   True  \n...           ...                 ...               ...                    ...  \n788900       True                True              True                   True  \n788902       True                True              True                   True  \n788904       True                True              True                   True  \n788905       True                True              True                   True  \n788906       True                True              True                   True  \n\n[763125 rows x 9 columns]",
      "text/html": "<div>\n<style scoped>\n    .dataframe tbody tr th:only-of-type {\n        vertical-align: middle;\n    }\n\n    .dataframe tbody tr th {\n        vertical-align: top;\n    }\n\n    .dataframe thead th {\n        text-align: right;\n    }\n</style>\n<table border=\"1\" class=\"dataframe\">\n  <thead>\n    <tr style=\"text-align: right;\">\n      <th></th>\n      <th>start_time</th>\n      <th>end_time</th>\n      <th>start_station_id</th>\n      <th>end_station_id</th>\n      <th>bike_id</th>\n      <th>user_type</th>\n      <th>start_station_name</th>\n      <th>end_station_name</th>\n      <th>ride_duration_minutes</th>\n    </tr>\n  </thead>\n  <tbody>\n    <tr>\n      <th>0</th>\n      <td>True</td>\n      <td>True</td>\n      <td>True</td>\n      <td>True</td>\n      <td>True</td>\n      <td>True</td>\n      <td>True</td>\n      <td>True</td>\n      <td>True</td>\n    </tr>\n    <tr>\n      <th>1</th>\n      <td>True</td>\n      <td>True</td>\n      <td>True</td>\n      <td>True</td>\n      <td>True</td>\n      <td>True</td>\n      <td>True</td>\n      <td>True</td>\n      <td>True</td>\n    </tr>\n    <tr>\n      <th>2</th>\n      <td>True</td>\n      <td>True</td>\n      <td>True</td>\n      <td>True</td>\n      <td>True</td>\n      <td>True</td>\n      <td>True</td>\n      <td>True</td>\n      <td>True</td>\n    </tr>\n    <tr>\n      <th>3</th>\n      <td>True</td>\n      <td>True</td>\n      <td>True</td>\n      <td>True</td>\n      <td>True</td>\n      <td>True</td>\n      <td>True</td>\n      <td>True</td>\n      <td>True</td>\n    </tr>\n    <tr>\n      <th>4</th>\n      <td>True</td>\n      <td>True</td>\n      <td>True</td>\n      <td>True</td>\n      <td>True</td>\n      <td>True</td>\n      <td>True</td>\n      <td>True</td>\n      <td>True</td>\n    </tr>\n    <tr>\n      <th>...</th>\n      <td>...</td>\n      <td>...</td>\n      <td>...</td>\n      <td>...</td>\n      <td>...</td>\n      <td>...</td>\n      <td>...</td>\n      <td>...</td>\n      <td>...</td>\n    </tr>\n    <tr>\n      <th>788900</th>\n      <td>True</td>\n      <td>True</td>\n      <td>True</td>\n      <td>True</td>\n      <td>True</td>\n      <td>True</td>\n      <td>True</td>\n      <td>True</td>\n      <td>True</td>\n    </tr>\n    <tr>\n      <th>788902</th>\n      <td>True</td>\n      <td>True</td>\n      <td>True</td>\n      <td>True</td>\n      <td>True</td>\n      <td>True</td>\n      <td>True</td>\n      <td>True</td>\n      <td>True</td>\n    </tr>\n    <tr>\n      <th>788904</th>\n      <td>True</td>\n      <td>True</td>\n      <td>True</td>\n      <td>True</td>\n      <td>True</td>\n      <td>True</td>\n      <td>True</td>\n      <td>True</td>\n      <td>True</td>\n    </tr>\n    <tr>\n      <th>788905</th>\n      <td>True</td>\n      <td>True</td>\n      <td>True</td>\n      <td>True</td>\n      <td>True</td>\n      <td>True</td>\n      <td>True</td>\n      <td>True</td>\n      <td>True</td>\n    </tr>\n    <tr>\n      <th>788906</th>\n      <td>True</td>\n      <td>True</td>\n      <td>True</td>\n      <td>True</td>\n      <td>True</td>\n      <td>True</td>\n      <td>True</td>\n      <td>True</td>\n      <td>True</td>\n    </tr>\n  </tbody>\n</table>\n<p>763125 rows × 9 columns</p>\n</div>"
     },
     "execution_count": 127,
     "metadata": {},
     "output_type": "execute_result"
    }
   ],
   "source": [
    "df_bikes.notnull()"
   ],
   "metadata": {
    "collapsed": false,
    "pycharm": {
     "name": "#%%\n"
    }
   }
  },
  {
   "cell_type": "code",
   "execution_count": 103,
   "outputs": [
    {
     "data": {
      "text/plain": "0"
     },
     "execution_count": 103,
     "metadata": {},
     "output_type": "execute_result"
    }
   ],
   "source": [
    "df_bikes.dropna(axis=0,inplace=True)\n",
    "len(df_bikes)-len(df_bikes.dropna())"
   ],
   "metadata": {
    "collapsed": false,
    "pycharm": {
     "name": "#%%\n"
    }
   }
  },
  {
   "cell_type": "code",
   "execution_count": 104,
   "outputs": [],
   "source": [
    "# da hat sich jemand gegönnt :D\n",
    "#max(df_bikes['ride_duration_minutes'])"
   ],
   "metadata": {
    "collapsed": false,
    "pycharm": {
     "name": "#%%\n"
    }
   }
  },
  {
   "cell_type": "code",
   "execution_count": 105,
   "outputs": [],
   "source": [
    "# auch nicht schlecht\n",
    "#min(df_bikes['ride_duration_minutes'])"
   ],
   "metadata": {
    "collapsed": false,
    "pycharm": {
     "name": "#%%\n"
    }
   }
  },
  {
   "cell_type": "code",
   "execution_count": 106,
   "outputs": [
    {
     "data": {
      "text/plain": "657214"
     },
     "execution_count": 106,
     "metadata": {},
     "output_type": "execute_result"
    }
   ],
   "source": [
    "sumIndego30 = sum(1 for i in df_bikes[\"user_type\"] if i == 'Indego30')\n",
    "sumIndego30"
   ],
   "metadata": {
    "collapsed": false,
    "pycharm": {
     "name": "#%%\n"
    }
   }
  },
  {
   "cell_type": "code",
   "execution_count": 107,
   "outputs": [
    {
     "data": {
      "text/plain": "86325"
     },
     "execution_count": 107,
     "metadata": {},
     "output_type": "execute_result"
    }
   ],
   "source": [
    "sumWalkUp = sum(1 for i in df_bikes[\"user_type\"] if i == 'Walk-up')\n",
    "sumWalkUp"
   ],
   "metadata": {
    "collapsed": false,
    "pycharm": {
     "name": "#%%\n"
    }
   }
  },
  {
   "cell_type": "code",
   "execution_count": 108,
   "outputs": [
    {
     "data": {
      "text/plain": "5520"
     },
     "execution_count": 108,
     "metadata": {},
     "output_type": "execute_result"
    }
   ],
   "source": [
    "sumIndegoFlex = sum(1 for i in df_bikes[\"user_type\"] if i == 'IndegoFlex')\n",
    "sumIndegoFlex"
   ],
   "metadata": {
    "collapsed": false,
    "pycharm": {
     "name": "#%%\n"
    }
   }
  },
  {
   "cell_type": "code",
   "execution_count": 109,
   "outputs": [
    {
     "data": {
      "text/plain": "5765"
     },
     "execution_count": 109,
     "metadata": {},
     "output_type": "execute_result"
    }
   ],
   "source": [
    "sumOneDayPass = sum(1 for i in df_bikes[\"user_type\"] if i == 'One Day Pass')\n",
    "sumOneDayPass"
   ],
   "metadata": {
    "collapsed": false,
    "pycharm": {
     "name": "#%%\n"
    }
   }
  },
  {
   "cell_type": "code",
   "execution_count": 110,
   "outputs": [
    {
     "data": {
      "text/plain": "1527"
     },
     "execution_count": 110,
     "metadata": {},
     "output_type": "execute_result"
    }
   ],
   "source": [
    "sumTwoDayPass = sum(1 for i in df_bikes[\"user_type\"] if i == 'Two Day Pass')\n",
    "sumTwoDayPass"
   ],
   "metadata": {
    "collapsed": false,
    "pycharm": {
     "name": "#%%\n"
    }
   }
  },
  {
   "cell_type": "code",
   "execution_count": 111,
   "outputs": [
    {
     "data": {
      "text/plain": "6774"
     },
     "execution_count": 111,
     "metadata": {},
     "output_type": "execute_result"
    }
   ],
   "source": [
    "sumIndego365 = sum(1 for i in df_bikes[\"user_type\"] if i == 'Indego365')\n",
    "sumIndego365"
   ],
   "metadata": {
    "collapsed": false,
    "pycharm": {
     "name": "#%%\n"
    }
   }
  },
  {
   "cell_type": "code",
   "execution_count": 112,
   "outputs": [
    {
     "data": {
      "text/plain": "Indego30      657214\nWalkUp         86325\nIndegoFlex      5520\nOneDayPass      5765\nTwoDayPass      1527\nIndego365       6774\ndtype: int64"
     },
     "execution_count": 112,
     "metadata": {},
     "output_type": "execute_result"
    }
   ],
   "source": [
    "user_type_dict = {'Indego30': sumIndego30,\n",
    "                  'WalkUp': sumWalkUp,\n",
    "                  'IndegoFlex': sumIndegoFlex,\n",
    "                  'OneDayPass': sumOneDayPass,\n",
    "                  'TwoDayPass': sumTwoDayPass,\n",
    "                  'Indego365': sumIndego365\n",
    "                 }\n",
    "user_type = pd.Series(user_type_dict)\n",
    "user_type"
   ],
   "metadata": {
    "collapsed": false,
    "pycharm": {
     "name": "#%%\n"
    }
   }
  },
  {
   "cell_type": "code",
   "execution_count": 113,
   "outputs": [
    {
     "name": "stdout",
     "output_type": "stream",
     "text": [
      "1250\n"
     ]
    }
   ],
   "source": [
    "\n",
    "#Wert müsste ungefähr passen. Laut Internetseite von Indego haben die seit 2019 1400 Fahrräder in der Flotte.\n",
    "\n",
    "unique_bike_id = set(df_bikes['bike_id'])\n",
    "\n",
    "print(len(unique_bike_id))"
   ],
   "metadata": {
    "collapsed": false,
    "pycharm": {
     "name": "#%%\n"
    }
   }
  },
  {
   "cell_type": "code",
   "execution_count": 114,
   "outputs": [
    {
     "data": {
      "text/plain": "1.04"
     },
     "execution_count": 114,
     "metadata": {},
     "output_type": "execute_result"
    }
   ],
   "source": [
    "#type in the parameters to get the utilization in % at this point of time\n",
    "def utilization(year, month, day, hour, minute):\n",
    "    point_of_time = datetime(year, month, day, hour, minute)\n",
    "    df_smaller_pot = df_bikes[df_bikes[\"start_time\"] < point_of_time]\n",
    "    df_greater_pot = df_smaller_pot[df_smaller_pot[\"end_time\"] > point_of_time]\n",
    "    util = (len(df_greater_pot) / 1250) *100\n",
    "    return util\n",
    "\n",
    "utilization(2017, 1, 3, 12, 30)\n",
    "\n",
    "#check_start[]\n",
    "#for i in df_bikes[\"start_time\"]:\n",
    "#    if i < point_of_time:\n",
    "\n"
   ],
   "metadata": {
    "collapsed": false,
    "pycharm": {
     "name": "#%%\n"
    }
   }
  },
  {
   "cell_type": "code",
   "execution_count": 115,
   "outputs": [
    {
     "data": {
      "text/plain": "99.36"
     },
     "execution_count": 115,
     "metadata": {},
     "output_type": "execute_result"
    }
   ],
   "source": [
    "#type in the parameters to get the percentage of available bikes at this point of time\n",
    "def available_bikes(year, month, day, hour, minute):\n",
    "    point_of_time = datetime(year, month, day, hour, minute)\n",
    "    df_smaller_pot = df_bikes[df_bikes[\"start_time\"] < point_of_time]\n",
    "    df_greater_pot = df_smaller_pot[df_smaller_pot[\"end_time\"] > point_of_time]\n",
    "    avlbl = ((1250 - len(df_greater_pot)) / 1250) *100\n",
    "    return avlbl\n",
    "\n",
    "available_bikes(2017, 1, 3, 12, 3)\n"
   ],
   "metadata": {
    "collapsed": false,
    "pycharm": {
     "name": "#%%\n"
    }
   }
  },
  {
   "cell_type": "code",
   "execution_count": 116,
   "outputs": [
    {
     "name": "stdout",
     "output_type": "stream",
     "text": [
      "1.3599999999999999\n"
     ]
    }
   ],
   "source": [
    "#creates an array containing the utilization of every minute within one hour\n",
    "util_arr = []\n",
    "for i in range(0, 59):\n",
    "    util_arr.append(utilization(2017, 1, 3, 12, i))\n",
    "print(max(util_arr))\n"
   ],
   "metadata": {
    "collapsed": false,
    "pycharm": {
     "name": "#%%\n"
    }
   }
  },
  {
   "cell_type": "code",
   "execution_count": 117,
   "outputs": [
    {
     "name": "stdout",
     "output_type": "stream",
     "text": [
      "594\n"
     ]
    }
   ],
   "source": [
    "#sums up the number of loans of one specific bike in the dataset within 2017 (type in bike ID)\n",
    "def calc_unique_bike_amount_rides(v):\n",
    "    unique_bike_amount_rides = sum(1 for i in df_bikes[\"bike_id\"] if i == v)\n",
    "    return print(unique_bike_amount_rides)\n",
    "\n",
    "calc_unique_bike_amount_rides(2536)"
   ],
   "metadata": {
    "collapsed": false,
    "pycharm": {
     "name": "#%%\n"
    }
   }
  },
  {
   "cell_type": "code",
   "execution_count": 118,
   "outputs": [
    {
     "data": {
      "text/plain": "1496"
     },
     "execution_count": 118,
     "metadata": {},
     "output_type": "execute_result"
    }
   ],
   "source": [
    "\n",
    "#sums up all loans for one entire day in 2017\n",
    "def loans_per_day(month, day):\n",
    "    day_in_2017_start = datetime(2017, month, day, 0, 0)\n",
    "    day_in_2017_end = datetime(2017, month, day, 23, 59)\n",
    "    df_day_start = df_bikes[df_bikes[\"start_time\"] >= day_in_2017_start]\n",
    "    df_day_end = df_day_start[df_day_start[\"start_time\"] <= day_in_2017_end]\n",
    "    return len(df_day_end)\n",
    "\n",
    "\n",
    "## WARUM geht das nicht so? :(\n",
    "#def loans_per_day(month, day):\n",
    "#    day_in_2017_start = datetime(2017, month, day, 0, 0)\n",
    "#    day_in_2017_end = datetime(2017, month, day, 23, 59)\n",
    "#    day_loans = sum(1 for i in df_bikes[\"start_time\"] if i >= day_in_2017_start & i <= day_in_2017_end)\n",
    "#    return day_loans\n",
    "\n",
    "loans_per_day(1, 2)\n"
   ],
   "metadata": {
    "collapsed": false,
    "pycharm": {
     "name": "#%%\n"
    }
   }
  },
  {
   "cell_type": "code",
   "execution_count": 119,
   "outputs": [
    {
     "name": "stdout",
     "output_type": "stream",
     "text": [
      "[822, 1496, 1822, 0, 0, 0, 0, 0, 0, 0, 0, 0, 1378, 597, 745, 992, 1015, 1471, 1590, 1212, 1175, 628, 513, 1084, 1639, 1397, 1317, 796, 783, 1248]\n"
     ]
    }
   ],
   "source": [
    "#creates an array containing the total number of loans for one entire day for one month\n",
    "month_arr = []\n",
    "for i in range(1, 31):\n",
    "    month_arr.append(loans_per_day(1, i))\n",
    "print(month_arr)\n"
   ],
   "metadata": {
    "collapsed": false,
    "pycharm": {
     "name": "#%%\n"
    }
   }
  },
  {
   "cell_type": "code",
   "execution_count": 120,
   "outputs": [
    {
     "data": {
      "text/plain": "[<matplotlib.lines.Line2D at 0x2039ccf5ca0>]"
     },
     "execution_count": 120,
     "metadata": {},
     "output_type": "execute_result"
    },
    {
     "data": {
      "text/plain": "<Figure size 432x288 with 1 Axes>",
      "image/png": "[encoded data removed]"
     },
     "metadata": {
      "needs_background": "light"
     },
     "output_type": "display_data"
    }
   ],
   "source": [
    "#total number of loans for one entire day for one month as lineplot\n",
    "x = range(1, 31)\n",
    "y = month_arr\n",
    "plt.plot(x, y)"
   ],
   "metadata": {
    "collapsed": false,
    "pycharm": {
     "name": "#%%\n"
    }
   }
  },
  {
   "cell_type": "code",
   "execution_count": 128,
   "outputs": [
    {
     "name": "stderr",
     "output_type": "stream",
     "text": [
      "<ipython-input-128-f0765dd3e450>:9: SettingWithCopyWarning: \n",
      "A value is trying to be set on a copy of a slice from a DataFrame.\n",
      "Try using .loc[row_indexer,col_indexer] = value instead\n",
      "\n",
      "See the caveats in the documentation: https://pandas.pydata.org/pandas-docs/stable/user_guide/indexing.html#returning-a-view-versus-a-copy\n",
      "  df_more_than_30_mins[\"overtime\"] = df_more_than_30_mins['ride_duration_minutes'] - minutes30\n"
     ]
    },
    {
     "name": "stdout",
     "output_type": "stream",
     "text": [
      "78269.7000000004\n"
     ]
    },
    {
     "name": "stderr",
     "output_type": "stream",
     "text": [
      "<ipython-input-128-f0765dd3e450>:12: SettingWithCopyWarning: \n",
      "A value is trying to be set on a copy of a slice from a DataFrame.\n",
      "Try using .loc[row_indexer,col_indexer] = value instead\n",
      "\n",
      "See the caveats in the documentation: https://pandas.pydata.org/pandas-docs/stable/user_guide/indexing.html#returning-a-view-versus-a-copy\n",
      "  df_more_than_30_mins[\"costs\"] = df_more_than_30_mins.apply(lambda x: ((((x.overtime.total_seconds())/60) *0.15) + 1), axis=1)\n"
     ]
    }
   ],
   "source": [
    "from datetime import timedelta\n",
    "\n",
    "#note: prices from Indego's official website from 2021\n",
    "\n",
    "minutes30 = timedelta(minutes=30)\n",
    "\n",
    "df_walk_up = df_bikes[df_bikes[\"user_type\"] == \"Walk-up\"]\n",
    "df_more_than_30_mins = df_walk_up[df_walk_up['ride_duration_minutes'] > minutes30]\n",
    "df_more_than_30_mins[\"overtime\"] = df_more_than_30_mins['ride_duration_minutes'] - minutes30\n",
    "#df_more_than_30_mins\n",
    "\n",
    "df_more_than_30_mins[\"costs\"] = df_more_than_30_mins.apply(lambda x: ((((x.overtime.total_seconds())/60) *0.15) + 1), axis=1)\n",
    "\n",
    "df_more_than_30_mins.head()\n",
    "\n",
    "print(sum(df_more_than_30_mins[\"costs\"]))\n",
    "\n",
    "#minutes30 = time(0, 30, 0)\n",
    "\n",
    "#costs = []\n",
    "#for i in df_bikes[\"user_type\"]:\n",
    "  #  if df_bikes[\"user_type\"] == \"Walk-up\":\n",
    "    #if df_bikes[\"user_type\"].item(\"Walk-up\"):\n",
    "       # if df_bikes['ride_duration_minutes'] > minutes30:\n",
    "         #   costs.append((df_bikes['ride_duration_minutes'] - minutes30)*0.15)\n",
    "\n",
    "#def calc_costs (v1,v2):\n",
    "#    df_bikes[v2]= np.where((df_bikes[v1] == \"Walk-up\", df_bikes['ride_duration_minutes'] - minutes30)*0.15, 0)\n",
    "#    return df_bikes\n",
    "\n",
    "#df_w_costs = calc_costs(\"user_type\", \"costs\")\n",
    "#print(df_w_costs)\n",
    "\n",
    "#df_bikes_walkup = df_bikes.drop(df_bikes[\"user_type\"] == \"Indego30\", axis=1)"
   ],
   "metadata": {
    "collapsed": false,
    "pycharm": {
     "name": "#%%\n"
    }
   }
  },
  {
   "cell_type": "code",
   "execution_count": null,
   "outputs": [],
   "source": [],
   "metadata": {
    "collapsed": false,
    "pycharm": {
     "name": "#%%\n"
    }
   }
  }
 ],
 "metadata": {
  "kernelspec": {
   "display_name": "Python 3",
   "language": "python",
   "name": "python3"
  },
  "language_info": {
   "codemirror_mode": {
    "name": "ipython",
    "version": 2
   },
   "file_extension": ".py",
   "mimetype": "text/x-python",
   "name": "python",
   "nbconvert_exporter": "python",
   "pygments_lexer": "ipython2",
   "version": "2.7.6"
  }
 },
 "nbformat": 4,
 "nbformat_minor": 0
}