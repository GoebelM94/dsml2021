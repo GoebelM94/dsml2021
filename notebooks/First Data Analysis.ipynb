{
 "cells": [
  {
   "cell_type": "markdown",
   "source": [
    "## Imports"
   ],
   "metadata": {
    "collapsed": false
   }
  },
  {
   "cell_type": "code",
   "execution_count": 13,
   "outputs": [],
   "source": [
    "#general imports\n",
    "import pandas as pd\n",
    "import numpy as np\n",
    "\n",
    "#statsmodels for regression\n",
    "import statsmodels.api as sm\n",
    "import statsmodels.formula.api as smf\n",
    "from statsmodels.iolib.summary2 import summary_col\n",
    "\n",
    "#scipy for testing\n",
    "from scipy import stats\n",
    "\n",
    "#for visualization\n",
    "import matplotlib.pyplot as plt\n",
    "import seaborn as sns\n"
   ],
   "metadata": {
    "collapsed": false,
    "pycharm": {
     "name": "#%%\n"
    }
   }
  },
  {
   "cell_type": "markdown",
   "source": [
    "## Bike Data"
   ],
   "metadata": {
    "collapsed": false,
    "pycharm": {
     "name": "#%% md\n"
    }
   }
  },
  {
   "cell_type": "code",
   "execution_count": 14,
   "outputs": [
    {
     "data": {
      "text/plain": "      start_time       end_time  start_station_id  end_station_id  bike_id  \\\n0  1/1/2017 0:05  1/1/2017 0:16              3046            3041     5347   \n1  1/1/2017 0:21  1/1/2017 0:57              3110            3054     3364   \n2  1/1/2017 0:22  1/1/2017 0:57              3110            3054     2536   \n3  1/1/2017 0:27  1/1/2017 0:39              3041            3005     5176   \n4  1/1/2017 0:28  1/1/2017 0:36              3047            3124     5370   \n\n  user_type           start_station_name     end_station_name  \n0  Indego30                 2nd & Market  Girard Station, MFL  \n1   Walk-up  Del. River Trail & Penn St.         Rodin Museum  \n2   Walk-up  Del. River Trail & Penn St.         Rodin Museum  \n3  Indego30          Girard Station, MFL    Welcome Park, NPS  \n4   Walk-up       Independence Mall, NPS     Race Street Pier  ",
      "text/html": "<div>\n<style scoped>\n    .dataframe tbody tr th:only-of-type {\n        vertical-align: middle;\n    }\n\n    .dataframe tbody tr th {\n        vertical-align: top;\n    }\n\n    .dataframe thead th {\n        text-align: right;\n    }\n</style>\n<table border=\"1\" class=\"dataframe\">\n  <thead>\n    <tr style=\"text-align: right;\">\n      <th></th>\n      <th>start_time</th>\n      <th>end_time</th>\n      <th>start_station_id</th>\n      <th>end_station_id</th>\n      <th>bike_id</th>\n      <th>user_type</th>\n      <th>start_station_name</th>\n      <th>end_station_name</th>\n    </tr>\n  </thead>\n  <tbody>\n    <tr>\n      <th>0</th>\n      <td>1/1/2017 0:05</td>\n      <td>1/1/2017 0:16</td>\n      <td>3046</td>\n      <td>3041</td>\n      <td>5347</td>\n      <td>Indego30</td>\n      <td>2nd &amp; Market</td>\n      <td>Girard Station, MFL</td>\n    </tr>\n    <tr>\n      <th>1</th>\n      <td>1/1/2017 0:21</td>\n      <td>1/1/2017 0:57</td>\n      <td>3110</td>\n      <td>3054</td>\n      <td>3364</td>\n      <td>Walk-up</td>\n      <td>Del. River Trail &amp; Penn St.</td>\n      <td>Rodin Museum</td>\n    </tr>\n    <tr>\n      <th>2</th>\n      <td>1/1/2017 0:22</td>\n      <td>1/1/2017 0:57</td>\n      <td>3110</td>\n      <td>3054</td>\n      <td>2536</td>\n      <td>Walk-up</td>\n      <td>Del. River Trail &amp; Penn St.</td>\n      <td>Rodin Museum</td>\n    </tr>\n    <tr>\n      <th>3</th>\n      <td>1/1/2017 0:27</td>\n      <td>1/1/2017 0:39</td>\n      <td>3041</td>\n      <td>3005</td>\n      <td>5176</td>\n      <td>Indego30</td>\n      <td>Girard Station, MFL</td>\n      <td>Welcome Park, NPS</td>\n    </tr>\n    <tr>\n      <th>4</th>\n      <td>1/1/2017 0:28</td>\n      <td>1/1/2017 0:36</td>\n      <td>3047</td>\n      <td>3124</td>\n      <td>5370</td>\n      <td>Walk-up</td>\n      <td>Independence Mall, NPS</td>\n      <td>Race Street Pier</td>\n    </tr>\n  </tbody>\n</table>\n</div>"
     },
     "execution_count": 14,
     "metadata": {},
     "output_type": "execute_result"
    }
   ],
   "source": [
    "df_bikes = pd.read_csv('philadelphia_2017.csv')\n",
    "df_weather = pd.read_csv('weather_hourly_philadelphia.csv')\n",
    "\n",
    "df_bikes.head()"
   ],
   "metadata": {
    "collapsed": false,
    "pycharm": {
     "name": "#%%\n"
    }
   }
  },
  {
   "cell_type": "code",
   "execution_count": 15,
   "outputs": [
    {
     "data": {
      "text/plain": "       start_station_id  end_station_id        bike_id\ncount     788907.000000   788907.000000  788907.000000\nmean        3057.400081     3056.431487    5428.980913\nstd           41.126829       41.108792    3221.972215\nmin         3000.000000     3000.000000       0.000000\n25%         3023.000000     3023.000000    3350.000000\n50%         3050.000000     3049.000000    3703.000000\n75%         3075.000000     3074.000000    5370.000000\nmax         3170.000000     3170.000000   11965.000000",
      "text/html": "<div>\n<style scoped>\n    .dataframe tbody tr th:only-of-type {\n        vertical-align: middle;\n    }\n\n    .dataframe tbody tr th {\n        vertical-align: top;\n    }\n\n    .dataframe thead th {\n        text-align: right;\n    }\n</style>\n<table border=\"1\" class=\"dataframe\">\n  <thead>\n    <tr style=\"text-align: right;\">\n      <th></th>\n      <th>start_station_id</th>\n      <th>end_station_id</th>\n      <th>bike_id</th>\n    </tr>\n  </thead>\n  <tbody>\n    <tr>\n      <th>count</th>\n      <td>788907.000000</td>\n      <td>788907.000000</td>\n      <td>788907.000000</td>\n    </tr>\n    <tr>\n      <th>mean</th>\n      <td>3057.400081</td>\n      <td>3056.431487</td>\n      <td>5428.980913</td>\n    </tr>\n    <tr>\n      <th>std</th>\n      <td>41.126829</td>\n      <td>41.108792</td>\n      <td>3221.972215</td>\n    </tr>\n    <tr>\n      <th>min</th>\n      <td>3000.000000</td>\n      <td>3000.000000</td>\n      <td>0.000000</td>\n    </tr>\n    <tr>\n      <th>25%</th>\n      <td>3023.000000</td>\n      <td>3023.000000</td>\n      <td>3350.000000</td>\n    </tr>\n    <tr>\n      <th>50%</th>\n      <td>3050.000000</td>\n      <td>3049.000000</td>\n      <td>3703.000000</td>\n    </tr>\n    <tr>\n      <th>75%</th>\n      <td>3075.000000</td>\n      <td>3074.000000</td>\n      <td>5370.000000</td>\n    </tr>\n    <tr>\n      <th>max</th>\n      <td>3170.000000</td>\n      <td>3170.000000</td>\n      <td>11965.000000</td>\n    </tr>\n  </tbody>\n</table>\n</div>"
     },
     "execution_count": 15,
     "metadata": {},
     "output_type": "execute_result"
    }
   ],
   "source": [
    "df_bikes.describe()"
   ],
   "metadata": {
    "collapsed": false,
    "pycharm": {
     "name": "#%%\n"
    }
   }
  },
  {
   "cell_type": "markdown",
   "source": [
    "## Weather Data"
   ],
   "metadata": {
    "collapsed": false,
    "pycharm": {
     "name": "#%% md\n"
    }
   }
  },
  {
   "cell_type": "code",
   "execution_count": 16,
   "outputs": [
    {
     "data": {
      "text/plain": "             date_time  max_temp  min_temp  precip\n0  2015-01-02 01:00:00       3.3       3.3     0.0\n1  2015-01-02 02:00:00       2.8       2.8     0.0\n2  2015-01-02 03:00:00       2.2       2.2     0.0\n3  2015-01-02 04:00:00       0.6       0.6     0.0\n4  2015-01-02 05:00:00       1.1       1.1     0.0",
      "text/html": "<div>\n<style scoped>\n    .dataframe tbody tr th:only-of-type {\n        vertical-align: middle;\n    }\n\n    .dataframe tbody tr th {\n        vertical-align: top;\n    }\n\n    .dataframe thead th {\n        text-align: right;\n    }\n</style>\n<table border=\"1\" class=\"dataframe\">\n  <thead>\n    <tr style=\"text-align: right;\">\n      <th></th>\n      <th>date_time</th>\n      <th>max_temp</th>\n      <th>min_temp</th>\n      <th>precip</th>\n    </tr>\n  </thead>\n  <tbody>\n    <tr>\n      <th>0</th>\n      <td>2015-01-02 01:00:00</td>\n      <td>3.3</td>\n      <td>3.3</td>\n      <td>0.0</td>\n    </tr>\n    <tr>\n      <th>1</th>\n      <td>2015-01-02 02:00:00</td>\n      <td>2.8</td>\n      <td>2.8</td>\n      <td>0.0</td>\n    </tr>\n    <tr>\n      <th>2</th>\n      <td>2015-01-02 03:00:00</td>\n      <td>2.2</td>\n      <td>2.2</td>\n      <td>0.0</td>\n    </tr>\n    <tr>\n      <th>3</th>\n      <td>2015-01-02 04:00:00</td>\n      <td>0.6</td>\n      <td>0.6</td>\n      <td>0.0</td>\n    </tr>\n    <tr>\n      <th>4</th>\n      <td>2015-01-02 05:00:00</td>\n      <td>1.1</td>\n      <td>1.1</td>\n      <td>0.0</td>\n    </tr>\n  </tbody>\n</table>\n</div>"
     },
     "execution_count": 16,
     "metadata": {},
     "output_type": "execute_result"
    }
   ],
   "source": [
    "df_weather.head()"
   ],
   "metadata": {
    "collapsed": false,
    "pycharm": {
     "name": "#%%\n"
    }
   }
  },
  {
   "cell_type": "code",
   "execution_count": 17,
   "outputs": [
    {
     "data": {
      "text/plain": "           max_temp      min_temp        precip\ncount  43785.000000  43785.000000  43785.000000\nmean      14.204796     14.121300      0.087770\nstd       10.272673     10.259344      0.282963\nmin      -16.700000    -16.700000      0.000000\n25%        6.100000      6.100000      0.000000\n50%       15.000000     14.400000      0.000000\n75%       22.800000     22.800000      0.000000\nmax       36.700000     36.700000      1.000000",
      "text/html": "<div>\n<style scoped>\n    .dataframe tbody tr th:only-of-type {\n        vertical-align: middle;\n    }\n\n    .dataframe tbody tr th {\n        vertical-align: top;\n    }\n\n    .dataframe thead th {\n        text-align: right;\n    }\n</style>\n<table border=\"1\" class=\"dataframe\">\n  <thead>\n    <tr style=\"text-align: right;\">\n      <th></th>\n      <th>max_temp</th>\n      <th>min_temp</th>\n      <th>precip</th>\n    </tr>\n  </thead>\n  <tbody>\n    <tr>\n      <th>count</th>\n      <td>43785.000000</td>\n      <td>43785.000000</td>\n      <td>43785.000000</td>\n    </tr>\n    <tr>\n      <th>mean</th>\n      <td>14.204796</td>\n      <td>14.121300</td>\n      <td>0.087770</td>\n    </tr>\n    <tr>\n      <th>std</th>\n      <td>10.272673</td>\n      <td>10.259344</td>\n      <td>0.282963</td>\n    </tr>\n    <tr>\n      <th>min</th>\n      <td>-16.700000</td>\n      <td>-16.700000</td>\n      <td>0.000000</td>\n    </tr>\n    <tr>\n      <th>25%</th>\n      <td>6.100000</td>\n      <td>6.100000</td>\n      <td>0.000000</td>\n    </tr>\n    <tr>\n      <th>50%</th>\n      <td>15.000000</td>\n      <td>14.400000</td>\n      <td>0.000000</td>\n    </tr>\n    <tr>\n      <th>75%</th>\n      <td>22.800000</td>\n      <td>22.800000</td>\n      <td>0.000000</td>\n    </tr>\n    <tr>\n      <th>max</th>\n      <td>36.700000</td>\n      <td>36.700000</td>\n      <td>1.000000</td>\n    </tr>\n  </tbody>\n</table>\n</div>"
     },
     "execution_count": 17,
     "metadata": {},
     "output_type": "execute_result"
    }
   ],
   "source": [
    "df_weather.describe()"
   ],
   "metadata": {
    "collapsed": false,
    "pycharm": {
     "name": "#%%\n"
    }
   }
  },
  {
   "cell_type": "code",
   "execution_count": 18,
   "outputs": [
    {
     "name": "stdout",
     "output_type": "stream",
     "text": [
      "[[3072, 'Front & Carpenter'], [3073, '9th & Spring Garden'], [3074, '44th & Walnut'], [3075, 'Fairmount & Ridge'], [3077, '17th & Girard'], [3078, '19th & Market'], [3083, '3083'], [3086, 'Broad & Christian'], [3088, '3rd & Girard'], [3093, '33rd & Diamond'], [3095, '29th & Diamond'], [3096, '29th & Dauphin'], [3097, 'Berks Station, MFL'], [3098, '10th & Federal'], [3099, '4th & Washington'], [3100, 'Moyamensing & Tasker'], [3101, '11th & South'], [3102, 'Pennsylvania & Fairmount Perelman Building'], [3103, '27th & Master, Athletic Recreation Center'], [3104, '34th & Mantua'], [3105, 'Penn Treaty Park'], [3106, '33rd & Dauphin'], [3107, '33rd & Reservoir'], [3108, '15th & Market'], [3109, 'Parkside & Girard'], [3110, 'Del. River Trail & Penn St.'], [3111, 'Parkside & Belmont, Case Building'], [3112, '48th & Spruce'], [3113, 'Philadelphia Zoo'], [3114, '22nd & Federal'], [3115, '19th & Girard, PTTI'], [3116, 'Barnes Foundation'], [3117, 'ParkWest Town Center'], [3118, '46th Street Station, MFL'], [3119, '42nd & Lancaster'], [3120, '31st & Girard'], [3121, '27th & Girard'], [3122, '24th & Cecil B. Moore, Cecil B. Moore Library'], [3123, '22nd & Cecil B. Moore'], [3124, 'Race Street Pier'], [3125, '15th & South'], [3129, \"The Children's Hospital of Philadelphia, Osler Circle\"], [3150, '15th & Castle, DiSilvestro Playground'], [3152, '40th & Baltimore, Trolley Portal'], [3153, 'Thompson & Palmer, Adaire School'], [3154, '12th & Callowhill'], [3155, '7th & Fitzwater'], [3156, '20th & Market'], [3157, '8th & Mifflin, Bok Building'], [3158, 'Broad & Passyunk'], [3159, '38th & Spruce'], [3160, '38th & Market'], [3161, '30th Street Station East'], [3162, '27th & South'], [3163, '25th & Locust'], [3164, '12th & Passyunk'], [3165, '24th & Race SRT'], [3168, '20th & Sansom'], [3169, '2nd & Race'], [3170, 'Grays Ferry & Pemberton'], [3000, 'Virtual Station'], [3004, 'Municipal Services Building Plaza'], [3005, 'Welcome Park, NPS'], [3006, '40th & Spruce'], [3007, '11th & Pine, Kahn Park'], [3008, 'Temple University Station'], [3009, '33rd & Market'], [3010, '15th & Spruce'], [3011, '38th & Powelton'], [3012, '21st & Catharine'], [3013, '6th & Fairmount'], [3014, '21st & Winter, Franklin Institute'], [3015, '4th & Walnut, NPS'], [3016, '11th & Poplar, John F. Street Community Center'], [3017, '6th & Berks'], [3018, '12th & Filbert'], [3019, '6th & Race'], [3020, 'University City Station'], [3021, '18th & JFK'], [3022, 'Amtrak 30th Street Station'], [3023, 'Rittenhouse Square'], [3024, '43rd & Chester, Clark Park'], [3025, '11th & Washington'], [3026, '2nd & South'], [3027, '40th Street Station, MFL'], [3028, '4th & Bainbridge'], [3029, '36th & Sansom'], [3030, 'Darien & Catharine'], [3031, '13th & Montgomery'], [3032, '23rd & South'], [3033, '10th & Chestnut'], [3034, '11th & Reed'], [3035, 'Dornsife Center'], [3036, '2nd & Germantown'], [3037, 'Pennsylvania Convention Center'], [3038, \"The Children's Hospital of Philadelphia (CHOP)\"], [3039, 'Broad & Girard'], [3040, '17th & Spring Garden'], [3041, 'Girard Station, MFL'], [3043, '18th & Fernon, Aquinas Center'], [3045, '13th & Locust'], [3046, '2nd & Market'], [3047, 'Independence Mall, NPS'], [3049, 'Foglietta Plaza'], [3050, '9th & Arch'], [3051, '23rd & Fairmount'], [3052, '9th & Locust'], [3053, 'Point Breeze & Tasker'], [3054, 'Rodin Museum'], [3055, '8th & Market'], [3056, 'Broad & Oxford'], [3057, 'Philadelphia Museum of Art'], [3058, '20th & Fairmount'], [3059, 'Spring Garden Station, BSL'], [3060, 'Free Library of Philadelphia - Central Library'], [3061, '23rd & Market'], [3062, '24th & Sansom'], [3063, '17th & Pine'], [3064, '18th & Washington, Chew Playground'], [3065, 'Girard & Hutchinson'], [3066, '19th & Lombard'], [3067, '39th & Mt. Vernon, Mantua Haverford Community Center'], [3068, 'Broad & Federal'], [3069, '4th & Christian'], [3070, 'Spring Garden Station, MFL'], [3071, '32nd & Baring, Drexel Park']]\n"
     ]
    }
   ],
   "source": [
    "unique_station_ids = set(df_bikes['start_station_id'])\n",
    "id_mapped_to_station = []\n",
    "for id in unique_station_ids:\n",
    "    this_station = []\n",
    "    this_station.append(id)\n",
    "    this_station.append(df_bikes.loc[df_bikes['start_station_id'] == id].iloc[0]['start_station_name'])\n",
    "    id_mapped_to_station.append(this_station)\n",
    "print(id_mapped_to_station)\n",
    "\n"
   ],
   "metadata": {
    "collapsed": false,
    "pycharm": {
     "name": "#%%\n"
    }
   }
  }
 ],
 "metadata": {
  "kernelspec": {
   "display_name": "Python 3",
   "language": "python",
   "name": "python3"
  },
  "language_info": {
   "codemirror_mode": {
    "name": "ipython",
    "version": 2
   },
   "file_extension": ".py",
   "mimetype": "text/x-python",
   "name": "python",
   "nbconvert_exporter": "python",
   "pygments_lexer": "ipython2",
   "version": "2.7.6"
  }
 },
 "nbformat": 4,
 "nbformat_minor": 0
}