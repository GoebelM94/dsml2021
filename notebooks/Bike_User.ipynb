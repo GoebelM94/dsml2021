{
 "cells": [
  {
   "cell_type": "code",
   "execution_count": 2,
   "outputs": [],
   "source": [
    "#general imports\n",
    "import math\n",
    "\n",
    "import pandas as pd\n",
    "import numpy as np\n",
    "\n",
    "#statsmodels for regression\n",
    "import statsmodels.api as sm\n",
    "import statsmodels.formula.api as smf\n",
    "from statsmodels.iolib.summary2 import summary_col\n",
    "\n",
    "#scipy for testing\n",
    "from scipy import stats\n",
    "\n",
    "#for visualization\n",
    "import matplotlib.pyplot as plt\n",
    "import seaborn as sns\n",
    "\n",
    "from datetime import datetime"
   ],
   "metadata": {
    "collapsed": false,
    "pycharm": {
     "name": "#%%\n"
    }
   }
  },
  {
   "cell_type": "markdown",
   "source": [
    "## Importing the Bike Data\n",
    "\n",
    "Imports the normal Data needed for every KPI"
   ],
   "metadata": {
    "collapsed": false
   }
  },
  {
   "cell_type": "code",
   "execution_count": 2,
   "outputs": [],
   "source": [
    "df_bikes = pd.read_csv('../data/philadelphia_2017.csv')\n",
    "df_weather = pd.read_csv('../data/weather_hourly_philadelphia.csv')\n",
    "df_geocodes = pd.read_csv('../data/geocodes.csv')\n",
    "\n",
    "def get_datetime(date_string):\n",
    "    if date_string.__contains__(\"/\"):\n",
    "        new_string = \"\"\n",
    "        running_string = \"\"\n",
    "        for char in date_string:\n",
    "            if char == \"/\" or  char == \":\" or char == \" \":\n",
    "                if len(running_string) == 1:\n",
    "                    running_string = \"0\" + running_string\n",
    "                new_string += running_string + char\n",
    "                running_string = \"\"\n",
    "            else:\n",
    "                running_string += char\n",
    "        new_string += running_string\n",
    "        if len(new_string) > 16:\n",
    "            return datetime.strptime(new_string, '%m/%d/%Y %H:%M:%S')\n",
    "        else:\n",
    "            return datetime.strptime(new_string, '%m/%d/%Y %H:%M')\n",
    "    else:\n",
    "        return datetime.fromisoformat(date_string)\n",
    "\n",
    "def compare_datetime(start, end):\n",
    "    start_datetime = get_datetime(start)\n",
    "    end_datetime = get_datetime(end)\n",
    "    duration_of_travel = end_datetime - start_datetime\n",
    "    seconds = duration_of_travel.total_seconds()\n",
    "    return seconds/60\n",
    "\n",
    "ride_lengths = []\n",
    "df_bikes[\"ride_duration_minutes\"] = df_bikes.apply(lambda x: (compare_datetime(x[\"start_time\"],x[\"end_time\"])), axis=1)\n",
    "\n",
    "for label, content in df_bikes.iterrows():\n",
    "    ride_lengths.append(content[\"ride_duration_minutes\"])\n",
    "\n",
    "ride_lengths_np = np.array(ride_lengths)\n",
    "iqr = stats.iqr(ride_lengths_np)\n",
    "iqr\n",
    "\n",
    "q1,q3 = np.percentile(ride_lengths_np, [25,95])\n",
    "\n",
    "lower_range = q1 - (1.5*iqr)\n",
    "upper_range = q3 + (1.5*iqr)\n",
    "\n",
    "#A ride, can't be shorter than 0 Minutes obviously\n",
    "if lower_range < 0:\n",
    "    lower_range = 0\n",
    "\n",
    "df_bikes.drop(df_bikes[ (df_bikes.ride_duration_minutes > upper_range) | (df_bikes.ride_duration_minutes < lower_range) ].index , inplace=True)\n"
   ],
   "metadata": {
    "collapsed": false,
    "pycharm": {
     "name": "#%%\n"
    }
   }
  },
  {
   "cell_type": "code",
   "execution_count": 3,
   "outputs": [],
   "source": [
    "df_bikes.insert(2, 'usage', 1)"
   ],
   "metadata": {
    "collapsed": false,
    "pycharm": {
     "name": "#%%\n"
    }
   }
  },
  {
   "cell_type": "code",
   "execution_count": 4,
   "outputs": [],
   "source": [
    "df_bikes['end_time_rounded'] = get_datetime(df_bikes[\"end_time\"][0]).replace(minute=0)"
   ],
   "metadata": {
    "collapsed": false,
    "pycharm": {
     "name": "#%%\n"
    }
   }
  },
  {
   "cell_type": "code",
   "execution_count": 5,
   "outputs": [
    {
     "name": "stderr",
     "output_type": "stream",
     "text": [
      "<ipython-input-5-68b4343a476b>:12: SettingWithCopyWarning: \n",
      "A value is trying to be set on a copy of a slice from a DataFrame\n",
      "\n",
      "See the caveats in the documentation: https://pandas.pydata.org/pandas-docs/stable/user_guide/indexing.html#returning-a-view-versus-a-copy\n",
      "  df_bikes['end_time_rounded'][x] = get_datetime(df_bikes[\"end_time\"][x]).replace(minute=0)\n"
     ]
    },
    {
     "name": "stdout",
     "output_type": "stream",
     "text": [
      "45795\n",
      "66133\n",
      "108591\n",
      "131887\n",
      "155306\n",
      "184846\n",
      "217251\n",
      "238406\n",
      "268642\n",
      "293197\n",
      "321602\n",
      "343296\n",
      "369865\n",
      "399242\n",
      "432102\n",
      "457399\n",
      "487616\n",
      "519325\n",
      "541169\n",
      "576939\n",
      "607341\n",
      "646208\n",
      "677934\n",
      "712174\n",
      "758304\n"
     ]
    }
   ],
   "source": [
    "s = 0\n",
    "z = 1\n",
    "for x in range(0,788906):\n",
    "    if x not in df_bikes.index:\n",
    "        s = s + 1\n",
    "        if s == 1000*z:\n",
    "            print(x)\n",
    "            z = z + 1\n",
    "        else:\n",
    "            pass\n",
    "    else:\n",
    "        df_bikes['end_time_rounded'][x] = get_datetime(df_bikes[\"end_time\"][x]).replace(minute=0)"
   ],
   "metadata": {
    "collapsed": false,
    "pycharm": {
     "name": "#%%\n"
    }
   }
  },
  {
   "cell_type": "code",
   "execution_count": 6,
   "outputs": [],
   "source": [
    "df_bikes['end_time_rounded'] = df_bikes['end_time_rounded'].dt.strftime(\"%y/%m\")\n",
    "\n"
   ],
   "metadata": {
    "collapsed": false,
    "pycharm": {
     "name": "#%%\n"
    }
   }
  },
  {
   "cell_type": "code",
   "execution_count": 7,
   "outputs": [
    {
     "data": {
      "text/plain": "                          usage\nend_time_rounded bike_id       \n17/01            2472        33\n                 2473        28\n                 2474        40\n                 2475        21\n                 2476        42\n...                         ...\n17/12            11961       45\n                 11962       49\n                 11963       17\n                 11964       66\n                 11965       43\n\n[12926 rows x 1 columns]",
      "text/html": "<div>\n<style scoped>\n    .dataframe tbody tr th:only-of-type {\n        vertical-align: middle;\n    }\n\n    .dataframe tbody tr th {\n        vertical-align: top;\n    }\n\n    .dataframe thead th {\n        text-align: right;\n    }\n</style>\n<table border=\"1\" class=\"dataframe\">\n  <thead>\n    <tr style=\"text-align: right;\">\n      <th></th>\n      <th></th>\n      <th>usage</th>\n    </tr>\n    <tr>\n      <th>end_time_rounded</th>\n      <th>bike_id</th>\n      <th></th>\n    </tr>\n  </thead>\n  <tbody>\n    <tr>\n      <th rowspan=\"5\" valign=\"top\">17/01</th>\n      <th>2472</th>\n      <td>33</td>\n    </tr>\n    <tr>\n      <th>2473</th>\n      <td>28</td>\n    </tr>\n    <tr>\n      <th>2474</th>\n      <td>40</td>\n    </tr>\n    <tr>\n      <th>2475</th>\n      <td>21</td>\n    </tr>\n    <tr>\n      <th>2476</th>\n      <td>42</td>\n    </tr>\n    <tr>\n      <th>...</th>\n      <th>...</th>\n      <td>...</td>\n    </tr>\n    <tr>\n      <th rowspan=\"5\" valign=\"top\">17/12</th>\n      <th>11961</th>\n      <td>45</td>\n    </tr>\n    <tr>\n      <th>11962</th>\n      <td>49</td>\n    </tr>\n    <tr>\n      <th>11963</th>\n      <td>17</td>\n    </tr>\n    <tr>\n      <th>11964</th>\n      <td>66</td>\n    </tr>\n    <tr>\n      <th>11965</th>\n      <td>43</td>\n    </tr>\n  </tbody>\n</table>\n<p>12926 rows × 1 columns</p>\n</div>"
     },
     "execution_count": 7,
     "metadata": {},
     "output_type": "execute_result"
    }
   ],
   "source": [
    "df_bikes_usage = df_bikes.groupby(['end_time_rounded','bike_id']).count()\n",
    "df_bikes_usage.drop(['start_station_id', 'end_station_id', 'start_time', 'end_time', 'user_type', 'start_station_name', 'end_station_name', 'ride_duration_minutes'], axis=1)"
   ],
   "metadata": {
    "collapsed": false,
    "pycharm": {
     "name": "#%%\n"
    }
   }
  },
  {
   "cell_type": "code",
   "execution_count": 8,
   "outputs": [
    {
     "data": {
      "text/plain": "         start_time      end_time         usage  start_station_id  \\\ncount  12926.000000  12926.000000  12926.000000      12926.000000   \nmean      59.045954     59.045954     59.045954         59.045954   \nstd       27.679088     27.679088     27.679088         27.679088   \nmin        1.000000      1.000000      1.000000          1.000000   \n25%       38.000000     38.000000     38.000000         38.000000   \n50%       58.000000     58.000000     58.000000         58.000000   \n75%       79.000000     79.000000     79.000000         79.000000   \nmax      250.000000    250.000000    250.000000        250.000000   \n\n       end_station_id     user_type  start_station_name  end_station_name  \\\ncount    12926.000000  12926.000000        12926.000000      12926.000000   \nmean        59.045954     59.045954           59.045954         59.045954   \nstd         27.679088     27.679088           27.679088         27.679088   \nmin          1.000000      1.000000            1.000000          1.000000   \n25%         38.000000     38.000000           38.000000         38.000000   \n50%         58.000000     58.000000           58.000000         58.000000   \n75%         79.000000     79.000000           79.000000         79.000000   \nmax        250.000000    250.000000          250.000000        250.000000   \n\n       ride_duration_minutes  \ncount           12926.000000  \nmean               59.045954  \nstd                27.679088  \nmin                 1.000000  \n25%                38.000000  \n50%                58.000000  \n75%                79.000000  \nmax               250.000000  ",
      "text/html": "<div>\n<style scoped>\n    .dataframe tbody tr th:only-of-type {\n        vertical-align: middle;\n    }\n\n    .dataframe tbody tr th {\n        vertical-align: top;\n    }\n\n    .dataframe thead th {\n        text-align: right;\n    }\n</style>\n<table border=\"1\" class=\"dataframe\">\n  <thead>\n    <tr style=\"text-align: right;\">\n      <th></th>\n      <th>start_time</th>\n      <th>end_time</th>\n      <th>usage</th>\n      <th>start_station_id</th>\n      <th>end_station_id</th>\n      <th>user_type</th>\n      <th>start_station_name</th>\n      <th>end_station_name</th>\n      <th>ride_duration_minutes</th>\n    </tr>\n  </thead>\n  <tbody>\n    <tr>\n      <th>count</th>\n      <td>12926.000000</td>\n      <td>12926.000000</td>\n      <td>12926.000000</td>\n      <td>12926.000000</td>\n      <td>12926.000000</td>\n      <td>12926.000000</td>\n      <td>12926.000000</td>\n      <td>12926.000000</td>\n      <td>12926.000000</td>\n    </tr>\n    <tr>\n      <th>mean</th>\n      <td>59.045954</td>\n      <td>59.045954</td>\n      <td>59.045954</td>\n      <td>59.045954</td>\n      <td>59.045954</td>\n      <td>59.045954</td>\n      <td>59.045954</td>\n      <td>59.045954</td>\n      <td>59.045954</td>\n    </tr>\n    <tr>\n      <th>std</th>\n      <td>27.679088</td>\n      <td>27.679088</td>\n      <td>27.679088</td>\n      <td>27.679088</td>\n      <td>27.679088</td>\n      <td>27.679088</td>\n      <td>27.679088</td>\n      <td>27.679088</td>\n      <td>27.679088</td>\n    </tr>\n    <tr>\n      <th>min</th>\n      <td>1.000000</td>\n      <td>1.000000</td>\n      <td>1.000000</td>\n      <td>1.000000</td>\n      <td>1.000000</td>\n      <td>1.000000</td>\n      <td>1.000000</td>\n      <td>1.000000</td>\n      <td>1.000000</td>\n    </tr>\n    <tr>\n      <th>25%</th>\n      <td>38.000000</td>\n      <td>38.000000</td>\n      <td>38.000000</td>\n      <td>38.000000</td>\n      <td>38.000000</td>\n      <td>38.000000</td>\n      <td>38.000000</td>\n      <td>38.000000</td>\n      <td>38.000000</td>\n    </tr>\n    <tr>\n      <th>50%</th>\n      <td>58.000000</td>\n      <td>58.000000</td>\n      <td>58.000000</td>\n      <td>58.000000</td>\n      <td>58.000000</td>\n      <td>58.000000</td>\n      <td>58.000000</td>\n      <td>58.000000</td>\n      <td>58.000000</td>\n    </tr>\n    <tr>\n      <th>75%</th>\n      <td>79.000000</td>\n      <td>79.000000</td>\n      <td>79.000000</td>\n      <td>79.000000</td>\n      <td>79.000000</td>\n      <td>79.000000</td>\n      <td>79.000000</td>\n      <td>79.000000</td>\n      <td>79.000000</td>\n    </tr>\n    <tr>\n      <th>max</th>\n      <td>250.000000</td>\n      <td>250.000000</td>\n      <td>250.000000</td>\n      <td>250.000000</td>\n      <td>250.000000</td>\n      <td>250.000000</td>\n      <td>250.000000</td>\n      <td>250.000000</td>\n      <td>250.000000</td>\n    </tr>\n  </tbody>\n</table>\n</div>"
     },
     "execution_count": 8,
     "metadata": {},
     "output_type": "execute_result"
    }
   ],
   "source": [
    "df_bikes_usage.describe()"
   ],
   "metadata": {
    "collapsed": false,
    "pycharm": {
     "name": "#%%\n"
    }
   }
  },
  {
   "cell_type": "code",
   "execution_count": null,
   "outputs": [],
   "source": [
    "sns.boxplot(x=\"end_time_rounded\", y=\"usage\", data=df_bikes_usage)"
   ],
   "metadata": {
    "collapsed": false,
    "pycharm": {
     "name": "#%%\n"
    }
   }
  }
 ],
 "metadata": {
  "kernelspec": {
   "name": "pycharm-2bce6d71",
   "language": "python",
   "display_name": "PyCharm (dsml2021)"
  },
  "language_info": {
   "codemirror_mode": {
    "name": "ipython",
    "version": 2
   },
   "file_extension": ".py",
   "mimetype": "text/x-python",
   "name": "python",
   "nbconvert_exporter": "python",
   "pygments_lexer": "ipython2",
   "version": "2.7.6"
  }
 },
 "nbformat": 4,
 "nbformat_minor": 0
}