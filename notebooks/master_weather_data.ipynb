{
 "cells": [
  {
   "cell_type": "markdown",
   "metadata": {},
   "source": [
    "# Imports"
   ]
  },
  {
   "cell_type": "code",
   "execution_count": 12,
   "metadata": {},
   "outputs": [],
   "source": [
    "#general imports\n",
    "import pandas as pd\n",
    "import numpy as np\n",
    "\n",
    "#statsmodels for regression\n",
    "import statsmodels.api as sm\n",
    "import statsmodels.formula.api as smf\n",
    "from statsmodels.iolib.summary2 import summary_col\n",
    "\n",
    "#scipy for testing\n",
    "from scipy import stats\n",
    "\n",
    "#for visualization\n",
    "import matplotlib.pyplot as plt\n",
    "import seaborn as sns\n",
    "\n",
    "from datetime import datetime"
   ]
  },
  {
   "cell_type": "markdown",
   "metadata": {},
   "source": [
    "# Weather Data"
   ]
  },
  {
   "cell_type": "markdown",
   "metadata": {},
   "source": [
    "Import of the weather data"
   ]
  },
  {
   "cell_type": "code",
   "execution_count": 13,
   "metadata": {
    "pycharm": {
     "name": "#%%\n"
    }
   },
   "outputs": [],
   "source": [
    "df_weather = pd.read_csv('../data/weather_hourly_philadelphia.csv')"
   ]
  },
  {
   "cell_type": "markdown",
   "metadata": {},
   "source": [
    "Change type of \"date_time\" to datetime"
   ]
  },
  {
   "cell_type": "code",
   "execution_count": 14,
   "metadata": {
    "pycharm": {
     "name": "#%%\n"
    }
   },
   "outputs": [],
   "source": [
    "df_weather[\"date_time\"] = pd.to_datetime(df_weather[\"date_time\"])"
   ]
  },
  {
   "cell_type": "markdown",
   "metadata": {},
   "source": [
    "Ordered weather data by date"
   ]
  },
  {
   "cell_type": "code",
   "execution_count": 15,
   "metadata": {
    "pycharm": {
     "name": "#%%\n"
    }
   },
   "outputs": [],
   "source": [
    "df_weather = df_weather.sort_values(by=['date_time'])"
   ]
  },
  {
   "cell_type": "markdown",
   "metadata": {},
   "source": [
    "Deleted weather date which is not needed for Philadelphia 2017 (<2017 or >2017)"
   ]
  },
  {
   "cell_type": "code",
   "execution_count": 16,
   "metadata": {
    "pycharm": {
     "name": "#%%\n"
    }
   },
   "outputs": [
    {
     "name": "stderr",
     "output_type": "stream",
     "text": [
      "<ipython-input-16-6b4f56e891d3>:8: SettingWithCopyWarning: \n",
      "A value is trying to be set on a copy of a slice from a DataFrame.\n",
      "Try using .loc[row_indexer,col_indexer] = value instead\n",
      "\n",
      "See the caveats in the documentation: https://pandas.pydata.org/pandas-docs/stable/user_guide/indexing.html#returning-a-view-versus-a-copy\n",
      "  df_2017weather_unique['Order'] = np.arange(len(df_2017weather_unique))\n"
     ]
    },
    {
     "data": {
      "text/html": [
       "<div>\n",
       "<style scoped>\n",
       "    .dataframe tbody tr th:only-of-type {\n",
       "        vertical-align: middle;\n",
       "    }\n",
       "\n",
       "    .dataframe tbody tr th {\n",
       "        vertical-align: top;\n",
       "    }\n",
       "\n",
       "    .dataframe thead th {\n",
       "        text-align: right;\n",
       "    }\n",
       "</style>\n",
       "<table border=\"1\" class=\"dataframe\">\n",
       "  <thead>\n",
       "    <tr style=\"text-align: right;\">\n",
       "      <th></th>\n",
       "      <th>date_time</th>\n",
       "      <th>max_temp</th>\n",
       "      <th>min_temp</th>\n",
       "      <th>precip</th>\n",
       "    </tr>\n",
       "    <tr>\n",
       "      <th>Order</th>\n",
       "      <th></th>\n",
       "      <th></th>\n",
       "      <th></th>\n",
       "      <th></th>\n",
       "    </tr>\n",
       "  </thead>\n",
       "  <tbody>\n",
       "    <tr>\n",
       "      <th>8222</th>\n",
       "      <td>2017-12-31 14:00:00</td>\n",
       "      <td>-9.4</td>\n",
       "      <td>-9.4</td>\n",
       "      <td>0.0</td>\n",
       "    </tr>\n",
       "    <tr>\n",
       "      <th>8223</th>\n",
       "      <td>2017-12-31 15:00:00</td>\n",
       "      <td>-8.9</td>\n",
       "      <td>-8.9</td>\n",
       "      <td>0.0</td>\n",
       "    </tr>\n",
       "    <tr>\n",
       "      <th>8224</th>\n",
       "      <td>2017-12-31 16:00:00</td>\n",
       "      <td>-8.9</td>\n",
       "      <td>-8.9</td>\n",
       "      <td>0.0</td>\n",
       "    </tr>\n",
       "    <tr>\n",
       "      <th>8225</th>\n",
       "      <td>2017-12-31 17:00:00</td>\n",
       "      <td>-8.9</td>\n",
       "      <td>-8.9</td>\n",
       "      <td>0.0</td>\n",
       "    </tr>\n",
       "    <tr>\n",
       "      <th>8226</th>\n",
       "      <td>2017-12-31 18:00:00</td>\n",
       "      <td>-8.3</td>\n",
       "      <td>-8.3</td>\n",
       "      <td>0.0</td>\n",
       "    </tr>\n",
       "    <tr>\n",
       "      <th>8227</th>\n",
       "      <td>2017-12-31 19:00:00</td>\n",
       "      <td>-8.9</td>\n",
       "      <td>-8.9</td>\n",
       "      <td>0.0</td>\n",
       "    </tr>\n",
       "    <tr>\n",
       "      <th>8228</th>\n",
       "      <td>2017-12-31 20:00:00</td>\n",
       "      <td>-8.9</td>\n",
       "      <td>-8.9</td>\n",
       "      <td>0.0</td>\n",
       "    </tr>\n",
       "    <tr>\n",
       "      <th>8229</th>\n",
       "      <td>2017-12-31 21:00:00</td>\n",
       "      <td>-9.4</td>\n",
       "      <td>-9.4</td>\n",
       "      <td>0.0</td>\n",
       "    </tr>\n",
       "    <tr>\n",
       "      <th>8230</th>\n",
       "      <td>2017-12-31 22:00:00</td>\n",
       "      <td>-10.0</td>\n",
       "      <td>-10.0</td>\n",
       "      <td>0.0</td>\n",
       "    </tr>\n",
       "    <tr>\n",
       "      <th>8231</th>\n",
       "      <td>2017-12-31 23:00:00</td>\n",
       "      <td>-10.0</td>\n",
       "      <td>-10.0</td>\n",
       "      <td>0.0</td>\n",
       "    </tr>\n",
       "  </tbody>\n",
       "</table>\n",
       "</div>"
      ],
      "text/plain": [
       "                date_time  max_temp  min_temp  precip\n",
       "Order                                                \n",
       "8222  2017-12-31 14:00:00      -9.4      -9.4     0.0\n",
       "8223  2017-12-31 15:00:00      -8.9      -8.9     0.0\n",
       "8224  2017-12-31 16:00:00      -8.9      -8.9     0.0\n",
       "8225  2017-12-31 17:00:00      -8.9      -8.9     0.0\n",
       "8226  2017-12-31 18:00:00      -8.3      -8.3     0.0\n",
       "8227  2017-12-31 19:00:00      -8.9      -8.9     0.0\n",
       "8228  2017-12-31 20:00:00      -8.9      -8.9     0.0\n",
       "8229  2017-12-31 21:00:00      -9.4      -9.4     0.0\n",
       "8230  2017-12-31 22:00:00     -10.0     -10.0     0.0\n",
       "8231  2017-12-31 23:00:00     -10.0     -10.0     0.0"
      ]
     },
     "execution_count": 16,
     "metadata": {},
     "output_type": "execute_result"
    }
   ],
   "source": [
    "start2017 = datetime(2016, 12, 31, 23)\n",
    "end2017 = datetime(2018, 1, 1)\n",
    "\n",
    "df_2017weather = df_weather[(df_weather[\"date_time\"] > start2017) & (df_weather[\"date_time\"] < end2017)]\n",
    "df_2017weather_unique = df_2017weather.drop_duplicates(subset='date_time')\n",
    "df_2017weather_unique['Order'] = np.arange(len(df_2017weather_unique))\n",
    "df_2017weather_unique = df_2017weather_unique.set_index('Order')\n",
    "\n",
    "df_2017weather_unique.tail(10)"
   ]
  },
  {
   "cell_type": "markdown",
   "metadata": {},
   "source": [
    "Identify missing data and generate by using average data from former and following hour"
   ]
  },
  {
   "cell_type": "code",
   "execution_count": 17,
   "metadata": {
    "pycharm": {
     "name": "#%%\n"
    }
   },
   "outputs": [
    {
     "name": "stdout",
     "output_type": "stream",
     "text": [
      "End\n"
     ]
    }
   ],
   "source": [
    "for i in df_2017weather_unique.index:\n",
    "    if i == 8231:\n",
    "        print(\"End\")\n",
    "    elif (df_2017weather_unique['date_time'][i] - df_2017weather_unique['date_time'][i+1]) != (df_2017weather_unique['date_time'][1] - df_2017weather_unique['date_time'][2]):\n",
    "        df_2017weather_support = {'date_time': (df_2017weather_unique['date_time'][i] + pd.DateOffset(hours=1)), 'max_temp': (df_2017weather_unique['max_temp'][i] + df_2017weather_unique['max_temp'][i+1])/2, 'min_temp': (df_2017weather_unique['max_temp'][i] + df_2017weather_unique['max_temp'][i+1])/2, 'precip': df_2017weather_unique['precip'][i]}\n",
    "        df_2017weather_unique = df_2017weather_unique.append(df_2017weather_support, ignore_index=True)"
   ]
  },
  {
   "cell_type": "markdown",
   "metadata": {},
   "source": [
    "New order by date, because we added new lines"
   ]
  },
  {
   "cell_type": "code",
   "execution_count": 18,
   "metadata": {
    "pycharm": {
     "name": "#%%\n"
    }
   },
   "outputs": [
    {
     "data": {
      "text/html": [
       "<div>\n",
       "<style scoped>\n",
       "    .dataframe tbody tr th:only-of-type {\n",
       "        vertical-align: middle;\n",
       "    }\n",
       "\n",
       "    .dataframe tbody tr th {\n",
       "        vertical-align: top;\n",
       "    }\n",
       "\n",
       "    .dataframe thead th {\n",
       "        text-align: right;\n",
       "    }\n",
       "</style>\n",
       "<table border=\"1\" class=\"dataframe\">\n",
       "  <thead>\n",
       "    <tr style=\"text-align: right;\">\n",
       "      <th></th>\n",
       "      <th>date_time</th>\n",
       "      <th>max_temp</th>\n",
       "      <th>min_temp</th>\n",
       "      <th>precip</th>\n",
       "    </tr>\n",
       "    <tr>\n",
       "      <th>Order</th>\n",
       "      <th></th>\n",
       "      <th></th>\n",
       "      <th></th>\n",
       "      <th></th>\n",
       "    </tr>\n",
       "  </thead>\n",
       "  <tbody>\n",
       "    <tr>\n",
       "      <th>8749</th>\n",
       "      <td>2017-12-31 14:00:00</td>\n",
       "      <td>-9.4</td>\n",
       "      <td>-9.4</td>\n",
       "      <td>0.0</td>\n",
       "    </tr>\n",
       "    <tr>\n",
       "      <th>8750</th>\n",
       "      <td>2017-12-31 15:00:00</td>\n",
       "      <td>-8.9</td>\n",
       "      <td>-8.9</td>\n",
       "      <td>0.0</td>\n",
       "    </tr>\n",
       "    <tr>\n",
       "      <th>8751</th>\n",
       "      <td>2017-12-31 16:00:00</td>\n",
       "      <td>-8.9</td>\n",
       "      <td>-8.9</td>\n",
       "      <td>0.0</td>\n",
       "    </tr>\n",
       "    <tr>\n",
       "      <th>8752</th>\n",
       "      <td>2017-12-31 17:00:00</td>\n",
       "      <td>-8.9</td>\n",
       "      <td>-8.9</td>\n",
       "      <td>0.0</td>\n",
       "    </tr>\n",
       "    <tr>\n",
       "      <th>8753</th>\n",
       "      <td>2017-12-31 18:00:00</td>\n",
       "      <td>-8.3</td>\n",
       "      <td>-8.3</td>\n",
       "      <td>0.0</td>\n",
       "    </tr>\n",
       "    <tr>\n",
       "      <th>8754</th>\n",
       "      <td>2017-12-31 19:00:00</td>\n",
       "      <td>-8.9</td>\n",
       "      <td>-8.9</td>\n",
       "      <td>0.0</td>\n",
       "    </tr>\n",
       "    <tr>\n",
       "      <th>8755</th>\n",
       "      <td>2017-12-31 20:00:00</td>\n",
       "      <td>-8.9</td>\n",
       "      <td>-8.9</td>\n",
       "      <td>0.0</td>\n",
       "    </tr>\n",
       "    <tr>\n",
       "      <th>8756</th>\n",
       "      <td>2017-12-31 21:00:00</td>\n",
       "      <td>-9.4</td>\n",
       "      <td>-9.4</td>\n",
       "      <td>0.0</td>\n",
       "    </tr>\n",
       "    <tr>\n",
       "      <th>8757</th>\n",
       "      <td>2017-12-31 22:00:00</td>\n",
       "      <td>-10.0</td>\n",
       "      <td>-10.0</td>\n",
       "      <td>0.0</td>\n",
       "    </tr>\n",
       "    <tr>\n",
       "      <th>8758</th>\n",
       "      <td>2017-12-31 23:00:00</td>\n",
       "      <td>-10.0</td>\n",
       "      <td>-10.0</td>\n",
       "      <td>0.0</td>\n",
       "    </tr>\n",
       "  </tbody>\n",
       "</table>\n",
       "</div>"
      ],
      "text/plain": [
       "                date_time  max_temp  min_temp  precip\n",
       "Order                                                \n",
       "8749  2017-12-31 14:00:00      -9.4      -9.4     0.0\n",
       "8750  2017-12-31 15:00:00      -8.9      -8.9     0.0\n",
       "8751  2017-12-31 16:00:00      -8.9      -8.9     0.0\n",
       "8752  2017-12-31 17:00:00      -8.9      -8.9     0.0\n",
       "8753  2017-12-31 18:00:00      -8.3      -8.3     0.0\n",
       "8754  2017-12-31 19:00:00      -8.9      -8.9     0.0\n",
       "8755  2017-12-31 20:00:00      -8.9      -8.9     0.0\n",
       "8756  2017-12-31 21:00:00      -9.4      -9.4     0.0\n",
       "8757  2017-12-31 22:00:00     -10.0     -10.0     0.0\n",
       "8758  2017-12-31 23:00:00     -10.0     -10.0     0.0"
      ]
     },
     "execution_count": 18,
     "metadata": {},
     "output_type": "execute_result"
    }
   ],
   "source": [
    "df_2017weather_unique = df_2017weather_unique.sort_values(by=['date_time'])\n",
    "df_2017weather_unique['Order'] = np.arange(len(df_2017weather_unique))\n",
    "df_2017weather_unique = df_2017weather_unique.set_index('Order')\n",
    "\n",
    "df_2017weather_unique.tail(10)"
   ]
  },
  {
   "cell_type": "markdown",
   "metadata": {},
   "source": [
    "Running the same code again because one line is missing"
   ]
  },
  {
   "cell_type": "code",
   "execution_count": 19,
   "metadata": {
    "pycharm": {
     "name": "#%%\n"
    }
   },
   "outputs": [
    {
     "name": "stdout",
     "output_type": "stream",
     "text": [
      "{'date_time': Timestamp('2017-09-17 05:00:00'), 'max_temp': 21.375, 'min_temp': 21.375, 'precip': 0.0}\n",
      "End\n"
     ]
    }
   ],
   "source": [
    "for i in df_2017weather_unique.index:\n",
    "    if i == 8758:\n",
    "        print(\"End\")\n",
    "    elif (df_2017weather_unique['date_time'][i] - df_2017weather_unique['date_time'][i+1]) != (df_2017weather_unique['date_time'][1] - df_2017weather_unique['date_time'][2]):\n",
    "        df_2017weather_support = {'date_time': (df_2017weather_unique['date_time'][i] + pd.DateOffset(hours=1)), 'max_temp': (df_2017weather_unique['max_temp'][i] + df_2017weather_unique['max_temp'][i+1])/2, 'min_temp': (df_2017weather_unique['max_temp'][i] + df_2017weather_unique['max_temp'][i+1])/2, 'precip': df_2017weather_unique['precip'][i]}\n",
    "        print(df_2017weather_support)\n",
    "        df_2017weather_unique = df_2017weather_unique.append(df_2017weather_support, ignore_index=True)"
   ]
  },
  {
   "cell_type": "markdown",
   "metadata": {},
   "source": [
    "New order by date, because we added new lines"
   ]
  },
  {
   "cell_type": "code",
   "execution_count": 20,
   "metadata": {
    "pycharm": {
     "name": "#%%\n"
    }
   },
   "outputs": [
    {
     "data": {
      "text/html": [
       "<div>\n",
       "<style scoped>\n",
       "    .dataframe tbody tr th:only-of-type {\n",
       "        vertical-align: middle;\n",
       "    }\n",
       "\n",
       "    .dataframe tbody tr th {\n",
       "        vertical-align: top;\n",
       "    }\n",
       "\n",
       "    .dataframe thead th {\n",
       "        text-align: right;\n",
       "    }\n",
       "</style>\n",
       "<table border=\"1\" class=\"dataframe\">\n",
       "  <thead>\n",
       "    <tr style=\"text-align: right;\">\n",
       "      <th></th>\n",
       "      <th>date_time</th>\n",
       "      <th>max_temp</th>\n",
       "      <th>min_temp</th>\n",
       "      <th>precip</th>\n",
       "    </tr>\n",
       "    <tr>\n",
       "      <th>Order</th>\n",
       "      <th></th>\n",
       "      <th></th>\n",
       "      <th></th>\n",
       "      <th></th>\n",
       "    </tr>\n",
       "  </thead>\n",
       "  <tbody>\n",
       "    <tr>\n",
       "      <th>8750</th>\n",
       "      <td>2017-12-31 14:00:00</td>\n",
       "      <td>-9.4</td>\n",
       "      <td>-9.4</td>\n",
       "      <td>0.0</td>\n",
       "    </tr>\n",
       "    <tr>\n",
       "      <th>8751</th>\n",
       "      <td>2017-12-31 15:00:00</td>\n",
       "      <td>-8.9</td>\n",
       "      <td>-8.9</td>\n",
       "      <td>0.0</td>\n",
       "    </tr>\n",
       "    <tr>\n",
       "      <th>8752</th>\n",
       "      <td>2017-12-31 16:00:00</td>\n",
       "      <td>-8.9</td>\n",
       "      <td>-8.9</td>\n",
       "      <td>0.0</td>\n",
       "    </tr>\n",
       "    <tr>\n",
       "      <th>8753</th>\n",
       "      <td>2017-12-31 17:00:00</td>\n",
       "      <td>-8.9</td>\n",
       "      <td>-8.9</td>\n",
       "      <td>0.0</td>\n",
       "    </tr>\n",
       "    <tr>\n",
       "      <th>8754</th>\n",
       "      <td>2017-12-31 18:00:00</td>\n",
       "      <td>-8.3</td>\n",
       "      <td>-8.3</td>\n",
       "      <td>0.0</td>\n",
       "    </tr>\n",
       "    <tr>\n",
       "      <th>8755</th>\n",
       "      <td>2017-12-31 19:00:00</td>\n",
       "      <td>-8.9</td>\n",
       "      <td>-8.9</td>\n",
       "      <td>0.0</td>\n",
       "    </tr>\n",
       "    <tr>\n",
       "      <th>8756</th>\n",
       "      <td>2017-12-31 20:00:00</td>\n",
       "      <td>-8.9</td>\n",
       "      <td>-8.9</td>\n",
       "      <td>0.0</td>\n",
       "    </tr>\n",
       "    <tr>\n",
       "      <th>8757</th>\n",
       "      <td>2017-12-31 21:00:00</td>\n",
       "      <td>-9.4</td>\n",
       "      <td>-9.4</td>\n",
       "      <td>0.0</td>\n",
       "    </tr>\n",
       "    <tr>\n",
       "      <th>8758</th>\n",
       "      <td>2017-12-31 22:00:00</td>\n",
       "      <td>-10.0</td>\n",
       "      <td>-10.0</td>\n",
       "      <td>0.0</td>\n",
       "    </tr>\n",
       "    <tr>\n",
       "      <th>8759</th>\n",
       "      <td>2017-12-31 23:00:00</td>\n",
       "      <td>-10.0</td>\n",
       "      <td>-10.0</td>\n",
       "      <td>0.0</td>\n",
       "    </tr>\n",
       "  </tbody>\n",
       "</table>\n",
       "</div>"
      ],
      "text/plain": [
       "                date_time  max_temp  min_temp  precip\n",
       "Order                                                \n",
       "8750  2017-12-31 14:00:00      -9.4      -9.4     0.0\n",
       "8751  2017-12-31 15:00:00      -8.9      -8.9     0.0\n",
       "8752  2017-12-31 16:00:00      -8.9      -8.9     0.0\n",
       "8753  2017-12-31 17:00:00      -8.9      -8.9     0.0\n",
       "8754  2017-12-31 18:00:00      -8.3      -8.3     0.0\n",
       "8755  2017-12-31 19:00:00      -8.9      -8.9     0.0\n",
       "8756  2017-12-31 20:00:00      -8.9      -8.9     0.0\n",
       "8757  2017-12-31 21:00:00      -9.4      -9.4     0.0\n",
       "8758  2017-12-31 22:00:00     -10.0     -10.0     0.0\n",
       "8759  2017-12-31 23:00:00     -10.0     -10.0     0.0"
      ]
     },
     "execution_count": 20,
     "metadata": {},
     "output_type": "execute_result"
    }
   ],
   "source": [
    "df_2017weather_unique = df_2017weather_unique.sort_values(by=['date_time'])\n",
    "df_2017weather_unique['Order'] = np.arange(len(df_2017weather_unique))\n",
    "df_2017weather_unique = df_2017weather_unique.set_index('Order')\n",
    "\n",
    "df_2017weather_unique.tail(10)"
   ]
  },
  {
   "cell_type": "code",
   "execution_count": null,
   "metadata": {},
   "outputs": [],
   "source": [
    "Check if data is complete by checking time difference of following "
   ]
  },
  {
   "cell_type": "code",
   "execution_count": 21,
   "metadata": {
    "pycharm": {
     "name": "#%%\n"
    }
   },
   "outputs": [
    {
     "name": "stdout",
     "output_type": "stream",
     "text": [
      "Data complete\n"
     ]
    }
   ],
   "source": [
    "for i in df_2017weather_unique.index:\n",
    "    if i == 8759:\n",
    "        print(\"Data complete\")\n",
    "    elif (df_2017weather_unique['date_time'][i] - df_2017weather_unique['date_time'][i+1]) != (df_2017weather_unique['date_time'][1] - df_2017weather_unique['date_time'][2]):\n",
    "        df_2017weather_support = {'date_time': (df_2017weather_unique['date_time'][i] + pd.DateOffset(hours=1)), 'max_temp': (df_2017weather_unique['max_temp'][i] + df_2017weather_unique['max_temp'][i+1])/2, 'min_temp': (df_2017weather_unique['max_temp'][i] + df_2017weather_unique['max_temp'][i+1])/2, 'precip': df_2017weather_unique['precip'][i]}\n",
    "        print(df_2017weather_support)\n",
    "        df_2017weather_unique = df_2017weather_unique.append(df_2017weather_support, ignore_index=True)"
   ]
  }
 ],
 "metadata": {
  "kernelspec": {
   "display_name": "Python 3",
   "language": "python",
   "name": "python3"
  },
  "language_info": {
   "codemirror_mode": {
    "name": "ipython",
    "version": 3
   },
   "file_extension": ".py",
   "mimetype": "text/x-python",
   "name": "python",
   "nbconvert_exporter": "python",
   "pygments_lexer": "ipython3",
   "version": "3.8.5"
  }
 },
 "nbformat": 4,
 "nbformat_minor": 4
}
