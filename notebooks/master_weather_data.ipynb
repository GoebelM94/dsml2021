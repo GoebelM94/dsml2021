{
 "cells": [
  {
   "cell_type": "markdown",
   "metadata": {},
   "source": [
    "# Imports"
   ]
  },
  {
   "cell_type": "code",
   "execution_count": 23,
   "metadata": {},
   "outputs": [],
   "source": [
    "#general imports\n",
    "import pandas as pd\n",
    "import numpy as np\n",
    "\n",
    "#statsmodels for regression\n",
    "import statsmodels.api as sm\n",
    "import statsmodels.formula.api as smf\n",
    "from statsmodels.iolib.summary2 import summary_col\n",
    "\n",
    "#scipy for testing\n",
    "from scipy import stats\n",
    "\n",
    "#for visualization\n",
    "import matplotlib.pyplot as plt\n",
    "import seaborn as sns\n",
    "\n",
    "from datetime import datetime"
   ]
  },
  {
   "cell_type": "markdown",
   "metadata": {},
   "source": [
    "# Weather Data"
   ]
  },
  {
   "cell_type": "markdown",
   "metadata": {},
   "source": [
    "Import of the weather data"
   ]
  },
  {
   "cell_type": "code",
   "execution_count": 24,
   "metadata": {
    "pycharm": {
     "name": "#%%\n"
    }
   },
   "outputs": [],
   "source": [
    "df_weather = pd.read_csv('../data/weather_hourly_philadelphia.csv')"
   ]
  },
  {
   "cell_type": "markdown",
   "metadata": {},
   "source": [
    "Change type of \"date_time\" to datetime"
   ]
  },
  {
   "cell_type": "code",
   "execution_count": 25,
   "metadata": {
    "pycharm": {
     "name": "#%%\n"
    }
   },
   "outputs": [],
   "source": [
    "df_weather[\"date_time\"] = pd.to_datetime(df_weather[\"date_time\"])"
   ]
  },
  {
   "cell_type": "markdown",
   "metadata": {},
   "source": [
    "Ordered weather data by date"
   ]
  },
  {
   "cell_type": "code",
   "execution_count": 26,
   "metadata": {
    "pycharm": {
     "name": "#%%\n"
    }
   },
   "outputs": [],
   "source": [
    "df_weather = df_weather.sort_values(by=['date_time'])"
   ]
  },
  {
   "cell_type": "markdown",
   "metadata": {},
   "source": [
    "Deleted weather date which is not needed for Philadelphia 2017 (<2017 or >2017)"
   ]
  },
  {
   "cell_type": "code",
   "execution_count": 27,
   "metadata": {
    "pycharm": {
     "name": "#%%\n"
    }
   },
   "outputs": [
    {
     "name": "stderr",
     "output_type": "stream",
     "text": [
      "<ipython-input-27-0508696ba8fa>:6: SettingWithCopyWarning: \n",
      "A value is trying to be set on a copy of a slice from a DataFrame.\n",
      "Try using .loc[row_indexer,col_indexer] = value instead\n",
      "\n",
      "See the caveats in the documentation: https://pandas.pydata.org/pandas-docs/stable/user_guide/indexing.html#returning-a-view-versus-a-copy\n",
      "  df_2017weather_unique['Order'] = np.arange(len(df_2017weather_unique))\n"
     ]
    },
    {
     "data": {
      "text/plain": "                date_time  max_temp  min_temp  precip\nOrder                                                \n8222  2017-12-31 14:00:00      -9.4      -9.4     0.0\n8223  2017-12-31 15:00:00      -8.9      -8.9     0.0\n8224  2017-12-31 16:00:00      -8.9      -8.9     0.0\n8225  2017-12-31 17:00:00      -8.9      -8.9     0.0\n8226  2017-12-31 18:00:00      -8.3      -8.3     0.0\n8227  2017-12-31 19:00:00      -8.9      -8.9     0.0\n8228  2017-12-31 20:00:00      -8.9      -8.9     0.0\n8229  2017-12-31 21:00:00      -9.4      -9.4     0.0\n8230  2017-12-31 22:00:00     -10.0     -10.0     0.0\n8231  2017-12-31 23:00:00     -10.0     -10.0     0.0",
      "text/html": "<div>\n<style scoped>\n    .dataframe tbody tr th:only-of-type {\n        vertical-align: middle;\n    }\n\n    .dataframe tbody tr th {\n        vertical-align: top;\n    }\n\n    .dataframe thead th {\n        text-align: right;\n    }\n</style>\n<table border=\"1\" class=\"dataframe\">\n  <thead>\n    <tr style=\"text-align: right;\">\n      <th></th>\n      <th>date_time</th>\n      <th>max_temp</th>\n      <th>min_temp</th>\n      <th>precip</th>\n    </tr>\n    <tr>\n      <th>Order</th>\n      <th></th>\n      <th></th>\n      <th></th>\n      <th></th>\n    </tr>\n  </thead>\n  <tbody>\n    <tr>\n      <th>8222</th>\n      <td>2017-12-31 14:00:00</td>\n      <td>-9.4</td>\n      <td>-9.4</td>\n      <td>0.0</td>\n    </tr>\n    <tr>\n      <th>8223</th>\n      <td>2017-12-31 15:00:00</td>\n      <td>-8.9</td>\n      <td>-8.9</td>\n      <td>0.0</td>\n    </tr>\n    <tr>\n      <th>8224</th>\n      <td>2017-12-31 16:00:00</td>\n      <td>-8.9</td>\n      <td>-8.9</td>\n      <td>0.0</td>\n    </tr>\n    <tr>\n      <th>8225</th>\n      <td>2017-12-31 17:00:00</td>\n      <td>-8.9</td>\n      <td>-8.9</td>\n      <td>0.0</td>\n    </tr>\n    <tr>\n      <th>8226</th>\n      <td>2017-12-31 18:00:00</td>\n      <td>-8.3</td>\n      <td>-8.3</td>\n      <td>0.0</td>\n    </tr>\n    <tr>\n      <th>8227</th>\n      <td>2017-12-31 19:00:00</td>\n      <td>-8.9</td>\n      <td>-8.9</td>\n      <td>0.0</td>\n    </tr>\n    <tr>\n      <th>8228</th>\n      <td>2017-12-31 20:00:00</td>\n      <td>-8.9</td>\n      <td>-8.9</td>\n      <td>0.0</td>\n    </tr>\n    <tr>\n      <th>8229</th>\n      <td>2017-12-31 21:00:00</td>\n      <td>-9.4</td>\n      <td>-9.4</td>\n      <td>0.0</td>\n    </tr>\n    <tr>\n      <th>8230</th>\n      <td>2017-12-31 22:00:00</td>\n      <td>-10.0</td>\n      <td>-10.0</td>\n      <td>0.0</td>\n    </tr>\n    <tr>\n      <th>8231</th>\n      <td>2017-12-31 23:00:00</td>\n      <td>-10.0</td>\n      <td>-10.0</td>\n      <td>0.0</td>\n    </tr>\n  </tbody>\n</table>\n</div>"
     },
     "execution_count": 27,
     "metadata": {},
     "output_type": "execute_result"
    }
   ],
   "source": [
    "start2017 = datetime(2016, 12, 31, 23)\n",
    "end2017 = datetime(2018, 1, 1)\n",
    "\n",
    "df_2017weather = df_weather[(df_weather[\"date_time\"] > start2017) & (df_weather[\"date_time\"] < end2017)]\n",
    "df_2017weather_unique = df_2017weather.drop_duplicates(subset='date_time')\n",
    "df_2017weather_unique['Order'] = np.arange(len(df_2017weather_unique))\n",
    "df_2017weather_unique = df_2017weather_unique.set_index('Order')\n",
    "\n",
    "df_2017weather_unique.tail(10)"
   ]
  },
  {
   "cell_type": "markdown",
   "metadata": {},
   "source": [
    "Identify missing data and generate by using average data from former and following hour"
   ]
  },
  {
   "cell_type": "code",
   "execution_count": 28,
   "metadata": {
    "pycharm": {
     "name": "#%%\n"
    }
   },
   "outputs": [
    {
     "name": "stdout",
     "output_type": "stream",
     "text": [
      "End\n"
     ]
    }
   ],
   "source": [
    "for i in df_2017weather_unique.index:\n",
    "    if i == 8231:\n",
    "        print(\"End\")\n",
    "    elif (df_2017weather_unique['date_time'][i] - df_2017weather_unique['date_time'][i+1]) != (df_2017weather_unique['date_time'][1] - df_2017weather_unique['date_time'][2]):\n",
    "        df_2017weather_support = {'date_time': (df_2017weather_unique['date_time'][i] + pd.DateOffset(hours=1)), 'max_temp': (df_2017weather_unique['max_temp'][i] + df_2017weather_unique['max_temp'][i+1])/2, 'min_temp': (df_2017weather_unique['max_temp'][i] + df_2017weather_unique['max_temp'][i+1])/2, 'precip': df_2017weather_unique['precip'][i]}\n",
    "        df_2017weather_unique = df_2017weather_unique.append(df_2017weather_support, ignore_index=True)"
   ]
  },
  {
   "cell_type": "markdown",
   "metadata": {},
   "source": [
    "New order by date, because we added new lines"
   ]
  },
  {
   "cell_type": "code",
   "execution_count": 29,
   "metadata": {
    "pycharm": {
     "name": "#%%\n"
    }
   },
   "outputs": [
    {
     "data": {
      "text/plain": "                date_time  max_temp  min_temp  precip\nOrder                                                \n8749  2017-12-31 14:00:00      -9.4      -9.4     0.0\n8750  2017-12-31 15:00:00      -8.9      -8.9     0.0\n8751  2017-12-31 16:00:00      -8.9      -8.9     0.0\n8752  2017-12-31 17:00:00      -8.9      -8.9     0.0\n8753  2017-12-31 18:00:00      -8.3      -8.3     0.0\n8754  2017-12-31 19:00:00      -8.9      -8.9     0.0\n8755  2017-12-31 20:00:00      -8.9      -8.9     0.0\n8756  2017-12-31 21:00:00      -9.4      -9.4     0.0\n8757  2017-12-31 22:00:00     -10.0     -10.0     0.0\n8758  2017-12-31 23:00:00     -10.0     -10.0     0.0",
      "text/html": "<div>\n<style scoped>\n    .dataframe tbody tr th:only-of-type {\n        vertical-align: middle;\n    }\n\n    .dataframe tbody tr th {\n        vertical-align: top;\n    }\n\n    .dataframe thead th {\n        text-align: right;\n    }\n</style>\n<table border=\"1\" class=\"dataframe\">\n  <thead>\n    <tr style=\"text-align: right;\">\n      <th></th>\n      <th>date_time</th>\n      <th>max_temp</th>\n      <th>min_temp</th>\n      <th>precip</th>\n    </tr>\n    <tr>\n      <th>Order</th>\n      <th></th>\n      <th></th>\n      <th></th>\n      <th></th>\n    </tr>\n  </thead>\n  <tbody>\n    <tr>\n      <th>8749</th>\n      <td>2017-12-31 14:00:00</td>\n      <td>-9.4</td>\n      <td>-9.4</td>\n      <td>0.0</td>\n    </tr>\n    <tr>\n      <th>8750</th>\n      <td>2017-12-31 15:00:00</td>\n      <td>-8.9</td>\n      <td>-8.9</td>\n      <td>0.0</td>\n    </tr>\n    <tr>\n      <th>8751</th>\n      <td>2017-12-31 16:00:00</td>\n      <td>-8.9</td>\n      <td>-8.9</td>\n      <td>0.0</td>\n    </tr>\n    <tr>\n      <th>8752</th>\n      <td>2017-12-31 17:00:00</td>\n      <td>-8.9</td>\n      <td>-8.9</td>\n      <td>0.0</td>\n    </tr>\n    <tr>\n      <th>8753</th>\n      <td>2017-12-31 18:00:00</td>\n      <td>-8.3</td>\n      <td>-8.3</td>\n      <td>0.0</td>\n    </tr>\n    <tr>\n      <th>8754</th>\n      <td>2017-12-31 19:00:00</td>\n      <td>-8.9</td>\n      <td>-8.9</td>\n      <td>0.0</td>\n    </tr>\n    <tr>\n      <th>8755</th>\n      <td>2017-12-31 20:00:00</td>\n      <td>-8.9</td>\n      <td>-8.9</td>\n      <td>0.0</td>\n    </tr>\n    <tr>\n      <th>8756</th>\n      <td>2017-12-31 21:00:00</td>\n      <td>-9.4</td>\n      <td>-9.4</td>\n      <td>0.0</td>\n    </tr>\n    <tr>\n      <th>8757</th>\n      <td>2017-12-31 22:00:00</td>\n      <td>-10.0</td>\n      <td>-10.0</td>\n      <td>0.0</td>\n    </tr>\n    <tr>\n      <th>8758</th>\n      <td>2017-12-31 23:00:00</td>\n      <td>-10.0</td>\n      <td>-10.0</td>\n      <td>0.0</td>\n    </tr>\n  </tbody>\n</table>\n</div>"
     },
     "execution_count": 29,
     "metadata": {},
     "output_type": "execute_result"
    }
   ],
   "source": [
    "df_2017weather_unique = df_2017weather_unique.sort_values(by=['date_time'])\n",
    "df_2017weather_unique['Order'] = np.arange(len(df_2017weather_unique))\n",
    "df_2017weather_unique = df_2017weather_unique.set_index('Order')\n",
    "\n",
    "df_2017weather_unique.tail(10)"
   ]
  },
  {
   "cell_type": "markdown",
   "metadata": {},
   "source": [
    "Running the same code again because one line is missing"
   ]
  },
  {
   "cell_type": "code",
   "execution_count": 30,
   "metadata": {
    "pycharm": {
     "name": "#%%\n"
    }
   },
   "outputs": [
    {
     "name": "stdout",
     "output_type": "stream",
     "text": [
      "{'date_time': Timestamp('2017-09-17 05:00:00'), 'max_temp': 21.375, 'min_temp': 21.375, 'precip': 0.0}\n",
      "End\n"
     ]
    }
   ],
   "source": [
    "for i in df_2017weather_unique.index:\n",
    "    if i == 8758:\n",
    "        print(\"End\")\n",
    "    elif (df_2017weather_unique['date_time'][i] - df_2017weather_unique['date_time'][i+1]) != (df_2017weather_unique['date_time'][1] - df_2017weather_unique['date_time'][2]):\n",
    "        df_2017weather_support = {'date_time': (df_2017weather_unique['date_time'][i] + pd.DateOffset(hours=1)), 'max_temp': (df_2017weather_unique['max_temp'][i] + df_2017weather_unique['max_temp'][i+1])/2, 'min_temp': (df_2017weather_unique['max_temp'][i] + df_2017weather_unique['max_temp'][i+1])/2, 'precip': df_2017weather_unique['precip'][i]}\n",
    "        print(df_2017weather_support)\n",
    "        df_2017weather_unique = df_2017weather_unique.append(df_2017weather_support, ignore_index=True)"
   ]
  },
  {
   "cell_type": "markdown",
   "metadata": {},
   "source": [
    "New order by date, because we added new lines"
   ]
  },
  {
   "cell_type": "code",
   "execution_count": 31,
   "metadata": {
    "pycharm": {
     "name": "#%%\n"
    }
   },
   "outputs": [
    {
     "data": {
      "text/plain": "                date_time  max_temp  min_temp  precip\nOrder                                                \n8750  2017-12-31 14:00:00      -9.4      -9.4     0.0\n8751  2017-12-31 15:00:00      -8.9      -8.9     0.0\n8752  2017-12-31 16:00:00      -8.9      -8.9     0.0\n8753  2017-12-31 17:00:00      -8.9      -8.9     0.0\n8754  2017-12-31 18:00:00      -8.3      -8.3     0.0\n8755  2017-12-31 19:00:00      -8.9      -8.9     0.0\n8756  2017-12-31 20:00:00      -8.9      -8.9     0.0\n8757  2017-12-31 21:00:00      -9.4      -9.4     0.0\n8758  2017-12-31 22:00:00     -10.0     -10.0     0.0\n8759  2017-12-31 23:00:00     -10.0     -10.0     0.0",
      "text/html": "<div>\n<style scoped>\n    .dataframe tbody tr th:only-of-type {\n        vertical-align: middle;\n    }\n\n    .dataframe tbody tr th {\n        vertical-align: top;\n    }\n\n    .dataframe thead th {\n        text-align: right;\n    }\n</style>\n<table border=\"1\" class=\"dataframe\">\n  <thead>\n    <tr style=\"text-align: right;\">\n      <th></th>\n      <th>date_time</th>\n      <th>max_temp</th>\n      <th>min_temp</th>\n      <th>precip</th>\n    </tr>\n    <tr>\n      <th>Order</th>\n      <th></th>\n      <th></th>\n      <th></th>\n      <th></th>\n    </tr>\n  </thead>\n  <tbody>\n    <tr>\n      <th>8750</th>\n      <td>2017-12-31 14:00:00</td>\n      <td>-9.4</td>\n      <td>-9.4</td>\n      <td>0.0</td>\n    </tr>\n    <tr>\n      <th>8751</th>\n      <td>2017-12-31 15:00:00</td>\n      <td>-8.9</td>\n      <td>-8.9</td>\n      <td>0.0</td>\n    </tr>\n    <tr>\n      <th>8752</th>\n      <td>2017-12-31 16:00:00</td>\n      <td>-8.9</td>\n      <td>-8.9</td>\n      <td>0.0</td>\n    </tr>\n    <tr>\n      <th>8753</th>\n      <td>2017-12-31 17:00:00</td>\n      <td>-8.9</td>\n      <td>-8.9</td>\n      <td>0.0</td>\n    </tr>\n    <tr>\n      <th>8754</th>\n      <td>2017-12-31 18:00:00</td>\n      <td>-8.3</td>\n      <td>-8.3</td>\n      <td>0.0</td>\n    </tr>\n    <tr>\n      <th>8755</th>\n      <td>2017-12-31 19:00:00</td>\n      <td>-8.9</td>\n      <td>-8.9</td>\n      <td>0.0</td>\n    </tr>\n    <tr>\n      <th>8756</th>\n      <td>2017-12-31 20:00:00</td>\n      <td>-8.9</td>\n      <td>-8.9</td>\n      <td>0.0</td>\n    </tr>\n    <tr>\n      <th>8757</th>\n      <td>2017-12-31 21:00:00</td>\n      <td>-9.4</td>\n      <td>-9.4</td>\n      <td>0.0</td>\n    </tr>\n    <tr>\n      <th>8758</th>\n      <td>2017-12-31 22:00:00</td>\n      <td>-10.0</td>\n      <td>-10.0</td>\n      <td>0.0</td>\n    </tr>\n    <tr>\n      <th>8759</th>\n      <td>2017-12-31 23:00:00</td>\n      <td>-10.0</td>\n      <td>-10.0</td>\n      <td>0.0</td>\n    </tr>\n  </tbody>\n</table>\n</div>"
     },
     "execution_count": 31,
     "metadata": {},
     "output_type": "execute_result"
    }
   ],
   "source": [
    "df_2017weather_unique = df_2017weather_unique.sort_values(by=['date_time'])\n",
    "df_2017weather_unique['Order'] = np.arange(len(df_2017weather_unique))\n",
    "df_2017weather_unique = df_2017weather_unique.set_index('Order')\n",
    "\n",
    "df_2017weather_unique.tail(10)"
   ]
  },
  {
   "cell_type": "markdown",
   "metadata": {
    "pycharm": {
     "name": "#%% md\n"
    }
   },
   "source": [
    "Check if data is complete by checking time difference of following "
   ]
  },
  {
   "cell_type": "code",
   "execution_count": 32,
   "metadata": {
    "pycharm": {
     "name": "#%%\n"
    }
   },
   "outputs": [
    {
     "name": "stdout",
     "output_type": "stream",
     "text": [
      "Data complete\n"
     ]
    }
   ],
   "source": [
    "for i in df_2017weather_unique.index:\n",
    "    if i == 8759:\n",
    "        print(\"Data complete\")\n",
    "    elif (df_2017weather_unique['date_time'][i] - df_2017weather_unique['date_time'][i+1]) != (df_2017weather_unique['date_time'][1] - df_2017weather_unique['date_time'][2]):\n",
    "        df_2017weather_support = {'date_time': (df_2017weather_unique['date_time'][i] + pd.DateOffset(hours=1)), 'max_temp': (df_2017weather_unique['max_temp'][i] + df_2017weather_unique['max_temp'][i+1])/2, 'min_temp': (df_2017weather_unique['max_temp'][i] + df_2017weather_unique['max_temp'][i+1])/2, 'precip': df_2017weather_unique['precip'][i]}\n",
    "        print(df_2017weather_support)\n",
    "        df_2017weather_unique = df_2017weather_unique.append(df_2017weather_support, ignore_index=True)"
   ]
  },
  {
   "cell_type": "code",
   "execution_count": 33,
   "outputs": [
    {
     "data": {
      "text/plain": "                date_time  max_temp  min_temp  precip\nOrder                                                \n0     2017-01-01 00:00:00      6.10      6.10     0.0\n1     2017-01-01 01:00:00      6.10      6.10     0.0\n2     2017-01-01 02:00:00      6.70      6.70     0.0\n3     2017-01-01 03:00:00      7.20      7.20     0.0\n4     2017-01-01 04:00:00      7.80      7.80     0.0\n5     2017-01-01 05:00:00      7.80      7.80     0.0\n6     2017-01-01 06:00:00      7.80      7.80     0.0\n7     2017-01-01 07:00:00      7.20      7.20     0.0\n8     2017-01-01 08:00:00      6.70      6.70     0.0\n9     2017-01-01 09:00:00      5.60      5.60     0.0\n10    2017-01-01 10:00:00      6.10      6.10     0.0\n11    2017-01-01 11:00:00      5.60      5.60     0.0\n12    2017-01-01 12:00:00      5.00      5.00     0.0\n13    2017-01-01 13:00:00      4.40      4.40     0.0\n14    2017-01-01 14:00:00      5.60      5.60     0.0\n15    2017-01-01 15:00:00      7.20      7.20     0.0\n16    2017-01-01 16:00:00      8.90      8.90     0.0\n17    2017-01-01 17:00:00      9.40      9.40     0.0\n18    2017-01-01 18:00:00     10.00     10.00     0.0\n19    2017-01-01 19:00:00     10.00     10.00     0.0\n20    2017-01-01 20:00:00     10.60     10.60     0.0\n21    2017-01-01 21:00:00     10.00     10.00     0.0\n22    2017-01-01 22:00:00      8.90      8.90     0.0\n23    2017-01-01 23:00:00      8.30      8.30     0.0\n24    2017-01-02 00:00:00      7.20      7.20     0.0\n25    2017-01-02 01:00:00      5.60      5.60     0.0\n26    2017-01-02 02:00:00      3.90      3.90     0.0\n27    2017-01-02 03:00:00      1.10      1.10     0.0\n28    2017-01-02 04:00:00      1.70      1.70     0.0\n29    2017-01-02 05:00:00      1.10      1.10     0.0\n30    2017-01-02 06:00:00      0.00      0.00     0.0\n31    2017-01-02 07:00:00      2.20      2.20     0.0\n32    2017-01-02 08:00:00      2.20      2.20     0.0\n33    2017-01-02 09:00:00      3.30      3.30     0.0\n34    2017-01-02 10:00:00      3.30      2.80     1.0\n35    2017-01-02 11:00:00      2.80      2.80     1.0\n36    2017-01-02 12:00:00      3.30      3.30     1.0\n37    2017-01-02 13:00:00      2.80      2.80     1.0\n38    2017-01-02 14:00:00      4.40      4.40     1.0\n39    2017-01-02 15:00:00      5.00      5.00     1.0\n40    2017-01-02 16:00:00      5.60      5.00     1.0\n41    2017-01-02 17:00:00      5.85      5.85     1.0\n42    2017-01-02 18:00:00      6.10      5.60     1.0\n43    2017-01-02 19:00:00      6.10      6.10     1.0\n44    2017-01-02 20:00:00      5.60      5.60     1.0\n45    2017-01-02 21:00:00      5.60      5.60     1.0\n46    2017-01-02 22:00:00      5.60      5.60     0.0\n47    2017-01-02 23:00:00      5.30      5.30     0.0\n48    2017-01-03 00:00:00      5.00      5.00     0.0\n49    2017-01-03 01:00:00      5.00      5.00     0.0",
      "text/html": "<div>\n<style scoped>\n    .dataframe tbody tr th:only-of-type {\n        vertical-align: middle;\n    }\n\n    .dataframe tbody tr th {\n        vertical-align: top;\n    }\n\n    .dataframe thead th {\n        text-align: right;\n    }\n</style>\n<table border=\"1\" class=\"dataframe\">\n  <thead>\n    <tr style=\"text-align: right;\">\n      <th></th>\n      <th>date_time</th>\n      <th>max_temp</th>\n      <th>min_temp</th>\n      <th>precip</th>\n    </tr>\n    <tr>\n      <th>Order</th>\n      <th></th>\n      <th></th>\n      <th></th>\n      <th></th>\n    </tr>\n  </thead>\n  <tbody>\n    <tr>\n      <th>0</th>\n      <td>2017-01-01 00:00:00</td>\n      <td>6.10</td>\n      <td>6.10</td>\n      <td>0.0</td>\n    </tr>\n    <tr>\n      <th>1</th>\n      <td>2017-01-01 01:00:00</td>\n      <td>6.10</td>\n      <td>6.10</td>\n      <td>0.0</td>\n    </tr>\n    <tr>\n      <th>2</th>\n      <td>2017-01-01 02:00:00</td>\n      <td>6.70</td>\n      <td>6.70</td>\n      <td>0.0</td>\n    </tr>\n    <tr>\n      <th>3</th>\n      <td>2017-01-01 03:00:00</td>\n      <td>7.20</td>\n      <td>7.20</td>\n      <td>0.0</td>\n    </tr>\n    <tr>\n      <th>4</th>\n      <td>2017-01-01 04:00:00</td>\n      <td>7.80</td>\n      <td>7.80</td>\n      <td>0.0</td>\n    </tr>\n    <tr>\n      <th>5</th>\n      <td>2017-01-01 05:00:00</td>\n      <td>7.80</td>\n      <td>7.80</td>\n      <td>0.0</td>\n    </tr>\n    <tr>\n      <th>6</th>\n      <td>2017-01-01 06:00:00</td>\n      <td>7.80</td>\n      <td>7.80</td>\n      <td>0.0</td>\n    </tr>\n    <tr>\n      <th>7</th>\n      <td>2017-01-01 07:00:00</td>\n      <td>7.20</td>\n      <td>7.20</td>\n      <td>0.0</td>\n    </tr>\n    <tr>\n      <th>8</th>\n      <td>2017-01-01 08:00:00</td>\n      <td>6.70</td>\n      <td>6.70</td>\n      <td>0.0</td>\n    </tr>\n    <tr>\n      <th>9</th>\n      <td>2017-01-01 09:00:00</td>\n      <td>5.60</td>\n      <td>5.60</td>\n      <td>0.0</td>\n    </tr>\n    <tr>\n      <th>10</th>\n      <td>2017-01-01 10:00:00</td>\n      <td>6.10</td>\n      <td>6.10</td>\n      <td>0.0</td>\n    </tr>\n    <tr>\n      <th>11</th>\n      <td>2017-01-01 11:00:00</td>\n      <td>5.60</td>\n      <td>5.60</td>\n      <td>0.0</td>\n    </tr>\n    <tr>\n      <th>12</th>\n      <td>2017-01-01 12:00:00</td>\n      <td>5.00</td>\n      <td>5.00</td>\n      <td>0.0</td>\n    </tr>\n    <tr>\n      <th>13</th>\n      <td>2017-01-01 13:00:00</td>\n      <td>4.40</td>\n      <td>4.40</td>\n      <td>0.0</td>\n    </tr>\n    <tr>\n      <th>14</th>\n      <td>2017-01-01 14:00:00</td>\n      <td>5.60</td>\n      <td>5.60</td>\n      <td>0.0</td>\n    </tr>\n    <tr>\n      <th>15</th>\n      <td>2017-01-01 15:00:00</td>\n      <td>7.20</td>\n      <td>7.20</td>\n      <td>0.0</td>\n    </tr>\n    <tr>\n      <th>16</th>\n      <td>2017-01-01 16:00:00</td>\n      <td>8.90</td>\n      <td>8.90</td>\n      <td>0.0</td>\n    </tr>\n    <tr>\n      <th>17</th>\n      <td>2017-01-01 17:00:00</td>\n      <td>9.40</td>\n      <td>9.40</td>\n      <td>0.0</td>\n    </tr>\n    <tr>\n      <th>18</th>\n      <td>2017-01-01 18:00:00</td>\n      <td>10.00</td>\n      <td>10.00</td>\n      <td>0.0</td>\n    </tr>\n    <tr>\n      <th>19</th>\n      <td>2017-01-01 19:00:00</td>\n      <td>10.00</td>\n      <td>10.00</td>\n      <td>0.0</td>\n    </tr>\n    <tr>\n      <th>20</th>\n      <td>2017-01-01 20:00:00</td>\n      <td>10.60</td>\n      <td>10.60</td>\n      <td>0.0</td>\n    </tr>\n    <tr>\n      <th>21</th>\n      <td>2017-01-01 21:00:00</td>\n      <td>10.00</td>\n      <td>10.00</td>\n      <td>0.0</td>\n    </tr>\n    <tr>\n      <th>22</th>\n      <td>2017-01-01 22:00:00</td>\n      <td>8.90</td>\n      <td>8.90</td>\n      <td>0.0</td>\n    </tr>\n    <tr>\n      <th>23</th>\n      <td>2017-01-01 23:00:00</td>\n      <td>8.30</td>\n      <td>8.30</td>\n      <td>0.0</td>\n    </tr>\n    <tr>\n      <th>24</th>\n      <td>2017-01-02 00:00:00</td>\n      <td>7.20</td>\n      <td>7.20</td>\n      <td>0.0</td>\n    </tr>\n    <tr>\n      <th>25</th>\n      <td>2017-01-02 01:00:00</td>\n      <td>5.60</td>\n      <td>5.60</td>\n      <td>0.0</td>\n    </tr>\n    <tr>\n      <th>26</th>\n      <td>2017-01-02 02:00:00</td>\n      <td>3.90</td>\n      <td>3.90</td>\n      <td>0.0</td>\n    </tr>\n    <tr>\n      <th>27</th>\n      <td>2017-01-02 03:00:00</td>\n      <td>1.10</td>\n      <td>1.10</td>\n      <td>0.0</td>\n    </tr>\n    <tr>\n      <th>28</th>\n      <td>2017-01-02 04:00:00</td>\n      <td>1.70</td>\n      <td>1.70</td>\n      <td>0.0</td>\n    </tr>\n    <tr>\n      <th>29</th>\n      <td>2017-01-02 05:00:00</td>\n      <td>1.10</td>\n      <td>1.10</td>\n      <td>0.0</td>\n    </tr>\n    <tr>\n      <th>30</th>\n      <td>2017-01-02 06:00:00</td>\n      <td>0.00</td>\n      <td>0.00</td>\n      <td>0.0</td>\n    </tr>\n    <tr>\n      <th>31</th>\n      <td>2017-01-02 07:00:00</td>\n      <td>2.20</td>\n      <td>2.20</td>\n      <td>0.0</td>\n    </tr>\n    <tr>\n      <th>32</th>\n      <td>2017-01-02 08:00:00</td>\n      <td>2.20</td>\n      <td>2.20</td>\n      <td>0.0</td>\n    </tr>\n    <tr>\n      <th>33</th>\n      <td>2017-01-02 09:00:00</td>\n      <td>3.30</td>\n      <td>3.30</td>\n      <td>0.0</td>\n    </tr>\n    <tr>\n      <th>34</th>\n      <td>2017-01-02 10:00:00</td>\n      <td>3.30</td>\n      <td>2.80</td>\n      <td>1.0</td>\n    </tr>\n    <tr>\n      <th>35</th>\n      <td>2017-01-02 11:00:00</td>\n      <td>2.80</td>\n      <td>2.80</td>\n      <td>1.0</td>\n    </tr>\n    <tr>\n      <th>36</th>\n      <td>2017-01-02 12:00:00</td>\n      <td>3.30</td>\n      <td>3.30</td>\n      <td>1.0</td>\n    </tr>\n    <tr>\n      <th>37</th>\n      <td>2017-01-02 13:00:00</td>\n      <td>2.80</td>\n      <td>2.80</td>\n      <td>1.0</td>\n    </tr>\n    <tr>\n      <th>38</th>\n      <td>2017-01-02 14:00:00</td>\n      <td>4.40</td>\n      <td>4.40</td>\n      <td>1.0</td>\n    </tr>\n    <tr>\n      <th>39</th>\n      <td>2017-01-02 15:00:00</td>\n      <td>5.00</td>\n      <td>5.00</td>\n      <td>1.0</td>\n    </tr>\n    <tr>\n      <th>40</th>\n      <td>2017-01-02 16:00:00</td>\n      <td>5.60</td>\n      <td>5.00</td>\n      <td>1.0</td>\n    </tr>\n    <tr>\n      <th>41</th>\n      <td>2017-01-02 17:00:00</td>\n      <td>5.85</td>\n      <td>5.85</td>\n      <td>1.0</td>\n    </tr>\n    <tr>\n      <th>42</th>\n      <td>2017-01-02 18:00:00</td>\n      <td>6.10</td>\n      <td>5.60</td>\n      <td>1.0</td>\n    </tr>\n    <tr>\n      <th>43</th>\n      <td>2017-01-02 19:00:00</td>\n      <td>6.10</td>\n      <td>6.10</td>\n      <td>1.0</td>\n    </tr>\n    <tr>\n      <th>44</th>\n      <td>2017-01-02 20:00:00</td>\n      <td>5.60</td>\n      <td>5.60</td>\n      <td>1.0</td>\n    </tr>\n    <tr>\n      <th>45</th>\n      <td>2017-01-02 21:00:00</td>\n      <td>5.60</td>\n      <td>5.60</td>\n      <td>1.0</td>\n    </tr>\n    <tr>\n      <th>46</th>\n      <td>2017-01-02 22:00:00</td>\n      <td>5.60</td>\n      <td>5.60</td>\n      <td>0.0</td>\n    </tr>\n    <tr>\n      <th>47</th>\n      <td>2017-01-02 23:00:00</td>\n      <td>5.30</td>\n      <td>5.30</td>\n      <td>0.0</td>\n    </tr>\n    <tr>\n      <th>48</th>\n      <td>2017-01-03 00:00:00</td>\n      <td>5.00</td>\n      <td>5.00</td>\n      <td>0.0</td>\n    </tr>\n    <tr>\n      <th>49</th>\n      <td>2017-01-03 01:00:00</td>\n      <td>5.00</td>\n      <td>5.00</td>\n      <td>0.0</td>\n    </tr>\n  </tbody>\n</table>\n</div>"
     },
     "execution_count": 33,
     "metadata": {},
     "output_type": "execute_result"
    }
   ],
   "source": [],
   "metadata": {
    "collapsed": false,
    "pycharm": {
     "name": "#%%\n"
    }
   }
  },
  {
   "cell_type": "code",
   "execution_count": null,
   "outputs": [],
   "source": [],
   "metadata": {
    "collapsed": false,
    "pycharm": {
     "name": "#%%\n"
    }
   }
  }
 ],
 "metadata": {
  "kernelspec": {
   "display_name": "Python 3",
   "language": "python",
   "name": "python3"
  },
  "language_info": {
   "codemirror_mode": {
    "name": "ipython",
    "version": 3
   },
   "file_extension": ".py",
   "mimetype": "text/x-python",
   "name": "python",
   "nbconvert_exporter": "python",
   "pygments_lexer": "ipython3",
   "version": "3.8.5"
  }
 },
 "nbformat": 4,
 "nbformat_minor": 4
}