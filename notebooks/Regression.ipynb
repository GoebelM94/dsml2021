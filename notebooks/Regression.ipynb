{
 "cells": [
  {
   "cell_type": "code",
   "execution_count": 21,
   "metadata": {
    "collapsed": true
   },
   "outputs": [],
   "source": []
  },
  {
   "cell_type": "markdown",
   "source": [
    "## Imports\n",
    "\n",
    "Imports every library needed"
   ],
   "metadata": {
    "collapsed": false
   }
  },
  {
   "cell_type": "code",
   "execution_count": 22,
   "outputs": [],
   "source": [
    "#general imports\n",
    "import pandas as pd\n",
    "import numpy as np\n",
    "\n",
    "#statsmodels for regression\n",
    "import statsmodels.api as sm\n",
    "import statsmodels.formula.api as smf\n",
    "from statsmodels.iolib.summary2 import summary_col\n",
    "\n",
    "#scipy for testing\n",
    "from scipy import stats\n",
    "\n",
    "#for visualization\n",
    "import matplotlib.pyplot as plt\n",
    "import seaborn as sns\n",
    "\n",
    "from datetime import datetime"
   ],
   "metadata": {
    "collapsed": false,
    "pycharm": {
     "name": "#%%\n"
    }
   }
  },
  {
   "cell_type": "markdown",
   "source": [
    "## Importing the Bike Data\n",
    "\n",
    "Imports the normal Data needed for every KPI"
   ],
   "metadata": {
    "collapsed": false
   }
  },
  {
   "cell_type": "code",
   "execution_count": 24,
   "outputs": [],
   "source": [
    "df_bikes = pd.read_csv('../data/philadelphia_2017.csv')\n",
    "\n",
    "df_bikes[\"start_time\"] = pd.to_datetime(df_bikes[\"start_time\"], dayfirst = True)\n",
    "\n",
    "df_bikes[\"end_time\"] = pd.to_datetime(df_bikes[\"end_time\"], dayfirst = True)\n",
    "\n",
    "df_bikes['ride_duration_minutes'] = df_bikes['end_time'] - df_bikes['start_time']\n",
    "\n",
    "ride_lengths = []\n",
    "\n",
    "for label, content in df_bikes.iterrows():\n",
    "    ride_lengths.append(content[\"ride_duration_minutes\"])\n",
    "\n",
    "ride_lengths_np = np.array(ride_lengths)\n",
    "iqr = stats.iqr(ride_lengths_np)\n",
    "iqr\n",
    "\n",
    "q1,q3 = np.percentile(ride_lengths_np, [25,99.9])\n",
    "\n",
    "lower_range = q1 - (1.5*iqr)\n",
    "upper_range = q3 + (1.5*iqr)\n",
    "\n",
    "df_bikes.drop(df_bikes[ (df_bikes.ride_duration_minutes > upper_range) | (df_bikes.end_time > pd.to_datetime(\"2017-12-31 23:59:59\")) | (df_bikes.start_time > pd.to_datetime(\"2017-12-31 23:59:59\"))].index , inplace=True)"
   ],
   "metadata": {
    "collapsed": false,
    "pycharm": {
     "name": "#%%\n"
    }
   }
  },
  {
   "cell_type": "code",
   "execution_count": null,
   "outputs": [],
   "source": [],
   "metadata": {
    "collapsed": false,
    "pycharm": {
     "name": "#%%\n"
    }
   }
  },
  {
   "cell_type": "code",
   "execution_count": 25,
   "outputs": [],
   "source": [
    "df_weather = pd.read_csv('../data/weather_hourly_philadelphia.csv')"
   ],
   "metadata": {
    "collapsed": false,
    "pycharm": {
     "name": "#%%\n"
    }
   }
  },
  {
   "cell_type": "markdown",
   "source": [
    "Change type of \"date_time\" to datetime"
   ],
   "metadata": {
    "collapsed": false
   }
  },
  {
   "cell_type": "code",
   "execution_count": 26,
   "outputs": [],
   "source": [
    "df_weather[\"date_time\"] = pd.to_datetime(df_weather[\"date_time\"])"
   ],
   "metadata": {
    "collapsed": false,
    "pycharm": {
     "name": "#%%\n"
    }
   }
  },
  {
   "cell_type": "markdown",
   "source": [
    "Ordered weather data by date"
   ],
   "metadata": {
    "collapsed": false
   }
  },
  {
   "cell_type": "code",
   "execution_count": 27,
   "outputs": [],
   "source": [
    "df_weather = df_weather.sort_values(by=['date_time'])"
   ],
   "metadata": {
    "collapsed": false,
    "pycharm": {
     "name": "#%%\n"
    }
   }
  },
  {
   "cell_type": "markdown",
   "source": [
    "Deleted weather date which is not needed for Philadelphia 2017 (<2017 or >2017)"
   ],
   "metadata": {
    "collapsed": false
   }
  },
  {
   "cell_type": "code",
   "execution_count": 28,
   "outputs": [
    {
     "name": "stderr",
     "output_type": "stream",
     "text": [
      "<ipython-input-28-92eb66279140>:6: SettingWithCopyWarning: \n",
      "A value is trying to be set on a copy of a slice from a DataFrame.\n",
      "Try using .loc[row_indexer,col_indexer] = value instead\n",
      "\n",
      "See the caveats in the documentation: https://pandas.pydata.org/pandas-docs/stable/user_guide/indexing.html#returning-a-view-versus-a-copy\n",
      "  df_2017weather_unique['Order'] = np.arange(len(df_2017weather_unique))\n"
     ]
    }
   ],
   "source": [
    "start2017 = datetime(2016, 12, 31, 23)\n",
    "end2017 = datetime(2018, 1, 1)\n",
    "\n",
    "df_2017weather = df_weather[(df_weather[\"date_time\"] > start2017) & (df_weather[\"date_time\"] < end2017)]\n",
    "df_2017weather_unique = df_2017weather.drop_duplicates(subset='date_time')\n",
    "df_2017weather_unique['Order'] = np.arange(len(df_2017weather_unique))\n",
    "df_2017weather_unique = df_2017weather_unique.set_index('Order')"
   ],
   "metadata": {
    "collapsed": false,
    "pycharm": {
     "name": "#%%\n"
    }
   }
  },
  {
   "cell_type": "markdown",
   "source": [
    "Identify missing data and generate by using average data from former and following hour"
   ],
   "metadata": {
    "collapsed": false
   }
  },
  {
   "cell_type": "code",
   "execution_count": 30,
   "outputs": [],
   "source": [
    "for i in df_2017weather_unique.index:\n",
    "    if i == 8231:\n",
    "        pass\n",
    "    elif (df_2017weather_unique['date_time'][i] - df_2017weather_unique['date_time'][i+1]) != (df_2017weather_unique['date_time'][1] - df_2017weather_unique['date_time'][2]):\n",
    "        df_2017weather_support = {'date_time': (df_2017weather_unique['date_time'][i] + pd.DateOffset(hours=1)), 'max_temp': (df_2017weather_unique['max_temp'][i] + df_2017weather_unique['max_temp'][i+1])/2, 'min_temp': (df_2017weather_unique['max_temp'][i] + df_2017weather_unique['max_temp'][i+1])/2, 'precip': df_2017weather_unique['precip'][i]}\n",
    "        df_2017weather_unique = df_2017weather_unique.append(df_2017weather_support, ignore_index=True)"
   ],
   "metadata": {
    "collapsed": false,
    "pycharm": {
     "name": "#%%\n"
    }
   }
  },
  {
   "cell_type": "markdown",
   "source": [
    "New order by date, because we added new lines"
   ],
   "metadata": {
    "collapsed": false
   }
  },
  {
   "cell_type": "code",
   "execution_count": 31,
   "outputs": [],
   "source": [
    "df_2017weather_unique = df_2017weather_unique.sort_values(by=['date_time'])\n",
    "df_2017weather_unique['Order'] = np.arange(len(df_2017weather_unique))\n",
    "df_2017weather_unique = df_2017weather_unique.set_index('Order')"
   ],
   "metadata": {
    "collapsed": false,
    "pycharm": {
     "name": "#%%\n"
    }
   }
  },
  {
   "cell_type": "markdown",
   "source": [
    "Running the same code again because one line is missing"
   ],
   "metadata": {
    "collapsed": false
   }
  },
  {
   "cell_type": "code",
   "execution_count": 32,
   "outputs": [],
   "source": [
    "for i in df_2017weather_unique.index:\n",
    "    if i == 8758:\n",
    "        pass\n",
    "    elif (df_2017weather_unique['date_time'][i] - df_2017weather_unique['date_time'][i+1]) != (df_2017weather_unique['date_time'][1] - df_2017weather_unique['date_time'][2]):\n",
    "        df_2017weather_support = {'date_time': (df_2017weather_unique['date_time'][i] + pd.DateOffset(hours=1)), 'max_temp': (df_2017weather_unique['max_temp'][i] + df_2017weather_unique['max_temp'][i+1])/2, 'min_temp': (df_2017weather_unique['max_temp'][i] + df_2017weather_unique['max_temp'][i+1])/2, 'precip': df_2017weather_unique['precip'][i]}\n",
    "        df_2017weather_unique = df_2017weather_unique.append(df_2017weather_support, ignore_index=True)"
   ],
   "metadata": {
    "collapsed": false,
    "pycharm": {
     "name": "#%%\n"
    }
   }
  },
  {
   "cell_type": "markdown",
   "source": [
    "New order by date, because we added new lines"
   ],
   "metadata": {
    "collapsed": false
   }
  },
  {
   "cell_type": "code",
   "execution_count": 33,
   "outputs": [],
   "source": [
    "df_2017weather_unique = df_2017weather_unique.sort_values(by=['date_time'])\n",
    "df_2017weather_unique['Order'] = np.arange(len(df_2017weather_unique))\n",
    "df_2017weather_unique = df_2017weather_unique.set_index('Order')"
   ],
   "metadata": {
    "collapsed": false,
    "pycharm": {
     "name": "#%%\n"
    }
   }
  },
  {
   "cell_type": "markdown",
   "source": [
    "Check if data is complete by checking time difference of following"
   ],
   "metadata": {
    "collapsed": false
   }
  },
  {
   "cell_type": "code",
   "execution_count": 34,
   "outputs": [],
   "source": [
    "for i in df_2017weather_unique.index:\n",
    "    if i == 8759:\n",
    "        pass\n",
    "    elif (df_2017weather_unique['date_time'][i] - df_2017weather_unique['date_time'][i+1]) != (df_2017weather_unique['date_time'][1] - df_2017weather_unique['date_time'][2]):\n",
    "        df_2017weather_support = {'date_time': (df_2017weather_unique['date_time'][i] + pd.DateOffset(hours=1)), 'max_temp': (df_2017weather_unique['max_temp'][i] + df_2017weather_unique['max_temp'][i+1])/2, 'min_temp': (df_2017weather_unique['max_temp'][i] + df_2017weather_unique['max_temp'][i+1])/2, 'precip': df_2017weather_unique['precip'][i]}\n",
    "        df_2017weather_unique = df_2017weather_unique.append(df_2017weather_support, ignore_index=True)\n",
    "\n",
    "def would_be_rounded_up(num):\n",
    "    if round(num) == int(num) + 1:\n",
    "        return True\n",
    "    else:\n",
    "        return False\n",
    "\n",
    "def get_temperature(start_time, end_time):\n",
    "    duration_of_travel = end_time-start_time\n",
    "    average_timestamp = end_time - datetime.fromisoformat(\"2017-01-01 00:00:00\") - duration_of_travel/2\n",
    "    weather_row = average_timestamp.total_seconds()/3600\n",
    "    as_int = int(weather_row)\n",
    "    if(as_int < 8760):\n",
    "        result = (df_2017weather_unique[\"min_temp\"][as_int] + df_2017weather_unique[\"max_temp\"][as_int])/2\n",
    "        return result\n",
    "    else:\n",
    "        return pd.to_datetime(0)\n",
    "\n",
    "df_bikes[\"temperature\"] = df_bikes.apply(lambda x: get_temperature(x[\"start_time\"], x[\"end_time\"]), axis=1)"
   ],
   "metadata": {
    "collapsed": false,
    "pycharm": {
     "name": "#%%\n"
    }
   }
  },
  {
   "cell_type": "code",
   "execution_count": 41,
   "outputs": [
    {
     "data": {
      "text/plain": "                start_time            end_time  start_station_id  \\\n788884 2017-12-31 21:13:00 2017-12-31 21:29:00              3075   \n788886 2017-12-31 21:29:00 2017-12-31 21:52:00              3055   \n788887 2017-12-31 21:42:00 2017-12-31 22:05:00              3120   \n788888 2017-12-31 21:49:00 2017-12-31 21:50:00              3112   \n788889 2017-12-31 21:50:00 2017-12-31 21:51:00              3112   \n788890 2017-12-31 21:50:00 2017-12-31 22:01:00              3164   \n788891 2017-12-31 22:13:00 2017-12-31 22:23:00              3069   \n788892 2017-12-31 22:13:00 2017-12-31 22:19:00              3010   \n788893 2017-12-31 22:17:00 2017-12-31 23:17:00              3062   \n788894 2017-12-31 22:18:00 2017-12-31 22:41:00              3088   \n788895 2017-12-31 22:21:00 2017-12-31 22:29:00              3039   \n788896 2017-12-31 22:23:00 2017-12-31 22:34:00              3053   \n788897 2017-12-31 22:37:00 2017-12-31 23:13:00              3031   \n788898 2017-12-31 22:41:00 2017-12-31 22:59:00              3073   \n788899 2017-12-31 22:44:00 2017-12-31 22:56:00              3154   \n788900 2017-12-31 22:56:00 2017-12-31 22:59:00              3045   \n788902 2017-12-31 23:05:00 2017-12-31 23:33:00              3070   \n788904 2017-12-31 23:18:00 2017-12-31 23:25:00              3033   \n788905 2017-12-31 23:39:00 2017-12-31 23:40:00              3163   \n788906 2017-12-31 23:41:00 2017-12-31 23:55:00              3163   \n\n        end_station_id  bike_id user_type          start_station_name  \\\n788884            3075    11863   Walk-up           Fairmount & Ridge   \n788886            3110     3542   Walk-up                8th & Market   \n788887            3028    11039  Indego30               31st & Girard   \n788888            3112    11763   Walk-up               48th & Spruce   \n788889            3112    11763   Walk-up               48th & Spruce   \n788890            3007     5375  Indego30             12th & Passyunk   \n788891            3069     5229  Indego30             4th & Christian   \n788892            3012    11908  Indego30               15th & Spruce   \n788893            3062     3677  Indego30               24th & Sansom   \n788894            3121    11932  Indego30                3rd & Girard   \n788895            3036    11729  Indego30              Broad & Girard   \n788896            3063     3623  Indego30       Point Breeze & Tasker   \n788897            3031     3512  Indego30           13th & Montgomery   \n788898            3070     3708  Indego30         9th & Spring Garden   \n788899            3045     2686  Indego30           12th & Callowhill   \n788900            3052    11870  Indego30               13th & Locust   \n788902            3124     3708  Indego30  Spring Garden Station, MFL   \n788904            3046    11933  Indego30             10th & Chestnut   \n788905            3163     6725  Indego30               25th & Locust   \n788906            3057    11864  Indego30               25th & Locust   \n\n                   end_station_name ride_duration_minutes  temperature  \n788884            Fairmount & Ridge       0 days 00:16:00         -9.4  \n788886  Del. River Trail & Penn St.       0 days 00:23:00         -9.4  \n788887             4th & Bainbridge       0 days 00:23:00         -9.4  \n788888                48th & Spruce       0 days 00:01:00         -9.4  \n788889                48th & Spruce       0 days 00:01:00         -9.4  \n788890       11th & Pine, Kahn Park       0 days 00:11:00         -9.4  \n788891              4th & Christian       0 days 00:10:00        -10.0  \n788892             21st & Catharine       0 days 00:06:00        -10.0  \n788893                24th & Sansom       0 days 01:00:00        -10.0  \n788894                27th & Girard       0 days 00:23:00        -10.0  \n788895             2nd & Germantown       0 days 00:08:00        -10.0  \n788896                  17th & Pine       0 days 00:11:00        -10.0  \n788897            13th & Montgomery       0 days 00:36:00        -10.0  \n788898   Spring Garden Station, MFL       0 days 00:18:00        -10.0  \n788899                13th & Locust       0 days 00:12:00        -10.0  \n788900                 9th & Locust       0 days 00:03:00        -10.0  \n788902             Race Street Pier       0 days 00:28:00        -10.0  \n788904                 2nd & Market       0 days 00:07:00        -10.0  \n788905                25th & Locust       0 days 00:01:00        -10.0  \n788906   Philadelphia Museum of Art       0 days 00:14:00        -10.0  ",
      "text/html": "<div>\n<style scoped>\n    .dataframe tbody tr th:only-of-type {\n        vertical-align: middle;\n    }\n\n    .dataframe tbody tr th {\n        vertical-align: top;\n    }\n\n    .dataframe thead th {\n        text-align: right;\n    }\n</style>\n<table border=\"1\" class=\"dataframe\">\n  <thead>\n    <tr style=\"text-align: right;\">\n      <th></th>\n      <th>start_time</th>\n      <th>end_time</th>\n      <th>start_station_id</th>\n      <th>end_station_id</th>\n      <th>bike_id</th>\n      <th>user_type</th>\n      <th>start_station_name</th>\n      <th>end_station_name</th>\n      <th>ride_duration_minutes</th>\n      <th>temperature</th>\n    </tr>\n  </thead>\n  <tbody>\n    <tr>\n      <th>788884</th>\n      <td>2017-12-31 21:13:00</td>\n      <td>2017-12-31 21:29:00</td>\n      <td>3075</td>\n      <td>3075</td>\n      <td>11863</td>\n      <td>Walk-up</td>\n      <td>Fairmount &amp; Ridge</td>\n      <td>Fairmount &amp; Ridge</td>\n      <td>0 days 00:16:00</td>\n      <td>-9.4</td>\n    </tr>\n    <tr>\n      <th>788886</th>\n      <td>2017-12-31 21:29:00</td>\n      <td>2017-12-31 21:52:00</td>\n      <td>3055</td>\n      <td>3110</td>\n      <td>3542</td>\n      <td>Walk-up</td>\n      <td>8th &amp; Market</td>\n      <td>Del. River Trail &amp; Penn St.</td>\n      <td>0 days 00:23:00</td>\n      <td>-9.4</td>\n    </tr>\n    <tr>\n      <th>788887</th>\n      <td>2017-12-31 21:42:00</td>\n      <td>2017-12-31 22:05:00</td>\n      <td>3120</td>\n      <td>3028</td>\n      <td>11039</td>\n      <td>Indego30</td>\n      <td>31st &amp; Girard</td>\n      <td>4th &amp; Bainbridge</td>\n      <td>0 days 00:23:00</td>\n      <td>-9.4</td>\n    </tr>\n    <tr>\n      <th>788888</th>\n      <td>2017-12-31 21:49:00</td>\n      <td>2017-12-31 21:50:00</td>\n      <td>3112</td>\n      <td>3112</td>\n      <td>11763</td>\n      <td>Walk-up</td>\n      <td>48th &amp; Spruce</td>\n      <td>48th &amp; Spruce</td>\n      <td>0 days 00:01:00</td>\n      <td>-9.4</td>\n    </tr>\n    <tr>\n      <th>788889</th>\n      <td>2017-12-31 21:50:00</td>\n      <td>2017-12-31 21:51:00</td>\n      <td>3112</td>\n      <td>3112</td>\n      <td>11763</td>\n      <td>Walk-up</td>\n      <td>48th &amp; Spruce</td>\n      <td>48th &amp; Spruce</td>\n      <td>0 days 00:01:00</td>\n      <td>-9.4</td>\n    </tr>\n    <tr>\n      <th>788890</th>\n      <td>2017-12-31 21:50:00</td>\n      <td>2017-12-31 22:01:00</td>\n      <td>3164</td>\n      <td>3007</td>\n      <td>5375</td>\n      <td>Indego30</td>\n      <td>12th &amp; Passyunk</td>\n      <td>11th &amp; Pine, Kahn Park</td>\n      <td>0 days 00:11:00</td>\n      <td>-9.4</td>\n    </tr>\n    <tr>\n      <th>788891</th>\n      <td>2017-12-31 22:13:00</td>\n      <td>2017-12-31 22:23:00</td>\n      <td>3069</td>\n      <td>3069</td>\n      <td>5229</td>\n      <td>Indego30</td>\n      <td>4th &amp; Christian</td>\n      <td>4th &amp; Christian</td>\n      <td>0 days 00:10:00</td>\n      <td>-10.0</td>\n    </tr>\n    <tr>\n      <th>788892</th>\n      <td>2017-12-31 22:13:00</td>\n      <td>2017-12-31 22:19:00</td>\n      <td>3010</td>\n      <td>3012</td>\n      <td>11908</td>\n      <td>Indego30</td>\n      <td>15th &amp; Spruce</td>\n      <td>21st &amp; Catharine</td>\n      <td>0 days 00:06:00</td>\n      <td>-10.0</td>\n    </tr>\n    <tr>\n      <th>788893</th>\n      <td>2017-12-31 22:17:00</td>\n      <td>2017-12-31 23:17:00</td>\n      <td>3062</td>\n      <td>3062</td>\n      <td>3677</td>\n      <td>Indego30</td>\n      <td>24th &amp; Sansom</td>\n      <td>24th &amp; Sansom</td>\n      <td>0 days 01:00:00</td>\n      <td>-10.0</td>\n    </tr>\n    <tr>\n      <th>788894</th>\n      <td>2017-12-31 22:18:00</td>\n      <td>2017-12-31 22:41:00</td>\n      <td>3088</td>\n      <td>3121</td>\n      <td>11932</td>\n      <td>Indego30</td>\n      <td>3rd &amp; Girard</td>\n      <td>27th &amp; Girard</td>\n      <td>0 days 00:23:00</td>\n      <td>-10.0</td>\n    </tr>\n    <tr>\n      <th>788895</th>\n      <td>2017-12-31 22:21:00</td>\n      <td>2017-12-31 22:29:00</td>\n      <td>3039</td>\n      <td>3036</td>\n      <td>11729</td>\n      <td>Indego30</td>\n      <td>Broad &amp; Girard</td>\n      <td>2nd &amp; Germantown</td>\n      <td>0 days 00:08:00</td>\n      <td>-10.0</td>\n    </tr>\n    <tr>\n      <th>788896</th>\n      <td>2017-12-31 22:23:00</td>\n      <td>2017-12-31 22:34:00</td>\n      <td>3053</td>\n      <td>3063</td>\n      <td>3623</td>\n      <td>Indego30</td>\n      <td>Point Breeze &amp; Tasker</td>\n      <td>17th &amp; Pine</td>\n      <td>0 days 00:11:00</td>\n      <td>-10.0</td>\n    </tr>\n    <tr>\n      <th>788897</th>\n      <td>2017-12-31 22:37:00</td>\n      <td>2017-12-31 23:13:00</td>\n      <td>3031</td>\n      <td>3031</td>\n      <td>3512</td>\n      <td>Indego30</td>\n      <td>13th &amp; Montgomery</td>\n      <td>13th &amp; Montgomery</td>\n      <td>0 days 00:36:00</td>\n      <td>-10.0</td>\n    </tr>\n    <tr>\n      <th>788898</th>\n      <td>2017-12-31 22:41:00</td>\n      <td>2017-12-31 22:59:00</td>\n      <td>3073</td>\n      <td>3070</td>\n      <td>3708</td>\n      <td>Indego30</td>\n      <td>9th &amp; Spring Garden</td>\n      <td>Spring Garden Station, MFL</td>\n      <td>0 days 00:18:00</td>\n      <td>-10.0</td>\n    </tr>\n    <tr>\n      <th>788899</th>\n      <td>2017-12-31 22:44:00</td>\n      <td>2017-12-31 22:56:00</td>\n      <td>3154</td>\n      <td>3045</td>\n      <td>2686</td>\n      <td>Indego30</td>\n      <td>12th &amp; Callowhill</td>\n      <td>13th &amp; Locust</td>\n      <td>0 days 00:12:00</td>\n      <td>-10.0</td>\n    </tr>\n    <tr>\n      <th>788900</th>\n      <td>2017-12-31 22:56:00</td>\n      <td>2017-12-31 22:59:00</td>\n      <td>3045</td>\n      <td>3052</td>\n      <td>11870</td>\n      <td>Indego30</td>\n      <td>13th &amp; Locust</td>\n      <td>9th &amp; Locust</td>\n      <td>0 days 00:03:00</td>\n      <td>-10.0</td>\n    </tr>\n    <tr>\n      <th>788902</th>\n      <td>2017-12-31 23:05:00</td>\n      <td>2017-12-31 23:33:00</td>\n      <td>3070</td>\n      <td>3124</td>\n      <td>3708</td>\n      <td>Indego30</td>\n      <td>Spring Garden Station, MFL</td>\n      <td>Race Street Pier</td>\n      <td>0 days 00:28:00</td>\n      <td>-10.0</td>\n    </tr>\n    <tr>\n      <th>788904</th>\n      <td>2017-12-31 23:18:00</td>\n      <td>2017-12-31 23:25:00</td>\n      <td>3033</td>\n      <td>3046</td>\n      <td>11933</td>\n      <td>Indego30</td>\n      <td>10th &amp; Chestnut</td>\n      <td>2nd &amp; Market</td>\n      <td>0 days 00:07:00</td>\n      <td>-10.0</td>\n    </tr>\n    <tr>\n      <th>788905</th>\n      <td>2017-12-31 23:39:00</td>\n      <td>2017-12-31 23:40:00</td>\n      <td>3163</td>\n      <td>3163</td>\n      <td>6725</td>\n      <td>Indego30</td>\n      <td>25th &amp; Locust</td>\n      <td>25th &amp; Locust</td>\n      <td>0 days 00:01:00</td>\n      <td>-10.0</td>\n    </tr>\n    <tr>\n      <th>788906</th>\n      <td>2017-12-31 23:41:00</td>\n      <td>2017-12-31 23:55:00</td>\n      <td>3163</td>\n      <td>3057</td>\n      <td>11864</td>\n      <td>Indego30</td>\n      <td>25th &amp; Locust</td>\n      <td>Philadelphia Museum of Art</td>\n      <td>0 days 00:14:00</td>\n      <td>-10.0</td>\n    </tr>\n  </tbody>\n</table>\n</div>"
     },
     "execution_count": 41,
     "metadata": {},
     "output_type": "execute_result"
    }
   ],
   "source": [
    "df_bikes.tail(20)"
   ],
   "metadata": {
    "collapsed": false,
    "pycharm": {
     "name": "#%%\n"
    }
   }
  },
  {
   "cell_type": "code",
   "execution_count": 39,
   "outputs": [
    {
     "data": {
      "text/plain": "                date_time  max_temp  min_temp  precip\nOrder                                                \n8755  2017-12-31 19:00:00      -8.9      -8.9     0.0\n8756  2017-12-31 20:00:00      -8.9      -8.9     0.0\n8757  2017-12-31 21:00:00      -9.4      -9.4     0.0\n8758  2017-12-31 22:00:00     -10.0     -10.0     0.0\n8759  2017-12-31 23:00:00     -10.0     -10.0     0.0",
      "text/html": "<div>\n<style scoped>\n    .dataframe tbody tr th:only-of-type {\n        vertical-align: middle;\n    }\n\n    .dataframe tbody tr th {\n        vertical-align: top;\n    }\n\n    .dataframe thead th {\n        text-align: right;\n    }\n</style>\n<table border=\"1\" class=\"dataframe\">\n  <thead>\n    <tr style=\"text-align: right;\">\n      <th></th>\n      <th>date_time</th>\n      <th>max_temp</th>\n      <th>min_temp</th>\n      <th>precip</th>\n    </tr>\n    <tr>\n      <th>Order</th>\n      <th></th>\n      <th></th>\n      <th></th>\n      <th></th>\n    </tr>\n  </thead>\n  <tbody>\n    <tr>\n      <th>8755</th>\n      <td>2017-12-31 19:00:00</td>\n      <td>-8.9</td>\n      <td>-8.9</td>\n      <td>0.0</td>\n    </tr>\n    <tr>\n      <th>8756</th>\n      <td>2017-12-31 20:00:00</td>\n      <td>-8.9</td>\n      <td>-8.9</td>\n      <td>0.0</td>\n    </tr>\n    <tr>\n      <th>8757</th>\n      <td>2017-12-31 21:00:00</td>\n      <td>-9.4</td>\n      <td>-9.4</td>\n      <td>0.0</td>\n    </tr>\n    <tr>\n      <th>8758</th>\n      <td>2017-12-31 22:00:00</td>\n      <td>-10.0</td>\n      <td>-10.0</td>\n      <td>0.0</td>\n    </tr>\n    <tr>\n      <th>8759</th>\n      <td>2017-12-31 23:00:00</td>\n      <td>-10.0</td>\n      <td>-10.0</td>\n      <td>0.0</td>\n    </tr>\n  </tbody>\n</table>\n</div>"
     },
     "execution_count": 39,
     "metadata": {},
     "output_type": "execute_result"
    }
   ],
   "source": [
    "df_2017weather_unique.tail(5)"
   ],
   "metadata": {
    "collapsed": false,
    "pycharm": {
     "name": "#%%\n"
    }
   }
  }
 ],
 "metadata": {
  "kernelspec": {
   "display_name": "Python 3",
   "language": "python",
   "name": "python3"
  },
  "language_info": {
   "codemirror_mode": {
    "name": "ipython",
    "version": 2
   },
   "file_extension": ".py",
   "mimetype": "text/x-python",
   "name": "python",
   "nbconvert_exporter": "python",
   "pygments_lexer": "ipython2",
   "version": "2.7.6"
  }
 },
 "nbformat": 4,
 "nbformat_minor": 0
}