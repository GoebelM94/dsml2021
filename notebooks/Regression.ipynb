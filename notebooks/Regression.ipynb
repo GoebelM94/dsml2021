{
 "cells": [
  {
   "cell_type": "markdown",
   "source": [
    "## Imports\n",
    "\n",
    "Imports every library needed"
   ],
   "metadata": {
    "collapsed": false
   }
  },
  {
   "cell_type": "code",
   "execution_count": 125,
   "outputs": [],
   "source": [
    "#general imports\n",
    "import pandas as pd\n",
    "import numpy as np\n",
    "\n",
    "#statsmodels for regression\n",
    "import statsmodels.api as sm\n",
    "import statsmodels.formula.api as smf\n",
    "from statsmodels.iolib.summary2 import summary_col\n",
    "\n",
    "#scipy for testing\n",
    "from scipy import stats\n",
    "\n",
    "#for visualization\n",
    "import matplotlib.pyplot as plt\n",
    "import seaborn as sns\n",
    "\n",
    "from datetime import datetime"
   ],
   "metadata": {
    "collapsed": false,
    "pycharm": {
     "name": "#%%\n"
    }
   }
  },
  {
   "cell_type": "markdown",
   "source": [
    "## Importing the Bike Data\n",
    "\n",
    "Imports the normal Data needed for every KPI"
   ],
   "metadata": {
    "collapsed": false
   }
  },
  {
   "cell_type": "code",
   "execution_count": 126,
   "outputs": [],
   "source": [
    "df_bikes = pd.read_csv('../data/philadelphia_2017.csv')\n",
    "\n",
    "df_bikes[\"start_time\"] = pd.to_datetime(df_bikes[\"start_time\"], dayfirst = True)\n",
    "\n",
    "df_bikes[\"end_time\"] = pd.to_datetime(df_bikes[\"end_time\"], dayfirst = True)\n",
    "\n",
    "df_bikes['ride_duration_minutes'] = df_bikes['end_time'] - df_bikes['start_time']\n",
    "\n",
    "ride_lengths = []\n",
    "\n",
    "for label, content in df_bikes.iterrows():\n",
    "    ride_lengths.append(content[\"ride_duration_minutes\"])\n",
    "\n",
    "ride_lengths_np = np.array(ride_lengths)\n",
    "iqr = stats.iqr(ride_lengths_np)\n",
    "\n",
    "q1,q3 = np.percentile(ride_lengths_np, [25,99.9])\n",
    "\n",
    "upper_range = q3 + (1.5*iqr)\n",
    "\n",
    "df_bikes.drop(df_bikes[ (df_bikes.ride_duration_minutes > upper_range) | (df_bikes.end_time > pd.to_datetime(\"2017-12-31 23:59:59\")) | (df_bikes.start_time > pd.to_datetime(\"2017-12-31 23:59:59\")) | (df_bikes.ride_duration_minutes < pd.to_timedelta(0))].index , inplace=True)"
   ],
   "metadata": {
    "collapsed": false,
    "pycharm": {
     "name": "#%%\n"
    }
   }
  },
  {
   "cell_type": "code",
   "execution_count": 127,
   "outputs": [],
   "source": [
    "df_weather = pd.read_csv('../data/weather_hourly_philadelphia.csv')"
   ],
   "metadata": {
    "collapsed": false,
    "pycharm": {
     "name": "#%%\n"
    }
   }
  },
  {
   "cell_type": "markdown",
   "source": [
    "Change type of \"date_time\" to datetime"
   ],
   "metadata": {
    "collapsed": false
   }
  },
  {
   "cell_type": "code",
   "execution_count": 128,
   "outputs": [],
   "source": [
    "df_weather[\"date_time\"] = pd.to_datetime(df_weather[\"date_time\"])"
   ],
   "metadata": {
    "collapsed": false,
    "pycharm": {
     "name": "#%%\n"
    }
   }
  },
  {
   "cell_type": "markdown",
   "source": [
    "Ordered weather data by date"
   ],
   "metadata": {
    "collapsed": false
   }
  },
  {
   "cell_type": "code",
   "execution_count": 129,
   "outputs": [],
   "source": [
    "df_weather = df_weather.sort_values(by=['date_time'])"
   ],
   "metadata": {
    "collapsed": false,
    "pycharm": {
     "name": "#%%\n"
    }
   }
  },
  {
   "cell_type": "markdown",
   "source": [
    "Deleted weather date which is not needed for Philadelphia 2017 (<2017 or >2017)"
   ],
   "metadata": {
    "collapsed": false
   }
  },
  {
   "cell_type": "code",
   "execution_count": 130,
   "outputs": [
    {
     "name": "stderr",
     "output_type": "stream",
     "text": [
      "<ipython-input-130-92eb66279140>:6: SettingWithCopyWarning: \n",
      "A value is trying to be set on a copy of a slice from a DataFrame.\n",
      "Try using .loc[row_indexer,col_indexer] = value instead\n",
      "\n",
      "See the caveats in the documentation: https://pandas.pydata.org/pandas-docs/stable/user_guide/indexing.html#returning-a-view-versus-a-copy\n",
      "  df_2017weather_unique['Order'] = np.arange(len(df_2017weather_unique))\n"
     ]
    }
   ],
   "source": [
    "start2017 = datetime(2016, 12, 31, 23)\n",
    "end2017 = datetime(2018, 1, 1)\n",
    "\n",
    "df_2017weather = df_weather[(df_weather[\"date_time\"] > start2017) & (df_weather[\"date_time\"] < end2017)]\n",
    "df_2017weather_unique = df_2017weather.drop_duplicates(subset='date_time')\n",
    "df_2017weather_unique['Order'] = np.arange(len(df_2017weather_unique))\n",
    "df_2017weather_unique = df_2017weather_unique.set_index('Order')"
   ],
   "metadata": {
    "collapsed": false,
    "pycharm": {
     "name": "#%%\n"
    }
   }
  },
  {
   "cell_type": "markdown",
   "source": [
    "Identify missing data and generate by using average data from former and following hour"
   ],
   "metadata": {
    "collapsed": false
   }
  },
  {
   "cell_type": "code",
   "execution_count": 131,
   "outputs": [],
   "source": [
    "for i in df_2017weather_unique.index:\n",
    "    if i == 8231:\n",
    "        pass\n",
    "    elif (df_2017weather_unique['date_time'][i] - df_2017weather_unique['date_time'][i+1]) != (df_2017weather_unique['date_time'][1] - df_2017weather_unique['date_time'][2]):\n",
    "        df_2017weather_support = {'date_time': (df_2017weather_unique['date_time'][i] + pd.DateOffset(hours=1)), 'max_temp': (df_2017weather_unique['max_temp'][i] + df_2017weather_unique['max_temp'][i+1])/2, 'min_temp': (df_2017weather_unique['max_temp'][i] + df_2017weather_unique['max_temp'][i+1])/2, 'precip': df_2017weather_unique['precip'][i]}\n",
    "        df_2017weather_unique = df_2017weather_unique.append(df_2017weather_support, ignore_index=True)"
   ],
   "metadata": {
    "collapsed": false,
    "pycharm": {
     "name": "#%%\n"
    }
   }
  },
  {
   "cell_type": "markdown",
   "source": [
    "New order by date, because we added new lines"
   ],
   "metadata": {
    "collapsed": false
   }
  },
  {
   "cell_type": "code",
   "execution_count": 132,
   "outputs": [],
   "source": [
    "df_2017weather_unique = df_2017weather_unique.sort_values(by=['date_time'])\n",
    "df_2017weather_unique['Order'] = np.arange(len(df_2017weather_unique))\n",
    "df_2017weather_unique = df_2017weather_unique.set_index('Order')"
   ],
   "metadata": {
    "collapsed": false,
    "pycharm": {
     "name": "#%%\n"
    }
   }
  },
  {
   "cell_type": "markdown",
   "source": [
    "Running the same code again because one line is missing"
   ],
   "metadata": {
    "collapsed": false
   }
  },
  {
   "cell_type": "code",
   "execution_count": 133,
   "outputs": [],
   "source": [
    "for i in df_2017weather_unique.index:\n",
    "    if i == 8758:\n",
    "        pass\n",
    "    elif (df_2017weather_unique['date_time'][i] - df_2017weather_unique['date_time'][i+1]) != (df_2017weather_unique['date_time'][1] - df_2017weather_unique['date_time'][2]):\n",
    "        df_2017weather_support = {'date_time': (df_2017weather_unique['date_time'][i] + pd.DateOffset(hours=1)), 'max_temp': (df_2017weather_unique['max_temp'][i] + df_2017weather_unique['max_temp'][i+1])/2, 'min_temp': (df_2017weather_unique['max_temp'][i] + df_2017weather_unique['max_temp'][i+1])/2, 'precip': df_2017weather_unique['precip'][i]}\n",
    "        df_2017weather_unique = df_2017weather_unique.append(df_2017weather_support, ignore_index=True)"
   ],
   "metadata": {
    "collapsed": false,
    "pycharm": {
     "name": "#%%\n"
    }
   }
  },
  {
   "cell_type": "markdown",
   "source": [
    "New order by date, because we added new lines"
   ],
   "metadata": {
    "collapsed": false
   }
  },
  {
   "cell_type": "code",
   "execution_count": 134,
   "outputs": [
    {
     "data": {
      "text/plain": "                date_time  max_temp  min_temp  precip\nOrder                                                \n0     2017-01-01 00:00:00       6.1       6.1     0.0\n1     2017-01-01 01:00:00       6.1       6.1     0.0\n2     2017-01-01 02:00:00       6.7       6.7     0.0\n3     2017-01-01 03:00:00       7.2       7.2     0.0\n4     2017-01-01 04:00:00       7.8       7.8     0.0",
      "text/html": "<div>\n<style scoped>\n    .dataframe tbody tr th:only-of-type {\n        vertical-align: middle;\n    }\n\n    .dataframe tbody tr th {\n        vertical-align: top;\n    }\n\n    .dataframe thead th {\n        text-align: right;\n    }\n</style>\n<table border=\"1\" class=\"dataframe\">\n  <thead>\n    <tr style=\"text-align: right;\">\n      <th></th>\n      <th>date_time</th>\n      <th>max_temp</th>\n      <th>min_temp</th>\n      <th>precip</th>\n    </tr>\n    <tr>\n      <th>Order</th>\n      <th></th>\n      <th></th>\n      <th></th>\n      <th></th>\n    </tr>\n  </thead>\n  <tbody>\n    <tr>\n      <th>0</th>\n      <td>2017-01-01 00:00:00</td>\n      <td>6.1</td>\n      <td>6.1</td>\n      <td>0.0</td>\n    </tr>\n    <tr>\n      <th>1</th>\n      <td>2017-01-01 01:00:00</td>\n      <td>6.1</td>\n      <td>6.1</td>\n      <td>0.0</td>\n    </tr>\n    <tr>\n      <th>2</th>\n      <td>2017-01-01 02:00:00</td>\n      <td>6.7</td>\n      <td>6.7</td>\n      <td>0.0</td>\n    </tr>\n    <tr>\n      <th>3</th>\n      <td>2017-01-01 03:00:00</td>\n      <td>7.2</td>\n      <td>7.2</td>\n      <td>0.0</td>\n    </tr>\n    <tr>\n      <th>4</th>\n      <td>2017-01-01 04:00:00</td>\n      <td>7.8</td>\n      <td>7.8</td>\n      <td>0.0</td>\n    </tr>\n  </tbody>\n</table>\n</div>"
     },
     "execution_count": 134,
     "metadata": {},
     "output_type": "execute_result"
    }
   ],
   "source": [
    "df_2017weather_unique = df_2017weather_unique.sort_values(by=['date_time'])\n",
    "df_2017weather_unique['Order'] = np.arange(len(df_2017weather_unique))\n",
    "df_2017weather_unique = df_2017weather_unique.set_index('Order')\n",
    "df_2017weather_unique.head()"
   ],
   "metadata": {
    "collapsed": false,
    "pycharm": {
     "name": "#%%\n"
    }
   }
  },
  {
   "cell_type": "markdown",
   "source": [
    "Check if data is complete by checking time difference of following"
   ],
   "metadata": {
    "collapsed": false
   }
  },
  {
   "cell_type": "code",
   "execution_count": 135,
   "outputs": [],
   "source": [
    "for i in df_2017weather_unique.index:\n",
    "    if i == 8759:\n",
    "        pass\n",
    "    elif (df_2017weather_unique['date_time'][i] - df_2017weather_unique['date_time'][i+1]) != (df_2017weather_unique['date_time'][1] - df_2017weather_unique['date_time'][2]):\n",
    "        df_2017weather_support = {'date_time': (df_2017weather_unique['date_time'][i] + pd.DateOffset(hours=1)), 'max_temp': (df_2017weather_unique['max_temp'][i] + df_2017weather_unique['max_temp'][i+1])/2, 'min_temp': (df_2017weather_unique['max_temp'][i] + df_2017weather_unique['max_temp'][i+1])/2, 'precip': df_2017weather_unique['precip'][i]}\n",
    "        df_2017weather_unique = df_2017weather_unique.append(df_2017weather_support, ignore_index=True)\n",
    "\n",
    "def would_be_rounded_up(num):\n",
    "    if round(num) == int(num) + 1:\n",
    "        return True\n",
    "    else:\n",
    "        return False\n",
    "\n",
    "def get_precip(start_time, end_time):\n",
    "    return df_2017weather_unique[\"precip\"][get_weather_df_row(start_time, end_time)]\n",
    "\n",
    "def get_temperature(start_time, end_time):\n",
    "    row = get_weather_df_row(start_time, end_time)\n",
    "    return (df_2017weather_unique[\"min_temp\"][row] + df_2017weather_unique[\"max_temp\"][row])/2\n",
    "\n",
    "def get_weather_df_row(start_time, end_time):\n",
    "    duration_of_travel = end_time-start_time\n",
    "    average_timestamp = end_time - datetime.fromisoformat(\"2017-01-01 00:00:00\") - duration_of_travel/2\n",
    "    weather_row = average_timestamp.total_seconds()/3600\n",
    "    return int(weather_row)\n",
    "\n",
    "df_bikes[\"temperature\"] = df_bikes.apply(lambda x: get_temperature(x[\"start_time\"], x[\"end_time\"]), axis=1)\n",
    "df_bikes[\"precip\"] = df_bikes.apply(lambda x: get_precip(x[\"start_time\"],x[\"end_time\"]), axis=1)"
   ],
   "metadata": {
    "collapsed": false,
    "pycharm": {
     "name": "#%%\n"
    }
   }
  },
  {
   "cell_type": "code",
   "execution_count": 136,
   "outputs": [
    {
     "data": {
      "text/plain": "                start_time            end_time  start_station_id  \\\n788900 2017-12-31 22:56:00 2017-12-31 22:59:00              3045   \n788902 2017-12-31 23:05:00 2017-12-31 23:33:00              3070   \n788904 2017-12-31 23:18:00 2017-12-31 23:25:00              3033   \n788905 2017-12-31 23:39:00 2017-12-31 23:40:00              3163   \n788906 2017-12-31 23:41:00 2017-12-31 23:55:00              3163   \n\n        end_station_id  bike_id user_type          start_station_name  \\\n788900            3052    11870  Indego30               13th & Locust   \n788902            3124     3708  Indego30  Spring Garden Station, MFL   \n788904            3046    11933  Indego30             10th & Chestnut   \n788905            3163     6725  Indego30               25th & Locust   \n788906            3057    11864  Indego30               25th & Locust   \n\n                  end_station_name ride_duration_minutes  temperature  precip  \n788900                9th & Locust       0 days 00:03:00        -10.0     0.0  \n788902            Race Street Pier       0 days 00:28:00        -10.0     0.0  \n788904                2nd & Market       0 days 00:07:00        -10.0     0.0  \n788905               25th & Locust       0 days 00:01:00        -10.0     0.0  \n788906  Philadelphia Museum of Art       0 days 00:14:00        -10.0     0.0  ",
      "text/html": "<div>\n<style scoped>\n    .dataframe tbody tr th:only-of-type {\n        vertical-align: middle;\n    }\n\n    .dataframe tbody tr th {\n        vertical-align: top;\n    }\n\n    .dataframe thead th {\n        text-align: right;\n    }\n</style>\n<table border=\"1\" class=\"dataframe\">\n  <thead>\n    <tr style=\"text-align: right;\">\n      <th></th>\n      <th>start_time</th>\n      <th>end_time</th>\n      <th>start_station_id</th>\n      <th>end_station_id</th>\n      <th>bike_id</th>\n      <th>user_type</th>\n      <th>start_station_name</th>\n      <th>end_station_name</th>\n      <th>ride_duration_minutes</th>\n      <th>temperature</th>\n      <th>precip</th>\n    </tr>\n  </thead>\n  <tbody>\n    <tr>\n      <th>788900</th>\n      <td>2017-12-31 22:56:00</td>\n      <td>2017-12-31 22:59:00</td>\n      <td>3045</td>\n      <td>3052</td>\n      <td>11870</td>\n      <td>Indego30</td>\n      <td>13th &amp; Locust</td>\n      <td>9th &amp; Locust</td>\n      <td>0 days 00:03:00</td>\n      <td>-10.0</td>\n      <td>0.0</td>\n    </tr>\n    <tr>\n      <th>788902</th>\n      <td>2017-12-31 23:05:00</td>\n      <td>2017-12-31 23:33:00</td>\n      <td>3070</td>\n      <td>3124</td>\n      <td>3708</td>\n      <td>Indego30</td>\n      <td>Spring Garden Station, MFL</td>\n      <td>Race Street Pier</td>\n      <td>0 days 00:28:00</td>\n      <td>-10.0</td>\n      <td>0.0</td>\n    </tr>\n    <tr>\n      <th>788904</th>\n      <td>2017-12-31 23:18:00</td>\n      <td>2017-12-31 23:25:00</td>\n      <td>3033</td>\n      <td>3046</td>\n      <td>11933</td>\n      <td>Indego30</td>\n      <td>10th &amp; Chestnut</td>\n      <td>2nd &amp; Market</td>\n      <td>0 days 00:07:00</td>\n      <td>-10.0</td>\n      <td>0.0</td>\n    </tr>\n    <tr>\n      <th>788905</th>\n      <td>2017-12-31 23:39:00</td>\n      <td>2017-12-31 23:40:00</td>\n      <td>3163</td>\n      <td>3163</td>\n      <td>6725</td>\n      <td>Indego30</td>\n      <td>25th &amp; Locust</td>\n      <td>25th &amp; Locust</td>\n      <td>0 days 00:01:00</td>\n      <td>-10.0</td>\n      <td>0.0</td>\n    </tr>\n    <tr>\n      <th>788906</th>\n      <td>2017-12-31 23:41:00</td>\n      <td>2017-12-31 23:55:00</td>\n      <td>3163</td>\n      <td>3057</td>\n      <td>11864</td>\n      <td>Indego30</td>\n      <td>25th &amp; Locust</td>\n      <td>Philadelphia Museum of Art</td>\n      <td>0 days 00:14:00</td>\n      <td>-10.0</td>\n      <td>0.0</td>\n    </tr>\n  </tbody>\n</table>\n</div>"
     },
     "execution_count": 136,
     "metadata": {},
     "output_type": "execute_result"
    }
   ],
   "source": [
    "df_bikes.tail(5)"
   ],
   "metadata": {
    "collapsed": false,
    "pycharm": {
     "name": "#%%\n"
    }
   }
  },
  {
   "cell_type": "code",
   "execution_count": 137,
   "outputs": [
    {
     "data": {
      "text/plain": "                date_time  max_temp  min_temp  precip\nOrder                                                \n8755  2017-12-31 19:00:00      -8.9      -8.9     0.0\n8756  2017-12-31 20:00:00      -8.9      -8.9     0.0\n8757  2017-12-31 21:00:00      -9.4      -9.4     0.0\n8758  2017-12-31 22:00:00     -10.0     -10.0     0.0\n8759  2017-12-31 23:00:00     -10.0     -10.0     0.0",
      "text/html": "<div>\n<style scoped>\n    .dataframe tbody tr th:only-of-type {\n        vertical-align: middle;\n    }\n\n    .dataframe tbody tr th {\n        vertical-align: top;\n    }\n\n    .dataframe thead th {\n        text-align: right;\n    }\n</style>\n<table border=\"1\" class=\"dataframe\">\n  <thead>\n    <tr style=\"text-align: right;\">\n      <th></th>\n      <th>date_time</th>\n      <th>max_temp</th>\n      <th>min_temp</th>\n      <th>precip</th>\n    </tr>\n    <tr>\n      <th>Order</th>\n      <th></th>\n      <th></th>\n      <th></th>\n      <th></th>\n    </tr>\n  </thead>\n  <tbody>\n    <tr>\n      <th>8755</th>\n      <td>2017-12-31 19:00:00</td>\n      <td>-8.9</td>\n      <td>-8.9</td>\n      <td>0.0</td>\n    </tr>\n    <tr>\n      <th>8756</th>\n      <td>2017-12-31 20:00:00</td>\n      <td>-8.9</td>\n      <td>-8.9</td>\n      <td>0.0</td>\n    </tr>\n    <tr>\n      <th>8757</th>\n      <td>2017-12-31 21:00:00</td>\n      <td>-9.4</td>\n      <td>-9.4</td>\n      <td>0.0</td>\n    </tr>\n    <tr>\n      <th>8758</th>\n      <td>2017-12-31 22:00:00</td>\n      <td>-10.0</td>\n      <td>-10.0</td>\n      <td>0.0</td>\n    </tr>\n    <tr>\n      <th>8759</th>\n      <td>2017-12-31 23:00:00</td>\n      <td>-10.0</td>\n      <td>-10.0</td>\n      <td>0.0</td>\n    </tr>\n  </tbody>\n</table>\n</div>"
     },
     "execution_count": 137,
     "metadata": {},
     "output_type": "execute_result"
    }
   ],
   "source": [
    "df_2017weather_unique.tail(5)"
   ],
   "metadata": {
    "collapsed": false,
    "pycharm": {
     "name": "#%%\n"
    }
   }
  },
  {
   "cell_type": "markdown",
   "source": [
    "# Regressions\n",
    "\n",
    "Now we are doing regressions"
   ],
   "metadata": {
    "collapsed": false,
    "pycharm": {
     "name": "#%% md\n"
    }
   }
  },
  {
   "cell_type": "markdown",
   "source": [
    "1. linear regression: amount of loan bikes for one entire day and if the day is weekday or not\n",
    "\n",
    "For this we are creating a new dataframe to get the daily total amount of loan bikes"
   ],
   "metadata": {
    "collapsed": false,
    "pycharm": {
     "name": "#%% md\n"
    }
   }
  },
  {
   "cell_type": "code",
   "execution_count": 138,
   "outputs": [
    {
     "name": "stdout",
     "output_type": "stream",
     "text": [
      "[datetime.datetime(2017, 1, 1, 0, 0), datetime.datetime(2017, 1, 2, 0, 0), datetime.datetime(2017, 1, 3, 0, 0), datetime.datetime(2017, 1, 4, 0, 0), datetime.datetime(2017, 1, 5, 0, 0), datetime.datetime(2017, 1, 6, 0, 0), datetime.datetime(2017, 1, 7, 0, 0), datetime.datetime(2017, 1, 8, 0, 0), datetime.datetime(2017, 1, 9, 0, 0), datetime.datetime(2017, 1, 10, 0, 0), datetime.datetime(2017, 1, 11, 0, 0), datetime.datetime(2017, 1, 12, 0, 0), datetime.datetime(2017, 1, 13, 0, 0), datetime.datetime(2017, 1, 14, 0, 0), datetime.datetime(2017, 1, 15, 0, 0), datetime.datetime(2017, 1, 16, 0, 0), datetime.datetime(2017, 1, 17, 0, 0), datetime.datetime(2017, 1, 18, 0, 0), datetime.datetime(2017, 1, 19, 0, 0), datetime.datetime(2017, 1, 20, 0, 0), datetime.datetime(2017, 1, 21, 0, 0), datetime.datetime(2017, 1, 22, 0, 0), datetime.datetime(2017, 1, 23, 0, 0), datetime.datetime(2017, 1, 24, 0, 0), datetime.datetime(2017, 1, 25, 0, 0), datetime.datetime(2017, 1, 26, 0, 0), datetime.datetime(2017, 1, 27, 0, 0), datetime.datetime(2017, 1, 28, 0, 0), datetime.datetime(2017, 1, 29, 0, 0), datetime.datetime(2017, 1, 30, 0, 0), datetime.datetime(2017, 1, 31, 0, 0), datetime.datetime(2017, 2, 1, 0, 0), datetime.datetime(2017, 2, 2, 0, 0), datetime.datetime(2017, 2, 3, 0, 0), datetime.datetime(2017, 2, 4, 0, 0), datetime.datetime(2017, 2, 5, 0, 0), datetime.datetime(2017, 2, 6, 0, 0), datetime.datetime(2017, 2, 7, 0, 0), datetime.datetime(2017, 2, 8, 0, 0), datetime.datetime(2017, 2, 9, 0, 0), datetime.datetime(2017, 2, 10, 0, 0), datetime.datetime(2017, 2, 11, 0, 0), datetime.datetime(2017, 2, 12, 0, 0), datetime.datetime(2017, 2, 13, 0, 0), datetime.datetime(2017, 2, 14, 0, 0), datetime.datetime(2017, 2, 15, 0, 0), datetime.datetime(2017, 2, 16, 0, 0), datetime.datetime(2017, 2, 17, 0, 0), datetime.datetime(2017, 2, 18, 0, 0), datetime.datetime(2017, 2, 19, 0, 0), datetime.datetime(2017, 2, 20, 0, 0), datetime.datetime(2017, 2, 21, 0, 0), datetime.datetime(2017, 2, 22, 0, 0), datetime.datetime(2017, 2, 23, 0, 0), datetime.datetime(2017, 2, 24, 0, 0), datetime.datetime(2017, 2, 25, 0, 0), datetime.datetime(2017, 2, 26, 0, 0), datetime.datetime(2017, 2, 27, 0, 0), datetime.datetime(2017, 2, 28, 0, 0), datetime.datetime(2017, 3, 1, 0, 0), datetime.datetime(2017, 3, 2, 0, 0), datetime.datetime(2017, 3, 3, 0, 0), datetime.datetime(2017, 3, 4, 0, 0), datetime.datetime(2017, 3, 5, 0, 0), datetime.datetime(2017, 3, 6, 0, 0), datetime.datetime(2017, 3, 7, 0, 0), datetime.datetime(2017, 3, 8, 0, 0), datetime.datetime(2017, 3, 9, 0, 0), datetime.datetime(2017, 3, 10, 0, 0), datetime.datetime(2017, 3, 11, 0, 0), datetime.datetime(2017, 3, 12, 0, 0), datetime.datetime(2017, 3, 13, 0, 0), datetime.datetime(2017, 3, 14, 0, 0), datetime.datetime(2017, 3, 15, 0, 0), datetime.datetime(2017, 3, 16, 0, 0), datetime.datetime(2017, 3, 17, 0, 0), datetime.datetime(2017, 3, 18, 0, 0), datetime.datetime(2017, 3, 19, 0, 0), datetime.datetime(2017, 3, 20, 0, 0), datetime.datetime(2017, 3, 21, 0, 0), datetime.datetime(2017, 3, 22, 0, 0), datetime.datetime(2017, 3, 23, 0, 0), datetime.datetime(2017, 3, 24, 0, 0), datetime.datetime(2017, 3, 25, 0, 0), datetime.datetime(2017, 3, 26, 0, 0), datetime.datetime(2017, 3, 27, 0, 0), datetime.datetime(2017, 3, 28, 0, 0), datetime.datetime(2017, 3, 29, 0, 0), datetime.datetime(2017, 3, 30, 0, 0), datetime.datetime(2017, 3, 31, 0, 0), datetime.datetime(2017, 4, 1, 0, 0), datetime.datetime(2017, 4, 2, 0, 0), datetime.datetime(2017, 4, 3, 0, 0), datetime.datetime(2017, 4, 4, 0, 0), datetime.datetime(2017, 4, 5, 0, 0), datetime.datetime(2017, 4, 6, 0, 0), datetime.datetime(2017, 4, 7, 0, 0), datetime.datetime(2017, 4, 8, 0, 0), datetime.datetime(2017, 4, 9, 0, 0), datetime.datetime(2017, 4, 10, 0, 0), datetime.datetime(2017, 4, 11, 0, 0), datetime.datetime(2017, 4, 12, 0, 0), datetime.datetime(2017, 4, 13, 0, 0), datetime.datetime(2017, 4, 14, 0, 0), datetime.datetime(2017, 4, 15, 0, 0), datetime.datetime(2017, 4, 16, 0, 0), datetime.datetime(2017, 4, 17, 0, 0), datetime.datetime(2017, 4, 18, 0, 0), datetime.datetime(2017, 4, 19, 0, 0), datetime.datetime(2017, 4, 20, 0, 0), datetime.datetime(2017, 4, 21, 0, 0), datetime.datetime(2017, 4, 22, 0, 0), datetime.datetime(2017, 4, 23, 0, 0), datetime.datetime(2017, 4, 24, 0, 0), datetime.datetime(2017, 4, 25, 0, 0), datetime.datetime(2017, 4, 26, 0, 0), datetime.datetime(2017, 4, 27, 0, 0), datetime.datetime(2017, 4, 28, 0, 0), datetime.datetime(2017, 4, 29, 0, 0), datetime.datetime(2017, 4, 30, 0, 0), datetime.datetime(2017, 5, 1, 0, 0), datetime.datetime(2017, 5, 2, 0, 0), datetime.datetime(2017, 5, 3, 0, 0), datetime.datetime(2017, 5, 4, 0, 0), datetime.datetime(2017, 5, 5, 0, 0), datetime.datetime(2017, 5, 6, 0, 0), datetime.datetime(2017, 5, 7, 0, 0), datetime.datetime(2017, 5, 8, 0, 0), datetime.datetime(2017, 5, 9, 0, 0), datetime.datetime(2017, 5, 10, 0, 0), datetime.datetime(2017, 5, 11, 0, 0), datetime.datetime(2017, 5, 12, 0, 0), datetime.datetime(2017, 5, 13, 0, 0), datetime.datetime(2017, 5, 14, 0, 0), datetime.datetime(2017, 5, 15, 0, 0), datetime.datetime(2017, 5, 16, 0, 0), datetime.datetime(2017, 5, 17, 0, 0), datetime.datetime(2017, 5, 18, 0, 0), datetime.datetime(2017, 5, 19, 0, 0), datetime.datetime(2017, 5, 20, 0, 0), datetime.datetime(2017, 5, 21, 0, 0), datetime.datetime(2017, 5, 22, 0, 0), datetime.datetime(2017, 5, 23, 0, 0), datetime.datetime(2017, 5, 24, 0, 0), datetime.datetime(2017, 5, 25, 0, 0), datetime.datetime(2017, 5, 26, 0, 0), datetime.datetime(2017, 5, 27, 0, 0), datetime.datetime(2017, 5, 28, 0, 0), datetime.datetime(2017, 5, 29, 0, 0), datetime.datetime(2017, 5, 30, 0, 0), datetime.datetime(2017, 5, 31, 0, 0), datetime.datetime(2017, 6, 1, 0, 0), datetime.datetime(2017, 6, 2, 0, 0), datetime.datetime(2017, 6, 3, 0, 0), datetime.datetime(2017, 6, 4, 0, 0), datetime.datetime(2017, 6, 5, 0, 0), datetime.datetime(2017, 6, 6, 0, 0), datetime.datetime(2017, 6, 7, 0, 0), datetime.datetime(2017, 6, 8, 0, 0), datetime.datetime(2017, 6, 9, 0, 0), datetime.datetime(2017, 6, 10, 0, 0), datetime.datetime(2017, 6, 11, 0, 0), datetime.datetime(2017, 6, 12, 0, 0), datetime.datetime(2017, 6, 13, 0, 0), datetime.datetime(2017, 6, 14, 0, 0), datetime.datetime(2017, 6, 15, 0, 0), datetime.datetime(2017, 6, 16, 0, 0), datetime.datetime(2017, 6, 17, 0, 0), datetime.datetime(2017, 6, 18, 0, 0), datetime.datetime(2017, 6, 19, 0, 0), datetime.datetime(2017, 6, 20, 0, 0), datetime.datetime(2017, 6, 21, 0, 0), datetime.datetime(2017, 6, 22, 0, 0), datetime.datetime(2017, 6, 23, 0, 0), datetime.datetime(2017, 6, 24, 0, 0), datetime.datetime(2017, 6, 25, 0, 0), datetime.datetime(2017, 6, 26, 0, 0), datetime.datetime(2017, 6, 27, 0, 0), datetime.datetime(2017, 6, 28, 0, 0), datetime.datetime(2017, 6, 29, 0, 0), datetime.datetime(2017, 6, 30, 0, 0), datetime.datetime(2017, 7, 1, 0, 0), datetime.datetime(2017, 7, 2, 0, 0), datetime.datetime(2017, 7, 3, 0, 0), datetime.datetime(2017, 7, 4, 0, 0), datetime.datetime(2017, 7, 5, 0, 0), datetime.datetime(2017, 7, 6, 0, 0), datetime.datetime(2017, 7, 7, 0, 0), datetime.datetime(2017, 7, 8, 0, 0), datetime.datetime(2017, 7, 9, 0, 0), datetime.datetime(2017, 7, 10, 0, 0), datetime.datetime(2017, 7, 11, 0, 0), datetime.datetime(2017, 7, 12, 0, 0), datetime.datetime(2017, 7, 13, 0, 0), datetime.datetime(2017, 7, 14, 0, 0), datetime.datetime(2017, 7, 15, 0, 0), datetime.datetime(2017, 7, 16, 0, 0), datetime.datetime(2017, 7, 17, 0, 0), datetime.datetime(2017, 7, 18, 0, 0), datetime.datetime(2017, 7, 19, 0, 0), datetime.datetime(2017, 7, 20, 0, 0), datetime.datetime(2017, 7, 21, 0, 0), datetime.datetime(2017, 7, 22, 0, 0), datetime.datetime(2017, 7, 23, 0, 0), datetime.datetime(2017, 7, 24, 0, 0), datetime.datetime(2017, 7, 25, 0, 0), datetime.datetime(2017, 7, 26, 0, 0), datetime.datetime(2017, 7, 27, 0, 0), datetime.datetime(2017, 7, 28, 0, 0), datetime.datetime(2017, 7, 29, 0, 0), datetime.datetime(2017, 7, 30, 0, 0), datetime.datetime(2017, 7, 31, 0, 0), datetime.datetime(2017, 8, 1, 0, 0), datetime.datetime(2017, 8, 2, 0, 0), datetime.datetime(2017, 8, 3, 0, 0), datetime.datetime(2017, 8, 4, 0, 0), datetime.datetime(2017, 8, 5, 0, 0), datetime.datetime(2017, 8, 6, 0, 0), datetime.datetime(2017, 8, 7, 0, 0), datetime.datetime(2017, 8, 8, 0, 0), datetime.datetime(2017, 8, 9, 0, 0), datetime.datetime(2017, 8, 10, 0, 0), datetime.datetime(2017, 8, 11, 0, 0), datetime.datetime(2017, 8, 12, 0, 0), datetime.datetime(2017, 8, 13, 0, 0), datetime.datetime(2017, 8, 14, 0, 0), datetime.datetime(2017, 8, 15, 0, 0), datetime.datetime(2017, 8, 16, 0, 0), datetime.datetime(2017, 8, 17, 0, 0), datetime.datetime(2017, 8, 18, 0, 0), datetime.datetime(2017, 8, 19, 0, 0), datetime.datetime(2017, 8, 20, 0, 0), datetime.datetime(2017, 8, 21, 0, 0), datetime.datetime(2017, 8, 22, 0, 0), datetime.datetime(2017, 8, 23, 0, 0), datetime.datetime(2017, 8, 24, 0, 0), datetime.datetime(2017, 8, 25, 0, 0), datetime.datetime(2017, 8, 26, 0, 0), datetime.datetime(2017, 8, 27, 0, 0), datetime.datetime(2017, 8, 28, 0, 0), datetime.datetime(2017, 8, 29, 0, 0), datetime.datetime(2017, 8, 30, 0, 0), datetime.datetime(2017, 8, 31, 0, 0), datetime.datetime(2017, 9, 1, 0, 0), datetime.datetime(2017, 9, 2, 0, 0), datetime.datetime(2017, 9, 3, 0, 0), datetime.datetime(2017, 9, 4, 0, 0), datetime.datetime(2017, 9, 5, 0, 0), datetime.datetime(2017, 9, 6, 0, 0), datetime.datetime(2017, 9, 7, 0, 0), datetime.datetime(2017, 9, 8, 0, 0), datetime.datetime(2017, 9, 9, 0, 0), datetime.datetime(2017, 9, 10, 0, 0), datetime.datetime(2017, 9, 11, 0, 0), datetime.datetime(2017, 9, 12, 0, 0), datetime.datetime(2017, 9, 13, 0, 0), datetime.datetime(2017, 9, 14, 0, 0), datetime.datetime(2017, 9, 15, 0, 0), datetime.datetime(2017, 9, 16, 0, 0), datetime.datetime(2017, 9, 17, 0, 0), datetime.datetime(2017, 9, 18, 0, 0), datetime.datetime(2017, 9, 19, 0, 0), datetime.datetime(2017, 9, 20, 0, 0), datetime.datetime(2017, 9, 21, 0, 0), datetime.datetime(2017, 9, 22, 0, 0), datetime.datetime(2017, 9, 23, 0, 0), datetime.datetime(2017, 9, 24, 0, 0), datetime.datetime(2017, 9, 25, 0, 0), datetime.datetime(2017, 9, 26, 0, 0), datetime.datetime(2017, 9, 27, 0, 0), datetime.datetime(2017, 9, 28, 0, 0), datetime.datetime(2017, 9, 29, 0, 0), datetime.datetime(2017, 9, 30, 0, 0), datetime.datetime(2017, 10, 1, 0, 0), datetime.datetime(2017, 10, 2, 0, 0), datetime.datetime(2017, 10, 3, 0, 0), datetime.datetime(2017, 10, 4, 0, 0), datetime.datetime(2017, 10, 5, 0, 0), datetime.datetime(2017, 10, 6, 0, 0), datetime.datetime(2017, 10, 7, 0, 0), datetime.datetime(2017, 10, 8, 0, 0), datetime.datetime(2017, 10, 9, 0, 0), datetime.datetime(2017, 10, 10, 0, 0), datetime.datetime(2017, 10, 11, 0, 0), datetime.datetime(2017, 10, 12, 0, 0), datetime.datetime(2017, 10, 13, 0, 0), datetime.datetime(2017, 10, 14, 0, 0), datetime.datetime(2017, 10, 15, 0, 0), datetime.datetime(2017, 10, 16, 0, 0), datetime.datetime(2017, 10, 17, 0, 0), datetime.datetime(2017, 10, 18, 0, 0), datetime.datetime(2017, 10, 19, 0, 0), datetime.datetime(2017, 10, 20, 0, 0), datetime.datetime(2017, 10, 21, 0, 0), datetime.datetime(2017, 10, 22, 0, 0), datetime.datetime(2017, 10, 23, 0, 0), datetime.datetime(2017, 10, 24, 0, 0), datetime.datetime(2017, 10, 25, 0, 0), datetime.datetime(2017, 10, 26, 0, 0), datetime.datetime(2017, 10, 27, 0, 0), datetime.datetime(2017, 10, 28, 0, 0), datetime.datetime(2017, 10, 29, 0, 0), datetime.datetime(2017, 10, 30, 0, 0), datetime.datetime(2017, 10, 31, 0, 0), datetime.datetime(2017, 11, 1, 0, 0), datetime.datetime(2017, 11, 2, 0, 0), datetime.datetime(2017, 11, 3, 0, 0), datetime.datetime(2017, 11, 4, 0, 0), datetime.datetime(2017, 11, 5, 0, 0), datetime.datetime(2017, 11, 6, 0, 0), datetime.datetime(2017, 11, 7, 0, 0), datetime.datetime(2017, 11, 8, 0, 0), datetime.datetime(2017, 11, 9, 0, 0), datetime.datetime(2017, 11, 10, 0, 0), datetime.datetime(2017, 11, 11, 0, 0), datetime.datetime(2017, 11, 12, 0, 0), datetime.datetime(2017, 11, 13, 0, 0), datetime.datetime(2017, 11, 14, 0, 0), datetime.datetime(2017, 11, 15, 0, 0), datetime.datetime(2017, 11, 16, 0, 0), datetime.datetime(2017, 11, 17, 0, 0), datetime.datetime(2017, 11, 18, 0, 0), datetime.datetime(2017, 11, 19, 0, 0), datetime.datetime(2017, 11, 20, 0, 0), datetime.datetime(2017, 11, 21, 0, 0), datetime.datetime(2017, 11, 22, 0, 0), datetime.datetime(2017, 11, 23, 0, 0), datetime.datetime(2017, 11, 24, 0, 0), datetime.datetime(2017, 11, 25, 0, 0), datetime.datetime(2017, 11, 26, 0, 0), datetime.datetime(2017, 11, 27, 0, 0), datetime.datetime(2017, 11, 28, 0, 0), datetime.datetime(2017, 11, 29, 0, 0), datetime.datetime(2017, 11, 30, 0, 0), datetime.datetime(2017, 12, 1, 0, 0), datetime.datetime(2017, 12, 2, 0, 0), datetime.datetime(2017, 12, 3, 0, 0), datetime.datetime(2017, 12, 4, 0, 0), datetime.datetime(2017, 12, 5, 0, 0), datetime.datetime(2017, 12, 6, 0, 0), datetime.datetime(2017, 12, 7, 0, 0), datetime.datetime(2017, 12, 8, 0, 0), datetime.datetime(2017, 12, 9, 0, 0), datetime.datetime(2017, 12, 10, 0, 0), datetime.datetime(2017, 12, 11, 0, 0), datetime.datetime(2017, 12, 12, 0, 0), datetime.datetime(2017, 12, 13, 0, 0), datetime.datetime(2017, 12, 14, 0, 0), datetime.datetime(2017, 12, 15, 0, 0), datetime.datetime(2017, 12, 16, 0, 0), datetime.datetime(2017, 12, 17, 0, 0), datetime.datetime(2017, 12, 18, 0, 0), datetime.datetime(2017, 12, 19, 0, 0), datetime.datetime(2017, 12, 20, 0, 0), datetime.datetime(2017, 12, 21, 0, 0), datetime.datetime(2017, 12, 22, 0, 0), datetime.datetime(2017, 12, 23, 0, 0), datetime.datetime(2017, 12, 24, 0, 0), datetime.datetime(2017, 12, 25, 0, 0), datetime.datetime(2017, 12, 26, 0, 0), datetime.datetime(2017, 12, 27, 0, 0), datetime.datetime(2017, 12, 28, 0, 0), datetime.datetime(2017, 12, 29, 0, 0), datetime.datetime(2017, 12, 30, 0, 0), datetime.datetime(2017, 12, 31, 0, 0)]\n"
     ]
    },
    {
     "data": {
      "text/plain": "0     2017-01-01\n1     2017-01-02\n2     2017-01-03\n3     2017-01-04\n4     2017-01-05\n         ...    \n360   2017-12-27\n361   2017-12-28\n362   2017-12-29\n363   2017-12-30\n364   2017-12-31\nLength: 365, dtype: datetime64[ns]"
     },
     "execution_count": 138,
     "metadata": {},
     "output_type": "execute_result"
    }
   ],
   "source": [
    "from datetime import timedelta\n",
    "\n",
    "# array containing all dates of the year\n",
    "start_2017 = datetime(2017, 1, 1)\n",
    "add_day = timedelta(days = 1)\n",
    "\n",
    "days_2017 = []\n",
    "\n",
    "for i in range(0, 365):\n",
    "    days_2017.append(start_2017)\n",
    "    start_2017 += add_day\n",
    "\n",
    "print(days_2017)\n",
    "\n",
    "days = range(0, 365)\n",
    "days_Series = pd.Series(days_2017, index=days)\n",
    "days_Series"
   ],
   "metadata": {
    "collapsed": false,
    "pycharm": {
     "name": "#%%\n"
    }
   }
  },
  {
   "cell_type": "code",
   "execution_count": 139,
   "outputs": [
    {
     "data": {
      "text/plain": "          date  weekday  is_weekday  loans\n360 2017-12-27        2           1    637\n361 2017-12-28        3           1    566\n362 2017-12-29        4           1    566\n363 2017-12-30        5           0    204\n364 2017-12-31        6           0    241",
      "text/html": "<div>\n<style scoped>\n    .dataframe tbody tr th:only-of-type {\n        vertical-align: middle;\n    }\n\n    .dataframe tbody tr th {\n        vertical-align: top;\n    }\n\n    .dataframe thead th {\n        text-align: right;\n    }\n</style>\n<table border=\"1\" class=\"dataframe\">\n  <thead>\n    <tr style=\"text-align: right;\">\n      <th></th>\n      <th>date</th>\n      <th>weekday</th>\n      <th>is_weekday</th>\n      <th>loans</th>\n    </tr>\n  </thead>\n  <tbody>\n    <tr>\n      <th>360</th>\n      <td>2017-12-27</td>\n      <td>2</td>\n      <td>1</td>\n      <td>637</td>\n    </tr>\n    <tr>\n      <th>361</th>\n      <td>2017-12-28</td>\n      <td>3</td>\n      <td>1</td>\n      <td>566</td>\n    </tr>\n    <tr>\n      <th>362</th>\n      <td>2017-12-29</td>\n      <td>4</td>\n      <td>1</td>\n      <td>566</td>\n    </tr>\n    <tr>\n      <th>363</th>\n      <td>2017-12-30</td>\n      <td>5</td>\n      <td>0</td>\n      <td>204</td>\n    </tr>\n    <tr>\n      <th>364</th>\n      <td>2017-12-31</td>\n      <td>6</td>\n      <td>0</td>\n      <td>241</td>\n    </tr>\n  </tbody>\n</table>\n</div>"
     },
     "execution_count": 139,
     "metadata": {},
     "output_type": "execute_result"
    }
   ],
   "source": [
    "#checks whether the weekday is a day in the week(1) or in weekend(0)\n",
    "def is_weekday(day):\n",
    "    if day == 5 or day == 6:\n",
    "        return 0\n",
    "    else:\n",
    "        return 1\n",
    "\n",
    "\n",
    "#sums up all loans for one entire day in 2017\n",
    "def loans_per_day(month, day):\n",
    "    day_in_2017_start = datetime(2017, month, day, 0, 0)\n",
    "    day_in_2017_end = datetime(2017, month, day, 23, 59)\n",
    "    df_day_start = df_bikes[df_bikes[\"start_time\"] >= day_in_2017_start]\n",
    "    df_day_end = df_day_start[df_day_start[\"start_time\"] <= day_in_2017_end]\n",
    "    return len(df_day_end)\n",
    "\n",
    "\n",
    "lin_reg_bikes_df = pd.DataFrame({'date': pd.concat([days_Series])},\n",
    "                                index=range(0, 365),\n",
    "                                columns=['date'])\n",
    "\n",
    "lin_reg_bikes_df['weekday'] = lin_reg_bikes_df['date'].apply(lambda x: x.weekday())\n",
    "lin_reg_bikes_df['is_weekday'] = lin_reg_bikes_df['weekday'].apply(lambda x: is_weekday(x))\n",
    "lin_reg_bikes_df['loans'] = lin_reg_bikes_df['date'].apply(lambda x: loans_per_day(x.month, x.day))\n",
    "\n",
    "\n",
    "lin_reg_bikes_df.tail()\n"
   ],
   "metadata": {
    "collapsed": false,
    "pycharm": {
     "name": "#%%\n"
    }
   }
  },
  {
   "cell_type": "code",
   "execution_count": 140,
   "outputs": [
    {
     "data": {
      "text/plain": "5"
     },
     "execution_count": 140,
     "metadata": {},
     "output_type": "execute_result"
    }
   ],
   "source": [
    "#sums up all rain hours for one entire day in 2017\n",
    "def rain_hours(month, day):\n",
    "    day_in_2017_start = datetime(2017, month, day, 0, 0)\n",
    "    day_in_2017_end = datetime(2017, month, day, 23, 59)\n",
    "    df_rain_day_start = df_2017weather_unique[df_2017weather_unique['date_time'] >= day_in_2017_start]\n",
    "    df_rain_day_end = df_rain_day_start[df_rain_day_start['date_time'] <= day_in_2017_end]\n",
    "\n",
    "    rain =  sum(1 for i in df_rain_day_end['precip'] if i == 1)\n",
    "\n",
    "    return rain\n",
    "\n",
    "#test\n",
    "rain_hours(3, 7)"
   ],
   "metadata": {
    "collapsed": false,
    "pycharm": {
     "name": "#%%\n"
    }
   }
  },
  {
   "cell_type": "code",
   "execution_count": 141,
   "outputs": [
    {
     "data": {
      "text/plain": "        date  weekday  is_weekday  loans  precip_hours\n0 2017-01-01        6           0    856             0\n1 2017-01-02        0           1   1510            12\n2 2017-01-03        1           1   1854             9\n3 2017-01-04        2           1      0             2\n4 2017-01-05        3           1      0             0",
      "text/html": "<div>\n<style scoped>\n    .dataframe tbody tr th:only-of-type {\n        vertical-align: middle;\n    }\n\n    .dataframe tbody tr th {\n        vertical-align: top;\n    }\n\n    .dataframe thead th {\n        text-align: right;\n    }\n</style>\n<table border=\"1\" class=\"dataframe\">\n  <thead>\n    <tr style=\"text-align: right;\">\n      <th></th>\n      <th>date</th>\n      <th>weekday</th>\n      <th>is_weekday</th>\n      <th>loans</th>\n      <th>precip_hours</th>\n    </tr>\n  </thead>\n  <tbody>\n    <tr>\n      <th>0</th>\n      <td>2017-01-01</td>\n      <td>6</td>\n      <td>0</td>\n      <td>856</td>\n      <td>0</td>\n    </tr>\n    <tr>\n      <th>1</th>\n      <td>2017-01-02</td>\n      <td>0</td>\n      <td>1</td>\n      <td>1510</td>\n      <td>12</td>\n    </tr>\n    <tr>\n      <th>2</th>\n      <td>2017-01-03</td>\n      <td>1</td>\n      <td>1</td>\n      <td>1854</td>\n      <td>9</td>\n    </tr>\n    <tr>\n      <th>3</th>\n      <td>2017-01-04</td>\n      <td>2</td>\n      <td>1</td>\n      <td>0</td>\n      <td>2</td>\n    </tr>\n    <tr>\n      <th>4</th>\n      <td>2017-01-05</td>\n      <td>3</td>\n      <td>1</td>\n      <td>0</td>\n      <td>0</td>\n    </tr>\n  </tbody>\n</table>\n</div>"
     },
     "execution_count": 141,
     "metadata": {},
     "output_type": "execute_result"
    }
   ],
   "source": [
    "lin_reg_bikes_df['precip_hours'] = lin_reg_bikes_df['date'].apply(lambda x: rain_hours(x.month, x.day))\n",
    "lin_reg_bikes_df.head()"
   ],
   "metadata": {
    "collapsed": false,
    "pycharm": {
     "name": "#%%\n"
    }
   }
  },
  {
   "cell_type": "code",
   "execution_count": 142,
   "outputs": [],
   "source": [
    "#lin_reg_bikes_df._set_value(3, 'loans', 100)\n",
    "#lin_reg_bikes_df.head()\n"
   ],
   "metadata": {
    "collapsed": false,
    "pycharm": {
     "name": "#%%\n"
    }
   }
  },
  {
   "cell_type": "code",
   "execution_count": 143,
   "outputs": [
    {
     "data": {
      "text/plain": "         date  weekday  is_weekday  loans  precip_hours\n0  2017-01-01        6           0    856             0\n1  2017-01-02        0           1   1510            12\n2  2017-01-03        1           1   1854             9\n3  2017-01-04        2           1   1535             2\n4  2017-01-05        3           1   1565             0\n5  2017-01-06        4           1   1313            11\n6  2017-01-07        5           0    913             9\n7  2017-01-08        6           0    756             0\n8  2017-01-09        0           1   1021             0\n9  2017-01-10        1           1   1330             0\n10 2017-01-11        2           1   1585             2\n11 2017-01-12        3           1   1519             3\n12 2017-01-13        4           1   1397             0\n13 2017-01-14        5           0    621             4\n14 2017-01-15        6           0    772             3",
      "text/html": "<div>\n<style scoped>\n    .dataframe tbody tr th:only-of-type {\n        vertical-align: middle;\n    }\n\n    .dataframe tbody tr th {\n        vertical-align: top;\n    }\n\n    .dataframe thead th {\n        text-align: right;\n    }\n</style>\n<table border=\"1\" class=\"dataframe\">\n  <thead>\n    <tr style=\"text-align: right;\">\n      <th></th>\n      <th>date</th>\n      <th>weekday</th>\n      <th>is_weekday</th>\n      <th>loans</th>\n      <th>precip_hours</th>\n    </tr>\n  </thead>\n  <tbody>\n    <tr>\n      <th>0</th>\n      <td>2017-01-01</td>\n      <td>6</td>\n      <td>0</td>\n      <td>856</td>\n      <td>0</td>\n    </tr>\n    <tr>\n      <th>1</th>\n      <td>2017-01-02</td>\n      <td>0</td>\n      <td>1</td>\n      <td>1510</td>\n      <td>12</td>\n    </tr>\n    <tr>\n      <th>2</th>\n      <td>2017-01-03</td>\n      <td>1</td>\n      <td>1</td>\n      <td>1854</td>\n      <td>9</td>\n    </tr>\n    <tr>\n      <th>3</th>\n      <td>2017-01-04</td>\n      <td>2</td>\n      <td>1</td>\n      <td>1535</td>\n      <td>2</td>\n    </tr>\n    <tr>\n      <th>4</th>\n      <td>2017-01-05</td>\n      <td>3</td>\n      <td>1</td>\n      <td>1565</td>\n      <td>0</td>\n    </tr>\n    <tr>\n      <th>5</th>\n      <td>2017-01-06</td>\n      <td>4</td>\n      <td>1</td>\n      <td>1313</td>\n      <td>11</td>\n    </tr>\n    <tr>\n      <th>6</th>\n      <td>2017-01-07</td>\n      <td>5</td>\n      <td>0</td>\n      <td>913</td>\n      <td>9</td>\n    </tr>\n    <tr>\n      <th>7</th>\n      <td>2017-01-08</td>\n      <td>6</td>\n      <td>0</td>\n      <td>756</td>\n      <td>0</td>\n    </tr>\n    <tr>\n      <th>8</th>\n      <td>2017-01-09</td>\n      <td>0</td>\n      <td>1</td>\n      <td>1021</td>\n      <td>0</td>\n    </tr>\n    <tr>\n      <th>9</th>\n      <td>2017-01-10</td>\n      <td>1</td>\n      <td>1</td>\n      <td>1330</td>\n      <td>0</td>\n    </tr>\n    <tr>\n      <th>10</th>\n      <td>2017-01-11</td>\n      <td>2</td>\n      <td>1</td>\n      <td>1585</td>\n      <td>2</td>\n    </tr>\n    <tr>\n      <th>11</th>\n      <td>2017-01-12</td>\n      <td>3</td>\n      <td>1</td>\n      <td>1519</td>\n      <td>3</td>\n    </tr>\n    <tr>\n      <th>12</th>\n      <td>2017-01-13</td>\n      <td>4</td>\n      <td>1</td>\n      <td>1397</td>\n      <td>0</td>\n    </tr>\n    <tr>\n      <th>13</th>\n      <td>2017-01-14</td>\n      <td>5</td>\n      <td>0</td>\n      <td>621</td>\n      <td>4</td>\n    </tr>\n    <tr>\n      <th>14</th>\n      <td>2017-01-15</td>\n      <td>6</td>\n      <td>0</td>\n      <td>772</td>\n      <td>3</td>\n    </tr>\n  </tbody>\n</table>\n</div>"
     },
     "execution_count": 143,
     "metadata": {},
     "output_type": "execute_result"
    }
   ],
   "source": [
    "#fill the 0 value 'loans' rows for january, february and march in 2017\n",
    "\n",
    "# Build the mean of the 2 previous and the 2 following weekdays (e. g. the missing day is a wednesday\n",
    "# so calculate the loans based on the previous and following wednesday loans).\n",
    "# If there are not enough previous or following days we calculate with the remaining data so that\n",
    "# there are at least 2 days to orientate on.\n",
    "\n",
    "def mean_loans_2_days(d):\n",
    "    temp = (lin_reg_bikes_df.iloc[d+7]['loans'] + lin_reg_bikes_df.iloc[d+14]['loans']) /2\n",
    "    return temp\n",
    "\n",
    "def mean_loans_4_days(d):\n",
    "    temp = (lin_reg_bikes_df.iloc[d-7]['loans'] + lin_reg_bikes_df.iloc[d-14]['loans'] + lin_reg_bikes_df.iloc[d+7]['loans'] + lin_reg_bikes_df.iloc[d+14]['loans']) /4\n",
    "    return temp\n",
    "\n",
    "# Fill the missing leans for january 4th-12th\n",
    "# We start with the 12th because so we can use the following data. If we would start with 4th\n",
    "# there would be more uncertainty because we habe no data for 2016 and no data till january 12th 2017.\n",
    "\n",
    "lin_reg_bikes_df._set_value(11, 'loans', mean_loans_2_days(11))\n",
    "lin_reg_bikes_df._set_value(10, 'loans', mean_loans_2_days(10))\n",
    "lin_reg_bikes_df._set_value(9, 'loans', ((lin_reg_bikes_df.iloc[2]['loans'] + lin_reg_bikes_df.iloc[16]['loans'] + lin_reg_bikes_df.iloc[23]['loans']) /3))\n",
    "lin_reg_bikes_df._set_value(8, 'loans', ((lin_reg_bikes_df.iloc[1]['loans'] + lin_reg_bikes_df.iloc[15]['loans'] + lin_reg_bikes_df.iloc[22]['loans']) /3))\n",
    "lin_reg_bikes_df._set_value(7, 'loans', ((lin_reg_bikes_df.iloc[0]['loans'] + lin_reg_bikes_df.iloc[14]['loans'] + lin_reg_bikes_df.iloc[21]['loans']) /3))\n",
    "lin_reg_bikes_df._set_value(6, 'loans', mean_loans_2_days(6))\n",
    "lin_reg_bikes_df._set_value(5, 'loans', mean_loans_2_days(5))\n",
    "lin_reg_bikes_df._set_value(4, 'loans', mean_loans_2_days(4))\n",
    "lin_reg_bikes_df._set_value(3, 'loans', mean_loans_2_days(3))\n",
    "\n",
    "\n",
    "# The same procedure for february 4th-12th\n",
    "# For the first two days we have no data for the following week so we use the loans 7 and 14 days ago and 14\n",
    "# days in the future. For the remaining missing loans data in february then we can use the 2 previous and 2\n",
    "# following weekdays.\n",
    "\n",
    "lin_reg_bikes_df._set_value(34, 'loans', ((lin_reg_bikes_df.iloc[20]['loans'] + lin_reg_bikes_df.iloc[27]['loans'] + lin_reg_bikes_df.iloc[48]['loans']) /3))\n",
    "lin_reg_bikes_df._set_value(35, 'loans', ((lin_reg_bikes_df.iloc[21]['loans'] + lin_reg_bikes_df.iloc[42]['loans'] + lin_reg_bikes_df.iloc[49]['loans']) /3))\n",
    "lin_reg_bikes_df._set_value(36, 'loans', mean_loans_4_days(36))\n",
    "lin_reg_bikes_df._set_value(37, 'loans', mean_loans_4_days(37))\n",
    "lin_reg_bikes_df._set_value(38, 'loans', mean_loans_4_days(38))\n",
    "lin_reg_bikes_df._set_value(39, 'loans', mean_loans_4_days(39))\n",
    "lin_reg_bikes_df._set_value(40, 'loans', mean_loans_4_days(40))\n",
    "lin_reg_bikes_df._set_value(41, 'loans', mean_loans_4_days(41))\n",
    "lin_reg_bikes_df._set_value(42, 'loans', mean_loans_4_days(42))\n",
    "\n",
    "\n",
    "# Finally march 4th-12th. Executed as february.\n",
    "\n",
    "lin_reg_bikes_df._set_value(62, 'loans', ((lin_reg_bikes_df.iloc[48]['loans'] + lin_reg_bikes_df.iloc[55]['loans'] + lin_reg_bikes_df.iloc[76]['loans']) /3))\n",
    "lin_reg_bikes_df._set_value(63, 'loans', ((lin_reg_bikes_df.iloc[49]['loans'] + lin_reg_bikes_df.iloc[56]['loans'] + lin_reg_bikes_df.iloc[77]['loans']) /3))\n",
    "lin_reg_bikes_df._set_value(64, 'loans', mean_loans_4_days(64))\n",
    "lin_reg_bikes_df._set_value(65, 'loans', mean_loans_4_days(65))\n",
    "lin_reg_bikes_df._set_value(66, 'loans', mean_loans_4_days(66))\n",
    "lin_reg_bikes_df._set_value(67, 'loans', mean_loans_4_days(67))\n",
    "lin_reg_bikes_df._set_value(68, 'loans', mean_loans_4_days(68))\n",
    "lin_reg_bikes_df._set_value(69, 'loans', mean_loans_4_days(69))\n",
    "lin_reg_bikes_df._set_value(70, 'loans', mean_loans_4_days(70))\n",
    "\n",
    "#test\n",
    "lin_reg_bikes_df.head(15)"
   ],
   "metadata": {
    "collapsed": false,
    "pycharm": {
     "name": "#%%\n"
    }
   }
  },
  {
   "cell_type": "code",
   "execution_count": 144,
   "outputs": [
    {
     "data": {
      "text/plain": "6.475404530744328"
     },
     "execution_count": 144,
     "metadata": {},
     "output_type": "execute_result"
    }
   ],
   "source": [
    "#calculates the mean temperature of all loans for one day\n",
    "def mean_temperature_loans(month, day):\n",
    "    day_in_2017_start = datetime(2017, month, day, 0, 0)\n",
    "    day_in_2017_end = datetime(2017, month, day, 23, 59)\n",
    "    df_day_start = df_bikes[df_bikes[\"start_time\"] >= day_in_2017_start]\n",
    "    df_day_end = df_day_start[df_day_start[\"start_time\"] <= day_in_2017_end]\n",
    "\n",
    "    temp = 0\n",
    "    for index, row in df_day_end.iterrows():\n",
    "        temp += row['temperature']\n",
    "\n",
    "    if len(df_day_end) > 0:\n",
    "        mean_temp = temp / len(df_day_end)\n",
    "    else:\n",
    "        mean_temp = 0\n",
    "\n",
    "    return mean_temp\n",
    "\n",
    "mean_temperature_loans(1, 3)"
   ],
   "metadata": {
    "collapsed": false,
    "pycharm": {
     "name": "#%%\n"
    }
   }
  },
  {
   "cell_type": "code",
   "execution_count": 159,
   "outputs": [
    {
     "data": {
      "text/plain": "         date  weekday  is_weekday  loans  precip_hours  mean_temp\n0  2017-01-01        6           0    856             0   7.438785\n1  2017-01-02        0           1   1510            12   4.177185\n2  2017-01-03        1           1   1854             9   6.475405\n3  2017-01-04        2           1   1535             2   0.000000\n4  2017-01-05        3           1   1565             0   0.000000\n5  2017-01-06        4           1   1313            11   0.000000\n6  2017-01-07        5           0    913             9   0.000000\n7  2017-01-08        6           0    756             0   0.000000\n8  2017-01-09        0           1   1021             0   0.000000\n9  2017-01-10        1           1   1330             0   0.000000\n10 2017-01-11        2           1   1585             2   0.000000\n11 2017-01-12        3           1   1519             3   0.000000\n12 2017-01-13        4           1   1397             0  10.726342\n13 2017-01-14        5           0    621             4   0.867955\n14 2017-01-15        6           0    772             3   1.772863\n15 2017-01-16        0           1   1017             0   0.898427\n16 2017-01-17        1           1   1026             4   4.630848\n17 2017-01-18        2           1   1485             7   6.918384\n18 2017-01-19        3           1   1612             0   7.939485\n19 2017-01-20        4           1   1229             5   2.723922",
      "text/html": "<div>\n<style scoped>\n    .dataframe tbody tr th:only-of-type {\n        vertical-align: middle;\n    }\n\n    .dataframe tbody tr th {\n        vertical-align: top;\n    }\n\n    .dataframe thead th {\n        text-align: right;\n    }\n</style>\n<table border=\"1\" class=\"dataframe\">\n  <thead>\n    <tr style=\"text-align: right;\">\n      <th></th>\n      <th>date</th>\n      <th>weekday</th>\n      <th>is_weekday</th>\n      <th>loans</th>\n      <th>precip_hours</th>\n      <th>mean_temp</th>\n    </tr>\n  </thead>\n  <tbody>\n    <tr>\n      <th>0</th>\n      <td>2017-01-01</td>\n      <td>6</td>\n      <td>0</td>\n      <td>856</td>\n      <td>0</td>\n      <td>7.438785</td>\n    </tr>\n    <tr>\n      <th>1</th>\n      <td>2017-01-02</td>\n      <td>0</td>\n      <td>1</td>\n      <td>1510</td>\n      <td>12</td>\n      <td>4.177185</td>\n    </tr>\n    <tr>\n      <th>2</th>\n      <td>2017-01-03</td>\n      <td>1</td>\n      <td>1</td>\n      <td>1854</td>\n      <td>9</td>\n      <td>6.475405</td>\n    </tr>\n    <tr>\n      <th>3</th>\n      <td>2017-01-04</td>\n      <td>2</td>\n      <td>1</td>\n      <td>1535</td>\n      <td>2</td>\n      <td>0.000000</td>\n    </tr>\n    <tr>\n      <th>4</th>\n      <td>2017-01-05</td>\n      <td>3</td>\n      <td>1</td>\n      <td>1565</td>\n      <td>0</td>\n      <td>0.000000</td>\n    </tr>\n    <tr>\n      <th>5</th>\n      <td>2017-01-06</td>\n      <td>4</td>\n      <td>1</td>\n      <td>1313</td>\n      <td>11</td>\n      <td>0.000000</td>\n    </tr>\n    <tr>\n      <th>6</th>\n      <td>2017-01-07</td>\n      <td>5</td>\n      <td>0</td>\n      <td>913</td>\n      <td>9</td>\n      <td>0.000000</td>\n    </tr>\n    <tr>\n      <th>7</th>\n      <td>2017-01-08</td>\n      <td>6</td>\n      <td>0</td>\n      <td>756</td>\n      <td>0</td>\n      <td>0.000000</td>\n    </tr>\n    <tr>\n      <th>8</th>\n      <td>2017-01-09</td>\n      <td>0</td>\n      <td>1</td>\n      <td>1021</td>\n      <td>0</td>\n      <td>0.000000</td>\n    </tr>\n    <tr>\n      <th>9</th>\n      <td>2017-01-10</td>\n      <td>1</td>\n      <td>1</td>\n      <td>1330</td>\n      <td>0</td>\n      <td>0.000000</td>\n    </tr>\n    <tr>\n      <th>10</th>\n      <td>2017-01-11</td>\n      <td>2</td>\n      <td>1</td>\n      <td>1585</td>\n      <td>2</td>\n      <td>0.000000</td>\n    </tr>\n    <tr>\n      <th>11</th>\n      <td>2017-01-12</td>\n      <td>3</td>\n      <td>1</td>\n      <td>1519</td>\n      <td>3</td>\n      <td>0.000000</td>\n    </tr>\n    <tr>\n      <th>12</th>\n      <td>2017-01-13</td>\n      <td>4</td>\n      <td>1</td>\n      <td>1397</td>\n      <td>0</td>\n      <td>10.726342</td>\n    </tr>\n    <tr>\n      <th>13</th>\n      <td>2017-01-14</td>\n      <td>5</td>\n      <td>0</td>\n      <td>621</td>\n      <td>4</td>\n      <td>0.867955</td>\n    </tr>\n    <tr>\n      <th>14</th>\n      <td>2017-01-15</td>\n      <td>6</td>\n      <td>0</td>\n      <td>772</td>\n      <td>3</td>\n      <td>1.772863</td>\n    </tr>\n    <tr>\n      <th>15</th>\n      <td>2017-01-16</td>\n      <td>0</td>\n      <td>1</td>\n      <td>1017</td>\n      <td>0</td>\n      <td>0.898427</td>\n    </tr>\n    <tr>\n      <th>16</th>\n      <td>2017-01-17</td>\n      <td>1</td>\n      <td>1</td>\n      <td>1026</td>\n      <td>4</td>\n      <td>4.630848</td>\n    </tr>\n    <tr>\n      <th>17</th>\n      <td>2017-01-18</td>\n      <td>2</td>\n      <td>1</td>\n      <td>1485</td>\n      <td>7</td>\n      <td>6.918384</td>\n    </tr>\n    <tr>\n      <th>18</th>\n      <td>2017-01-19</td>\n      <td>3</td>\n      <td>1</td>\n      <td>1612</td>\n      <td>0</td>\n      <td>7.939485</td>\n    </tr>\n    <tr>\n      <th>19</th>\n      <td>2017-01-20</td>\n      <td>4</td>\n      <td>1</td>\n      <td>1229</td>\n      <td>5</td>\n      <td>2.723922</td>\n    </tr>\n  </tbody>\n</table>\n</div>"
     },
     "execution_count": 159,
     "metadata": {},
     "output_type": "execute_result"
    }
   ],
   "source": [
    "lin_reg_bikes_df['mean_temp'] = lin_reg_bikes_df['date'].apply(lambda x: mean_temperature_loans(x.month, x.day))\n",
    "lin_reg_bikes_df.head(20)"
   ],
   "metadata": {
    "collapsed": false,
    "pycharm": {
     "name": "#%%\n"
    }
   }
  },
  {
   "cell_type": "code",
   "execution_count": 146,
   "outputs": [
    {
     "name": "stdout",
     "output_type": "stream",
     "text": [
      "                            OLS Regression Results                            \n",
      "==============================================================================\n",
      "Dep. Variable:                  loans   R-squared:                       0.053\n",
      "Model:                            OLS   Adj. R-squared:                  0.050\n",
      "Method:                 Least Squares   F-statistic:                     20.19\n",
      "Date:                Sun, 18 Jul 2021   Prob (F-statistic):           9.45e-06\n",
      "Time:                        23:15:18   Log-Likelihood:                -3031.3\n",
      "No. Observations:                 365   AIC:                             6067.\n",
      "Df Residuals:                     363   BIC:                             6074.\n",
      "Df Model:                           1                                         \n",
      "Covariance Type:            nonrobust                                         \n",
      "==============================================================================\n",
      "                 coef    std err          t      P>|t|      [0.025      0.975]\n",
      "------------------------------------------------------------------------------\n",
      "Intercept   1892.2571     95.741     19.764      0.000    1703.980    2080.534\n",
      "is_weekday   509.6736    113.438      4.493      0.000     286.595     732.752\n",
      "==============================================================================\n",
      "Omnibus:                       12.427   Durbin-Watson:                   0.475\n",
      "Prob(Omnibus):                  0.002   Jarque-Bera (JB):                6.100\n",
      "Skew:                           0.006   Prob(JB):                       0.0474\n",
      "Kurtosis:                       2.367   Cond. No.                         3.50\n",
      "==============================================================================\n",
      "\n",
      "Notes:\n",
      "[1] Standard Errors assume that the covariance matrix of the errors is correctly specified.\n"
     ]
    }
   ],
   "source": [
    "rec=smf.ols(formula='loans~is_weekday', data=lin_reg_bikes_df).fit()\n",
    "print(rec.summary())"
   ],
   "metadata": {
    "collapsed": false,
    "pycharm": {
     "name": "#%%\n"
    }
   }
  },
  {
   "cell_type": "code",
   "execution_count": 147,
   "outputs": [
    {
     "name": "stdout",
     "output_type": "stream",
     "text": [
      "[509.67362637] 1892.2571428571432\n"
     ]
    }
   ],
   "source": [
    "from sklearn.linear_model import LinearRegression\n",
    "\n",
    "linear_model_bikes = LinearRegression(fit_intercept=True, normalize=False)\n",
    "\n",
    "linear_model_bikes.fit(lin_reg_bikes_df['is_weekday'].values.reshape((-1,1)), lin_reg_bikes_df['loans'])\n",
    "print(linear_model_bikes.coef_, linear_model_bikes.intercept_)"
   ],
   "metadata": {
    "collapsed": false,
    "pycharm": {
     "name": "#%%\n"
    }
   }
  },
  {
   "cell_type": "code",
   "execution_count": 148,
   "outputs": [
    {
     "name": "stdout",
     "output_type": "stream",
     "text": [
      "Mean Squared Error: 6093440.863013699 (Bikes)^2\n",
      "Root Mean Squared Error: 2468.4895914331296 Bikes\n"
     ]
    }
   ],
   "source": [
    "from sklearn.metrics import mean_squared_error, mean_absolute_error, r2_score\n",
    "\n",
    "#MSE and RMSE\n",
    "print(\"Mean Squared Error:\",mean_squared_error(lin_reg_bikes_df['is_weekday'].values.reshape((-1,1)), lin_reg_bikes_df['loans']),\"(Bikes)^2\")\n",
    "print(\"Root Mean Squared Error:\",mean_squared_error(lin_reg_bikes_df['is_weekday'].values.reshape((-1,1)), lin_reg_bikes_df['loans'])**0.5,\"Bikes\")"
   ],
   "metadata": {
    "collapsed": false,
    "pycharm": {
     "name": "#%%\n"
    }
   }
  },
  {
   "cell_type": "markdown",
   "source": [
    "2. linear regression: amount of bike loans and precipitation\n"
   ],
   "metadata": {
    "collapsed": false,
    "pycharm": {
     "name": "#%% md\n"
    }
   }
  },
  {
   "cell_type": "code",
   "execution_count": 149,
   "outputs": [
    {
     "name": "stdout",
     "output_type": "stream",
     "text": [
      "                            OLS Regression Results                            \n",
      "==============================================================================\n",
      "Dep. Variable:                  loans   R-squared:                       0.117\n",
      "Model:                            OLS   Adj. R-squared:                  0.114\n",
      "Method:                 Least Squares   F-statistic:                     47.88\n",
      "Date:                Sun, 18 Jul 2021   Prob (F-statistic):           2.05e-11\n",
      "Time:                        23:15:18   Log-Likelihood:                -3018.5\n",
      "No. Observations:                 365   AIC:                             6041.\n",
      "Df Residuals:                     363   BIC:                             6049.\n",
      "Df Model:                           1                                         \n",
      "Covariance Type:            nonrobust                                         \n",
      "================================================================================\n",
      "                   coef    std err          t      P>|t|      [0.025      0.975]\n",
      "--------------------------------------------------------------------------------\n",
      "Intercept     2448.4053     56.902     43.029      0.000    2336.507    2560.303\n",
      "precip_hours  -102.1434     14.761     -6.920      0.000    -131.171     -73.116\n",
      "==============================================================================\n",
      "Omnibus:                        1.201   Durbin-Watson:                   0.439\n",
      "Prob(Omnibus):                  0.549   Jarque-Bera (JB):                1.174\n",
      "Skew:                           0.019   Prob(JB):                        0.556\n",
      "Kurtosis:                       2.725   Cond. No.                         4.50\n",
      "==============================================================================\n",
      "\n",
      "Notes:\n",
      "[1] Standard Errors assume that the covariance matrix of the errors is correctly specified.\n"
     ]
    }
   ],
   "source": [
    "rec2=smf.ols(formula='loans~precip_hours', data=lin_reg_bikes_df).fit()\n",
    "print(rec2.summary())"
   ],
   "metadata": {
    "collapsed": false,
    "pycharm": {
     "name": "#%%\n"
    }
   }
  },
  {
   "cell_type": "code",
   "execution_count": 150,
   "outputs": [
    {
     "name": "stdout",
     "output_type": "stream",
     "text": [
      "Mean Squared Error: 6090655.712328767 (Bikes)^2\n",
      "Root Mean Squared Error: 2467.925386296913 Bikes\n"
     ]
    }
   ],
   "source": [
    "print(\"Mean Squared Error:\",mean_squared_error(lin_reg_bikes_df['precip_hours'].values.reshape((-1,1)), lin_reg_bikes_df['loans']),\"(Bikes)^2\")\n",
    "print(\"Root Mean Squared Error:\",mean_squared_error(lin_reg_bikes_df['precip_hours'].values.reshape((-1,1)), lin_reg_bikes_df['loans'])**0.5,\"Bikes\")"
   ],
   "metadata": {
    "collapsed": false,
    "pycharm": {
     "name": "#%%\n"
    }
   }
  },
  {
   "cell_type": "markdown",
   "source": [
    "3. linear regression: duration of the biketrip and temperature"
   ],
   "metadata": {
    "collapsed": false,
    "pycharm": {
     "name": "#%% md\n"
    }
   }
  },
  {
   "cell_type": "code",
   "execution_count": 151,
   "outputs": [
    {
     "data": {
      "text/plain": "           start_time            end_time  start_station_id  end_station_id  \\\n0 2017-01-01 00:05:00 2017-01-01 00:16:00              3046            3041   \n1 2017-01-01 00:21:00 2017-01-01 00:57:00              3110            3054   \n2 2017-01-01 00:22:00 2017-01-01 00:57:00              3110            3054   \n3 2017-01-01 00:27:00 2017-01-01 00:39:00              3041            3005   \n4 2017-01-01 00:28:00 2017-01-01 00:36:00              3047            3124   \n\n   bike_id user_type           start_station_name     end_station_name  \\\n0     5347  Indego30                 2nd & Market  Girard Station, MFL   \n1     3364   Walk-up  Del. River Trail & Penn St.         Rodin Museum   \n2     2536   Walk-up  Del. River Trail & Penn St.         Rodin Museum   \n3     5176  Indego30          Girard Station, MFL    Welcome Park, NPS   \n4     5370   Walk-up       Independence Mall, NPS     Race Street Pier   \n\n  ride_duration_minutes  temperature  precip  ride_duration_to_int_seconds  \n0       0 days 00:11:00          6.1     0.0                         660.0  \n1       0 days 00:36:00          6.1     0.0                        2160.0  \n2       0 days 00:35:00          6.1     0.0                        2100.0  \n3       0 days 00:12:00          6.1     0.0                         720.0  \n4       0 days 00:08:00          6.1     0.0                         480.0  ",
      "text/html": "<div>\n<style scoped>\n    .dataframe tbody tr th:only-of-type {\n        vertical-align: middle;\n    }\n\n    .dataframe tbody tr th {\n        vertical-align: top;\n    }\n\n    .dataframe thead th {\n        text-align: right;\n    }\n</style>\n<table border=\"1\" class=\"dataframe\">\n  <thead>\n    <tr style=\"text-align: right;\">\n      <th></th>\n      <th>start_time</th>\n      <th>end_time</th>\n      <th>start_station_id</th>\n      <th>end_station_id</th>\n      <th>bike_id</th>\n      <th>user_type</th>\n      <th>start_station_name</th>\n      <th>end_station_name</th>\n      <th>ride_duration_minutes</th>\n      <th>temperature</th>\n      <th>precip</th>\n      <th>ride_duration_to_int_seconds</th>\n    </tr>\n  </thead>\n  <tbody>\n    <tr>\n      <th>0</th>\n      <td>2017-01-01 00:05:00</td>\n      <td>2017-01-01 00:16:00</td>\n      <td>3046</td>\n      <td>3041</td>\n      <td>5347</td>\n      <td>Indego30</td>\n      <td>2nd &amp; Market</td>\n      <td>Girard Station, MFL</td>\n      <td>0 days 00:11:00</td>\n      <td>6.1</td>\n      <td>0.0</td>\n      <td>660.0</td>\n    </tr>\n    <tr>\n      <th>1</th>\n      <td>2017-01-01 00:21:00</td>\n      <td>2017-01-01 00:57:00</td>\n      <td>3110</td>\n      <td>3054</td>\n      <td>3364</td>\n      <td>Walk-up</td>\n      <td>Del. River Trail &amp; Penn St.</td>\n      <td>Rodin Museum</td>\n      <td>0 days 00:36:00</td>\n      <td>6.1</td>\n      <td>0.0</td>\n      <td>2160.0</td>\n    </tr>\n    <tr>\n      <th>2</th>\n      <td>2017-01-01 00:22:00</td>\n      <td>2017-01-01 00:57:00</td>\n      <td>3110</td>\n      <td>3054</td>\n      <td>2536</td>\n      <td>Walk-up</td>\n      <td>Del. River Trail &amp; Penn St.</td>\n      <td>Rodin Museum</td>\n      <td>0 days 00:35:00</td>\n      <td>6.1</td>\n      <td>0.0</td>\n      <td>2100.0</td>\n    </tr>\n    <tr>\n      <th>3</th>\n      <td>2017-01-01 00:27:00</td>\n      <td>2017-01-01 00:39:00</td>\n      <td>3041</td>\n      <td>3005</td>\n      <td>5176</td>\n      <td>Indego30</td>\n      <td>Girard Station, MFL</td>\n      <td>Welcome Park, NPS</td>\n      <td>0 days 00:12:00</td>\n      <td>6.1</td>\n      <td>0.0</td>\n      <td>720.0</td>\n    </tr>\n    <tr>\n      <th>4</th>\n      <td>2017-01-01 00:28:00</td>\n      <td>2017-01-01 00:36:00</td>\n      <td>3047</td>\n      <td>3124</td>\n      <td>5370</td>\n      <td>Walk-up</td>\n      <td>Independence Mall, NPS</td>\n      <td>Race Street Pier</td>\n      <td>0 days 00:08:00</td>\n      <td>6.1</td>\n      <td>0.0</td>\n      <td>480.0</td>\n    </tr>\n  </tbody>\n</table>\n</div>"
     },
     "execution_count": 151,
     "metadata": {},
     "output_type": "execute_result"
    }
   ],
   "source": [
    "df_bikes['ride_duration_to_int_seconds'] = df_bikes['ride_duration_minutes'].apply(lambda x: (x.total_seconds()))\n",
    "df_bikes.head()"
   ],
   "metadata": {
    "collapsed": false,
    "pycharm": {
     "name": "#%%\n"
    }
   }
  },
  {
   "cell_type": "code",
   "execution_count": 152,
   "outputs": [
    {
     "name": "stdout",
     "output_type": "stream",
     "text": [
      "[2297914.24325896] 293491010.75289893\n"
     ]
    }
   ],
   "source": [
    "#eher nicht so machen, sondern wie in der folgenden Zelle\n",
    "linear_model_duration = LinearRegression(fit_intercept=True, normalize=False)\n",
    "\n",
    "linear_model_duration.fit(df_bikes['temperature'].values.reshape((-1,1)), df_bikes['ride_duration_minutes']/3600)\n",
    "print(linear_model_duration.coef_, linear_model_duration.intercept_)"
   ],
   "metadata": {
    "collapsed": false,
    "pycharm": {
     "name": "#%%\n"
    }
   }
  },
  {
   "cell_type": "code",
   "execution_count": 153,
   "outputs": [
    {
     "name": "stdout",
     "output_type": "stream",
     "text": [
      "                                 OLS Regression Results                                 \n",
      "========================================================================================\n",
      "Dep. Variable:     ride_duration_to_int_seconds   R-squared:                       0.001\n",
      "Model:                                      OLS   Adj. R-squared:                  0.001\n",
      "Method:                           Least Squares   F-statistic:                     408.8\n",
      "Date:                          Sun, 18 Jul 2021   Prob (F-statistic):           7.23e-91\n",
      "Time:                                  23:15:26   Log-Likelihood:            -7.4448e+06\n",
      "No. Observations:                        788096   AIC:                         1.489e+07\n",
      "Df Residuals:                            788094   BIC:                         1.489e+07\n",
      "Df Model:                                     1                                         \n",
      "Covariance Type:                      nonrobust                                         \n",
      "===============================================================================\n",
      "                  coef    std err          t      P>|t|      [0.025      0.975]\n",
      "-------------------------------------------------------------------------------\n",
      "Intercept    1056.5676      8.328    126.870      0.000    1040.245    1072.890\n",
      "temperature     8.2725      0.409     20.218      0.000       7.471       9.074\n",
      "==============================================================================\n",
      "Omnibus:                  1466206.949   Durbin-Watson:                   1.904\n",
      "Prob(Omnibus):                  0.000   Jarque-Bera (JB):       2251844518.485\n",
      "Skew:                          14.257   Prob(JB):                         0.00\n",
      "Kurtosis:                     263.313   Cond. No.                         49.2\n",
      "==============================================================================\n",
      "\n",
      "Notes:\n",
      "[1] Standard Errors assume that the covariance matrix of the errors is correctly specified.\n"
     ]
    }
   ],
   "source": [
    "rec3=smf.ols(formula='ride_duration_to_int_seconds~temperature', data=df_bikes).fit()\n",
    "print(rec3.summary())"
   ],
   "metadata": {
    "collapsed": false,
    "pycharm": {
     "name": "#%%\n"
    }
   }
  },
  {
   "cell_type": "markdown",
   "source": [
    "4. linear regression: amount of all loans for a day and mean temperature of all loans on that day"
   ],
   "metadata": {
    "collapsed": false,
    "pycharm": {
     "name": "#%% md\n"
    }
   }
  },
  {
   "cell_type": "code",
   "execution_count": 154,
   "outputs": [
    {
     "data": {
      "text/plain": "        date  weekday  is_weekday  loans  precip_hours  mean_temp\n0 2017-01-01        6           0    856             0   7.438785\n1 2017-01-02        0           1   1510            12   4.177185\n2 2017-01-03        1           1   1854             9   6.475405\n3 2017-01-04        2           1   1535             2   0.000000\n4 2017-01-05        3           1   1565             0   0.000000",
      "text/html": "<div>\n<style scoped>\n    .dataframe tbody tr th:only-of-type {\n        vertical-align: middle;\n    }\n\n    .dataframe tbody tr th {\n        vertical-align: top;\n    }\n\n    .dataframe thead th {\n        text-align: right;\n    }\n</style>\n<table border=\"1\" class=\"dataframe\">\n  <thead>\n    <tr style=\"text-align: right;\">\n      <th></th>\n      <th>date</th>\n      <th>weekday</th>\n      <th>is_weekday</th>\n      <th>loans</th>\n      <th>precip_hours</th>\n      <th>mean_temp</th>\n    </tr>\n  </thead>\n  <tbody>\n    <tr>\n      <th>0</th>\n      <td>2017-01-01</td>\n      <td>6</td>\n      <td>0</td>\n      <td>856</td>\n      <td>0</td>\n      <td>7.438785</td>\n    </tr>\n    <tr>\n      <th>1</th>\n      <td>2017-01-02</td>\n      <td>0</td>\n      <td>1</td>\n      <td>1510</td>\n      <td>12</td>\n      <td>4.177185</td>\n    </tr>\n    <tr>\n      <th>2</th>\n      <td>2017-01-03</td>\n      <td>1</td>\n      <td>1</td>\n      <td>1854</td>\n      <td>9</td>\n      <td>6.475405</td>\n    </tr>\n    <tr>\n      <th>3</th>\n      <td>2017-01-04</td>\n      <td>2</td>\n      <td>1</td>\n      <td>1535</td>\n      <td>2</td>\n      <td>0.000000</td>\n    </tr>\n    <tr>\n      <th>4</th>\n      <td>2017-01-05</td>\n      <td>3</td>\n      <td>1</td>\n      <td>1565</td>\n      <td>0</td>\n      <td>0.000000</td>\n    </tr>\n  </tbody>\n</table>\n</div>"
     },
     "execution_count": 154,
     "metadata": {},
     "output_type": "execute_result"
    }
   ],
   "source": [
    "lin_reg_bikes_df.head()"
   ],
   "metadata": {
    "collapsed": false,
    "pycharm": {
     "name": "#%%\n"
    }
   }
  },
  {
   "cell_type": "code",
   "execution_count": 155,
   "outputs": [
    {
     "name": "stdout",
     "output_type": "stream",
     "text": [
      "                            OLS Regression Results                            \n",
      "==============================================================================\n",
      "Dep. Variable:                  loans   R-squared:                       0.584\n",
      "Model:                            OLS   Adj. R-squared:                  0.583\n",
      "Method:                 Least Squares   F-statistic:                     509.7\n",
      "Date:                Sun, 18 Jul 2021   Prob (F-statistic):           3.89e-71\n",
      "Time:                        23:15:26   Log-Likelihood:                -2881.0\n",
      "No. Observations:                 365   AIC:                             5766.\n",
      "Df Residuals:                     363   BIC:                             5774.\n",
      "Df Model:                           1                                         \n",
      "Covariance Type:            nonrobust                                         \n",
      "==============================================================================\n",
      "                 coef    std err          t      P>|t|      [0.025      0.975]\n",
      "------------------------------------------------------------------------------\n",
      "Intercept   1107.3926     61.179     18.101      0.000     987.083    1227.702\n",
      "mean_temp     79.4917      3.521     22.577      0.000      72.568      86.415\n",
      "==============================================================================\n",
      "Omnibus:                       11.465   Durbin-Watson:                   1.178\n",
      "Prob(Omnibus):                  0.003   Jarque-Bera (JB):               18.985\n",
      "Skew:                           0.181   Prob(JB):                     7.54e-05\n",
      "Kurtosis:                       4.057   Cond. No.                         31.3\n",
      "==============================================================================\n",
      "\n",
      "Notes:\n",
      "[1] Standard Errors assume that the covariance matrix of the errors is correctly specified.\n"
     ]
    }
   ],
   "source": [
    "rec4 = smf.ols(formula='loans~mean_temp', data=lin_reg_bikes_df).fit()\n",
    "print(rec4.summary())"
   ],
   "metadata": {
    "collapsed": false,
    "pycharm": {
     "name": "#%%\n"
    }
   }
  },
  {
   "cell_type": "code",
   "execution_count": 156,
   "outputs": [
    {
     "name": "stdout",
     "output_type": "stream",
     "text": [
      "Mean Squared Error: 6017178.8102564 (Bikes)^2\n",
      "Root Mean Squared Error: 2452.993846355184 Bikes\n"
     ]
    }
   ],
   "source": [
    "print(\"Mean Squared Error:\",mean_squared_error(lin_reg_bikes_df['mean_temp'].values.reshape((-1,1)), lin_reg_bikes_df['loans']),\"(Bikes)^2\")\n",
    "print(\"Root Mean Squared Error:\",mean_squared_error(lin_reg_bikes_df['mean_temp'].values.reshape((-1,1)), lin_reg_bikes_df['loans'])**0.5,\"Bikes\")"
   ],
   "metadata": {
    "collapsed": false,
    "pycharm": {
     "name": "#%%\n"
    }
   }
  },
  {
   "cell_type": "markdown",
   "source": [
    "5. linear regression: amount of all loans for a day and weekday"
   ],
   "metadata": {
    "collapsed": false,
    "pycharm": {
     "name": "#%% md\n"
    }
   }
  },
  {
   "cell_type": "code",
   "execution_count": 157,
   "outputs": [
    {
     "name": "stdout",
     "output_type": "stream",
     "text": [
      "                            OLS Regression Results                            \n",
      "==============================================================================\n",
      "Dep. Variable:                  loans   R-squared:                       0.024\n",
      "Model:                            OLS   Adj. R-squared:                  0.021\n",
      "Method:                 Least Squares   F-statistic:                     8.948\n",
      "Date:                Sun, 18 Jul 2021   Prob (F-statistic):            0.00297\n",
      "Time:                        23:15:27   Log-Likelihood:                -3036.7\n",
      "No. Observations:                 365   AIC:                             6077.\n",
      "Df Residuals:                     363   BIC:                             6085.\n",
      "Df Model:                           1                                         \n",
      "Covariance Type:            nonrobust                                         \n",
      "==============================================================================\n",
      "                 coef    std err          t      P>|t|      [0.025      0.975]\n",
      "------------------------------------------------------------------------------\n",
      "Intercept   2489.4151     94.030     26.475      0.000    2304.504    2674.326\n",
      "weekday      -77.8211     26.016     -2.991      0.003    -128.982     -26.660\n",
      "==============================================================================\n",
      "Omnibus:                       11.547   Durbin-Watson:                   0.491\n",
      "Prob(Omnibus):                  0.003   Jarque-Bera (JB):                5.899\n",
      "Skew:                           0.044   Prob(JB):                       0.0524\n",
      "Kurtosis:                       2.384   Cond. No.                         6.87\n",
      "==============================================================================\n",
      "\n",
      "Notes:\n",
      "[1] Standard Errors assume that the covariance matrix of the errors is correctly specified.\n"
     ]
    }
   ],
   "source": [
    "rec5=smf.ols(formula='loans~weekday', data=lin_reg_bikes_df).fit()\n",
    "print(rec5.summary())"
   ],
   "metadata": {
    "collapsed": false,
    "pycharm": {
     "name": "#%%\n"
    }
   }
  },
  {
   "cell_type": "code",
   "execution_count": 158,
   "outputs": [
    {
     "name": "stdout",
     "output_type": "stream",
     "text": [
      "Mean Squared Error: 6083930.884931507 (Bikes)^2\n",
      "Root Mean Squared Error: 2466.5625645686564 Bikes\n"
     ]
    }
   ],
   "source": [
    "print(\"Mean Squared Error:\",mean_squared_error(lin_reg_bikes_df['weekday'].values.reshape((-1,1)), lin_reg_bikes_df['loans']),\"(Bikes)^2\")\n",
    "print(\"Root Mean Squared Error:\",mean_squared_error(lin_reg_bikes_df['weekday'].values.reshape((-1,1)), lin_reg_bikes_df['loans'])**0.5,\"Bikes\")"
   ],
   "metadata": {
    "collapsed": false,
    "pycharm": {
     "name": "#%%\n"
    }
   }
  },
  {
   "cell_type": "code",
   "execution_count": 158,
   "outputs": [],
   "source": [],
   "metadata": {
    "collapsed": false,
    "pycharm": {
     "name": "#%%\n"
    }
   }
  }
 ],
 "metadata": {
  "kernelspec": {
   "display_name": "Python 3",
   "language": "python",
   "name": "python3"
  },
  "language_info": {
   "codemirror_mode": {
    "name": "ipython",
    "version": 2
   },
   "file_extension": ".py",
   "mimetype": "text/x-python",
   "name": "python",
   "nbconvert_exporter": "python",
   "pygments_lexer": "ipython2",
   "version": "2.7.6"
  }
 },
 "nbformat": 4,
 "nbformat_minor": 0
}