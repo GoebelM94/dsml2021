{
 "cells": [
  {
   "cell_type": "markdown",
   "metadata": {
    "collapsed": true,
    "pycharm": {
     "name": "#%% md\n"
    }
   },
   "source": [
    "## Imports\n",
    "\n",
    "Imports every library needed"
   ]
  },
  {
   "cell_type": "code",
   "execution_count": 1,
   "outputs": [],
   "source": [
    "#general imports\n",
    "import math\n",
    "\n",
    "import pandas as pd\n",
    "import numpy as np\n",
    "\n",
    "#statsmodels for regression\n",
    "import statsmodels.api as sm\n",
    "import statsmodels.formula.api as smf\n",
    "from statsmodels.iolib.summary2 import summary_col\n",
    "\n",
    "#scipy for testing\n",
    "from scipy import stats\n",
    "\n",
    "#for visualization\n",
    "import matplotlib.pyplot as plt\n",
    "import seaborn as sns\n",
    "\n",
    "from datetime import datetime"
   ],
   "metadata": {
    "collapsed": false,
    "pycharm": {
     "name": "#%%\n"
    }
   }
  },
  {
   "cell_type": "markdown",
   "source": [
    "## Importing the Bike Data\n",
    "\n",
    "Imports the normal Data needed for every KPI"
   ],
   "metadata": {
    "collapsed": false,
    "pycharm": {
     "name": "#%% md\n"
    }
   }
  },
  {
   "cell_type": "code",
   "execution_count": 2,
   "outputs": [],
   "source": [
    "df_bikes = pd.read_csv('../data/philadelphia_2017.csv')\n",
    "df_weather = pd.read_csv('../data/weather_hourly_philadelphia.csv')\n",
    "df_geocodes = pd.read_csv('../data/geocodes.csv')\n",
    "\n",
    "def get_datetime(date_string):\n",
    "    if date_string.__contains__(\"/\"):\n",
    "        new_string = \"\"\n",
    "        running_string = \"\"\n",
    "        for char in date_string:\n",
    "            if char == \"/\" or  char == \":\" or char == \" \":\n",
    "                if len(running_string) == 1:\n",
    "                    running_string = \"0\" + running_string\n",
    "                new_string += running_string + char\n",
    "                running_string = \"\"\n",
    "            else:\n",
    "                running_string += char\n",
    "        new_string += running_string\n",
    "        if len(new_string) > 16:\n",
    "            return datetime.strptime(new_string, '%m/%d/%Y %H:%M:%S')\n",
    "        else:\n",
    "            return datetime.strptime(new_string, '%m/%d/%Y %H:%M')\n",
    "    else:\n",
    "        return datetime.fromisoformat(date_string)\n",
    "\n",
    "def compare_datetime(start, end):\n",
    "    start_datetime = get_datetime(start)\n",
    "    end_datetime = get_datetime(end)\n",
    "    duration_of_travel = end_datetime - start_datetime\n",
    "    seconds = duration_of_travel.total_seconds()\n",
    "    return seconds/60\n",
    "\n",
    "ride_lengths = []\n",
    "df_bikes[\"ride_duration_minutes\"] = df_bikes.apply(lambda x: (compare_datetime(x[\"start_time\"],x[\"end_time\"])), axis=1)\n",
    "\n",
    "for label, content in df_bikes.iterrows():\n",
    "    ride_lengths.append(content[\"ride_duration_minutes\"])\n",
    "\n",
    "ride_lengths_np = np.array(ride_lengths)\n",
    "iqr = stats.iqr(ride_lengths_np)\n",
    "iqr\n",
    "\n",
    "q1,q3 = np.percentile(ride_lengths_np, [25,95])\n",
    "\n",
    "lower_range = q1 - (1.5*iqr)\n",
    "upper_range = q3 + (1.5*iqr)\n",
    "\n",
    "#A ride, can't be shorter than 0 Minutes obviously\n",
    "if lower_range < 0:\n",
    "    lower_range = 0\n",
    "\n",
    "df_bikes.drop(df_bikes[ (df_bikes.ride_duration_minutes > upper_range) | (df_bikes.ride_duration_minutes < lower_range) ].index , inplace=True)\n"
   ],
   "metadata": {
    "collapsed": false,
    "pycharm": {
     "name": "#%%\n"
    }
   }
  },
  {
   "cell_type": "markdown",
   "source": [
    "## Description\n",
    "Total distance driven by all drivers within one hour\n",
    "\n",
    "#### ToDo:\n",
    "https://www.kompf.de/gps/distcalc.html bessere Mathode implimentieren."
   ],
   "metadata": {
    "collapsed": false,
    "pycharm": {
     "name": "#%% md\n"
    }
   },
   "outputs": [],
   "execution_count": 0
  },
  {
   "cell_type": "code",
   "execution_count": 3,
   "outputs": [],
   "source": [
    "def calc_distance(start_lat, start_lng, end_lat, end_lng):\n",
    "    dx = 111.3 * (end_lat - start_lat)\n",
    "    dy = 71.5 * (end_lng - start_lng)\n",
    "    distance = math.sqrt(dx * dx + dy * dy)\n",
    "    return distance"
   ],
   "metadata": {
    "collapsed": false,
    "pycharm": {
     "name": "#%%\n"
    }
   }
  },
  {
   "cell_type": "code",
   "execution_count": 4,
   "outputs": [
    {
     "data": {
      "text/plain": "      start_time       end_time  start_station_id  end_station_id  bike_id  \\\n0  1/1/2017 0:05  1/1/2017 0:16              3046            3041     5347   \n1  1/1/2017 0:21  1/1/2017 0:57              3110            3054     3364   \n2  1/1/2017 0:22  1/1/2017 0:57              3110            3054     2536   \n3  1/1/2017 0:27  1/1/2017 0:39              3041            3005     5176   \n4  1/1/2017 0:28  1/1/2017 0:36              3047            3124     5370   \n5  1/1/2017 0:29  1/1/2017 0:36              3047            3124     2479   \n6  1/1/2017 0:31  1/1/2017 0:40              3072            3068     5332   \n7  1/1/2017 0:34  1/1/2017 0:50              3033            3114     5359   \n8  1/1/2017 0:38  1/1/2017 0:57              3013            3028     3716   \n9  1/1/2017 0:40  1/1/2017 0:57              3013            3028     2557   \n\n  user_type           start_station_name     end_station_name  \\\n0  Indego30                 2nd & Market  Girard Station, MFL   \n1   Walk-up  Del. River Trail & Penn St.         Rodin Museum   \n2   Walk-up  Del. River Trail & Penn St.         Rodin Museum   \n3  Indego30          Girard Station, MFL    Welcome Park, NPS   \n4   Walk-up       Independence Mall, NPS     Race Street Pier   \n5   Walk-up       Independence Mall, NPS     Race Street Pier   \n6  Indego30            Front & Carpenter      Broad & Federal   \n7  Indego30              10th & Chestnut       22nd & Federal   \n8   Walk-up              6th & Fairmount     4th & Bainbridge   \n9   Walk-up              6th & Fairmount     4th & Bainbridge   \n\n   ride_duration_minutes  \n0                   11.0  \n1                   36.0  \n2                   35.0  \n3                   12.0  \n4                    8.0  \n5                    7.0  \n6                    9.0  \n7                   16.0  \n8                   19.0  \n9                   17.0  ",
      "text/html": "<div>\n<style scoped>\n    .dataframe tbody tr th:only-of-type {\n        vertical-align: middle;\n    }\n\n    .dataframe tbody tr th {\n        vertical-align: top;\n    }\n\n    .dataframe thead th {\n        text-align: right;\n    }\n</style>\n<table border=\"1\" class=\"dataframe\">\n  <thead>\n    <tr style=\"text-align: right;\">\n      <th></th>\n      <th>start_time</th>\n      <th>end_time</th>\n      <th>start_station_id</th>\n      <th>end_station_id</th>\n      <th>bike_id</th>\n      <th>user_type</th>\n      <th>start_station_name</th>\n      <th>end_station_name</th>\n      <th>ride_duration_minutes</th>\n    </tr>\n  </thead>\n  <tbody>\n    <tr>\n      <th>0</th>\n      <td>1/1/2017 0:05</td>\n      <td>1/1/2017 0:16</td>\n      <td>3046</td>\n      <td>3041</td>\n      <td>5347</td>\n      <td>Indego30</td>\n      <td>2nd &amp; Market</td>\n      <td>Girard Station, MFL</td>\n      <td>11.0</td>\n    </tr>\n    <tr>\n      <th>1</th>\n      <td>1/1/2017 0:21</td>\n      <td>1/1/2017 0:57</td>\n      <td>3110</td>\n      <td>3054</td>\n      <td>3364</td>\n      <td>Walk-up</td>\n      <td>Del. River Trail &amp; Penn St.</td>\n      <td>Rodin Museum</td>\n      <td>36.0</td>\n    </tr>\n    <tr>\n      <th>2</th>\n      <td>1/1/2017 0:22</td>\n      <td>1/1/2017 0:57</td>\n      <td>3110</td>\n      <td>3054</td>\n      <td>2536</td>\n      <td>Walk-up</td>\n      <td>Del. River Trail &amp; Penn St.</td>\n      <td>Rodin Museum</td>\n      <td>35.0</td>\n    </tr>\n    <tr>\n      <th>3</th>\n      <td>1/1/2017 0:27</td>\n      <td>1/1/2017 0:39</td>\n      <td>3041</td>\n      <td>3005</td>\n      <td>5176</td>\n      <td>Indego30</td>\n      <td>Girard Station, MFL</td>\n      <td>Welcome Park, NPS</td>\n      <td>12.0</td>\n    </tr>\n    <tr>\n      <th>4</th>\n      <td>1/1/2017 0:28</td>\n      <td>1/1/2017 0:36</td>\n      <td>3047</td>\n      <td>3124</td>\n      <td>5370</td>\n      <td>Walk-up</td>\n      <td>Independence Mall, NPS</td>\n      <td>Race Street Pier</td>\n      <td>8.0</td>\n    </tr>\n    <tr>\n      <th>5</th>\n      <td>1/1/2017 0:29</td>\n      <td>1/1/2017 0:36</td>\n      <td>3047</td>\n      <td>3124</td>\n      <td>2479</td>\n      <td>Walk-up</td>\n      <td>Independence Mall, NPS</td>\n      <td>Race Street Pier</td>\n      <td>7.0</td>\n    </tr>\n    <tr>\n      <th>6</th>\n      <td>1/1/2017 0:31</td>\n      <td>1/1/2017 0:40</td>\n      <td>3072</td>\n      <td>3068</td>\n      <td>5332</td>\n      <td>Indego30</td>\n      <td>Front &amp; Carpenter</td>\n      <td>Broad &amp; Federal</td>\n      <td>9.0</td>\n    </tr>\n    <tr>\n      <th>7</th>\n      <td>1/1/2017 0:34</td>\n      <td>1/1/2017 0:50</td>\n      <td>3033</td>\n      <td>3114</td>\n      <td>5359</td>\n      <td>Indego30</td>\n      <td>10th &amp; Chestnut</td>\n      <td>22nd &amp; Federal</td>\n      <td>16.0</td>\n    </tr>\n    <tr>\n      <th>8</th>\n      <td>1/1/2017 0:38</td>\n      <td>1/1/2017 0:57</td>\n      <td>3013</td>\n      <td>3028</td>\n      <td>3716</td>\n      <td>Walk-up</td>\n      <td>6th &amp; Fairmount</td>\n      <td>4th &amp; Bainbridge</td>\n      <td>19.0</td>\n    </tr>\n    <tr>\n      <th>9</th>\n      <td>1/1/2017 0:40</td>\n      <td>1/1/2017 0:57</td>\n      <td>3013</td>\n      <td>3028</td>\n      <td>2557</td>\n      <td>Walk-up</td>\n      <td>6th &amp; Fairmount</td>\n      <td>4th &amp; Bainbridge</td>\n      <td>17.0</td>\n    </tr>\n  </tbody>\n</table>\n</div>"
     },
     "execution_count": 4,
     "metadata": {},
     "output_type": "execute_result"
    }
   ],
   "source": [
    "df_bikes.head(10)"
   ],
   "metadata": {
    "collapsed": false,
    "pycharm": {
     "name": "#%%\n"
    }
   }
  },
  {
   "cell_type": "code",
   "execution_count": 5,
   "outputs": [],
   "source": [
    "df_bikes.insert(4, 's_lat', df_bikes['start_station_id'].map(df_geocodes.set_index('station_id')['lat']))\n",
    "df_bikes.insert(5, 's_lng', df_bikes['start_station_id'].map(df_geocodes.set_index('station_id')['lng']))\n",
    "df_bikes.insert(7, 'e_lat', df_bikes['end_station_id'].map(df_geocodes.set_index('station_id')['lat']))\n",
    "df_bikes.insert(8, 'e_lng', df_bikes['end_station_id'].map(df_geocodes.set_index('station_id')['lng']))"
   ],
   "metadata": {
    "collapsed": false,
    "pycharm": {
     "name": "#%%\n"
    }
   }
  },
  {
   "cell_type": "code",
   "execution_count": 6,
   "outputs": [
    {
     "data": {
      "text/plain": "start_time                object\nend_time                  object\nstart_station_id           int64\nend_station_id             int64\ns_lat                    float64\ns_lng                    float64\nbike_id                    int64\ne_lat                    float64\ne_lng                    float64\nuser_type                 object\nstart_station_name        object\nend_station_name          object\nride_duration_minutes    float64\ndtype: object"
     },
     "execution_count": 6,
     "metadata": {},
     "output_type": "execute_result"
    }
   ],
   "source": [
    "df_bikes.head(10)\n",
    "\n",
    "df_bikes.dtypes"
   ],
   "metadata": {
    "collapsed": false,
    "pycharm": {
     "name": "#%%\n"
    }
   }
  },
  {
   "cell_type": "code",
   "execution_count": 7,
   "outputs": [],
   "source": [
    "sample = np.linspace(1, 100, 763228).astype(int)\n",
    "\n",
    "df_bikes[\"distance\"] = df_bikes.apply(lambda x: calc_distance(x['s_lat'],x['s_lng'],x['e_lat'],x['e_lng']), axis=1)"
   ],
   "metadata": {
    "collapsed": false,
    "pycharm": {
     "name": "#%%\n"
    }
   }
  },
  {
   "cell_type": "code",
   "execution_count": 8,
   "outputs": [],
   "source": [
    "df_bikes['end_time_rounded'] = get_datetime(df_bikes[\"end_time\"][0]).replace(minute=0)"
   ],
   "metadata": {
    "collapsed": false,
    "pycharm": {
     "name": "#%%\n"
    }
   }
  },
  {
   "cell_type": "code",
   "execution_count": 9,
   "outputs": [
    {
     "name": "stderr",
     "output_type": "stream",
     "text": [
      "<ipython-input-9-68b4343a476b>:12: SettingWithCopyWarning: \n",
      "A value is trying to be set on a copy of a slice from a DataFrame\n",
      "\n",
      "See the caveats in the documentation: https://pandas.pydata.org/pandas-docs/stable/user_guide/indexing.html#returning-a-view-versus-a-copy\n",
      "  df_bikes['end_time_rounded'][x] = get_datetime(df_bikes[\"end_time\"][x]).replace(minute=0)\n"
     ]
    },
    {
     "name": "stdout",
     "output_type": "stream",
     "text": [
      "45795\n",
      "66133\n",
      "108591\n",
      "131887\n",
      "155306\n",
      "184846\n",
      "217251\n",
      "238406\n",
      "268642\n",
      "293197\n",
      "321602\n",
      "343296\n",
      "369865\n",
      "399242\n",
      "432102\n",
      "457399\n",
      "487616\n",
      "519325\n",
      "541169\n",
      "576939\n",
      "607341\n",
      "646208\n",
      "677934\n",
      "712174\n",
      "758304\n"
     ]
    }
   ],
   "source": [
    "s = 0\n",
    "z = 1\n",
    "for x in range(0,788906):\n",
    "    if x not in df_bikes.index:\n",
    "        s = s + 1\n",
    "        if s == 1000*z:\n",
    "            print(x)\n",
    "            z = z + 1\n",
    "        else:\n",
    "            pass\n",
    "    else:\n",
    "        df_bikes['end_time_rounded'][x] = get_datetime(df_bikes[\"end_time\"][x]).replace(minute=0)"
   ],
   "metadata": {
    "collapsed": false,
    "pycharm": {
     "name": "#%%\n"
    }
   }
  },
  {
   "cell_type": "code",
   "execution_count": 10,
   "outputs": [],
   "source": [
    "df_bikes0 = df_bikes\n",
    "df_bikes1 = df_bikes"
   ],
   "metadata": {
    "collapsed": false,
    "pycharm": {
     "name": "#%%\n"
    }
   }
  },
  {
   "cell_type": "code",
   "execution_count": 11,
   "outputs": [],
   "source": [
    "#df_bikes['end_time_rounded'] = df_bikes['end_time_rounded'].dt.strftime(\"%y/%m/%d %H:%M:%S\")\n",
    "df_bikes['end_time_rounded'] = df_bikes['end_time_rounded'].dt.strftime(\"%y/%m/%d %H\")"
   ],
   "metadata": {
    "collapsed": false,
    "pycharm": {
     "name": "#%%\n"
    }
   }
  },
  {
   "cell_type": "code",
   "execution_count": 12,
   "outputs": [],
   "source": [
    "df_bikes_distances = df_bikes.groupby(['end_time_rounded']).sum()"
   ],
   "metadata": {
    "collapsed": false,
    "pycharm": {
     "name": "#%%\n"
    }
   }
  },
  {
   "cell_type": "code",
   "execution_count": 13,
   "outputs": [
    {
     "data": {
      "text/plain": "                   distance\nend_time_rounded           \n17/01/01 00       23.535024\n17/01/01 01       42.886259\n17/01/01 02       32.867972\n17/01/01 03        9.861137\n17/01/01 04        4.687468\n...                     ...\n17/12/31 19       20.422862\n17/12/31 20        7.618619\n17/12/31 21        6.540375\n17/12/31 22       16.164253\n17/12/31 23        1.781840\n\n[8660 rows x 1 columns]",
      "text/html": "<div>\n<style scoped>\n    .dataframe tbody tr th:only-of-type {\n        vertical-align: middle;\n    }\n\n    .dataframe tbody tr th {\n        vertical-align: top;\n    }\n\n    .dataframe thead th {\n        text-align: right;\n    }\n</style>\n<table border=\"1\" class=\"dataframe\">\n  <thead>\n    <tr style=\"text-align: right;\">\n      <th></th>\n      <th>distance</th>\n    </tr>\n    <tr>\n      <th>end_time_rounded</th>\n      <th></th>\n    </tr>\n  </thead>\n  <tbody>\n    <tr>\n      <th>17/01/01 00</th>\n      <td>23.535024</td>\n    </tr>\n    <tr>\n      <th>17/01/01 01</th>\n      <td>42.886259</td>\n    </tr>\n    <tr>\n      <th>17/01/01 02</th>\n      <td>32.867972</td>\n    </tr>\n    <tr>\n      <th>17/01/01 03</th>\n      <td>9.861137</td>\n    </tr>\n    <tr>\n      <th>17/01/01 04</th>\n      <td>4.687468</td>\n    </tr>\n    <tr>\n      <th>...</th>\n      <td>...</td>\n    </tr>\n    <tr>\n      <th>17/12/31 19</th>\n      <td>20.422862</td>\n    </tr>\n    <tr>\n      <th>17/12/31 20</th>\n      <td>7.618619</td>\n    </tr>\n    <tr>\n      <th>17/12/31 21</th>\n      <td>6.540375</td>\n    </tr>\n    <tr>\n      <th>17/12/31 22</th>\n      <td>16.164253</td>\n    </tr>\n    <tr>\n      <th>17/12/31 23</th>\n      <td>1.781840</td>\n    </tr>\n  </tbody>\n</table>\n<p>8660 rows × 1 columns</p>\n</div>"
     },
     "execution_count": 13,
     "metadata": {},
     "output_type": "execute_result"
    }
   ],
   "source": [
    "df_bikes_distances.drop(['start_station_id', 'end_station_id', 's_lat', 's_lng', 'e_lat', 'e_lng', 'bike_id', 'ride_duration_minutes'], axis=1)"
   ],
   "metadata": {
    "collapsed": false,
    "pycharm": {
     "name": "#%%\n"
    }
   }
  },
  {
   "cell_type": "markdown",
   "source": [
    "# Visualization"
   ],
   "metadata": {
    "collapsed": false,
    "pycharm": {
     "name": "#%% md\n"
    }
   }
  },
  {
   "cell_type": "code",
   "execution_count": 15,
   "outputs": [
    {
     "data": {
      "text/plain": "<Figure size 432x288 with 1 Axes>",
      "image/png": "[encoded data removed]"
     },
     "metadata": {},
     "output_type": "display_data"
    }
   ],
   "source": [
    "sns.set_theme(style=\"darkgrid\")\n",
    "# Plot the responses for different events and regions\n",
    "distance_lineplot = sns.lineplot(x=\"end_time_rounded\", y=\"distance\", data=df_bikes_distances)\n",
    "distance_lineplot.set_xlabel('time')\n",
    "distance_lineplot.set_ylabel('distance (km)')\n",
    "distance_lineplot.set_title(\"cumulated distance per hour per day\")\n",
    "plt.savefig('saving-a-seaborn-plot-as-pdf-file-300dpi2.pdf')\n",
    "plt.show()"
   ],
   "metadata": {
    "collapsed": false,
    "pycharm": {
     "name": "#%%\n"
    }
   }
  },
  {
   "cell_type": "code",
   "execution_count": 16,
   "outputs": [
    {
     "data": {
      "text/plain": "<Figure size 432x288 with 0 Axes>"
     },
     "metadata": {},
     "output_type": "display_data"
    }
   ],
   "source": [
    "plt.savefig('vis_all_user_distance_hours.pdf')"
   ],
   "metadata": {
    "collapsed": false,
    "pycharm": {
     "name": "#%%\n"
    }
   }
  }
 ],
 "metadata": {
  "kernelspec": {
   "name": "pycharm-2bce6d71",
   "language": "python",
   "display_name": "PyCharm (dsml2021)"
  },
  "language_info": {
   "codemirror_mode": {
    "name": "ipython",
    "version": 2
   },
   "file_extension": ".py",
   "mimetype": "text/x-python",
   "name": "python",
   "nbconvert_exporter": "python",
   "pygments_lexer": "ipython2",
   "version": "2.7.6"
  }
 },
 "nbformat": 4,
 "nbformat_minor": 0
}