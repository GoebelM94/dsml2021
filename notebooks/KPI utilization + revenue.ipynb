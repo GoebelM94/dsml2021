{
 "cells": [
  {
   "cell_type": "code",
   "execution_count": 1,
   "metadata": {
    "collapsed": true
   },
   "outputs": [],
   "source": [
    "#general imports\n",
    "import pandas as pd\n",
    "import numpy as np\n",
    "\n",
    "#statsmodels for regression\n",
    "import statsmodels.api as sm\n",
    "import statsmodels.formula.api as smf\n",
    "from statsmodels.iolib.summary2 import summary_col\n",
    "\n",
    "#scipy for testing\n",
    "from scipy import stats\n",
    "\n",
    "#for visualization\n",
    "import matplotlib.pyplot as plt\n",
    "import seaborn as sns\n",
    "\n",
    "from datetime import datetime\n",
    "from datetime import timedelta"
   ]
  },
  {
   "cell_type": "code",
   "execution_count": 2,
   "outputs": [],
   "source": [
    "##Bike Data"
   ],
   "metadata": {
    "collapsed": false,
    "pycharm": {
     "name": "#%%\n"
    }
   }
  },
  {
   "cell_type": "code",
   "execution_count": 3,
   "outputs": [
    {
     "data": {
      "text/plain": "      start_time       end_time  start_station_id  end_station_id  bike_id  \\\n0  1/1/2017 0:05  1/1/2017 0:16              3046            3041     5347   \n1  1/1/2017 0:21  1/1/2017 0:57              3110            3054     3364   \n2  1/1/2017 0:22  1/1/2017 0:57              3110            3054     2536   \n3  1/1/2017 0:27  1/1/2017 0:39              3041            3005     5176   \n4  1/1/2017 0:28  1/1/2017 0:36              3047            3124     5370   \n\n  user_type           start_station_name     end_station_name  \n0  Indego30                 2nd & Market  Girard Station, MFL  \n1   Walk-up  Del. River Trail & Penn St.         Rodin Museum  \n2   Walk-up  Del. River Trail & Penn St.         Rodin Museum  \n3  Indego30          Girard Station, MFL    Welcome Park, NPS  \n4   Walk-up       Independence Mall, NPS     Race Street Pier  ",
      "text/html": "<div>\n<style scoped>\n    .dataframe tbody tr th:only-of-type {\n        vertical-align: middle;\n    }\n\n    .dataframe tbody tr th {\n        vertical-align: top;\n    }\n\n    .dataframe thead th {\n        text-align: right;\n    }\n</style>\n<table border=\"1\" class=\"dataframe\">\n  <thead>\n    <tr style=\"text-align: right;\">\n      <th></th>\n      <th>start_time</th>\n      <th>end_time</th>\n      <th>start_station_id</th>\n      <th>end_station_id</th>\n      <th>bike_id</th>\n      <th>user_type</th>\n      <th>start_station_name</th>\n      <th>end_station_name</th>\n    </tr>\n  </thead>\n  <tbody>\n    <tr>\n      <th>0</th>\n      <td>1/1/2017 0:05</td>\n      <td>1/1/2017 0:16</td>\n      <td>3046</td>\n      <td>3041</td>\n      <td>5347</td>\n      <td>Indego30</td>\n      <td>2nd &amp; Market</td>\n      <td>Girard Station, MFL</td>\n    </tr>\n    <tr>\n      <th>1</th>\n      <td>1/1/2017 0:21</td>\n      <td>1/1/2017 0:57</td>\n      <td>3110</td>\n      <td>3054</td>\n      <td>3364</td>\n      <td>Walk-up</td>\n      <td>Del. River Trail &amp; Penn St.</td>\n      <td>Rodin Museum</td>\n    </tr>\n    <tr>\n      <th>2</th>\n      <td>1/1/2017 0:22</td>\n      <td>1/1/2017 0:57</td>\n      <td>3110</td>\n      <td>3054</td>\n      <td>2536</td>\n      <td>Walk-up</td>\n      <td>Del. River Trail &amp; Penn St.</td>\n      <td>Rodin Museum</td>\n    </tr>\n    <tr>\n      <th>3</th>\n      <td>1/1/2017 0:27</td>\n      <td>1/1/2017 0:39</td>\n      <td>3041</td>\n      <td>3005</td>\n      <td>5176</td>\n      <td>Indego30</td>\n      <td>Girard Station, MFL</td>\n      <td>Welcome Park, NPS</td>\n    </tr>\n    <tr>\n      <th>4</th>\n      <td>1/1/2017 0:28</td>\n      <td>1/1/2017 0:36</td>\n      <td>3047</td>\n      <td>3124</td>\n      <td>5370</td>\n      <td>Walk-up</td>\n      <td>Independence Mall, NPS</td>\n      <td>Race Street Pier</td>\n    </tr>\n  </tbody>\n</table>\n</div>"
     },
     "execution_count": 3,
     "metadata": {},
     "output_type": "execute_result"
    }
   ],
   "source": [
    "df_bikes = pd.read_csv('../data/philadelphia_2017.csv')\n",
    "df_weather = pd.read_csv('../data/weather_hourly_philadelphia.csv')\n",
    "\n",
    "df_bikes.head()"
   ],
   "metadata": {
    "collapsed": false,
    "pycharm": {
     "name": "#%%\n"
    }
   }
  },
  {
   "cell_type": "code",
   "execution_count": 4,
   "outputs": [
    {
     "data": {
      "text/plain": "       start_station_id  end_station_id        bike_id\ncount     788907.000000   788907.000000  788907.000000\nmean        3057.400081     3056.431487    5428.980913\nstd           41.126829       41.108792    3221.972215\nmin         3000.000000     3000.000000       0.000000\n25%         3023.000000     3023.000000    3350.000000\n50%         3050.000000     3049.000000    3703.000000\n75%         3075.000000     3074.000000    5370.000000\nmax         3170.000000     3170.000000   11965.000000",
      "text/html": "<div>\n<style scoped>\n    .dataframe tbody tr th:only-of-type {\n        vertical-align: middle;\n    }\n\n    .dataframe tbody tr th {\n        vertical-align: top;\n    }\n\n    .dataframe thead th {\n        text-align: right;\n    }\n</style>\n<table border=\"1\" class=\"dataframe\">\n  <thead>\n    <tr style=\"text-align: right;\">\n      <th></th>\n      <th>start_station_id</th>\n      <th>end_station_id</th>\n      <th>bike_id</th>\n    </tr>\n  </thead>\n  <tbody>\n    <tr>\n      <th>count</th>\n      <td>788907.000000</td>\n      <td>788907.000000</td>\n      <td>788907.000000</td>\n    </tr>\n    <tr>\n      <th>mean</th>\n      <td>3057.400081</td>\n      <td>3056.431487</td>\n      <td>5428.980913</td>\n    </tr>\n    <tr>\n      <th>std</th>\n      <td>41.126829</td>\n      <td>41.108792</td>\n      <td>3221.972215</td>\n    </tr>\n    <tr>\n      <th>min</th>\n      <td>3000.000000</td>\n      <td>3000.000000</td>\n      <td>0.000000</td>\n    </tr>\n    <tr>\n      <th>25%</th>\n      <td>3023.000000</td>\n      <td>3023.000000</td>\n      <td>3350.000000</td>\n    </tr>\n    <tr>\n      <th>50%</th>\n      <td>3050.000000</td>\n      <td>3049.000000</td>\n      <td>3703.000000</td>\n    </tr>\n    <tr>\n      <th>75%</th>\n      <td>3075.000000</td>\n      <td>3074.000000</td>\n      <td>5370.000000</td>\n    </tr>\n    <tr>\n      <th>max</th>\n      <td>3170.000000</td>\n      <td>3170.000000</td>\n      <td>11965.000000</td>\n    </tr>\n  </tbody>\n</table>\n</div>"
     },
     "execution_count": 4,
     "metadata": {},
     "output_type": "execute_result"
    }
   ],
   "source": [
    "df_bikes.describe()"
   ],
   "metadata": {
    "collapsed": false,
    "pycharm": {
     "name": "#%%\n"
    }
   }
  },
  {
   "cell_type": "code",
   "execution_count": 5,
   "outputs": [],
   "source": [
    "##Weather Data"
   ],
   "metadata": {
    "collapsed": false,
    "pycharm": {
     "name": "#%%\n"
    }
   }
  },
  {
   "cell_type": "code",
   "execution_count": 6,
   "outputs": [
    {
     "data": {
      "text/plain": "             date_time  max_temp  min_temp  precip\n0  2015-01-02 01:00:00       3.3       3.3     0.0\n1  2015-01-02 02:00:00       2.8       2.8     0.0\n2  2015-01-02 03:00:00       2.2       2.2     0.0\n3  2015-01-02 04:00:00       0.6       0.6     0.0\n4  2015-01-02 05:00:00       1.1       1.1     0.0",
      "text/html": "<div>\n<style scoped>\n    .dataframe tbody tr th:only-of-type {\n        vertical-align: middle;\n    }\n\n    .dataframe tbody tr th {\n        vertical-align: top;\n    }\n\n    .dataframe thead th {\n        text-align: right;\n    }\n</style>\n<table border=\"1\" class=\"dataframe\">\n  <thead>\n    <tr style=\"text-align: right;\">\n      <th></th>\n      <th>date_time</th>\n      <th>max_temp</th>\n      <th>min_temp</th>\n      <th>precip</th>\n    </tr>\n  </thead>\n  <tbody>\n    <tr>\n      <th>0</th>\n      <td>2015-01-02 01:00:00</td>\n      <td>3.3</td>\n      <td>3.3</td>\n      <td>0.0</td>\n    </tr>\n    <tr>\n      <th>1</th>\n      <td>2015-01-02 02:00:00</td>\n      <td>2.8</td>\n      <td>2.8</td>\n      <td>0.0</td>\n    </tr>\n    <tr>\n      <th>2</th>\n      <td>2015-01-02 03:00:00</td>\n      <td>2.2</td>\n      <td>2.2</td>\n      <td>0.0</td>\n    </tr>\n    <tr>\n      <th>3</th>\n      <td>2015-01-02 04:00:00</td>\n      <td>0.6</td>\n      <td>0.6</td>\n      <td>0.0</td>\n    </tr>\n    <tr>\n      <th>4</th>\n      <td>2015-01-02 05:00:00</td>\n      <td>1.1</td>\n      <td>1.1</td>\n      <td>0.0</td>\n    </tr>\n  </tbody>\n</table>\n</div>"
     },
     "execution_count": 6,
     "metadata": {},
     "output_type": "execute_result"
    }
   ],
   "source": [
    "df_weather.head()"
   ],
   "metadata": {
    "collapsed": false,
    "pycharm": {
     "name": "#%%\n"
    }
   }
  },
  {
   "cell_type": "code",
   "execution_count": 7,
   "outputs": [
    {
     "data": {
      "text/plain": "           max_temp      min_temp        precip\ncount  43785.000000  43785.000000  43785.000000\nmean      14.204796     14.121300      0.087770\nstd       10.272673     10.259344      0.282963\nmin      -16.700000    -16.700000      0.000000\n25%        6.100000      6.100000      0.000000\n50%       15.000000     14.400000      0.000000\n75%       22.800000     22.800000      0.000000\nmax       36.700000     36.700000      1.000000",
      "text/html": "<div>\n<style scoped>\n    .dataframe tbody tr th:only-of-type {\n        vertical-align: middle;\n    }\n\n    .dataframe tbody tr th {\n        vertical-align: top;\n    }\n\n    .dataframe thead th {\n        text-align: right;\n    }\n</style>\n<table border=\"1\" class=\"dataframe\">\n  <thead>\n    <tr style=\"text-align: right;\">\n      <th></th>\n      <th>max_temp</th>\n      <th>min_temp</th>\n      <th>precip</th>\n    </tr>\n  </thead>\n  <tbody>\n    <tr>\n      <th>count</th>\n      <td>43785.000000</td>\n      <td>43785.000000</td>\n      <td>43785.000000</td>\n    </tr>\n    <tr>\n      <th>mean</th>\n      <td>14.204796</td>\n      <td>14.121300</td>\n      <td>0.087770</td>\n    </tr>\n    <tr>\n      <th>std</th>\n      <td>10.272673</td>\n      <td>10.259344</td>\n      <td>0.282963</td>\n    </tr>\n    <tr>\n      <th>min</th>\n      <td>-16.700000</td>\n      <td>-16.700000</td>\n      <td>0.000000</td>\n    </tr>\n    <tr>\n      <th>25%</th>\n      <td>6.100000</td>\n      <td>6.100000</td>\n      <td>0.000000</td>\n    </tr>\n    <tr>\n      <th>50%</th>\n      <td>15.000000</td>\n      <td>14.400000</td>\n      <td>0.000000</td>\n    </tr>\n    <tr>\n      <th>75%</th>\n      <td>22.800000</td>\n      <td>22.800000</td>\n      <td>0.000000</td>\n    </tr>\n    <tr>\n      <th>max</th>\n      <td>36.700000</td>\n      <td>36.700000</td>\n      <td>1.000000</td>\n    </tr>\n  </tbody>\n</table>\n</div>"
     },
     "execution_count": 7,
     "metadata": {},
     "output_type": "execute_result"
    }
   ],
   "source": [
    "df_weather.describe()"
   ],
   "metadata": {
    "collapsed": false,
    "pycharm": {
     "name": "#%%\n"
    }
   }
  },
  {
   "cell_type": "code",
   "execution_count": 8,
   "outputs": [
    {
     "data": {
      "text/plain": "           start_time            end_time  start_station_id  end_station_id  \\\n0 2017-01-01 00:05:00 2017-01-01 00:16:00              3046            3041   \n1 2017-01-01 00:21:00 2017-01-01 00:57:00              3110            3054   \n2 2017-01-01 00:22:00 2017-01-01 00:57:00              3110            3054   \n3 2017-01-01 00:27:00 2017-01-01 00:39:00              3041            3005   \n4 2017-01-01 00:28:00 2017-01-01 00:36:00              3047            3124   \n\n   bike_id user_type           start_station_name     end_station_name  \\\n0     5347  Indego30                 2nd & Market  Girard Station, MFL   \n1     3364   Walk-up  Del. River Trail & Penn St.         Rodin Museum   \n2     2536   Walk-up  Del. River Trail & Penn St.         Rodin Museum   \n3     5176  Indego30          Girard Station, MFL    Welcome Park, NPS   \n4     5370   Walk-up       Independence Mall, NPS     Race Street Pier   \n\n         duration  weekday  is_weekday  \n0 0 days 00:11:00        6           0  \n1 0 days 00:36:00        6           0  \n2 0 days 00:35:00        6           0  \n3 0 days 00:12:00        6           0  \n4 0 days 00:08:00        6           0  ",
      "text/html": "<div>\n<style scoped>\n    .dataframe tbody tr th:only-of-type {\n        vertical-align: middle;\n    }\n\n    .dataframe tbody tr th {\n        vertical-align: top;\n    }\n\n    .dataframe thead th {\n        text-align: right;\n    }\n</style>\n<table border=\"1\" class=\"dataframe\">\n  <thead>\n    <tr style=\"text-align: right;\">\n      <th></th>\n      <th>start_time</th>\n      <th>end_time</th>\n      <th>start_station_id</th>\n      <th>end_station_id</th>\n      <th>bike_id</th>\n      <th>user_type</th>\n      <th>start_station_name</th>\n      <th>end_station_name</th>\n      <th>duration</th>\n      <th>weekday</th>\n      <th>is_weekday</th>\n    </tr>\n  </thead>\n  <tbody>\n    <tr>\n      <th>0</th>\n      <td>2017-01-01 00:05:00</td>\n      <td>2017-01-01 00:16:00</td>\n      <td>3046</td>\n      <td>3041</td>\n      <td>5347</td>\n      <td>Indego30</td>\n      <td>2nd &amp; Market</td>\n      <td>Girard Station, MFL</td>\n      <td>0 days 00:11:00</td>\n      <td>6</td>\n      <td>0</td>\n    </tr>\n    <tr>\n      <th>1</th>\n      <td>2017-01-01 00:21:00</td>\n      <td>2017-01-01 00:57:00</td>\n      <td>3110</td>\n      <td>3054</td>\n      <td>3364</td>\n      <td>Walk-up</td>\n      <td>Del. River Trail &amp; Penn St.</td>\n      <td>Rodin Museum</td>\n      <td>0 days 00:36:00</td>\n      <td>6</td>\n      <td>0</td>\n    </tr>\n    <tr>\n      <th>2</th>\n      <td>2017-01-01 00:22:00</td>\n      <td>2017-01-01 00:57:00</td>\n      <td>3110</td>\n      <td>3054</td>\n      <td>2536</td>\n      <td>Walk-up</td>\n      <td>Del. River Trail &amp; Penn St.</td>\n      <td>Rodin Museum</td>\n      <td>0 days 00:35:00</td>\n      <td>6</td>\n      <td>0</td>\n    </tr>\n    <tr>\n      <th>3</th>\n      <td>2017-01-01 00:27:00</td>\n      <td>2017-01-01 00:39:00</td>\n      <td>3041</td>\n      <td>3005</td>\n      <td>5176</td>\n      <td>Indego30</td>\n      <td>Girard Station, MFL</td>\n      <td>Welcome Park, NPS</td>\n      <td>0 days 00:12:00</td>\n      <td>6</td>\n      <td>0</td>\n    </tr>\n    <tr>\n      <th>4</th>\n      <td>2017-01-01 00:28:00</td>\n      <td>2017-01-01 00:36:00</td>\n      <td>3047</td>\n      <td>3124</td>\n      <td>5370</td>\n      <td>Walk-up</td>\n      <td>Independence Mall, NPS</td>\n      <td>Race Street Pier</td>\n      <td>0 days 00:08:00</td>\n      <td>6</td>\n      <td>0</td>\n    </tr>\n  </tbody>\n</table>\n</div>"
     },
     "execution_count": 8,
     "metadata": {},
     "output_type": "execute_result"
    }
   ],
   "source": [
    "# start and end time transformed to datetime and added duration from start till the end of the loan\n",
    "df_bikes[\"start_time\"] = pd.to_datetime(df_bikes[\"start_time\"], dayfirst = True)\n",
    "\n",
    "df_bikes[\"end_time\"] = pd.to_datetime(df_bikes[\"end_time\"], dayfirst = True)\n",
    "\n",
    "df_bikes['duration'] = df_bikes['end_time'] - df_bikes['start_time']\n",
    "\n",
    "df_bikes['weekday'] = df_bikes[\"start_time\"].apply(lambda x: x.weekday())\n",
    "\n",
    "\n",
    "#checks whether the weekday is a day in the week(1) or in weekend(0)\n",
    "def is_weekday(day):\n",
    "    if day == 5 or day == 6:\n",
    "        return 0\n",
    "    else:\n",
    "        return 1\n",
    "\n",
    "\n",
    "df_bikes['is_weekday'] = df_bikes['weekday'].apply(lambda x: is_weekday(x))\n",
    "\n",
    "df_bikes.head()"
   ],
   "metadata": {
    "collapsed": false,
    "pycharm": {
     "name": "#%%\n"
    }
   }
  },
  {
   "cell_type": "code",
   "execution_count": 9,
   "outputs": [],
   "source": [
    "ride_lengths = []\n",
    "\n",
    "for label, content in df_bikes.iterrows():\n",
    "    ride_lengths.append(content['duration'])"
   ],
   "metadata": {
    "collapsed": false,
    "pycharm": {
     "name": "#%%\n"
    }
   }
  },
  {
   "cell_type": "code",
   "execution_count": 10,
   "outputs": [],
   "source": [
    "\n",
    "ride_lengths_np = np.array(ride_lengths)\n",
    "iqr = stats.iqr(ride_lengths_np)\n",
    "iqr\n",
    "\n",
    "q1,q3 = np.percentile(ride_lengths_np, [25,95])\n",
    "\n",
    "lower_range = q1 - (1.5*iqr)\n",
    "upper_range = q3 + (1.5*iqr)\n",
    "\n",
    "\n",
    "minutes_0 = timedelta(minutes=0)\n",
    "\n",
    "#A ride, can't be shorter than 0 Minutes obviously\n",
    "if lower_range < minutes_0:\n",
    "    lower_range = minutes_0\n",
    "\n",
    "df_bikes.drop(df_bikes[ (df_bikes['duration'].apply(lambda x: x) > upper_range) | (df_bikes['duration'].apply(lambda x: x) < lower_range) ].index , inplace=True)"
   ],
   "metadata": {
    "collapsed": false,
    "pycharm": {
     "name": "#%%\n"
    }
   }
  },
  {
   "cell_type": "code",
   "execution_count": 11,
   "outputs": [
    {
     "name": "stdout",
     "output_type": "stream",
     "text": [
      "763125\n"
     ]
    }
   ],
   "source": [
    "print(len(df_bikes))"
   ],
   "metadata": {
    "collapsed": false,
    "pycharm": {
     "name": "#%%\n"
    }
   }
  },
  {
   "cell_type": "code",
   "execution_count": 12,
   "outputs": [
    {
     "name": "stdout",
     "output_type": "stream",
     "text": [
      "[[3072, 'Front & Carpenter'], [3073, '9th & Spring Garden'], [3074, '44th & Walnut'], [3075, 'Fairmount & Ridge'], [3077, '17th & Girard'], [3078, '19th & Market'], [3083, '3083'], [3086, 'Broad & Christian'], [3088, '3rd & Girard'], [3093, '33rd & Diamond'], [3095, '29th & Diamond'], [3096, '29th & Dauphin'], [3097, 'Berks Station, MFL'], [3098, '10th & Federal'], [3099, '4th & Washington'], [3100, 'Moyamensing & Tasker'], [3101, '11th & South'], [3102, 'Pennsylvania & Fairmount Perelman Building'], [3103, '27th & Master, Athletic Recreation Center'], [3104, '34th & Mantua'], [3105, 'Penn Treaty Park'], [3106, '33rd & Dauphin'], [3107, '33rd & Reservoir'], [3108, '15th & Market'], [3109, 'Parkside & Girard'], [3110, 'Del. River Trail & Penn St.'], [3111, 'Parkside & Belmont, Case Building'], [3112, '48th & Spruce'], [3113, 'Philadelphia Zoo'], [3114, '22nd & Federal'], [3115, '19th & Girard, PTTI'], [3116, 'Barnes Foundation'], [3117, 'ParkWest Town Center'], [3118, '46th Street Station, MFL'], [3119, '42nd & Lancaster'], [3120, '31st & Girard'], [3121, '27th & Girard'], [3122, '24th & Cecil B. Moore, Cecil B. Moore Library'], [3123, '22nd & Cecil B. Moore'], [3124, 'Race Street Pier'], [3125, '15th & South'], [3129, \"The Children's Hospital of Philadelphia, Osler Circle\"], [3150, '15th & Castle, DiSilvestro Playground'], [3152, '40th & Baltimore, Trolley Portal'], [3153, 'Thompson & Palmer, Adaire School'], [3154, '12th & Callowhill'], [3155, '7th & Fitzwater'], [3156, '20th & Market'], [3157, '8th & Mifflin, Bok Building'], [3158, 'Broad & Passyunk'], [3159, '38th & Spruce'], [3160, '38th & Market'], [3161, '30th Street Station East'], [3162, '27th & South'], [3163, '25th & Locust'], [3164, '12th & Passyunk'], [3165, '24th & Race SRT'], [3168, '20th & Sansom'], [3169, '2nd & Race'], [3170, 'Grays Ferry & Pemberton'], [3000, 'Virtual Station'], [3004, 'Municipal Services Building Plaza'], [3005, 'Welcome Park, NPS'], [3006, '40th & Spruce'], [3007, '11th & Pine, Kahn Park'], [3008, 'Temple University Station'], [3009, '33rd & Market'], [3010, '15th & Spruce'], [3011, '38th & Powelton'], [3012, '21st & Catharine'], [3013, '6th & Fairmount'], [3014, '21st & Winter, Franklin Institute'], [3015, '4th & Walnut, NPS'], [3016, '11th & Poplar, John F. Street Community Center'], [3017, '6th & Berks'], [3018, '12th & Filbert'], [3019, '6th & Race'], [3020, 'University City Station'], [3021, '18th & JFK'], [3022, 'Amtrak 30th Street Station'], [3023, 'Rittenhouse Square'], [3024, '43rd & Chester, Clark Park'], [3025, '11th & Washington'], [3026, '2nd & South'], [3027, '40th Street Station, MFL'], [3028, '4th & Bainbridge'], [3029, '36th & Sansom'], [3030, 'Darien & Catharine'], [3031, '13th & Montgomery'], [3032, '23rd & South'], [3033, '10th & Chestnut'], [3034, '11th & Reed'], [3035, 'Dornsife Center'], [3036, '2nd & Germantown'], [3037, 'Pennsylvania Convention Center'], [3038, \"The Children's Hospital of Philadelphia (CHOP)\"], [3039, 'Broad & Girard'], [3040, '17th & Spring Garden'], [3041, 'Girard Station, MFL'], [3043, '18th & Fernon, Aquinas Center'], [3045, '13th & Locust'], [3046, '2nd & Market'], [3047, 'Independence Mall, NPS'], [3049, 'Foglietta Plaza'], [3050, '9th & Arch'], [3051, '23rd & Fairmount'], [3052, '9th & Locust'], [3053, 'Point Breeze & Tasker'], [3054, 'Rodin Museum'], [3055, '8th & Market'], [3056, 'Broad & Oxford'], [3057, 'Philadelphia Museum of Art'], [3058, '20th & Fairmount'], [3059, 'Spring Garden Station, BSL'], [3060, 'Free Library of Philadelphia - Central Library'], [3061, '23rd & Market'], [3062, '24th & Sansom'], [3063, '17th & Pine'], [3064, '18th & Washington, Chew Playground'], [3065, 'Girard & Hutchinson'], [3066, '19th & Lombard'], [3067, '39th & Mt. Vernon, Mantua Haverford Community Center'], [3068, 'Broad & Federal'], [3069, '4th & Christian'], [3070, 'Spring Garden Station, MFL'], [3071, '32nd & Baring, Drexel Park']]\n"
     ]
    }
   ],
   "source": [
    "\n",
    "unique_station_ids = set(df_bikes['start_station_id'])\n",
    "id_mapped_to_station = []\n",
    "for id in unique_station_ids:\n",
    "    this_station = []\n",
    "    this_station.append(id)\n",
    "    this_station.append(df_bikes.loc[df_bikes['start_station_id'] == id].iloc[0]['start_station_name'])\n",
    "    id_mapped_to_station.append(this_station)\n",
    "print(id_mapped_to_station)"
   ],
   "metadata": {
    "collapsed": false,
    "pycharm": {
     "name": "#%%\n"
    }
   }
  },
  {
   "cell_type": "code",
   "execution_count": 13,
   "outputs": [
    {
     "name": "stdout",
     "output_type": "stream",
     "text": [
      "[4543, 5952, 5227, 5291, 2162, 10625, 9, 5509, 2685, 705, 1447, 875, 2437, 4622, 4252, 6365, 13479, 11136, 1018, 1773, 1098, 1060, 1299, 12560, 1336, 3281, 1593, 4711, 822, 6358, 3096, 48, 823, 2406, 1999, 5249, 5487, 790, 1290, 4908, 9956, 4014, 1605, 748, 1440, 3386, 1243, 5579, 2174, 2767, 3990, 2720, 4390, 3607, 4428, 570, 925, 130, 936, 3557, 102, 8679, 4488, 7544, 11808, 2896, 11126, 23158, 4145, 15072, 4813, 1818, 6378, 715, 1365, 11109, 3966, 15798, 19271, 14057, 23863, 4822, 6509, 8228, 4452, 12488, 11313, 8844, 5874, 15866, 8302, 7737, 5327, 2693, 6470, 9906, 4959, 9756, 4188, 5148, 18627, 9024, 8620, 5294, 7260, 8967, 11992, 7706, 15773, 5984, 8660, 12505, 9599, 7863, 8079, 9857, 6305, 12549, 9044, 1375, 10580, 696, 7561, 6234, 5213, 4214]\n"
     ]
    }
   ],
   "source": [
    "\n",
    "# das noch mit den IDs oder Namen der Stations matchen\n",
    "starting_id_loans = []\n",
    "for id in unique_station_ids:\n",
    "    starting_id_loans.append(sum(1 for i in df_bikes['start_station_id'] if i == id))\n",
    "print(starting_id_loans)"
   ],
   "metadata": {
    "collapsed": false,
    "pycharm": {
     "name": "#%%\n"
    }
   }
  },
  {
   "cell_type": "code",
   "execution_count": 14,
   "outputs": [
    {
     "name": "stdout",
     "output_type": "stream",
     "text": [
      "[4543, 5952, 5227, 5291, 2162, 10625, 9, 5509, 2685, 705, 1447, 875, 2437, 4622, 4252, 6365, 13479, 11136, 1018, 1773, 1098, 1060, 1299, 12560, 1336, 3281, 1593, 4711, 822, 6358, 3096, 48, 823, 2406, 1999, 5249, 5487, 790, 1290, 4908, 9956, 4014, 1605, 748, 1440, 3386, 1243, 5579, 2174, 2767, 3990, 2720, 4390, 3607, 4428, 570, 925, 130, 936, 3557, 102, 8679, 4488, 7544, 11808, 2896, 11126, 23158, 4145, 15072, 4813, 1818, 6378, 715, 1365, 11109, 3966, 15798, 19271, 14057, 23863, 4822, 6509, 8228, 4452, 12488, 11313, 8844, 5874, 15866, 8302, 7737, 5327, 2693, 6470, 9906, 4959, 9756, 4188, 5148, 18627, 9024, 8620, 5294, 7260, 8967, 11992, 7706, 15773, 5984, 8660, 12505, 9599, 7863, 8079, 9857, 6305, 12549, 9044, 1375, 10580, 696, 7561, 6234, 5213, 4214]\n"
     ]
    }
   ],
   "source": [
    "\n",
    "# das noch mit den IDs oder Namen der Stations matchen\n",
    "ending_id_loans = []\n",
    "for id in unique_station_ids:\n",
    "    ending_id_loans.append(sum(1 for i in df_bikes['end_station_id'] if i == id))\n",
    "print(starting_id_loans)"
   ],
   "metadata": {
    "collapsed": false,
    "pycharm": {
     "name": "#%%\n"
    }
   }
  },
  {
   "cell_type": "code",
   "execution_count": 15,
   "outputs": [
    {
     "data": {
      "text/plain": "Text(0, 0.5, 'EndID')"
     },
     "execution_count": 15,
     "metadata": {},
     "output_type": "execute_result"
    },
    {
     "data": {
      "text/plain": "<Figure size 432x288 with 1 Axes>",
      "image/png": "[encoded data removed]"
     },
     "metadata": {
      "needs_background": "light"
     },
     "output_type": "display_data"
    }
   ],
   "source": [
    "\n",
    "# schade, ich erkenne kein Muster :D\n",
    "fig, scplot_ids = plt.subplots(nrows=1,ncols=1)\n",
    "scplot_ids.scatter(df_bikes['start_station_id'],df_bikes['end_station_id'],s=3)\n",
    "scplot_ids.set_title(\"StartID - EndID Scatterplot\",fontsize=16)\n",
    "scplot_ids.set_xlabel(\"StartID\")\n",
    "scplot_ids.set_ylabel(\"EndID\")\n",
    "#scplot_ids.show()"
   ],
   "metadata": {
    "collapsed": false,
    "pycharm": {
     "name": "#%%\n"
    }
   }
  },
  {
   "cell_type": "code",
   "execution_count": 16,
   "outputs": [],
   "source": [
    "##KPI Utilization"
   ],
   "metadata": {
    "collapsed": false,
    "pycharm": {
     "name": "#%%\n"
    }
   }
  },
  {
   "cell_type": "code",
   "execution_count": 17,
   "outputs": [
    {
     "data": {
      "text/plain": "Indego30      657214\nWalkUp         86325\nIndegoFlex      5520\nOneDayPass      5765\nTwoDayPass      1527\nIndego365       6774\ndtype: int64"
     },
     "execution_count": 17,
     "metadata": {},
     "output_type": "execute_result"
    }
   ],
   "source": [
    "\n",
    "#lists up all possible user types\n",
    "\n",
    "#Note:\n",
    "#Because we are working in 2021 with this dataset, some passes have changed. We got our Information\n",
    "#from the official Indego Website so we derived that the 2017 user type 'Walk-up' is equivalent\n",
    "#to the 2021 'Guest Pass'.\n",
    "#Furthermore the user types 'IndegoFlex', 'OneDayPass' and 'TwoDayPass' do not exist any more in\n",
    "#2021. Due to the low amount of loans of these user types we decided to drop them and focus on the\n",
    "#more relevant user types which still exist and have significant more loans.\n",
    "\n",
    "sumIndego30 = sum(1 for i in df_bikes[\"user_type\"] if i == 'Indego30')\n",
    "sumWalkUp = sum(1 for i in df_bikes[\"user_type\"] if i == 'Walk-up')\n",
    "sumIndegoFlex = sum(1 for i in df_bikes[\"user_type\"] if i == 'IndegoFlex')\n",
    "sumOneDayPass = sum(1 for i in df_bikes[\"user_type\"] if i == 'One Day Pass')\n",
    "sumTwoDayPass = sum(1 for i in df_bikes[\"user_type\"] if i == 'Two Day Pass')\n",
    "sumIndego365 = sum(1 for i in df_bikes[\"user_type\"] if i == 'Indego365')\n",
    "\n",
    "\n",
    "user_type_dict = {'Indego30': sumIndego30,\n",
    "                  'WalkUp': sumWalkUp,\n",
    "                  'IndegoFlex': sumIndegoFlex,\n",
    "                  'OneDayPass': sumOneDayPass,\n",
    "                  'TwoDayPass': sumTwoDayPass,\n",
    "                  'Indego365': sumIndego365\n",
    "                 }\n",
    "user_type = pd.Series(user_type_dict)\n",
    "user_type\n"
   ],
   "metadata": {
    "collapsed": false,
    "pycharm": {
     "name": "#%%\n"
    }
   }
  },
  {
   "cell_type": "code",
   "execution_count": 18,
   "outputs": [
    {
     "name": "stdout",
     "output_type": "stream",
     "text": [
      "1250\n"
     ]
    }
   ],
   "source": [
    "\n",
    "#Wert müsste ungefähr passen. Laut Internetseite von Indego haben die seit 2019 1400 Fahrräder in der Flotte.\n",
    "\n",
    "unique_bike_id = set(df_bikes['bike_id'])\n",
    "\n",
    "print(len(unique_bike_id))"
   ],
   "metadata": {
    "collapsed": false,
    "pycharm": {
     "name": "#%%\n"
    }
   }
  },
  {
   "cell_type": "code",
   "execution_count": 19,
   "outputs": [
    {
     "name": "stdout",
     "output_type": "stream",
     "text": [
      "594\n"
     ]
    }
   ],
   "source": [
    "\n",
    "#sums up the number of loans of one specific bike in the dataset within 2017 (type in bike ID)\n",
    "def calc_unique_bike_amount_rides(v):\n",
    "    unique_bike_amount_rides = sum(1 for i in df_bikes[\"bike_id\"] if i == v)\n",
    "    return print(unique_bike_amount_rides)\n",
    "\n",
    "calc_unique_bike_amount_rides(2536)\n"
   ],
   "metadata": {
    "collapsed": false,
    "pycharm": {
     "name": "#%%\n"
    }
   }
  },
  {
   "cell_type": "code",
   "execution_count": 20,
   "outputs": [
    {
     "data": {
      "text/plain": "1.04"
     },
     "execution_count": 20,
     "metadata": {},
     "output_type": "execute_result"
    }
   ],
   "source": [
    "#type in the parameters to get the utilization in % at this point of time\n",
    "def utilization(year, month, day, hour, minute):\n",
    "    point_of_time = datetime(year, month, day, hour, minute)\n",
    "    df_smaller_pot = df_bikes[df_bikes[\"start_time\"] < point_of_time]\n",
    "    df_greater_pot = df_smaller_pot[df_smaller_pot[\"end_time\"] > point_of_time]\n",
    "    util = (len(df_greater_pot) / 1250) *100\n",
    "    return util\n",
    "\n",
    "utilization(2017, 1, 3, 12, 30)"
   ],
   "metadata": {
    "collapsed": false,
    "pycharm": {
     "name": "#%%\n"
    }
   }
  },
  {
   "cell_type": "code",
   "execution_count": 21,
   "outputs": [
    {
     "data": {
      "text/plain": "98.96000000000001"
     },
     "execution_count": 21,
     "metadata": {},
     "output_type": "execute_result"
    }
   ],
   "source": [
    "#type in the parameters to get the percentage of available bikes at this point of time\n",
    "def available_bikes(year, month, day, hour, minute):\n",
    "    point_of_time = datetime(year, month, day, hour, minute)\n",
    "    df_smaller_pot = df_bikes[df_bikes[\"start_time\"] < point_of_time]\n",
    "    df_greater_pot = df_smaller_pot[df_smaller_pot[\"end_time\"] > point_of_time]\n",
    "    avlbl = ((1250 - len(df_greater_pot)) / 1250) *100\n",
    "    return avlbl\n",
    "\n",
    "available_bikes(2017, 1, 3, 12, 30)"
   ],
   "metadata": {
    "collapsed": false,
    "pycharm": {
     "name": "#%%\n"
    }
   }
  },
  {
   "cell_type": "code",
   "execution_count": 22,
   "outputs": [
    {
     "name": "stdout",
     "output_type": "stream",
     "text": [
      "1.3599999999999999\n"
     ]
    }
   ],
   "source": [
    "\n",
    "#creates an array containing the utilization of every minute within one hour\n",
    "util_arr = []\n",
    "for i in range(0, 59):\n",
    "    util_arr.append(utilization(2017, 1, 3, 12, i))\n",
    "print(max(util_arr))"
   ],
   "metadata": {
    "collapsed": false,
    "pycharm": {
     "name": "#%%\n"
    }
   }
  },
  {
   "cell_type": "code",
   "execution_count": 23,
   "outputs": [
    {
     "data": {
      "text/plain": "1397"
     },
     "execution_count": 23,
     "metadata": {},
     "output_type": "execute_result"
    }
   ],
   "source": [
    "#sums up all loans for one entire day in 2017\n",
    "def loans_per_day(month, day):\n",
    "    day_in_2017_start = datetime(2017, month, day, 0, 0)\n",
    "    day_in_2017_end = datetime(2017, month, day, 23, 59)\n",
    "    df_day_start = df_bikes[df_bikes[\"start_time\"] >= day_in_2017_start]\n",
    "    df_day_end = df_day_start[df_day_start[\"start_time\"] <= day_in_2017_end]\n",
    "    return len(df_day_end)\n",
    "\n",
    "loans_per_day(1, 26)"
   ],
   "metadata": {
    "collapsed": false,
    "pycharm": {
     "name": "#%%\n"
    }
   }
  },
  {
   "cell_type": "code",
   "execution_count": 24,
   "outputs": [
    {
     "name": "stdout",
     "output_type": "stream",
     "text": [
      "[822, 1496, 1822, 0, 0, 0, 0, 0, 0, 0, 0, 0, 1378, 597, 745, 992, 1015, 1471, 1590, 1212, 1175, 628, 513, 1084, 1639, 1397, 1317, 796, 783, 1248]\n"
     ]
    }
   ],
   "source": [
    "\n",
    "#creates an array containing the total number of loans for one entire day for one month\n",
    "month_arr = []\n",
    "for i in range(1, 31):\n",
    "    month_arr.append(loans_per_day(1, i))\n",
    "print(month_arr)\n"
   ],
   "metadata": {
    "collapsed": false,
    "pycharm": {
     "name": "#%%\n"
    }
   }
  },
  {
   "cell_type": "code",
   "execution_count": 25,
   "outputs": [
    {
     "data": {
      "text/plain": "[<matplotlib.lines.Line2D at 0x10d28880>]"
     },
     "execution_count": 25,
     "metadata": {},
     "output_type": "execute_result"
    },
    {
     "data": {
      "text/plain": "<Figure size 432x288 with 1 Axes>",
      "image/png": "[encoded data removed]"
     },
     "metadata": {
      "needs_background": "light"
     },
     "output_type": "display_data"
    }
   ],
   "source": [
    "\n",
    "#total number of loans for one entire day for one month as lineplot\n",
    "x = range(1, 31)\n",
    "y = month_arr\n",
    "plt.plot(x, y)"
   ],
   "metadata": {
    "collapsed": false,
    "pycharm": {
     "name": "#%%\n"
    }
   }
  },
  {
   "cell_type": "code",
   "execution_count": 26,
   "outputs": [],
   "source": [
    "##KPI: Profit"
   ],
   "metadata": {
    "collapsed": false,
    "pycharm": {
     "name": "#%%\n"
    }
   }
  },
  {
   "cell_type": "code",
   "execution_count": 27,
   "outputs": [
    {
     "name": "stderr",
     "output_type": "stream",
     "text": [
      "<ipython-input-27-8899614bec82>:14: SettingWithCopyWarning: \n",
      "A value is trying to be set on a copy of a slice from a DataFrame.\n",
      "Try using .loc[row_indexer,col_indexer] = value instead\n",
      "\n",
      "See the caveats in the documentation: https://pandas.pydata.org/pandas-docs/stable/user_guide/indexing.html#returning-a-view-versus-a-copy\n",
      "  df_WalkUp_more_than_30_mins[\"overtime\"] = df_WalkUp_more_than_30_mins[\"duration\"] - minutes30\n",
      "<ipython-input-27-8899614bec82>:16: SettingWithCopyWarning: \n",
      "A value is trying to be set on a copy of a slice from a DataFrame.\n",
      "Try using .loc[row_indexer,col_indexer] = value instead\n",
      "\n",
      "See the caveats in the documentation: https://pandas.pydata.org/pandas-docs/stable/user_guide/indexing.html#returning-a-view-versus-a-copy\n",
      "  df_WalkUp_more_than_30_mins[\"costs_overtime\"] = df_WalkUp_more_than_30_mins[\"overtime\"].apply(lambda x: (x.total_seconds() / 60) * 0.15)\n"
     ]
    },
    {
     "data": {
      "text/plain": "            start_time            end_time  start_station_id  end_station_id  \\\n1  2017-01-01 00:21:00 2017-01-01 00:57:00              3110            3054   \n2  2017-01-01 00:22:00 2017-01-01 00:57:00              3110            3054   \n10 2017-01-01 00:40:00 2017-01-01 01:36:00              3124            3124   \n11 2017-01-01 00:41:00 2017-01-01 01:37:00              3124            3124   \n22 2017-01-01 01:03:00 2017-01-01 01:42:00              3055            3008   \n\n    bike_id user_type           start_station_name           end_station_name  \\\n1      3364   Walk-up  Del. River Trail & Penn St.               Rodin Museum   \n2      2536   Walk-up  Del. River Trail & Penn St.               Rodin Museum   \n10    11016   Walk-up             Race Street Pier           Race Street Pier   \n11     5351   Walk-up             Race Street Pier           Race Street Pier   \n22     2617   Walk-up                 8th & Market  Temple University Station   \n\n          duration  weekday  is_weekday        overtime  costs_overtime  \n1  0 days 00:36:00        6           0 0 days 00:06:00            0.90  \n2  0 days 00:35:00        6           0 0 days 00:05:00            0.75  \n10 0 days 00:56:00        6           0 0 days 00:26:00            3.90  \n11 0 days 00:56:00        6           0 0 days 00:26:00            3.90  \n22 0 days 00:39:00        6           0 0 days 00:09:00            1.35  ",
      "text/html": "<div>\n<style scoped>\n    .dataframe tbody tr th:only-of-type {\n        vertical-align: middle;\n    }\n\n    .dataframe tbody tr th {\n        vertical-align: top;\n    }\n\n    .dataframe thead th {\n        text-align: right;\n    }\n</style>\n<table border=\"1\" class=\"dataframe\">\n  <thead>\n    <tr style=\"text-align: right;\">\n      <th></th>\n      <th>start_time</th>\n      <th>end_time</th>\n      <th>start_station_id</th>\n      <th>end_station_id</th>\n      <th>bike_id</th>\n      <th>user_type</th>\n      <th>start_station_name</th>\n      <th>end_station_name</th>\n      <th>duration</th>\n      <th>weekday</th>\n      <th>is_weekday</th>\n      <th>overtime</th>\n      <th>costs_overtime</th>\n    </tr>\n  </thead>\n  <tbody>\n    <tr>\n      <th>1</th>\n      <td>2017-01-01 00:21:00</td>\n      <td>2017-01-01 00:57:00</td>\n      <td>3110</td>\n      <td>3054</td>\n      <td>3364</td>\n      <td>Walk-up</td>\n      <td>Del. River Trail &amp; Penn St.</td>\n      <td>Rodin Museum</td>\n      <td>0 days 00:36:00</td>\n      <td>6</td>\n      <td>0</td>\n      <td>0 days 00:06:00</td>\n      <td>0.90</td>\n    </tr>\n    <tr>\n      <th>2</th>\n      <td>2017-01-01 00:22:00</td>\n      <td>2017-01-01 00:57:00</td>\n      <td>3110</td>\n      <td>3054</td>\n      <td>2536</td>\n      <td>Walk-up</td>\n      <td>Del. River Trail &amp; Penn St.</td>\n      <td>Rodin Museum</td>\n      <td>0 days 00:35:00</td>\n      <td>6</td>\n      <td>0</td>\n      <td>0 days 00:05:00</td>\n      <td>0.75</td>\n    </tr>\n    <tr>\n      <th>10</th>\n      <td>2017-01-01 00:40:00</td>\n      <td>2017-01-01 01:36:00</td>\n      <td>3124</td>\n      <td>3124</td>\n      <td>11016</td>\n      <td>Walk-up</td>\n      <td>Race Street Pier</td>\n      <td>Race Street Pier</td>\n      <td>0 days 00:56:00</td>\n      <td>6</td>\n      <td>0</td>\n      <td>0 days 00:26:00</td>\n      <td>3.90</td>\n    </tr>\n    <tr>\n      <th>11</th>\n      <td>2017-01-01 00:41:00</td>\n      <td>2017-01-01 01:37:00</td>\n      <td>3124</td>\n      <td>3124</td>\n      <td>5351</td>\n      <td>Walk-up</td>\n      <td>Race Street Pier</td>\n      <td>Race Street Pier</td>\n      <td>0 days 00:56:00</td>\n      <td>6</td>\n      <td>0</td>\n      <td>0 days 00:26:00</td>\n      <td>3.90</td>\n    </tr>\n    <tr>\n      <th>22</th>\n      <td>2017-01-01 01:03:00</td>\n      <td>2017-01-01 01:42:00</td>\n      <td>3055</td>\n      <td>3008</td>\n      <td>2617</td>\n      <td>Walk-up</td>\n      <td>8th &amp; Market</td>\n      <td>Temple University Station</td>\n      <td>0 days 00:39:00</td>\n      <td>6</td>\n      <td>0</td>\n      <td>0 days 00:09:00</td>\n      <td>1.35</td>\n    </tr>\n  </tbody>\n</table>\n</div>"
     },
     "execution_count": 27,
     "metadata": {},
     "output_type": "execute_result"
    }
   ],
   "source": [
    "#Notes:\n",
    "# Prices from Indego's official website from 2021\n",
    "# The following calculations just contain the profit from overdrafts of the loans (Walk-up:\n",
    "# 15¢/minute for rides over 30 minutes + Indego30 and Indego365: 15¢/minute for rides over 60 minutes).\n",
    "# Of course the biggest profit is made from selling passes but we do not have any information\n",
    "# about the amount of sold passes so we focused on profit from overdrafts.\n",
    "\n",
    "\n",
    "#profit from overtime loans of usertype Walk-up\n",
    "minutes30 = timedelta(minutes=30)\n",
    "\n",
    "df_walk_up = df_bikes[df_bikes[\"user_type\"] == \"Walk-up\"]\n",
    "df_WalkUp_more_than_30_mins = df_walk_up[df_walk_up[\"duration\"] > minutes30]\n",
    "df_WalkUp_more_than_30_mins[\"overtime\"] = df_WalkUp_more_than_30_mins[\"duration\"] - minutes30\n",
    "\n",
    "df_WalkUp_more_than_30_mins[\"costs_overtime\"] = df_WalkUp_more_than_30_mins[\"overtime\"].apply(lambda x: (x.total_seconds() / 60) * 0.15)\n",
    "\n",
    "df_WalkUp_more_than_30_mins.head()"
   ],
   "metadata": {
    "collapsed": false,
    "pycharm": {
     "name": "#%%\n"
    }
   }
  },
  {
   "cell_type": "code",
   "execution_count": 28,
   "outputs": [
    {
     "name": "stdout",
     "output_type": "stream",
     "text": [
      "55487.70000000076\n"
     ]
    }
   ],
   "source": [
    "#total sum of all  overtime loans of usertype Walk-up\n",
    "sumWalkUpOvertimeProfit = sum(df_WalkUp_more_than_30_mins[\"costs_overtime\"].apply(lambda x: x))\n",
    "print(sumWalkUpOvertimeProfit)"
   ],
   "metadata": {
    "collapsed": false,
    "pycharm": {
     "name": "#%%\n"
    }
   }
  },
  {
   "cell_type": "code",
   "execution_count": 29,
   "outputs": [
    {
     "name": "stderr",
     "output_type": "stream",
     "text": [
      "<ipython-input-29-c2d2a52ad31c>:6: SettingWithCopyWarning: \n",
      "A value is trying to be set on a copy of a slice from a DataFrame.\n",
      "Try using .loc[row_indexer,col_indexer] = value instead\n",
      "\n",
      "See the caveats in the documentation: https://pandas.pydata.org/pandas-docs/stable/user_guide/indexing.html#returning-a-view-versus-a-copy\n",
      "  df_Indego30_more_than_60_mins[\"overtime\"] = df_Indego30_more_than_60_mins[\"duration\"] - minutes60\n",
      "<ipython-input-29-c2d2a52ad31c>:8: SettingWithCopyWarning: \n",
      "A value is trying to be set on a copy of a slice from a DataFrame.\n",
      "Try using .loc[row_indexer,col_indexer] = value instead\n",
      "\n",
      "See the caveats in the documentation: https://pandas.pydata.org/pandas-docs/stable/user_guide/indexing.html#returning-a-view-versus-a-copy\n",
      "  df_Indego30_more_than_60_mins[\"costs_overtime\"] = df_Indego30_more_than_60_mins[\"overtime\"].apply(lambda x: (x.total_seconds() / 60) * 0.15)\n"
     ]
    },
    {
     "data": {
      "text/plain": "              start_time            end_time  start_station_id  \\\n60   2017-01-01 02:52:00 2017-01-01 03:56:00              3059   \n844  2017-01-01 22:31:00 2017-01-01 23:41:00              3067   \n1255 2017-03-01 06:48:00 2017-03-01 07:58:00              3032   \n1457 2017-03-01 12:51:00 2017-03-01 13:52:00              3068   \n2441 2017-04-01 12:29:00 2017-04-01 13:38:00              3078   \n\n      end_station_id  bike_id user_type  \\\n60              3073    11042  Indego30   \n844             3067     5144  Indego30   \n1255            3022     3645  Indego30   \n1457            3033     3556  Indego30   \n2441            3023     5291  Indego30   \n\n                                     start_station_name  \\\n60                           Spring Garden Station, BSL   \n844   39th & Mt. Vernon, Mantua Haverford Community ...   \n1255                                       23rd & South   \n1457                                    Broad & Federal   \n2441                                      19th & Market   \n\n                                       end_station_name        duration  \\\n60                                  9th & Spring Garden 0 days 01:04:00   \n844   39th & Mt. Vernon, Mantua Haverford Community ... 0 days 01:10:00   \n1255                         Amtrak 30th Street Station 0 days 01:10:00   \n1457                                    10th & Chestnut 0 days 01:01:00   \n2441                                 Rittenhouse Square 0 days 01:09:00   \n\n      weekday  is_weekday        overtime  costs_overtime  \n60          6           0 0 days 00:04:00            0.60  \n844         6           0 0 days 00:10:00            1.50  \n1255        2           1 0 days 00:10:00            1.50  \n1457        2           1 0 days 00:01:00            0.15  \n2441        5           0 0 days 00:09:00            1.35  ",
      "text/html": "<div>\n<style scoped>\n    .dataframe tbody tr th:only-of-type {\n        vertical-align: middle;\n    }\n\n    .dataframe tbody tr th {\n        vertical-align: top;\n    }\n\n    .dataframe thead th {\n        text-align: right;\n    }\n</style>\n<table border=\"1\" class=\"dataframe\">\n  <thead>\n    <tr style=\"text-align: right;\">\n      <th></th>\n      <th>start_time</th>\n      <th>end_time</th>\n      <th>start_station_id</th>\n      <th>end_station_id</th>\n      <th>bike_id</th>\n      <th>user_type</th>\n      <th>start_station_name</th>\n      <th>end_station_name</th>\n      <th>duration</th>\n      <th>weekday</th>\n      <th>is_weekday</th>\n      <th>overtime</th>\n      <th>costs_overtime</th>\n    </tr>\n  </thead>\n  <tbody>\n    <tr>\n      <th>60</th>\n      <td>2017-01-01 02:52:00</td>\n      <td>2017-01-01 03:56:00</td>\n      <td>3059</td>\n      <td>3073</td>\n      <td>11042</td>\n      <td>Indego30</td>\n      <td>Spring Garden Station, BSL</td>\n      <td>9th &amp; Spring Garden</td>\n      <td>0 days 01:04:00</td>\n      <td>6</td>\n      <td>0</td>\n      <td>0 days 00:04:00</td>\n      <td>0.60</td>\n    </tr>\n    <tr>\n      <th>844</th>\n      <td>2017-01-01 22:31:00</td>\n      <td>2017-01-01 23:41:00</td>\n      <td>3067</td>\n      <td>3067</td>\n      <td>5144</td>\n      <td>Indego30</td>\n      <td>39th &amp; Mt. Vernon, Mantua Haverford Community ...</td>\n      <td>39th &amp; Mt. Vernon, Mantua Haverford Community ...</td>\n      <td>0 days 01:10:00</td>\n      <td>6</td>\n      <td>0</td>\n      <td>0 days 00:10:00</td>\n      <td>1.50</td>\n    </tr>\n    <tr>\n      <th>1255</th>\n      <td>2017-03-01 06:48:00</td>\n      <td>2017-03-01 07:58:00</td>\n      <td>3032</td>\n      <td>3022</td>\n      <td>3645</td>\n      <td>Indego30</td>\n      <td>23rd &amp; South</td>\n      <td>Amtrak 30th Street Station</td>\n      <td>0 days 01:10:00</td>\n      <td>2</td>\n      <td>1</td>\n      <td>0 days 00:10:00</td>\n      <td>1.50</td>\n    </tr>\n    <tr>\n      <th>1457</th>\n      <td>2017-03-01 12:51:00</td>\n      <td>2017-03-01 13:52:00</td>\n      <td>3068</td>\n      <td>3033</td>\n      <td>3556</td>\n      <td>Indego30</td>\n      <td>Broad &amp; Federal</td>\n      <td>10th &amp; Chestnut</td>\n      <td>0 days 01:01:00</td>\n      <td>2</td>\n      <td>1</td>\n      <td>0 days 00:01:00</td>\n      <td>0.15</td>\n    </tr>\n    <tr>\n      <th>2441</th>\n      <td>2017-04-01 12:29:00</td>\n      <td>2017-04-01 13:38:00</td>\n      <td>3078</td>\n      <td>3023</td>\n      <td>5291</td>\n      <td>Indego30</td>\n      <td>19th &amp; Market</td>\n      <td>Rittenhouse Square</td>\n      <td>0 days 01:09:00</td>\n      <td>5</td>\n      <td>0</td>\n      <td>0 days 00:09:00</td>\n      <td>1.35</td>\n    </tr>\n  </tbody>\n</table>\n</div>"
     },
     "execution_count": 29,
     "metadata": {},
     "output_type": "execute_result"
    }
   ],
   "source": [
    "#profit from overtime loans of usertype Indego30\n",
    "minutes60 = timedelta(minutes=60)\n",
    "\n",
    "df_Indego30 = df_bikes[df_bikes[\"user_type\"] == \"Indego30\"]\n",
    "df_Indego30_more_than_60_mins = df_Indego30[df_Indego30[\"duration\"] > minutes60]\n",
    "df_Indego30_more_than_60_mins[\"overtime\"] = df_Indego30_more_than_60_mins[\"duration\"] - minutes60\n",
    "\n",
    "df_Indego30_more_than_60_mins[\"costs_overtime\"] = df_Indego30_more_than_60_mins[\"overtime\"].apply(lambda x: (x.total_seconds() / 60) * 0.15)\n",
    "\n",
    "df_Indego30_more_than_60_mins.head()"
   ],
   "metadata": {
    "collapsed": false,
    "pycharm": {
     "name": "#%%\n"
    }
   }
  },
  {
   "cell_type": "code",
   "execution_count": 30,
   "outputs": [
    {
     "name": "stdout",
     "output_type": "stream",
     "text": [
      "2035.6500000000005\n"
     ]
    }
   ],
   "source": [
    "#total sum of all  overtime loans of usertype Indego30\n",
    "sumIndego30OvertimeProfit = sum(df_Indego30_more_than_60_mins[\"costs_overtime\"].apply(lambda x: x))\n",
    "print(sumIndego30OvertimeProfit)"
   ],
   "metadata": {
    "collapsed": false,
    "pycharm": {
     "name": "#%%\n"
    }
   }
  },
  {
   "cell_type": "code",
   "execution_count": 31,
   "outputs": [
    {
     "name": "stderr",
     "output_type": "stream",
     "text": [
      "<ipython-input-31-cddbfc7704ad>:5: SettingWithCopyWarning: \n",
      "A value is trying to be set on a copy of a slice from a DataFrame.\n",
      "Try using .loc[row_indexer,col_indexer] = value instead\n",
      "\n",
      "See the caveats in the documentation: https://pandas.pydata.org/pandas-docs/stable/user_guide/indexing.html#returning-a-view-versus-a-copy\n",
      "  df_Indego365_more_than_60_mins[\"overtime\"] = df_Indego365_more_than_60_mins[\"duration\"] - minutes60\n",
      "<ipython-input-31-cddbfc7704ad>:7: SettingWithCopyWarning: \n",
      "A value is trying to be set on a copy of a slice from a DataFrame.\n",
      "Try using .loc[row_indexer,col_indexer] = value instead\n",
      "\n",
      "See the caveats in the documentation: https://pandas.pydata.org/pandas-docs/stable/user_guide/indexing.html#returning-a-view-versus-a-copy\n",
      "  df_Indego365_more_than_60_mins[\"costs_overtime\"] = df_Indego365_more_than_60_mins[\"overtime\"].apply(lambda x: (x.total_seconds() / 60) * 0.15)\n"
     ]
    },
    {
     "data": {
      "text/plain": "                start_time            end_time  start_station_id  \\\n730681 2017-11-17 17:23:00 2017-11-17 18:31:00              3086   \n734250 2017-11-20 06:51:00 2017-11-20 08:00:00              3165   \n740289 2017-11-23 12:32:00 2017-11-23 13:34:00              3150   \n758225 2017-12-04 05:53:00 2017-12-04 06:54:00              3102   \n758932 2017-12-04 12:10:00 2017-12-04 13:14:00              3129   \n\n        end_station_id  bike_id  user_type  \\\n730681            3037    11821  Indego365   \n734250            3161     3506  Indego365   \n740289            3150    11726  Indego365   \n758225            3161     2536  Indego365   \n758932            3129     3288  Indego365   \n\n                                       start_station_name  \\\n730681                                  Broad & Christian   \n734250                                    24th & Race SRT   \n740289              15th & Castle, DiSilvestro Playground   \n758225         Pennsylvania & Fairmount Perelman Building   \n758932  The Children's Hospital of Philadelphia, Osler...   \n\n                                         end_station_name        duration  \\\n730681                     Pennsylvania Convention Center 0 days 01:08:00   \n734250                           30th Street Station East 0 days 01:09:00   \n740289              15th & Castle, DiSilvestro Playground 0 days 01:02:00   \n758225                           30th Street Station East 0 days 01:01:00   \n758932  The Children's Hospital of Philadelphia, Osler... 0 days 01:04:00   \n\n        weekday  is_weekday        overtime  costs_overtime  \n730681        4           1 0 days 00:08:00            1.20  \n734250        0           1 0 days 00:09:00            1.35  \n740289        3           1 0 days 00:02:00            0.30  \n758225        0           1 0 days 00:01:00            0.15  \n758932        0           1 0 days 00:04:00            0.60  ",
      "text/html": "<div>\n<style scoped>\n    .dataframe tbody tr th:only-of-type {\n        vertical-align: middle;\n    }\n\n    .dataframe tbody tr th {\n        vertical-align: top;\n    }\n\n    .dataframe thead th {\n        text-align: right;\n    }\n</style>\n<table border=\"1\" class=\"dataframe\">\n  <thead>\n    <tr style=\"text-align: right;\">\n      <th></th>\n      <th>start_time</th>\n      <th>end_time</th>\n      <th>start_station_id</th>\n      <th>end_station_id</th>\n      <th>bike_id</th>\n      <th>user_type</th>\n      <th>start_station_name</th>\n      <th>end_station_name</th>\n      <th>duration</th>\n      <th>weekday</th>\n      <th>is_weekday</th>\n      <th>overtime</th>\n      <th>costs_overtime</th>\n    </tr>\n  </thead>\n  <tbody>\n    <tr>\n      <th>730681</th>\n      <td>2017-11-17 17:23:00</td>\n      <td>2017-11-17 18:31:00</td>\n      <td>3086</td>\n      <td>3037</td>\n      <td>11821</td>\n      <td>Indego365</td>\n      <td>Broad &amp; Christian</td>\n      <td>Pennsylvania Convention Center</td>\n      <td>0 days 01:08:00</td>\n      <td>4</td>\n      <td>1</td>\n      <td>0 days 00:08:00</td>\n      <td>1.20</td>\n    </tr>\n    <tr>\n      <th>734250</th>\n      <td>2017-11-20 06:51:00</td>\n      <td>2017-11-20 08:00:00</td>\n      <td>3165</td>\n      <td>3161</td>\n      <td>3506</td>\n      <td>Indego365</td>\n      <td>24th &amp; Race SRT</td>\n      <td>30th Street Station East</td>\n      <td>0 days 01:09:00</td>\n      <td>0</td>\n      <td>1</td>\n      <td>0 days 00:09:00</td>\n      <td>1.35</td>\n    </tr>\n    <tr>\n      <th>740289</th>\n      <td>2017-11-23 12:32:00</td>\n      <td>2017-11-23 13:34:00</td>\n      <td>3150</td>\n      <td>3150</td>\n      <td>11726</td>\n      <td>Indego365</td>\n      <td>15th &amp; Castle, DiSilvestro Playground</td>\n      <td>15th &amp; Castle, DiSilvestro Playground</td>\n      <td>0 days 01:02:00</td>\n      <td>3</td>\n      <td>1</td>\n      <td>0 days 00:02:00</td>\n      <td>0.30</td>\n    </tr>\n    <tr>\n      <th>758225</th>\n      <td>2017-12-04 05:53:00</td>\n      <td>2017-12-04 06:54:00</td>\n      <td>3102</td>\n      <td>3161</td>\n      <td>2536</td>\n      <td>Indego365</td>\n      <td>Pennsylvania &amp; Fairmount Perelman Building</td>\n      <td>30th Street Station East</td>\n      <td>0 days 01:01:00</td>\n      <td>0</td>\n      <td>1</td>\n      <td>0 days 00:01:00</td>\n      <td>0.15</td>\n    </tr>\n    <tr>\n      <th>758932</th>\n      <td>2017-12-04 12:10:00</td>\n      <td>2017-12-04 13:14:00</td>\n      <td>3129</td>\n      <td>3129</td>\n      <td>3288</td>\n      <td>Indego365</td>\n      <td>The Children's Hospital of Philadelphia, Osler...</td>\n      <td>The Children's Hospital of Philadelphia, Osler...</td>\n      <td>0 days 01:04:00</td>\n      <td>0</td>\n      <td>1</td>\n      <td>0 days 00:04:00</td>\n      <td>0.60</td>\n    </tr>\n  </tbody>\n</table>\n</div>"
     },
     "execution_count": 31,
     "metadata": {},
     "output_type": "execute_result"
    }
   ],
   "source": [
    "#profit from overtime loans of usertype Indego365\n",
    "\n",
    "df_Indego365 = df_bikes[df_bikes[\"user_type\"] == \"Indego365\"]\n",
    "df_Indego365_more_than_60_mins = df_Indego365[df_Indego365[\"duration\"] > minutes60]\n",
    "df_Indego365_more_than_60_mins[\"overtime\"] = df_Indego365_more_than_60_mins[\"duration\"] - minutes60\n",
    "\n",
    "df_Indego365_more_than_60_mins[\"costs_overtime\"] = df_Indego365_more_than_60_mins[\"overtime\"].apply(lambda x: (x.total_seconds() / 60) * 0.15)\n",
    "\n",
    "df_Indego365_more_than_60_mins.head()"
   ],
   "metadata": {
    "collapsed": false,
    "pycharm": {
     "name": "#%%\n"
    }
   }
  },
  {
   "cell_type": "code",
   "execution_count": 32,
   "outputs": [
    {
     "name": "stdout",
     "output_type": "stream",
     "text": [
      "7.95\n"
     ]
    }
   ],
   "source": [
    "#total sum of all  overtime loans of usertype Indego365\n",
    "sumIndego365OvertimeProfit = sum(df_Indego365_more_than_60_mins[\"costs_overtime\"].apply(lambda x: x))\n",
    "print(sumIndego365OvertimeProfit)"
   ],
   "metadata": {
    "collapsed": false,
    "pycharm": {
     "name": "#%%\n"
    }
   }
  },
  {
   "cell_type": "code",
   "execution_count": 33,
   "outputs": [
    {
     "name": "stdout",
     "output_type": "stream",
     "text": [
      "[datetime.datetime(2017, 1, 1, 0, 0), datetime.datetime(2017, 1, 2, 0, 0), datetime.datetime(2017, 1, 3, 0, 0), datetime.datetime(2017, 1, 4, 0, 0), datetime.datetime(2017, 1, 5, 0, 0), datetime.datetime(2017, 1, 6, 0, 0), datetime.datetime(2017, 1, 7, 0, 0), datetime.datetime(2017, 1, 8, 0, 0), datetime.datetime(2017, 1, 9, 0, 0), datetime.datetime(2017, 1, 10, 0, 0), datetime.datetime(2017, 1, 11, 0, 0), datetime.datetime(2017, 1, 12, 0, 0), datetime.datetime(2017, 1, 13, 0, 0), datetime.datetime(2017, 1, 14, 0, 0), datetime.datetime(2017, 1, 15, 0, 0), datetime.datetime(2017, 1, 16, 0, 0), datetime.datetime(2017, 1, 17, 0, 0), datetime.datetime(2017, 1, 18, 0, 0), datetime.datetime(2017, 1, 19, 0, 0), datetime.datetime(2017, 1, 20, 0, 0), datetime.datetime(2017, 1, 21, 0, 0), datetime.datetime(2017, 1, 22, 0, 0), datetime.datetime(2017, 1, 23, 0, 0), datetime.datetime(2017, 1, 24, 0, 0), datetime.datetime(2017, 1, 25, 0, 0), datetime.datetime(2017, 1, 26, 0, 0), datetime.datetime(2017, 1, 27, 0, 0), datetime.datetime(2017, 1, 28, 0, 0), datetime.datetime(2017, 1, 29, 0, 0), datetime.datetime(2017, 1, 30, 0, 0), datetime.datetime(2017, 1, 31, 0, 0), datetime.datetime(2017, 2, 1, 0, 0), datetime.datetime(2017, 2, 2, 0, 0), datetime.datetime(2017, 2, 3, 0, 0), datetime.datetime(2017, 2, 4, 0, 0), datetime.datetime(2017, 2, 5, 0, 0), datetime.datetime(2017, 2, 6, 0, 0), datetime.datetime(2017, 2, 7, 0, 0), datetime.datetime(2017, 2, 8, 0, 0), datetime.datetime(2017, 2, 9, 0, 0), datetime.datetime(2017, 2, 10, 0, 0), datetime.datetime(2017, 2, 11, 0, 0), datetime.datetime(2017, 2, 12, 0, 0), datetime.datetime(2017, 2, 13, 0, 0), datetime.datetime(2017, 2, 14, 0, 0), datetime.datetime(2017, 2, 15, 0, 0), datetime.datetime(2017, 2, 16, 0, 0), datetime.datetime(2017, 2, 17, 0, 0), datetime.datetime(2017, 2, 18, 0, 0), datetime.datetime(2017, 2, 19, 0, 0), datetime.datetime(2017, 2, 20, 0, 0), datetime.datetime(2017, 2, 21, 0, 0), datetime.datetime(2017, 2, 22, 0, 0), datetime.datetime(2017, 2, 23, 0, 0), datetime.datetime(2017, 2, 24, 0, 0), datetime.datetime(2017, 2, 25, 0, 0), datetime.datetime(2017, 2, 26, 0, 0), datetime.datetime(2017, 2, 27, 0, 0), datetime.datetime(2017, 2, 28, 0, 0), datetime.datetime(2017, 3, 1, 0, 0), datetime.datetime(2017, 3, 2, 0, 0), datetime.datetime(2017, 3, 3, 0, 0), datetime.datetime(2017, 3, 4, 0, 0), datetime.datetime(2017, 3, 5, 0, 0), datetime.datetime(2017, 3, 6, 0, 0), datetime.datetime(2017, 3, 7, 0, 0), datetime.datetime(2017, 3, 8, 0, 0), datetime.datetime(2017, 3, 9, 0, 0), datetime.datetime(2017, 3, 10, 0, 0), datetime.datetime(2017, 3, 11, 0, 0), datetime.datetime(2017, 3, 12, 0, 0), datetime.datetime(2017, 3, 13, 0, 0), datetime.datetime(2017, 3, 14, 0, 0), datetime.datetime(2017, 3, 15, 0, 0), datetime.datetime(2017, 3, 16, 0, 0), datetime.datetime(2017, 3, 17, 0, 0), datetime.datetime(2017, 3, 18, 0, 0), datetime.datetime(2017, 3, 19, 0, 0), datetime.datetime(2017, 3, 20, 0, 0), datetime.datetime(2017, 3, 21, 0, 0), datetime.datetime(2017, 3, 22, 0, 0), datetime.datetime(2017, 3, 23, 0, 0), datetime.datetime(2017, 3, 24, 0, 0), datetime.datetime(2017, 3, 25, 0, 0), datetime.datetime(2017, 3, 26, 0, 0), datetime.datetime(2017, 3, 27, 0, 0), datetime.datetime(2017, 3, 28, 0, 0), datetime.datetime(2017, 3, 29, 0, 0), datetime.datetime(2017, 3, 30, 0, 0), datetime.datetime(2017, 3, 31, 0, 0), datetime.datetime(2017, 4, 1, 0, 0), datetime.datetime(2017, 4, 2, 0, 0), datetime.datetime(2017, 4, 3, 0, 0), datetime.datetime(2017, 4, 4, 0, 0), datetime.datetime(2017, 4, 5, 0, 0), datetime.datetime(2017, 4, 6, 0, 0), datetime.datetime(2017, 4, 7, 0, 0), datetime.datetime(2017, 4, 8, 0, 0), datetime.datetime(2017, 4, 9, 0, 0), datetime.datetime(2017, 4, 10, 0, 0), datetime.datetime(2017, 4, 11, 0, 0), datetime.datetime(2017, 4, 12, 0, 0), datetime.datetime(2017, 4, 13, 0, 0), datetime.datetime(2017, 4, 14, 0, 0), datetime.datetime(2017, 4, 15, 0, 0), datetime.datetime(2017, 4, 16, 0, 0), datetime.datetime(2017, 4, 17, 0, 0), datetime.datetime(2017, 4, 18, 0, 0), datetime.datetime(2017, 4, 19, 0, 0), datetime.datetime(2017, 4, 20, 0, 0), datetime.datetime(2017, 4, 21, 0, 0), datetime.datetime(2017, 4, 22, 0, 0), datetime.datetime(2017, 4, 23, 0, 0), datetime.datetime(2017, 4, 24, 0, 0), datetime.datetime(2017, 4, 25, 0, 0), datetime.datetime(2017, 4, 26, 0, 0), datetime.datetime(2017, 4, 27, 0, 0), datetime.datetime(2017, 4, 28, 0, 0), datetime.datetime(2017, 4, 29, 0, 0), datetime.datetime(2017, 4, 30, 0, 0), datetime.datetime(2017, 5, 1, 0, 0), datetime.datetime(2017, 5, 2, 0, 0), datetime.datetime(2017, 5, 3, 0, 0), datetime.datetime(2017, 5, 4, 0, 0), datetime.datetime(2017, 5, 5, 0, 0), datetime.datetime(2017, 5, 6, 0, 0), datetime.datetime(2017, 5, 7, 0, 0), datetime.datetime(2017, 5, 8, 0, 0), datetime.datetime(2017, 5, 9, 0, 0), datetime.datetime(2017, 5, 10, 0, 0), datetime.datetime(2017, 5, 11, 0, 0), datetime.datetime(2017, 5, 12, 0, 0), datetime.datetime(2017, 5, 13, 0, 0), datetime.datetime(2017, 5, 14, 0, 0), datetime.datetime(2017, 5, 15, 0, 0), datetime.datetime(2017, 5, 16, 0, 0), datetime.datetime(2017, 5, 17, 0, 0), datetime.datetime(2017, 5, 18, 0, 0), datetime.datetime(2017, 5, 19, 0, 0), datetime.datetime(2017, 5, 20, 0, 0), datetime.datetime(2017, 5, 21, 0, 0), datetime.datetime(2017, 5, 22, 0, 0), datetime.datetime(2017, 5, 23, 0, 0), datetime.datetime(2017, 5, 24, 0, 0), datetime.datetime(2017, 5, 25, 0, 0), datetime.datetime(2017, 5, 26, 0, 0), datetime.datetime(2017, 5, 27, 0, 0), datetime.datetime(2017, 5, 28, 0, 0), datetime.datetime(2017, 5, 29, 0, 0), datetime.datetime(2017, 5, 30, 0, 0), datetime.datetime(2017, 5, 31, 0, 0), datetime.datetime(2017, 6, 1, 0, 0), datetime.datetime(2017, 6, 2, 0, 0), datetime.datetime(2017, 6, 3, 0, 0), datetime.datetime(2017, 6, 4, 0, 0), datetime.datetime(2017, 6, 5, 0, 0), datetime.datetime(2017, 6, 6, 0, 0), datetime.datetime(2017, 6, 7, 0, 0), datetime.datetime(2017, 6, 8, 0, 0), datetime.datetime(2017, 6, 9, 0, 0), datetime.datetime(2017, 6, 10, 0, 0), datetime.datetime(2017, 6, 11, 0, 0), datetime.datetime(2017, 6, 12, 0, 0), datetime.datetime(2017, 6, 13, 0, 0), datetime.datetime(2017, 6, 14, 0, 0), datetime.datetime(2017, 6, 15, 0, 0), datetime.datetime(2017, 6, 16, 0, 0), datetime.datetime(2017, 6, 17, 0, 0), datetime.datetime(2017, 6, 18, 0, 0), datetime.datetime(2017, 6, 19, 0, 0), datetime.datetime(2017, 6, 20, 0, 0), datetime.datetime(2017, 6, 21, 0, 0), datetime.datetime(2017, 6, 22, 0, 0), datetime.datetime(2017, 6, 23, 0, 0), datetime.datetime(2017, 6, 24, 0, 0), datetime.datetime(2017, 6, 25, 0, 0), datetime.datetime(2017, 6, 26, 0, 0), datetime.datetime(2017, 6, 27, 0, 0), datetime.datetime(2017, 6, 28, 0, 0), datetime.datetime(2017, 6, 29, 0, 0), datetime.datetime(2017, 6, 30, 0, 0), datetime.datetime(2017, 7, 1, 0, 0), datetime.datetime(2017, 7, 2, 0, 0), datetime.datetime(2017, 7, 3, 0, 0), datetime.datetime(2017, 7, 4, 0, 0), datetime.datetime(2017, 7, 5, 0, 0), datetime.datetime(2017, 7, 6, 0, 0), datetime.datetime(2017, 7, 7, 0, 0), datetime.datetime(2017, 7, 8, 0, 0), datetime.datetime(2017, 7, 9, 0, 0), datetime.datetime(2017, 7, 10, 0, 0), datetime.datetime(2017, 7, 11, 0, 0), datetime.datetime(2017, 7, 12, 0, 0), datetime.datetime(2017, 7, 13, 0, 0), datetime.datetime(2017, 7, 14, 0, 0), datetime.datetime(2017, 7, 15, 0, 0), datetime.datetime(2017, 7, 16, 0, 0), datetime.datetime(2017, 7, 17, 0, 0), datetime.datetime(2017, 7, 18, 0, 0), datetime.datetime(2017, 7, 19, 0, 0), datetime.datetime(2017, 7, 20, 0, 0), datetime.datetime(2017, 7, 21, 0, 0), datetime.datetime(2017, 7, 22, 0, 0), datetime.datetime(2017, 7, 23, 0, 0), datetime.datetime(2017, 7, 24, 0, 0), datetime.datetime(2017, 7, 25, 0, 0), datetime.datetime(2017, 7, 26, 0, 0), datetime.datetime(2017, 7, 27, 0, 0), datetime.datetime(2017, 7, 28, 0, 0), datetime.datetime(2017, 7, 29, 0, 0), datetime.datetime(2017, 7, 30, 0, 0), datetime.datetime(2017, 7, 31, 0, 0), datetime.datetime(2017, 8, 1, 0, 0), datetime.datetime(2017, 8, 2, 0, 0), datetime.datetime(2017, 8, 3, 0, 0), datetime.datetime(2017, 8, 4, 0, 0), datetime.datetime(2017, 8, 5, 0, 0), datetime.datetime(2017, 8, 6, 0, 0), datetime.datetime(2017, 8, 7, 0, 0), datetime.datetime(2017, 8, 8, 0, 0), datetime.datetime(2017, 8, 9, 0, 0), datetime.datetime(2017, 8, 10, 0, 0), datetime.datetime(2017, 8, 11, 0, 0), datetime.datetime(2017, 8, 12, 0, 0), datetime.datetime(2017, 8, 13, 0, 0), datetime.datetime(2017, 8, 14, 0, 0), datetime.datetime(2017, 8, 15, 0, 0), datetime.datetime(2017, 8, 16, 0, 0), datetime.datetime(2017, 8, 17, 0, 0), datetime.datetime(2017, 8, 18, 0, 0), datetime.datetime(2017, 8, 19, 0, 0), datetime.datetime(2017, 8, 20, 0, 0), datetime.datetime(2017, 8, 21, 0, 0), datetime.datetime(2017, 8, 22, 0, 0), datetime.datetime(2017, 8, 23, 0, 0), datetime.datetime(2017, 8, 24, 0, 0), datetime.datetime(2017, 8, 25, 0, 0), datetime.datetime(2017, 8, 26, 0, 0), datetime.datetime(2017, 8, 27, 0, 0), datetime.datetime(2017, 8, 28, 0, 0), datetime.datetime(2017, 8, 29, 0, 0), datetime.datetime(2017, 8, 30, 0, 0), datetime.datetime(2017, 8, 31, 0, 0), datetime.datetime(2017, 9, 1, 0, 0), datetime.datetime(2017, 9, 2, 0, 0), datetime.datetime(2017, 9, 3, 0, 0), datetime.datetime(2017, 9, 4, 0, 0), datetime.datetime(2017, 9, 5, 0, 0), datetime.datetime(2017, 9, 6, 0, 0), datetime.datetime(2017, 9, 7, 0, 0), datetime.datetime(2017, 9, 8, 0, 0), datetime.datetime(2017, 9, 9, 0, 0), datetime.datetime(2017, 9, 10, 0, 0), datetime.datetime(2017, 9, 11, 0, 0), datetime.datetime(2017, 9, 12, 0, 0), datetime.datetime(2017, 9, 13, 0, 0), datetime.datetime(2017, 9, 14, 0, 0), datetime.datetime(2017, 9, 15, 0, 0), datetime.datetime(2017, 9, 16, 0, 0), datetime.datetime(2017, 9, 17, 0, 0), datetime.datetime(2017, 9, 18, 0, 0), datetime.datetime(2017, 9, 19, 0, 0), datetime.datetime(2017, 9, 20, 0, 0), datetime.datetime(2017, 9, 21, 0, 0), datetime.datetime(2017, 9, 22, 0, 0), datetime.datetime(2017, 9, 23, 0, 0), datetime.datetime(2017, 9, 24, 0, 0), datetime.datetime(2017, 9, 25, 0, 0), datetime.datetime(2017, 9, 26, 0, 0), datetime.datetime(2017, 9, 27, 0, 0), datetime.datetime(2017, 9, 28, 0, 0), datetime.datetime(2017, 9, 29, 0, 0), datetime.datetime(2017, 9, 30, 0, 0), datetime.datetime(2017, 10, 1, 0, 0), datetime.datetime(2017, 10, 2, 0, 0), datetime.datetime(2017, 10, 3, 0, 0), datetime.datetime(2017, 10, 4, 0, 0), datetime.datetime(2017, 10, 5, 0, 0), datetime.datetime(2017, 10, 6, 0, 0), datetime.datetime(2017, 10, 7, 0, 0), datetime.datetime(2017, 10, 8, 0, 0), datetime.datetime(2017, 10, 9, 0, 0), datetime.datetime(2017, 10, 10, 0, 0), datetime.datetime(2017, 10, 11, 0, 0), datetime.datetime(2017, 10, 12, 0, 0), datetime.datetime(2017, 10, 13, 0, 0), datetime.datetime(2017, 10, 14, 0, 0), datetime.datetime(2017, 10, 15, 0, 0), datetime.datetime(2017, 10, 16, 0, 0), datetime.datetime(2017, 10, 17, 0, 0), datetime.datetime(2017, 10, 18, 0, 0), datetime.datetime(2017, 10, 19, 0, 0), datetime.datetime(2017, 10, 20, 0, 0), datetime.datetime(2017, 10, 21, 0, 0), datetime.datetime(2017, 10, 22, 0, 0), datetime.datetime(2017, 10, 23, 0, 0), datetime.datetime(2017, 10, 24, 0, 0), datetime.datetime(2017, 10, 25, 0, 0), datetime.datetime(2017, 10, 26, 0, 0), datetime.datetime(2017, 10, 27, 0, 0), datetime.datetime(2017, 10, 28, 0, 0), datetime.datetime(2017, 10, 29, 0, 0), datetime.datetime(2017, 10, 30, 0, 0), datetime.datetime(2017, 10, 31, 0, 0), datetime.datetime(2017, 11, 1, 0, 0), datetime.datetime(2017, 11, 2, 0, 0), datetime.datetime(2017, 11, 3, 0, 0), datetime.datetime(2017, 11, 4, 0, 0), datetime.datetime(2017, 11, 5, 0, 0), datetime.datetime(2017, 11, 6, 0, 0), datetime.datetime(2017, 11, 7, 0, 0), datetime.datetime(2017, 11, 8, 0, 0), datetime.datetime(2017, 11, 9, 0, 0), datetime.datetime(2017, 11, 10, 0, 0), datetime.datetime(2017, 11, 11, 0, 0), datetime.datetime(2017, 11, 12, 0, 0), datetime.datetime(2017, 11, 13, 0, 0), datetime.datetime(2017, 11, 14, 0, 0), datetime.datetime(2017, 11, 15, 0, 0), datetime.datetime(2017, 11, 16, 0, 0), datetime.datetime(2017, 11, 17, 0, 0), datetime.datetime(2017, 11, 18, 0, 0), datetime.datetime(2017, 11, 19, 0, 0), datetime.datetime(2017, 11, 20, 0, 0), datetime.datetime(2017, 11, 21, 0, 0), datetime.datetime(2017, 11, 22, 0, 0), datetime.datetime(2017, 11, 23, 0, 0), datetime.datetime(2017, 11, 24, 0, 0), datetime.datetime(2017, 11, 25, 0, 0), datetime.datetime(2017, 11, 26, 0, 0), datetime.datetime(2017, 11, 27, 0, 0), datetime.datetime(2017, 11, 28, 0, 0), datetime.datetime(2017, 11, 29, 0, 0), datetime.datetime(2017, 11, 30, 0, 0), datetime.datetime(2017, 12, 1, 0, 0), datetime.datetime(2017, 12, 2, 0, 0), datetime.datetime(2017, 12, 3, 0, 0), datetime.datetime(2017, 12, 4, 0, 0), datetime.datetime(2017, 12, 5, 0, 0), datetime.datetime(2017, 12, 6, 0, 0), datetime.datetime(2017, 12, 7, 0, 0), datetime.datetime(2017, 12, 8, 0, 0), datetime.datetime(2017, 12, 9, 0, 0), datetime.datetime(2017, 12, 10, 0, 0), datetime.datetime(2017, 12, 11, 0, 0), datetime.datetime(2017, 12, 12, 0, 0), datetime.datetime(2017, 12, 13, 0, 0), datetime.datetime(2017, 12, 14, 0, 0), datetime.datetime(2017, 12, 15, 0, 0), datetime.datetime(2017, 12, 16, 0, 0), datetime.datetime(2017, 12, 17, 0, 0), datetime.datetime(2017, 12, 18, 0, 0), datetime.datetime(2017, 12, 19, 0, 0), datetime.datetime(2017, 12, 20, 0, 0), datetime.datetime(2017, 12, 21, 0, 0), datetime.datetime(2017, 12, 22, 0, 0), datetime.datetime(2017, 12, 23, 0, 0), datetime.datetime(2017, 12, 24, 0, 0), datetime.datetime(2017, 12, 25, 0, 0), datetime.datetime(2017, 12, 26, 0, 0), datetime.datetime(2017, 12, 27, 0, 0), datetime.datetime(2017, 12, 28, 0, 0), datetime.datetime(2017, 12, 29, 0, 0), datetime.datetime(2017, 12, 30, 0, 0), datetime.datetime(2017, 12, 31, 0, 0)]\n"
     ]
    }
   ],
   "source": [
    "# array containing all dates of the year\n",
    "start_2017 = datetime(2017, 1, 1)\n",
    "add_day = timedelta(days = 1)\n",
    "\n",
    "days_2017 = []\n",
    "\n",
    "for i in range(0, 365):\n",
    "    days_2017.append(start_2017)\n",
    "    start_2017 += add_day\n",
    "\n",
    "print(days_2017)\n"
   ],
   "metadata": {
    "collapsed": false,
    "pycharm": {
     "name": "#%%\n"
    }
   }
  },
  {
   "cell_type": "code",
   "execution_count": 34,
   "outputs": [
    {
     "name": "stdout",
     "output_type": "stream",
     "text": [
      "31 28 31 30 31 30 31 31 30 31 30 31\n"
     ]
    }
   ],
   "source": [
    "#unnötiger Aufwand, glaube diese Zelle brauchen wir nicht\n",
    "\n",
    "#create for every month in 2017 an array of the daily total amount of loans and then combine them\n",
    "#in another array\n",
    "days_28 = range(0, 28)\n",
    "days_30 = range(0, 30)\n",
    "days_31 = range(0, 31)\n",
    "\n",
    "jan_loans = []\n",
    "for i in range(1, 32):\n",
    "    jan_loans.append(loans_per_day(1, i))\n",
    "jan_Series = pd.Series(jan_loans, index=days_31)\n",
    "\n",
    "feb_loans = []\n",
    "for i in range(1, 29):\n",
    "    feb_loans.append(loans_per_day(2, i))\n",
    "feb_Series = pd.Series(feb_loans, index=days_28)\n",
    "\n",
    "mar_loans = []\n",
    "for i in range(1, 32):\n",
    "    mar_loans.append(loans_per_day(3, i))\n",
    "mar_Series = pd.Series(mar_loans, index=days_31)\n",
    "\n",
    "apr_loans = []\n",
    "for i in range(1, 31):\n",
    "    apr_loans.append(loans_per_day(4, i))\n",
    "apr_Series = pd.Series(apr_loans, index=days_30)\n",
    "\n",
    "may_loans = []\n",
    "for i in range(1, 32):\n",
    "    may_loans.append(loans_per_day(5, i))\n",
    "may_Series = pd.Series(may_loans, index=days_31)\n",
    "\n",
    "jun_loans = []\n",
    "for i in range(1, 31):\n",
    "    jun_loans.append(loans_per_day(6, i))\n",
    "jun_Series = pd.Series(jun_loans, index=days_30)\n",
    "\n",
    "jul_loans = []\n",
    "for i in range(1, 32):\n",
    "    jul_loans.append(loans_per_day(7, i))\n",
    "jul_Series = pd.Series(jul_loans, index=days_31)\n",
    "\n",
    "aug_loans = []\n",
    "for i in range(1, 32):\n",
    "    aug_loans.append(loans_per_day(8, i))\n",
    "aug_Series = pd.Series(aug_loans, index=days_31)\n",
    "\n",
    "sep_loans = []\n",
    "for i in range(1, 31):\n",
    "    sep_loans.append(loans_per_day(9, i))\n",
    "sep_Series = pd.Series(sep_loans, index=days_30)\n",
    "\n",
    "oct_loans = []\n",
    "for i in range(1, 32):\n",
    "    oct_loans.append(loans_per_day(10, i))\n",
    "oct_Series = pd.Series(oct_loans, index=days_31)\n",
    "\n",
    "nov_loans = []\n",
    "for i in range(1, 31):\n",
    "    nov_loans.append(loans_per_day(11, i))\n",
    "nov_Series = pd.Series(nov_loans, index=days_30)\n",
    "\n",
    "dec_loans = []\n",
    "for i in range(1, 32):\n",
    "    dec_loans.append(loans_per_day(12, i))\n",
    "dec_Series = pd.Series(dec_loans, index=days_31)\n",
    "\n",
    "print(jan_Series.__len__(), feb_Series.__len__(), mar_Series.__len__(), apr_Series.__len__(),may_Series.__len__(), jun_Series.__len__(), jul_Series.__len__(), aug_Series.__len__(), sep_Series.__len__(), oct_Series.__len__(), nov_Series.__len__(), dec_Series.__len__())\n"
   ],
   "metadata": {
    "collapsed": false,
    "pycharm": {
     "name": "#%%\n"
    }
   }
  },
  {
   "cell_type": "code",
   "execution_count": 35,
   "outputs": [
    {
     "data": {
      "text/plain": "0     2017-01-01\n1     2017-01-02\n2     2017-01-03\n3     2017-01-04\n4     2017-01-05\n         ...    \n360   2017-12-27\n361   2017-12-28\n362   2017-12-29\n363   2017-12-30\n364   2017-12-31\nLength: 365, dtype: datetime64[ns]"
     },
     "execution_count": 35,
     "metadata": {},
     "output_type": "execute_result"
    }
   ],
   "source": [
    "days = range(0, 365)\n",
    "\n",
    "days_Series = pd.Series(days_2017, index=days)\n",
    "days_Series\n"
   ],
   "metadata": {
    "collapsed": false,
    "pycharm": {
     "name": "#%%\n"
    }
   }
  },
  {
   "cell_type": "code",
   "execution_count": 37,
   "outputs": [
    {
     "ename": "NameError",
     "evalue": "name 'lin_reg_bikes_df' is not defined",
     "output_type": "error",
     "traceback": [
      "\u001B[1;31m---------------------------------------------------------------------------\u001B[0m",
      "\u001B[1;31mNameError\u001B[0m                                 Traceback (most recent call last)",
      "\u001B[1;32m<ipython-input-37-8208cfd5e565>\u001B[0m in \u001B[0;36m<module>\u001B[1;34m\u001B[0m\n\u001B[0;32m      1\u001B[0m \u001B[1;31m# dataframe to get the linear regression regarding day during the week or not\u001B[0m\u001B[1;33m\u001B[0m\u001B[1;33m\u001B[0m\u001B[1;33m\u001B[0m\u001B[0m\n\u001B[0;32m      2\u001B[0m lin_reg_bikes_df = pd.DataFrame({'date': pd.concat([days_Series]),\n\u001B[1;32m----> 3\u001B[1;33m                                  \u001B[1;34m'weekday'\u001B[0m\u001B[1;33m:\u001B[0m \u001B[0mlin_reg_bikes_df\u001B[0m\u001B[1;33m[\u001B[0m\u001B[1;34m'date'\u001B[0m\u001B[1;33m]\u001B[0m\u001B[1;33m.\u001B[0m\u001B[0mapply\u001B[0m\u001B[1;33m(\u001B[0m\u001B[1;32mlambda\u001B[0m \u001B[0mx\u001B[0m\u001B[1;33m:\u001B[0m \u001B[0mx\u001B[0m\u001B[1;33m.\u001B[0m\u001B[0mweekday\u001B[0m\u001B[1;33m(\u001B[0m\u001B[1;33m)\u001B[0m\u001B[1;33m)\u001B[0m\u001B[1;33m,\u001B[0m\u001B[1;33m\u001B[0m\u001B[1;33m\u001B[0m\u001B[0m\n\u001B[0m\u001B[0;32m      4\u001B[0m                                  \u001B[1;34m'is_weekday'\u001B[0m\u001B[1;33m:\u001B[0m \u001B[0mlin_reg_bikes_df\u001B[0m\u001B[1;33m[\u001B[0m\u001B[1;34m'weekday'\u001B[0m\u001B[1;33m]\u001B[0m\u001B[1;33m.\u001B[0m\u001B[0mapply\u001B[0m\u001B[1;33m(\u001B[0m\u001B[1;32mlambda\u001B[0m \u001B[0mx\u001B[0m\u001B[1;33m:\u001B[0m \u001B[0mis_weekday\u001B[0m\u001B[1;33m(\u001B[0m\u001B[0mx\u001B[0m\u001B[1;33m)\u001B[0m\u001B[1;33m)\u001B[0m\u001B[1;33m,\u001B[0m\u001B[1;33m\u001B[0m\u001B[1;33m\u001B[0m\u001B[0m\n\u001B[0;32m      5\u001B[0m                                  \u001B[1;31m#'loans': pd.concat([jan_Series, feb_Series, mar_Series, apr_Series, may_Series, jun_Series, jul_Series, aug_Series, sep_Series, oct_Series, nov_Series])\u001B[0m\u001B[1;33m\u001B[0m\u001B[1;33m\u001B[0m\u001B[1;33m\u001B[0m\u001B[0m\n",
      "\u001B[1;31mNameError\u001B[0m: name 'lin_reg_bikes_df' is not defined"
     ]
    }
   ],
   "source": [
    "# dataframe to get the linear regression regarding day during the week or not\n",
    "lin_reg_bikes_df = pd.DataFrame({'date': pd.concat([days_Series]),\n",
    "                                 'weekday': lin_reg_bikes_df['date'].apply(lambda x: x.weekday()),\n",
    "                                 'is_weekday': lin_reg_bikes_df['weekday'].apply(lambda x: is_weekday(x)),\n",
    "                                 #'loans': pd.concat([jan_Series, feb_Series, mar_Series, apr_Series, may_Series, jun_Series, jul_Series, aug_Series, sep_Series, oct_Series, nov_Series])\n",
    "                                 'loans': lin_reg_bikes_df['date'].apply(lambda x: loans_per_day(x.month, x.day))},\n",
    "                                index=range(0, 365),\n",
    "                                columns=['date', 'weekday', 'is_weekday', 'loans'])\n",
    "\n",
    "lin_reg_bikes_df.tail()"
   ],
   "metadata": {
    "collapsed": false,
    "pycharm": {
     "name": "#%%\n"
    }
   }
  },
  {
   "cell_type": "code",
   "execution_count": null,
   "outputs": [],
   "source": [
    "from sklearn.linear_model import LinearRegression\n",
    "\n",
    "linear_model_bikes = LinearRegression(fit_intercept=True, normalize=False)\n",
    "\n",
    "linear_model_bikes.fit(lin_reg_bikes_df['is_weekday'].values.reshape((-1,1)), lin_reg_bikes_df['loans'])\n",
    "print(linear_model_bikes.coef_, linear_model_bikes.intercept_)\n"
   ],
   "metadata": {
    "collapsed": false,
    "pycharm": {
     "name": "#%%\n"
    }
   }
  },
  {
   "cell_type": "code",
   "execution_count": null,
   "outputs": [],
   "source": [
    "from sklearn.metrics import mean_squared_error, mean_absolute_error, r2_score\n",
    "\n",
    "#MSE and RMSE\n",
    "print(\"Mean Squared Error:\",mean_squared_error(lin_reg_bikes_df['is_weekday'].values.reshape((-1,1)), lin_reg_bikes_df['loans']),\"(Bikes)^2\")\n",
    "print(\"Root Mean Squared Error:\",mean_squared_error(lin_reg_bikes_df['is_weekday'].values.reshape((-1,1)), lin_reg_bikes_df['loans'])**0.5,\"Bikes\")"
   ],
   "metadata": {
    "collapsed": false,
    "pycharm": {
     "name": "#%%\n"
    }
   }
  },
  {
   "cell_type": "code",
   "execution_count": null,
   "outputs": [],
   "source": [
    "#R^2\n",
    "#ähm dieser Wert ist so nicht möglich\n",
    "print(\"Coefficient of determination (R^2):\",r2_score(lin_reg_bikes_df['is_weekday'].values.reshape((-1,1)), lin_reg_bikes_df['loans']))"
   ],
   "metadata": {
    "collapsed": false,
    "pycharm": {
     "name": "#%%\n"
    }
   }
  },
  {
   "cell_type": "code",
   "execution_count": null,
   "outputs": [],
   "source": [],
   "metadata": {
    "collapsed": false,
    "pycharm": {
     "name": "#%%\n"
    }
   }
  }
 ],
 "metadata": {
  "kernelspec": {
   "display_name": "Python 3",
   "language": "python",
   "name": "python3"
  },
  "language_info": {
   "codemirror_mode": {
    "name": "ipython",
    "version": 2
   },
   "file_extension": ".py",
   "mimetype": "text/x-python",
   "name": "python",
   "nbconvert_exporter": "python",
   "pygments_lexer": "ipython2",
   "version": "2.7.6"
  }
 },
 "nbformat": 4,
 "nbformat_minor": 0
}