{
 "cells": [
  {
   "cell_type": "code",
   "execution_count": 67,
   "metadata": {
    "collapsed": true
   },
   "outputs": [],
   "source": [
    "#general imports\n",
    "import pandas as pd\n",
    "import numpy as np\n",
    "\n",
    "#statsmodels for regression\n",
    "import statsmodels.api as sm\n",
    "import statsmodels.formula.api as smf\n",
    "from statsmodels.iolib.summary2 import summary_col\n",
    "\n",
    "#scipy for testing\n",
    "from scipy import stats\n",
    "\n",
    "#for visualization\n",
    "import matplotlib.pyplot as plt\n",
    "import seaborn as sns\n",
    "\n",
    "from datetime import datetime\n",
    "from datetime import timedelta"
   ]
  },
  {
   "cell_type": "code",
   "execution_count": 68,
   "outputs": [],
   "source": [
    "##Bike Data"
   ],
   "metadata": {
    "collapsed": false,
    "pycharm": {
     "name": "#%%\n"
    }
   }
  },
  {
   "cell_type": "code",
   "execution_count": 69,
   "outputs": [
    {
     "data": {
      "text/plain": "      start_time       end_time  start_station_id  end_station_id  bike_id  \\\n0  1/1/2017 0:05  1/1/2017 0:16              3046            3041     5347   \n1  1/1/2017 0:21  1/1/2017 0:57              3110            3054     3364   \n2  1/1/2017 0:22  1/1/2017 0:57              3110            3054     2536   \n3  1/1/2017 0:27  1/1/2017 0:39              3041            3005     5176   \n4  1/1/2017 0:28  1/1/2017 0:36              3047            3124     5370   \n\n  user_type           start_station_name     end_station_name  \n0  Indego30                 2nd & Market  Girard Station, MFL  \n1   Walk-up  Del. River Trail & Penn St.         Rodin Museum  \n2   Walk-up  Del. River Trail & Penn St.         Rodin Museum  \n3  Indego30          Girard Station, MFL    Welcome Park, NPS  \n4   Walk-up       Independence Mall, NPS     Race Street Pier  ",
      "text/html": "<div>\n<style scoped>\n    .dataframe tbody tr th:only-of-type {\n        vertical-align: middle;\n    }\n\n    .dataframe tbody tr th {\n        vertical-align: top;\n    }\n\n    .dataframe thead th {\n        text-align: right;\n    }\n</style>\n<table border=\"1\" class=\"dataframe\">\n  <thead>\n    <tr style=\"text-align: right;\">\n      <th></th>\n      <th>start_time</th>\n      <th>end_time</th>\n      <th>start_station_id</th>\n      <th>end_station_id</th>\n      <th>bike_id</th>\n      <th>user_type</th>\n      <th>start_station_name</th>\n      <th>end_station_name</th>\n    </tr>\n  </thead>\n  <tbody>\n    <tr>\n      <th>0</th>\n      <td>1/1/2017 0:05</td>\n      <td>1/1/2017 0:16</td>\n      <td>3046</td>\n      <td>3041</td>\n      <td>5347</td>\n      <td>Indego30</td>\n      <td>2nd &amp; Market</td>\n      <td>Girard Station, MFL</td>\n    </tr>\n    <tr>\n      <th>1</th>\n      <td>1/1/2017 0:21</td>\n      <td>1/1/2017 0:57</td>\n      <td>3110</td>\n      <td>3054</td>\n      <td>3364</td>\n      <td>Walk-up</td>\n      <td>Del. River Trail &amp; Penn St.</td>\n      <td>Rodin Museum</td>\n    </tr>\n    <tr>\n      <th>2</th>\n      <td>1/1/2017 0:22</td>\n      <td>1/1/2017 0:57</td>\n      <td>3110</td>\n      <td>3054</td>\n      <td>2536</td>\n      <td>Walk-up</td>\n      <td>Del. River Trail &amp; Penn St.</td>\n      <td>Rodin Museum</td>\n    </tr>\n    <tr>\n      <th>3</th>\n      <td>1/1/2017 0:27</td>\n      <td>1/1/2017 0:39</td>\n      <td>3041</td>\n      <td>3005</td>\n      <td>5176</td>\n      <td>Indego30</td>\n      <td>Girard Station, MFL</td>\n      <td>Welcome Park, NPS</td>\n    </tr>\n    <tr>\n      <th>4</th>\n      <td>1/1/2017 0:28</td>\n      <td>1/1/2017 0:36</td>\n      <td>3047</td>\n      <td>3124</td>\n      <td>5370</td>\n      <td>Walk-up</td>\n      <td>Independence Mall, NPS</td>\n      <td>Race Street Pier</td>\n    </tr>\n  </tbody>\n</table>\n</div>"
     },
     "execution_count": 69,
     "metadata": {},
     "output_type": "execute_result"
    }
   ],
   "source": [
    "df_bikes = pd.read_csv('../data/philadelphia_2017.csv')\n",
    "df_weather = pd.read_csv('../data/weather_hourly_philadelphia.csv')\n",
    "\n",
    "df_bikes.head()"
   ],
   "metadata": {
    "collapsed": false,
    "pycharm": {
     "name": "#%%\n"
    }
   }
  },
  {
   "cell_type": "code",
   "execution_count": 70,
   "outputs": [
    {
     "data": {
      "text/plain": "       start_station_id  end_station_id        bike_id\ncount     788907.000000   788907.000000  788907.000000\nmean        3057.400081     3056.431487    5428.980913\nstd           41.126829       41.108792    3221.972215\nmin         3000.000000     3000.000000       0.000000\n25%         3023.000000     3023.000000    3350.000000\n50%         3050.000000     3049.000000    3703.000000\n75%         3075.000000     3074.000000    5370.000000\nmax         3170.000000     3170.000000   11965.000000",
      "text/html": "<div>\n<style scoped>\n    .dataframe tbody tr th:only-of-type {\n        vertical-align: middle;\n    }\n\n    .dataframe tbody tr th {\n        vertical-align: top;\n    }\n\n    .dataframe thead th {\n        text-align: right;\n    }\n</style>\n<table border=\"1\" class=\"dataframe\">\n  <thead>\n    <tr style=\"text-align: right;\">\n      <th></th>\n      <th>start_station_id</th>\n      <th>end_station_id</th>\n      <th>bike_id</th>\n    </tr>\n  </thead>\n  <tbody>\n    <tr>\n      <th>count</th>\n      <td>788907.000000</td>\n      <td>788907.000000</td>\n      <td>788907.000000</td>\n    </tr>\n    <tr>\n      <th>mean</th>\n      <td>3057.400081</td>\n      <td>3056.431487</td>\n      <td>5428.980913</td>\n    </tr>\n    <tr>\n      <th>std</th>\n      <td>41.126829</td>\n      <td>41.108792</td>\n      <td>3221.972215</td>\n    </tr>\n    <tr>\n      <th>min</th>\n      <td>3000.000000</td>\n      <td>3000.000000</td>\n      <td>0.000000</td>\n    </tr>\n    <tr>\n      <th>25%</th>\n      <td>3023.000000</td>\n      <td>3023.000000</td>\n      <td>3350.000000</td>\n    </tr>\n    <tr>\n      <th>50%</th>\n      <td>3050.000000</td>\n      <td>3049.000000</td>\n      <td>3703.000000</td>\n    </tr>\n    <tr>\n      <th>75%</th>\n      <td>3075.000000</td>\n      <td>3074.000000</td>\n      <td>5370.000000</td>\n    </tr>\n    <tr>\n      <th>max</th>\n      <td>3170.000000</td>\n      <td>3170.000000</td>\n      <td>11965.000000</td>\n    </tr>\n  </tbody>\n</table>\n</div>"
     },
     "execution_count": 70,
     "metadata": {},
     "output_type": "execute_result"
    }
   ],
   "source": [
    "df_bikes.describe()"
   ],
   "metadata": {
    "collapsed": false,
    "pycharm": {
     "name": "#%%\n"
    }
   }
  },
  {
   "cell_type": "code",
   "execution_count": 71,
   "outputs": [],
   "source": [
    "##Weather Data"
   ],
   "metadata": {
    "collapsed": false,
    "pycharm": {
     "name": "#%%\n"
    }
   }
  },
  {
   "cell_type": "code",
   "execution_count": 72,
   "outputs": [
    {
     "data": {
      "text/plain": "             date_time  max_temp  min_temp  precip\n0  2015-01-02 01:00:00       3.3       3.3     0.0\n1  2015-01-02 02:00:00       2.8       2.8     0.0\n2  2015-01-02 03:00:00       2.2       2.2     0.0\n3  2015-01-02 04:00:00       0.6       0.6     0.0\n4  2015-01-02 05:00:00       1.1       1.1     0.0",
      "text/html": "<div>\n<style scoped>\n    .dataframe tbody tr th:only-of-type {\n        vertical-align: middle;\n    }\n\n    .dataframe tbody tr th {\n        vertical-align: top;\n    }\n\n    .dataframe thead th {\n        text-align: right;\n    }\n</style>\n<table border=\"1\" class=\"dataframe\">\n  <thead>\n    <tr style=\"text-align: right;\">\n      <th></th>\n      <th>date_time</th>\n      <th>max_temp</th>\n      <th>min_temp</th>\n      <th>precip</th>\n    </tr>\n  </thead>\n  <tbody>\n    <tr>\n      <th>0</th>\n      <td>2015-01-02 01:00:00</td>\n      <td>3.3</td>\n      <td>3.3</td>\n      <td>0.0</td>\n    </tr>\n    <tr>\n      <th>1</th>\n      <td>2015-01-02 02:00:00</td>\n      <td>2.8</td>\n      <td>2.8</td>\n      <td>0.0</td>\n    </tr>\n    <tr>\n      <th>2</th>\n      <td>2015-01-02 03:00:00</td>\n      <td>2.2</td>\n      <td>2.2</td>\n      <td>0.0</td>\n    </tr>\n    <tr>\n      <th>3</th>\n      <td>2015-01-02 04:00:00</td>\n      <td>0.6</td>\n      <td>0.6</td>\n      <td>0.0</td>\n    </tr>\n    <tr>\n      <th>4</th>\n      <td>2015-01-02 05:00:00</td>\n      <td>1.1</td>\n      <td>1.1</td>\n      <td>0.0</td>\n    </tr>\n  </tbody>\n</table>\n</div>"
     },
     "execution_count": 72,
     "metadata": {},
     "output_type": "execute_result"
    }
   ],
   "source": [
    "df_weather.head()"
   ],
   "metadata": {
    "collapsed": false,
    "pycharm": {
     "name": "#%%\n"
    }
   }
  },
  {
   "cell_type": "code",
   "execution_count": 73,
   "outputs": [
    {
     "data": {
      "text/plain": "           max_temp      min_temp        precip\ncount  43785.000000  43785.000000  43785.000000\nmean      14.204796     14.121300      0.087770\nstd       10.272673     10.259344      0.282963\nmin      -16.700000    -16.700000      0.000000\n25%        6.100000      6.100000      0.000000\n50%       15.000000     14.400000      0.000000\n75%       22.800000     22.800000      0.000000\nmax       36.700000     36.700000      1.000000",
      "text/html": "<div>\n<style scoped>\n    .dataframe tbody tr th:only-of-type {\n        vertical-align: middle;\n    }\n\n    .dataframe tbody tr th {\n        vertical-align: top;\n    }\n\n    .dataframe thead th {\n        text-align: right;\n    }\n</style>\n<table border=\"1\" class=\"dataframe\">\n  <thead>\n    <tr style=\"text-align: right;\">\n      <th></th>\n      <th>max_temp</th>\n      <th>min_temp</th>\n      <th>precip</th>\n    </tr>\n  </thead>\n  <tbody>\n    <tr>\n      <th>count</th>\n      <td>43785.000000</td>\n      <td>43785.000000</td>\n      <td>43785.000000</td>\n    </tr>\n    <tr>\n      <th>mean</th>\n      <td>14.204796</td>\n      <td>14.121300</td>\n      <td>0.087770</td>\n    </tr>\n    <tr>\n      <th>std</th>\n      <td>10.272673</td>\n      <td>10.259344</td>\n      <td>0.282963</td>\n    </tr>\n    <tr>\n      <th>min</th>\n      <td>-16.700000</td>\n      <td>-16.700000</td>\n      <td>0.000000</td>\n    </tr>\n    <tr>\n      <th>25%</th>\n      <td>6.100000</td>\n      <td>6.100000</td>\n      <td>0.000000</td>\n    </tr>\n    <tr>\n      <th>50%</th>\n      <td>15.000000</td>\n      <td>14.400000</td>\n      <td>0.000000</td>\n    </tr>\n    <tr>\n      <th>75%</th>\n      <td>22.800000</td>\n      <td>22.800000</td>\n      <td>0.000000</td>\n    </tr>\n    <tr>\n      <th>max</th>\n      <td>36.700000</td>\n      <td>36.700000</td>\n      <td>1.000000</td>\n    </tr>\n  </tbody>\n</table>\n</div>"
     },
     "execution_count": 73,
     "metadata": {},
     "output_type": "execute_result"
    }
   ],
   "source": [
    "df_weather.describe()"
   ],
   "metadata": {
    "collapsed": false,
    "pycharm": {
     "name": "#%%\n"
    }
   }
  },
  {
   "cell_type": "code",
   "execution_count": 74,
   "outputs": [
    {
     "data": {
      "text/plain": "           start_time            end_time  start_station_id  end_station_id  \\\n0 2017-01-01 00:05:00 2017-01-01 00:16:00              3046            3041   \n1 2017-01-01 00:21:00 2017-01-01 00:57:00              3110            3054   \n2 2017-01-01 00:22:00 2017-01-01 00:57:00              3110            3054   \n3 2017-01-01 00:27:00 2017-01-01 00:39:00              3041            3005   \n4 2017-01-01 00:28:00 2017-01-01 00:36:00              3047            3124   \n\n   bike_id user_type           start_station_name     end_station_name  \\\n0     5347  Indego30                 2nd & Market  Girard Station, MFL   \n1     3364   Walk-up  Del. River Trail & Penn St.         Rodin Museum   \n2     2536   Walk-up  Del. River Trail & Penn St.         Rodin Museum   \n3     5176  Indego30          Girard Station, MFL    Welcome Park, NPS   \n4     5370   Walk-up       Independence Mall, NPS     Race Street Pier   \n\n         duration  weekday  is_weekday  \n0 0 days 00:11:00        6           0  \n1 0 days 00:36:00        6           0  \n2 0 days 00:35:00        6           0  \n3 0 days 00:12:00        6           0  \n4 0 days 00:08:00        6           0  ",
      "text/html": "<div>\n<style scoped>\n    .dataframe tbody tr th:only-of-type {\n        vertical-align: middle;\n    }\n\n    .dataframe tbody tr th {\n        vertical-align: top;\n    }\n\n    .dataframe thead th {\n        text-align: right;\n    }\n</style>\n<table border=\"1\" class=\"dataframe\">\n  <thead>\n    <tr style=\"text-align: right;\">\n      <th></th>\n      <th>start_time</th>\n      <th>end_time</th>\n      <th>start_station_id</th>\n      <th>end_station_id</th>\n      <th>bike_id</th>\n      <th>user_type</th>\n      <th>start_station_name</th>\n      <th>end_station_name</th>\n      <th>duration</th>\n      <th>weekday</th>\n      <th>is_weekday</th>\n    </tr>\n  </thead>\n  <tbody>\n    <tr>\n      <th>0</th>\n      <td>2017-01-01 00:05:00</td>\n      <td>2017-01-01 00:16:00</td>\n      <td>3046</td>\n      <td>3041</td>\n      <td>5347</td>\n      <td>Indego30</td>\n      <td>2nd &amp; Market</td>\n      <td>Girard Station, MFL</td>\n      <td>0 days 00:11:00</td>\n      <td>6</td>\n      <td>0</td>\n    </tr>\n    <tr>\n      <th>1</th>\n      <td>2017-01-01 00:21:00</td>\n      <td>2017-01-01 00:57:00</td>\n      <td>3110</td>\n      <td>3054</td>\n      <td>3364</td>\n      <td>Walk-up</td>\n      <td>Del. River Trail &amp; Penn St.</td>\n      <td>Rodin Museum</td>\n      <td>0 days 00:36:00</td>\n      <td>6</td>\n      <td>0</td>\n    </tr>\n    <tr>\n      <th>2</th>\n      <td>2017-01-01 00:22:00</td>\n      <td>2017-01-01 00:57:00</td>\n      <td>3110</td>\n      <td>3054</td>\n      <td>2536</td>\n      <td>Walk-up</td>\n      <td>Del. River Trail &amp; Penn St.</td>\n      <td>Rodin Museum</td>\n      <td>0 days 00:35:00</td>\n      <td>6</td>\n      <td>0</td>\n    </tr>\n    <tr>\n      <th>3</th>\n      <td>2017-01-01 00:27:00</td>\n      <td>2017-01-01 00:39:00</td>\n      <td>3041</td>\n      <td>3005</td>\n      <td>5176</td>\n      <td>Indego30</td>\n      <td>Girard Station, MFL</td>\n      <td>Welcome Park, NPS</td>\n      <td>0 days 00:12:00</td>\n      <td>6</td>\n      <td>0</td>\n    </tr>\n    <tr>\n      <th>4</th>\n      <td>2017-01-01 00:28:00</td>\n      <td>2017-01-01 00:36:00</td>\n      <td>3047</td>\n      <td>3124</td>\n      <td>5370</td>\n      <td>Walk-up</td>\n      <td>Independence Mall, NPS</td>\n      <td>Race Street Pier</td>\n      <td>0 days 00:08:00</td>\n      <td>6</td>\n      <td>0</td>\n    </tr>\n  </tbody>\n</table>\n</div>"
     },
     "execution_count": 74,
     "metadata": {},
     "output_type": "execute_result"
    }
   ],
   "source": [
    "# start and end time transformed to datetime and added duration from start till the end of the loan\n",
    "df_bikes[\"start_time\"] = pd.to_datetime(df_bikes[\"start_time\"], dayfirst = True)\n",
    "\n",
    "df_bikes[\"end_time\"] = pd.to_datetime(df_bikes[\"end_time\"], dayfirst = True)\n",
    "\n",
    "df_bikes['duration'] = df_bikes['end_time'] - df_bikes['start_time']\n",
    "\n",
    "df_bikes['weekday'] = df_bikes[\"start_time\"].apply(lambda x: x.weekday())\n",
    "\n",
    "\n",
    "#checks whether the weekday is a day in the week(1) or in weekend(0)\n",
    "def is_weekday(day):\n",
    "    if day == 5 or day == 6:\n",
    "        return 0\n",
    "    else:\n",
    "        return 1\n",
    "\n",
    "\n",
    "df_bikes['is_weekday'] = df_bikes['weekday'].apply(lambda x: is_weekday(x))\n",
    "\n",
    "df_bikes.head()"
   ],
   "metadata": {
    "collapsed": false,
    "pycharm": {
     "name": "#%%\n"
    }
   }
  },
  {
   "cell_type": "code",
   "execution_count": 75,
   "outputs": [],
   "source": [
    "ride_lengths = []\n",
    "\n",
    "for label, content in df_bikes.iterrows():\n",
    "    ride_lengths.append(content['duration'])"
   ],
   "metadata": {
    "collapsed": false,
    "pycharm": {
     "name": "#%%\n"
    }
   }
  },
  {
   "cell_type": "code",
   "execution_count": 76,
   "outputs": [],
   "source": [
    "\n",
    "ride_lengths_np = np.array(ride_lengths)\n",
    "iqr = stats.iqr(ride_lengths_np)\n",
    "iqr\n",
    "\n",
    "q1,q3 = np.percentile(ride_lengths_np, [25,95])\n",
    "\n",
    "lower_range = q1 - (1.5*iqr)\n",
    "upper_range = q3 + (1.5*iqr)\n",
    "\n",
    "\n",
    "minutes_0 = timedelta(minutes=0)\n",
    "\n",
    "#A ride, can't be shorter than 0 Minutes obviously\n",
    "if lower_range < minutes_0:\n",
    "    lower_range = minutes_0\n",
    "\n",
    "df_bikes.drop(df_bikes[ (df_bikes['duration'].apply(lambda x: x) > upper_range) | (df_bikes['duration'].apply(lambda x: x) < lower_range) ].index , inplace=True)"
   ],
   "metadata": {
    "collapsed": false,
    "pycharm": {
     "name": "#%%\n"
    }
   }
  },
  {
   "cell_type": "code",
   "execution_count": 77,
   "outputs": [
    {
     "name": "stdout",
     "output_type": "stream",
     "text": [
      "763125\n"
     ]
    }
   ],
   "source": [
    "print(len(df_bikes))"
   ],
   "metadata": {
    "collapsed": false,
    "pycharm": {
     "name": "#%%\n"
    }
   }
  },
  {
   "cell_type": "code",
   "execution_count": 78,
   "outputs": [
    {
     "name": "stdout",
     "output_type": "stream",
     "text": [
      "[[3072, 'Front & Carpenter'], [3073, '9th & Spring Garden'], [3074, '44th & Walnut'], [3075, 'Fairmount & Ridge'], [3077, '17th & Girard'], [3078, '19th & Market'], [3083, '3083'], [3086, 'Broad & Christian'], [3088, '3rd & Girard'], [3093, '33rd & Diamond'], [3095, '29th & Diamond'], [3096, '29th & Dauphin'], [3097, 'Berks Station, MFL'], [3098, '10th & Federal'], [3099, '4th & Washington'], [3100, 'Moyamensing & Tasker'], [3101, '11th & South'], [3102, 'Pennsylvania & Fairmount Perelman Building'], [3103, '27th & Master, Athletic Recreation Center'], [3104, '34th & Mantua'], [3105, 'Penn Treaty Park'], [3106, '33rd & Dauphin'], [3107, '33rd & Reservoir'], [3108, '15th & Market'], [3109, 'Parkside & Girard'], [3110, 'Del. River Trail & Penn St.'], [3111, 'Parkside & Belmont, Case Building'], [3112, '48th & Spruce'], [3113, 'Philadelphia Zoo'], [3114, '22nd & Federal'], [3115, '19th & Girard, PTTI'], [3116, 'Barnes Foundation'], [3117, 'ParkWest Town Center'], [3118, '46th Street Station, MFL'], [3119, '42nd & Lancaster'], [3120, '31st & Girard'], [3121, '27th & Girard'], [3122, '24th & Cecil B. Moore, Cecil B. Moore Library'], [3123, '22nd & Cecil B. Moore'], [3124, 'Race Street Pier'], [3125, '15th & South'], [3129, \"The Children's Hospital of Philadelphia, Osler Circle\"], [3150, '15th & Castle, DiSilvestro Playground'], [3152, '40th & Baltimore, Trolley Portal'], [3153, 'Thompson & Palmer, Adaire School'], [3154, '12th & Callowhill'], [3155, '7th & Fitzwater'], [3156, '20th & Market'], [3157, '8th & Mifflin, Bok Building'], [3158, 'Broad & Passyunk'], [3159, '38th & Spruce'], [3160, '38th & Market'], [3161, '30th Street Station East'], [3162, '27th & South'], [3163, '25th & Locust'], [3164, '12th & Passyunk'], [3165, '24th & Race SRT'], [3168, '20th & Sansom'], [3169, '2nd & Race'], [3170, 'Grays Ferry & Pemberton'], [3000, 'Virtual Station'], [3004, 'Municipal Services Building Plaza'], [3005, 'Welcome Park, NPS'], [3006, '40th & Spruce'], [3007, '11th & Pine, Kahn Park'], [3008, 'Temple University Station'], [3009, '33rd & Market'], [3010, '15th & Spruce'], [3011, '38th & Powelton'], [3012, '21st & Catharine'], [3013, '6th & Fairmount'], [3014, '21st & Winter, Franklin Institute'], [3015, '4th & Walnut, NPS'], [3016, '11th & Poplar, John F. Street Community Center'], [3017, '6th & Berks'], [3018, '12th & Filbert'], [3019, '6th & Race'], [3020, 'University City Station'], [3021, '18th & JFK'], [3022, 'Amtrak 30th Street Station'], [3023, 'Rittenhouse Square'], [3024, '43rd & Chester, Clark Park'], [3025, '11th & Washington'], [3026, '2nd & South'], [3027, '40th Street Station, MFL'], [3028, '4th & Bainbridge'], [3029, '36th & Sansom'], [3030, 'Darien & Catharine'], [3031, '13th & Montgomery'], [3032, '23rd & South'], [3033, '10th & Chestnut'], [3034, '11th & Reed'], [3035, 'Dornsife Center'], [3036, '2nd & Germantown'], [3037, 'Pennsylvania Convention Center'], [3038, \"The Children's Hospital of Philadelphia (CHOP)\"], [3039, 'Broad & Girard'], [3040, '17th & Spring Garden'], [3041, 'Girard Station, MFL'], [3043, '18th & Fernon, Aquinas Center'], [3045, '13th & Locust'], [3046, '2nd & Market'], [3047, 'Independence Mall, NPS'], [3049, 'Foglietta Plaza'], [3050, '9th & Arch'], [3051, '23rd & Fairmount'], [3052, '9th & Locust'], [3053, 'Point Breeze & Tasker'], [3054, 'Rodin Museum'], [3055, '8th & Market'], [3056, 'Broad & Oxford'], [3057, 'Philadelphia Museum of Art'], [3058, '20th & Fairmount'], [3059, 'Spring Garden Station, BSL'], [3060, 'Free Library of Philadelphia - Central Library'], [3061, '23rd & Market'], [3062, '24th & Sansom'], [3063, '17th & Pine'], [3064, '18th & Washington, Chew Playground'], [3065, 'Girard & Hutchinson'], [3066, '19th & Lombard'], [3067, '39th & Mt. Vernon, Mantua Haverford Community Center'], [3068, 'Broad & Federal'], [3069, '4th & Christian'], [3070, 'Spring Garden Station, MFL'], [3071, '32nd & Baring, Drexel Park']]\n"
     ]
    }
   ],
   "source": [
    "\n",
    "unique_station_ids = set(df_bikes['start_station_id'])\n",
    "id_mapped_to_station = []\n",
    "for id in unique_station_ids:\n",
    "    this_station = []\n",
    "    this_station.append(id)\n",
    "    this_station.append(df_bikes.loc[df_bikes['start_station_id'] == id].iloc[0]['start_station_name'])\n",
    "    id_mapped_to_station.append(this_station)\n",
    "print(id_mapped_to_station)"
   ],
   "metadata": {
    "collapsed": false,
    "pycharm": {
     "name": "#%%\n"
    }
   }
  },
  {
   "cell_type": "code",
   "execution_count": 79,
   "outputs": [
    {
     "name": "stdout",
     "output_type": "stream",
     "text": [
      "[4543, 5952, 5227, 5291, 2162, 10625, 9, 5509, 2685, 705, 1447, 875, 2437, 4622, 4252, 6365, 13479, 11136, 1018, 1773, 1098, 1060, 1299, 12560, 1336, 3281, 1593, 4711, 822, 6358, 3096, 48, 823, 2406, 1999, 5249, 5487, 790, 1290, 4908, 9956, 4014, 1605, 748, 1440, 3386, 1243, 5579, 2174, 2767, 3990, 2720, 4390, 3607, 4428, 570, 925, 130, 936, 3557, 102, 8679, 4488, 7544, 11808, 2896, 11126, 23158, 4145, 15072, 4813, 1818, 6378, 715, 1365, 11109, 3966, 15798, 19271, 14057, 23863, 4822, 6509, 8228, 4452, 12488, 11313, 8844, 5874, 15866, 8302, 7737, 5327, 2693, 6470, 9906, 4959, 9756, 4188, 5148, 18627, 9024, 8620, 5294, 7260, 8967, 11992, 7706, 15773, 5984, 8660, 12505, 9599, 7863, 8079, 9857, 6305, 12549, 9044, 1375, 10580, 696, 7561, 6234, 5213, 4214]\n"
     ]
    }
   ],
   "source": [
    "\n",
    "# das noch mit den IDs oder Namen der Stations matchen\n",
    "starting_id_loans = []\n",
    "for id in unique_station_ids:\n",
    "    starting_id_loans.append(sum(1 for i in df_bikes['start_station_id'] if i == id))\n",
    "print(starting_id_loans)"
   ],
   "metadata": {
    "collapsed": false,
    "pycharm": {
     "name": "#%%\n"
    }
   }
  },
  {
   "cell_type": "code",
   "execution_count": 80,
   "outputs": [
    {
     "name": "stdout",
     "output_type": "stream",
     "text": [
      "[4543, 5952, 5227, 5291, 2162, 10625, 9, 5509, 2685, 705, 1447, 875, 2437, 4622, 4252, 6365, 13479, 11136, 1018, 1773, 1098, 1060, 1299, 12560, 1336, 3281, 1593, 4711, 822, 6358, 3096, 48, 823, 2406, 1999, 5249, 5487, 790, 1290, 4908, 9956, 4014, 1605, 748, 1440, 3386, 1243, 5579, 2174, 2767, 3990, 2720, 4390, 3607, 4428, 570, 925, 130, 936, 3557, 102, 8679, 4488, 7544, 11808, 2896, 11126, 23158, 4145, 15072, 4813, 1818, 6378, 715, 1365, 11109, 3966, 15798, 19271, 14057, 23863, 4822, 6509, 8228, 4452, 12488, 11313, 8844, 5874, 15866, 8302, 7737, 5327, 2693, 6470, 9906, 4959, 9756, 4188, 5148, 18627, 9024, 8620, 5294, 7260, 8967, 11992, 7706, 15773, 5984, 8660, 12505, 9599, 7863, 8079, 9857, 6305, 12549, 9044, 1375, 10580, 696, 7561, 6234, 5213, 4214]\n"
     ]
    }
   ],
   "source": [
    "\n",
    "# das noch mit den IDs oder Namen der Stations matchen\n",
    "ending_id_loans = []\n",
    "for id in unique_station_ids:\n",
    "    ending_id_loans.append(sum(1 for i in df_bikes['end_station_id'] if i == id))\n",
    "print(starting_id_loans)"
   ],
   "metadata": {
    "collapsed": false,
    "pycharm": {
     "name": "#%%\n"
    }
   }
  },
  {
   "cell_type": "code",
   "execution_count": 81,
   "outputs": [
    {
     "data": {
      "text/plain": "Text(0, 0.5, 'EndID')"
     },
     "execution_count": 81,
     "metadata": {},
     "output_type": "execute_result"
    },
    {
     "data": {
      "text/plain": "<Figure size 432x288 with 1 Axes>",
      "image/png": "[encoded data removed]"
     },
     "metadata": {
      "needs_background": "light"
     },
     "output_type": "display_data"
    }
   ],
   "source": [
    "\n",
    "# schade, ich erkenne kein Muster :D\n",
    "fig, scplot_ids = plt.subplots(nrows=1,ncols=1)\n",
    "scplot_ids.scatter(df_bikes['start_station_id'],df_bikes['end_station_id'],s=3)\n",
    "scplot_ids.set_title(\"StartID - EndID Scatterplot\",fontsize=16)\n",
    "scplot_ids.set_xlabel(\"StartID\")\n",
    "scplot_ids.set_ylabel(\"EndID\")\n",
    "#scplot_ids.show()"
   ],
   "metadata": {
    "collapsed": false,
    "pycharm": {
     "name": "#%%\n"
    }
   }
  },
  {
   "cell_type": "markdown",
   "source": [
    "## KPI Utilization"
   ],
   "metadata": {
    "collapsed": false,
    "pycharm": {
     "name": "#%% md\n"
    }
   }
  },
  {
   "cell_type": "code",
   "execution_count": 82,
   "outputs": [
    {
     "data": {
      "text/plain": "Indego30      657214\nWalkUp         86325\nIndegoFlex      5520\nOneDayPass      5765\nTwoDayPass      1527\nIndego365       6774\ndtype: int64"
     },
     "execution_count": 82,
     "metadata": {},
     "output_type": "execute_result"
    }
   ],
   "source": [
    "\n",
    "#lists up all possible user types\n",
    "\n",
    "#Note:\n",
    "#Because we are working in 2021 with this dataset, some passes have changed. We got our Information\n",
    "#from the official Indego Website so we derived that the 2017 user type 'Walk-up' is equivalent\n",
    "#to the 2021 'Guest Pass'.\n",
    "#Furthermore the user types 'IndegoFlex', 'OneDayPass' and 'TwoDayPass' do not exist any more in\n",
    "#2021. Due to the low amount of loans of these user types we decided to drop them and focus on the\n",
    "#more relevant user types which still exist and have significant more loans.\n",
    "\n",
    "sumIndego30 = sum(1 for i in df_bikes[\"user_type\"] if i == 'Indego30')\n",
    "sumWalkUp = sum(1 for i in df_bikes[\"user_type\"] if i == 'Walk-up')\n",
    "sumIndegoFlex = sum(1 for i in df_bikes[\"user_type\"] if i == 'IndegoFlex')\n",
    "sumOneDayPass = sum(1 for i in df_bikes[\"user_type\"] if i == 'One Day Pass')\n",
    "sumTwoDayPass = sum(1 for i in df_bikes[\"user_type\"] if i == 'Two Day Pass')\n",
    "sumIndego365 = sum(1 for i in df_bikes[\"user_type\"] if i == 'Indego365')\n",
    "\n",
    "\n",
    "user_type_dict = {'Indego30': sumIndego30,\n",
    "                  'WalkUp': sumWalkUp,\n",
    "                  'IndegoFlex': sumIndegoFlex,\n",
    "                  'OneDayPass': sumOneDayPass,\n",
    "                  'TwoDayPass': sumTwoDayPass,\n",
    "                  'Indego365': sumIndego365\n",
    "                 }\n",
    "user_type = pd.Series(user_type_dict)\n",
    "user_type\n"
   ],
   "metadata": {
    "collapsed": false,
    "pycharm": {
     "name": "#%%\n"
    }
   }
  },
  {
   "cell_type": "code",
   "execution_count": 83,
   "outputs": [
    {
     "name": "stdout",
     "output_type": "stream",
     "text": [
      "1250\n"
     ]
    }
   ],
   "source": [
    "\n",
    "#Wert müsste ungefähr passen. Laut Internetseite von Indego haben die seit 2019 1400 Fahrräder in der Flotte.\n",
    "\n",
    "unique_bike_id = set(df_bikes['bike_id'])\n",
    "\n",
    "print(len(unique_bike_id))"
   ],
   "metadata": {
    "collapsed": false,
    "pycharm": {
     "name": "#%%\n"
    }
   }
  },
  {
   "cell_type": "code",
   "execution_count": 84,
   "outputs": [
    {
     "name": "stdout",
     "output_type": "stream",
     "text": [
      "594\n"
     ]
    }
   ],
   "source": [
    "\n",
    "#sums up the number of loans of one specific bike in the dataset within 2017 (type in bike ID)\n",
    "def calc_unique_bike_amount_rides(v):\n",
    "    unique_bike_amount_rides = sum(1 for i in df_bikes[\"bike_id\"] if i == v)\n",
    "    return print(unique_bike_amount_rides)\n",
    "\n",
    "calc_unique_bike_amount_rides(2536)\n"
   ],
   "metadata": {
    "collapsed": false,
    "pycharm": {
     "name": "#%%\n"
    }
   }
  },
  {
   "cell_type": "code",
   "execution_count": 85,
   "outputs": [
    {
     "data": {
      "text/plain": "1.04"
     },
     "execution_count": 85,
     "metadata": {},
     "output_type": "execute_result"
    }
   ],
   "source": [
    "#type in the parameters to get the utilization in % at this point of time\n",
    "def utilization(year, month, day, hour, minute):\n",
    "    point_of_time = datetime(year, month, day, hour, minute)\n",
    "    df_smaller_pot = df_bikes[df_bikes[\"start_time\"] < point_of_time]\n",
    "    df_greater_pot = df_smaller_pot[df_smaller_pot[\"end_time\"] > point_of_time]\n",
    "    util = (len(df_greater_pot) / 1250) *100\n",
    "    return util\n",
    "\n",
    "utilization(2017, 1, 3, 12, 30)"
   ],
   "metadata": {
    "collapsed": false,
    "pycharm": {
     "name": "#%%\n"
    }
   }
  },
  {
   "cell_type": "code",
   "execution_count": 86,
   "outputs": [
    {
     "data": {
      "text/plain": "98.96000000000001"
     },
     "execution_count": 86,
     "metadata": {},
     "output_type": "execute_result"
    }
   ],
   "source": [
    "#type in the parameters to get the percentage of available bikes at this point of time\n",
    "def available_bikes(year, month, day, hour, minute):\n",
    "    point_of_time = datetime(year, month, day, hour, minute)\n",
    "    df_smaller_pot = df_bikes[df_bikes[\"start_time\"] < point_of_time]\n",
    "    df_greater_pot = df_smaller_pot[df_smaller_pot[\"end_time\"] > point_of_time]\n",
    "    avlbl = ((1250 - len(df_greater_pot)) / 1250) *100\n",
    "    return avlbl\n",
    "\n",
    "available_bikes(2017, 1, 3, 12, 30)"
   ],
   "metadata": {
    "collapsed": false,
    "pycharm": {
     "name": "#%%\n"
    }
   }
  },
  {
   "cell_type": "code",
   "execution_count": 87,
   "outputs": [
    {
     "name": "stdout",
     "output_type": "stream",
     "text": [
      "1.3599999999999999\n"
     ]
    }
   ],
   "source": [
    "\n",
    "#creates an array containing the utilization of every minute within one hour\n",
    "util_arr = []\n",
    "for i in range(0, 59):\n",
    "    util_arr.append(utilization(2017, 1, 3, 12, i))\n",
    "print(max(util_arr))"
   ],
   "metadata": {
    "collapsed": false,
    "pycharm": {
     "name": "#%%\n"
    }
   }
  },
  {
   "cell_type": "code",
   "execution_count": 88,
   "outputs": [
    {
     "data": {
      "text/plain": "1397"
     },
     "execution_count": 88,
     "metadata": {},
     "output_type": "execute_result"
    }
   ],
   "source": [
    "#sums up all loans for one entire day in 2017\n",
    "def loans_per_day(month, day):\n",
    "    day_in_2017_start = datetime(2017, month, day, 0, 0)\n",
    "    day_in_2017_end = datetime(2017, month, day, 23, 59)\n",
    "    df_day_start = df_bikes[df_bikes[\"start_time\"] >= day_in_2017_start]\n",
    "    df_day_end = df_day_start[df_day_start[\"start_time\"] <= day_in_2017_end]\n",
    "    return len(df_day_end)\n",
    "\n",
    "loans_per_day(1, 26)"
   ],
   "metadata": {
    "collapsed": false,
    "pycharm": {
     "name": "#%%\n"
    }
   }
  },
  {
   "cell_type": "code",
   "execution_count": 89,
   "outputs": [
    {
     "name": "stdout",
     "output_type": "stream",
     "text": [
      "[822, 1496, 1822, 0, 0, 0, 0, 0, 0, 0, 0, 0, 1378, 597, 745, 992, 1015, 1471, 1590, 1212, 1175, 628, 513, 1084, 1639, 1397, 1317, 796, 783, 1248]\n"
     ]
    }
   ],
   "source": [
    "\n",
    "#creates an array containing the total number of loans for one entire day for one month\n",
    "month_arr = []\n",
    "for i in range(1, 31):\n",
    "    month_arr.append(loans_per_day(1, i))\n",
    "print(month_arr)\n"
   ],
   "metadata": {
    "collapsed": false,
    "pycharm": {
     "name": "#%%\n"
    }
   }
  },
  {
   "cell_type": "code",
   "execution_count": 90,
   "outputs": [
    {
     "data": {
      "text/plain": "[<matplotlib.lines.Line2D at 0x2621a460>]"
     },
     "execution_count": 90,
     "metadata": {},
     "output_type": "execute_result"
    },
    {
     "data": {
      "text/plain": "<Figure size 432x288 with 1 Axes>",
      "image/png": "[encoded data removed]"
     },
     "metadata": {
      "needs_background": "light"
     },
     "output_type": "display_data"
    }
   ],
   "source": [
    "\n",
    "#total number of loans for one entire day for one month as lineplot\n",
    "x = range(1, 31)\n",
    "y = month_arr\n",
    "plt.plot(x, y)"
   ],
   "metadata": {
    "collapsed": false,
    "pycharm": {
     "name": "#%%\n"
    }
   }
  },
  {
   "cell_type": "markdown",
   "source": [
    "## KPI: Profit"
   ],
   "metadata": {
    "collapsed": false,
    "pycharm": {
     "name": "#%% md\n"
    }
   }
  },
  {
   "cell_type": "code",
   "execution_count": 91,
   "outputs": [
    {
     "name": "stderr",
     "output_type": "stream",
     "text": [
      "<ipython-input-91-20691185a29b>:18: SettingWithCopyWarning: \n",
      "A value is trying to be set on a copy of a slice from a DataFrame.\n",
      "Try using .loc[row_indexer,col_indexer] = value instead\n",
      "\n",
      "See the caveats in the documentation: https://pandas.pydata.org/pandas-docs/stable/user_guide/indexing.html#returning-a-view-versus-a-copy\n",
      "  df_one_day_more_than_30_mins['overtime'] = df_one_day_more_than_30_mins['duration'] - minutes30\n",
      "<ipython-input-91-20691185a29b>:20: SettingWithCopyWarning: \n",
      "A value is trying to be set on a copy of a slice from a DataFrame.\n",
      "Try using .loc[row_indexer,col_indexer] = value instead\n",
      "\n",
      "See the caveats in the documentation: https://pandas.pydata.org/pandas-docs/stable/user_guide/indexing.html#returning-a-view-versus-a-copy\n",
      "  df_one_day_more_than_30_mins['costs_overtime'] = df_one_day_more_than_30_mins['overtime'].apply(lambda x: (x.total_seconds() / 60) * 0.15)\n"
     ]
    },
    {
     "data": {
      "text/plain": "                start_time            end_time  start_station_id  \\\n327848 2017-06-30 20:34:00 2017-06-30 21:40:00              3057   \n328951 2017-07-01 12:39:00 2017-07-01 13:11:00              3074   \n329174 2017-07-01 14:11:00 2017-07-01 14:52:00              3050   \n329237 2017-07-01 14:26:00 2017-07-01 15:25:00              3057   \n329242 2017-07-01 14:27:00 2017-07-01 15:25:00              3057   \n\n        end_station_id  bike_id     user_type          start_station_name  \\\n327848            3045     2690  One Day Pass  Philadelphia Museum of Art   \n328951            3061     2588  One Day Pass               44th & Walnut   \n329174            3058     2682  One Day Pass                  9th & Arch   \n329237            3108    11752  One Day Pass  Philadelphia Museum of Art   \n329242            3108     3402  One Day Pass  Philadelphia Museum of Art   \n\n        end_station_name        duration  weekday  is_weekday        overtime  \\\n327848     13th & Locust 0 days 01:06:00        4           1 0 days 00:36:00   \n328951     23rd & Market 0 days 00:32:00        5           0 0 days 00:02:00   \n329174  20th & Fairmount 0 days 00:41:00        5           0 0 days 00:11:00   \n329237     15th & Market 0 days 00:59:00        5           0 0 days 00:29:00   \n329242     15th & Market 0 days 00:58:00        5           0 0 days 00:28:00   \n\n        costs_overtime  \n327848            5.40  \n328951            0.30  \n329174            1.65  \n329237            4.35  \n329242            4.20  ",
      "text/html": "<div>\n<style scoped>\n    .dataframe tbody tr th:only-of-type {\n        vertical-align: middle;\n    }\n\n    .dataframe tbody tr th {\n        vertical-align: top;\n    }\n\n    .dataframe thead th {\n        text-align: right;\n    }\n</style>\n<table border=\"1\" class=\"dataframe\">\n  <thead>\n    <tr style=\"text-align: right;\">\n      <th></th>\n      <th>start_time</th>\n      <th>end_time</th>\n      <th>start_station_id</th>\n      <th>end_station_id</th>\n      <th>bike_id</th>\n      <th>user_type</th>\n      <th>start_station_name</th>\n      <th>end_station_name</th>\n      <th>duration</th>\n      <th>weekday</th>\n      <th>is_weekday</th>\n      <th>overtime</th>\n      <th>costs_overtime</th>\n    </tr>\n  </thead>\n  <tbody>\n    <tr>\n      <th>327848</th>\n      <td>2017-06-30 20:34:00</td>\n      <td>2017-06-30 21:40:00</td>\n      <td>3057</td>\n      <td>3045</td>\n      <td>2690</td>\n      <td>One Day Pass</td>\n      <td>Philadelphia Museum of Art</td>\n      <td>13th &amp; Locust</td>\n      <td>0 days 01:06:00</td>\n      <td>4</td>\n      <td>1</td>\n      <td>0 days 00:36:00</td>\n      <td>5.40</td>\n    </tr>\n    <tr>\n      <th>328951</th>\n      <td>2017-07-01 12:39:00</td>\n      <td>2017-07-01 13:11:00</td>\n      <td>3074</td>\n      <td>3061</td>\n      <td>2588</td>\n      <td>One Day Pass</td>\n      <td>44th &amp; Walnut</td>\n      <td>23rd &amp; Market</td>\n      <td>0 days 00:32:00</td>\n      <td>5</td>\n      <td>0</td>\n      <td>0 days 00:02:00</td>\n      <td>0.30</td>\n    </tr>\n    <tr>\n      <th>329174</th>\n      <td>2017-07-01 14:11:00</td>\n      <td>2017-07-01 14:52:00</td>\n      <td>3050</td>\n      <td>3058</td>\n      <td>2682</td>\n      <td>One Day Pass</td>\n      <td>9th &amp; Arch</td>\n      <td>20th &amp; Fairmount</td>\n      <td>0 days 00:41:00</td>\n      <td>5</td>\n      <td>0</td>\n      <td>0 days 00:11:00</td>\n      <td>1.65</td>\n    </tr>\n    <tr>\n      <th>329237</th>\n      <td>2017-07-01 14:26:00</td>\n      <td>2017-07-01 15:25:00</td>\n      <td>3057</td>\n      <td>3108</td>\n      <td>11752</td>\n      <td>One Day Pass</td>\n      <td>Philadelphia Museum of Art</td>\n      <td>15th &amp; Market</td>\n      <td>0 days 00:59:00</td>\n      <td>5</td>\n      <td>0</td>\n      <td>0 days 00:29:00</td>\n      <td>4.35</td>\n    </tr>\n    <tr>\n      <th>329242</th>\n      <td>2017-07-01 14:27:00</td>\n      <td>2017-07-01 15:25:00</td>\n      <td>3057</td>\n      <td>3108</td>\n      <td>3402</td>\n      <td>One Day Pass</td>\n      <td>Philadelphia Museum of Art</td>\n      <td>15th &amp; Market</td>\n      <td>0 days 00:58:00</td>\n      <td>5</td>\n      <td>0</td>\n      <td>0 days 00:28:00</td>\n      <td>4.20</td>\n    </tr>\n  </tbody>\n</table>\n</div>"
     },
     "execution_count": 91,
     "metadata": {},
     "output_type": "execute_result"
    }
   ],
   "source": [
    "#Notes:\n",
    "# Prices from Indego's official website from 2021 for the user types OneDayPass, TwoDayPass, Indego30 and Indego365.\n",
    "# For the user types Walk-up and IndegoFlex we took the official Indego prices for 2015. The price for Walk-up is 4$\n",
    "# for every beginning 30 minutes. For IndegoFlex it is 4$ for every beginning 60 minutes.\n",
    "# The four following mentioned calculations just contain the profit from overdrafts of the loans for user type OneDayPass\n",
    "# (we assume that the 2021 Guest Pass is based on the user types OneDayPass and TwoDayPass - the cost for overtime are\n",
    "# 15¢/minute for rides over 30 minutes) and the user types Indego30 and Indego365 (15¢/minute for rides over 60 minutes).\n",
    "# Of course the biggest profit of OneDayPass, TwoDayPass, Indego30 and Indego 365 is made from selling passes but we do\n",
    "# not have any information about the amount of sold passes so we focused on profit from overdrafts.\n",
    "\n",
    "\n",
    "# profit from overtime loans of usertype OneDayPass\n",
    "\n",
    "minutes30 = timedelta(minutes=30)\n",
    "\n",
    "df_one_day = df_bikes[df_bikes['user_type'] == 'One Day Pass']\n",
    "df_one_day_more_than_30_mins = df_one_day[df_one_day['duration'] > minutes30]\n",
    "df_one_day_more_than_30_mins['overtime'] = df_one_day_more_than_30_mins['duration'] - minutes30\n",
    "\n",
    "df_one_day_more_than_30_mins['costs_overtime'] = df_one_day_more_than_30_mins['overtime'].apply(lambda x: (x.total_seconds() / 60) * 0.15)\n",
    "\n",
    "df_one_day_more_than_30_mins.head()"
   ],
   "metadata": {
    "collapsed": false,
    "pycharm": {
     "name": "#%%\n"
    }
   }
  },
  {
   "cell_type": "code",
   "execution_count": 92,
   "outputs": [
    {
     "name": "stdout",
     "output_type": "stream",
     "text": [
      "1802.4000000000012\n"
     ]
    }
   ],
   "source": [
    "# total sum of all  overtime loans of usertype OneDayPass\n",
    "sum_one_day_Overtime_Profit = sum(df_one_day_more_than_30_mins['costs_overtime'].apply(lambda x: x))\n",
    "print(sum_one_day_Overtime_Profit)"
   ],
   "metadata": {
    "collapsed": false,
    "pycharm": {
     "name": "#%%\n"
    }
   }
  },
  {
   "cell_type": "code",
   "execution_count": 93,
   "outputs": [
    {
     "name": "stderr",
     "output_type": "stream",
     "text": [
      "<ipython-input-93-243c10ce0e2b>:5: SettingWithCopyWarning: \n",
      "A value is trying to be set on a copy of a slice from a DataFrame.\n",
      "Try using .loc[row_indexer,col_indexer] = value instead\n",
      "\n",
      "See the caveats in the documentation: https://pandas.pydata.org/pandas-docs/stable/user_guide/indexing.html#returning-a-view-versus-a-copy\n",
      "  df_two_day_more_than_30_mins['overtime'] = df_two_day_more_than_30_mins['duration'] - minutes30\n",
      "<ipython-input-93-243c10ce0e2b>:7: SettingWithCopyWarning: \n",
      "A value is trying to be set on a copy of a slice from a DataFrame.\n",
      "Try using .loc[row_indexer,col_indexer] = value instead\n",
      "\n",
      "See the caveats in the documentation: https://pandas.pydata.org/pandas-docs/stable/user_guide/indexing.html#returning-a-view-versus-a-copy\n",
      "  df_two_day_more_than_30_mins['costs_overtime'] = df_two_day_more_than_30_mins['overtime'].apply(lambda x: (x.total_seconds() / 60) * 0.15)\n"
     ]
    },
    {
     "data": {
      "text/plain": "                start_time            end_time  start_station_id  \\\n427254 2017-08-03 15:24:00 2017-08-03 16:04:00              3057   \n430322 2017-08-04 12:26:00 2017-08-04 12:57:00              3040   \n430559 2017-08-04 13:49:00 2017-08-04 14:22:00              3026   \n430561 2017-08-04 13:50:00 2017-08-04 14:22:00              3026   \n431633 2017-08-04 18:08:00 2017-08-04 18:43:00              3156   \n\n        end_station_id  bike_id     user_type          start_station_name  \\\n427254            3101    11775  Two Day Pass  Philadelphia Museum of Art   \n430322            3046     3701  Two Day Pass        17th & Spring Garden   \n430559            3054     3507  Two Day Pass                 2nd & South   \n430561            3054     3531  Two Day Pass                 2nd & South   \n431633            3046     3572  Two Day Pass               20th & Market   \n\n       end_station_name        duration  weekday  is_weekday        overtime  \\\n427254     11th & South 0 days 00:40:00        3           1 0 days 00:10:00   \n430322     2nd & Market 0 days 00:31:00        4           1 0 days 00:01:00   \n430559     Rodin Museum 0 days 00:33:00        4           1 0 days 00:03:00   \n430561     Rodin Museum 0 days 00:32:00        4           1 0 days 00:02:00   \n431633     2nd & Market 0 days 00:35:00        4           1 0 days 00:05:00   \n\n        costs_overtime  \n427254            1.50  \n430322            0.15  \n430559            0.45  \n430561            0.30  \n431633            0.75  ",
      "text/html": "<div>\n<style scoped>\n    .dataframe tbody tr th:only-of-type {\n        vertical-align: middle;\n    }\n\n    .dataframe tbody tr th {\n        vertical-align: top;\n    }\n\n    .dataframe thead th {\n        text-align: right;\n    }\n</style>\n<table border=\"1\" class=\"dataframe\">\n  <thead>\n    <tr style=\"text-align: right;\">\n      <th></th>\n      <th>start_time</th>\n      <th>end_time</th>\n      <th>start_station_id</th>\n      <th>end_station_id</th>\n      <th>bike_id</th>\n      <th>user_type</th>\n      <th>start_station_name</th>\n      <th>end_station_name</th>\n      <th>duration</th>\n      <th>weekday</th>\n      <th>is_weekday</th>\n      <th>overtime</th>\n      <th>costs_overtime</th>\n    </tr>\n  </thead>\n  <tbody>\n    <tr>\n      <th>427254</th>\n      <td>2017-08-03 15:24:00</td>\n      <td>2017-08-03 16:04:00</td>\n      <td>3057</td>\n      <td>3101</td>\n      <td>11775</td>\n      <td>Two Day Pass</td>\n      <td>Philadelphia Museum of Art</td>\n      <td>11th &amp; South</td>\n      <td>0 days 00:40:00</td>\n      <td>3</td>\n      <td>1</td>\n      <td>0 days 00:10:00</td>\n      <td>1.50</td>\n    </tr>\n    <tr>\n      <th>430322</th>\n      <td>2017-08-04 12:26:00</td>\n      <td>2017-08-04 12:57:00</td>\n      <td>3040</td>\n      <td>3046</td>\n      <td>3701</td>\n      <td>Two Day Pass</td>\n      <td>17th &amp; Spring Garden</td>\n      <td>2nd &amp; Market</td>\n      <td>0 days 00:31:00</td>\n      <td>4</td>\n      <td>1</td>\n      <td>0 days 00:01:00</td>\n      <td>0.15</td>\n    </tr>\n    <tr>\n      <th>430559</th>\n      <td>2017-08-04 13:49:00</td>\n      <td>2017-08-04 14:22:00</td>\n      <td>3026</td>\n      <td>3054</td>\n      <td>3507</td>\n      <td>Two Day Pass</td>\n      <td>2nd &amp; South</td>\n      <td>Rodin Museum</td>\n      <td>0 days 00:33:00</td>\n      <td>4</td>\n      <td>1</td>\n      <td>0 days 00:03:00</td>\n      <td>0.45</td>\n    </tr>\n    <tr>\n      <th>430561</th>\n      <td>2017-08-04 13:50:00</td>\n      <td>2017-08-04 14:22:00</td>\n      <td>3026</td>\n      <td>3054</td>\n      <td>3531</td>\n      <td>Two Day Pass</td>\n      <td>2nd &amp; South</td>\n      <td>Rodin Museum</td>\n      <td>0 days 00:32:00</td>\n      <td>4</td>\n      <td>1</td>\n      <td>0 days 00:02:00</td>\n      <td>0.30</td>\n    </tr>\n    <tr>\n      <th>431633</th>\n      <td>2017-08-04 18:08:00</td>\n      <td>2017-08-04 18:43:00</td>\n      <td>3156</td>\n      <td>3046</td>\n      <td>3572</td>\n      <td>Two Day Pass</td>\n      <td>20th &amp; Market</td>\n      <td>2nd &amp; Market</td>\n      <td>0 days 00:35:00</td>\n      <td>4</td>\n      <td>1</td>\n      <td>0 days 00:05:00</td>\n      <td>0.75</td>\n    </tr>\n  </tbody>\n</table>\n</div>"
     },
     "execution_count": 93,
     "metadata": {},
     "output_type": "execute_result"
    }
   ],
   "source": [
    "# profit from overtime loans of usertype TwoDayPass\n",
    "\n",
    "df_two_day = df_bikes[df_bikes['user_type'] == 'Two Day Pass']\n",
    "df_two_day_more_than_30_mins = df_two_day[df_two_day['duration'] > minutes30]\n",
    "df_two_day_more_than_30_mins['overtime'] = df_two_day_more_than_30_mins['duration'] - minutes30\n",
    "\n",
    "df_two_day_more_than_30_mins['costs_overtime'] = df_two_day_more_than_30_mins['overtime'].apply(lambda x: (x.total_seconds() / 60) * 0.15)\n",
    "\n",
    "df_two_day_more_than_30_mins.head()"
   ],
   "metadata": {
    "collapsed": false,
    "pycharm": {
     "name": "#%%\n"
    }
   }
  },
  {
   "cell_type": "code",
   "execution_count": 94,
   "outputs": [
    {
     "name": "stdout",
     "output_type": "stream",
     "text": [
      "403.2000000000001\n"
     ]
    }
   ],
   "source": [
    "# total sum of all  overtime loans of usertype TwoDayPass\n",
    "sum_two_day_Overtime_Profit = sum(df_two_day_more_than_30_mins['costs_overtime'].apply(lambda x: x))\n",
    "print(sum_two_day_Overtime_Profit)\n"
   ],
   "metadata": {
    "collapsed": false,
    "pycharm": {
     "name": "#%%\n"
    }
   }
  },
  {
   "cell_type": "code",
   "execution_count": 95,
   "outputs": [
    {
     "name": "stderr",
     "output_type": "stream",
     "text": [
      "<ipython-input-95-67c4a338402f>:6: SettingWithCopyWarning: \n",
      "A value is trying to be set on a copy of a slice from a DataFrame.\n",
      "Try using .loc[row_indexer,col_indexer] = value instead\n",
      "\n",
      "See the caveats in the documentation: https://pandas.pydata.org/pandas-docs/stable/user_guide/indexing.html#returning-a-view-versus-a-copy\n",
      "  df_walk_up['duration_to_seconds'] = df_walk_up['duration'].apply(lambda x: x.total_seconds())\n",
      "<ipython-input-95-67c4a338402f>:7: SettingWithCopyWarning: \n",
      "A value is trying to be set on a copy of a slice from a DataFrame.\n",
      "Try using .loc[row_indexer,col_indexer] = value instead\n",
      "\n",
      "See the caveats in the documentation: https://pandas.pydata.org/pandas-docs/stable/user_guide/indexing.html#returning-a-view-versus-a-copy\n",
      "  df_walk_up['price'] = df_walk_up['duration_to_seconds'].apply(lambda x: (int(math.ceil(x/1800)))*4)\n"
     ]
    },
    {
     "data": {
      "text/plain": "           start_time            end_time  start_station_id  end_station_id  \\\n1 2017-01-01 00:21:00 2017-01-01 00:57:00              3110            3054   \n2 2017-01-01 00:22:00 2017-01-01 00:57:00              3110            3054   \n4 2017-01-01 00:28:00 2017-01-01 00:36:00              3047            3124   \n5 2017-01-01 00:29:00 2017-01-01 00:36:00              3047            3124   \n8 2017-01-01 00:38:00 2017-01-01 00:57:00              3013            3028   \n\n   bike_id user_type           start_station_name  end_station_name  \\\n1     3364   Walk-up  Del. River Trail & Penn St.      Rodin Museum   \n2     2536   Walk-up  Del. River Trail & Penn St.      Rodin Museum   \n4     5370   Walk-up       Independence Mall, NPS  Race Street Pier   \n5     2479   Walk-up       Independence Mall, NPS  Race Street Pier   \n8     3716   Walk-up              6th & Fairmount  4th & Bainbridge   \n\n         duration  weekday  is_weekday  duration_to_seconds  price  \n1 0 days 00:36:00        6           0               2160.0      8  \n2 0 days 00:35:00        6           0               2100.0      8  \n4 0 days 00:08:00        6           0                480.0      4  \n5 0 days 00:07:00        6           0                420.0      4  \n8 0 days 00:19:00        6           0               1140.0      4  ",
      "text/html": "<div>\n<style scoped>\n    .dataframe tbody tr th:only-of-type {\n        vertical-align: middle;\n    }\n\n    .dataframe tbody tr th {\n        vertical-align: top;\n    }\n\n    .dataframe thead th {\n        text-align: right;\n    }\n</style>\n<table border=\"1\" class=\"dataframe\">\n  <thead>\n    <tr style=\"text-align: right;\">\n      <th></th>\n      <th>start_time</th>\n      <th>end_time</th>\n      <th>start_station_id</th>\n      <th>end_station_id</th>\n      <th>bike_id</th>\n      <th>user_type</th>\n      <th>start_station_name</th>\n      <th>end_station_name</th>\n      <th>duration</th>\n      <th>weekday</th>\n      <th>is_weekday</th>\n      <th>duration_to_seconds</th>\n      <th>price</th>\n    </tr>\n  </thead>\n  <tbody>\n    <tr>\n      <th>1</th>\n      <td>2017-01-01 00:21:00</td>\n      <td>2017-01-01 00:57:00</td>\n      <td>3110</td>\n      <td>3054</td>\n      <td>3364</td>\n      <td>Walk-up</td>\n      <td>Del. River Trail &amp; Penn St.</td>\n      <td>Rodin Museum</td>\n      <td>0 days 00:36:00</td>\n      <td>6</td>\n      <td>0</td>\n      <td>2160.0</td>\n      <td>8</td>\n    </tr>\n    <tr>\n      <th>2</th>\n      <td>2017-01-01 00:22:00</td>\n      <td>2017-01-01 00:57:00</td>\n      <td>3110</td>\n      <td>3054</td>\n      <td>2536</td>\n      <td>Walk-up</td>\n      <td>Del. River Trail &amp; Penn St.</td>\n      <td>Rodin Museum</td>\n      <td>0 days 00:35:00</td>\n      <td>6</td>\n      <td>0</td>\n      <td>2100.0</td>\n      <td>8</td>\n    </tr>\n    <tr>\n      <th>4</th>\n      <td>2017-01-01 00:28:00</td>\n      <td>2017-01-01 00:36:00</td>\n      <td>3047</td>\n      <td>3124</td>\n      <td>5370</td>\n      <td>Walk-up</td>\n      <td>Independence Mall, NPS</td>\n      <td>Race Street Pier</td>\n      <td>0 days 00:08:00</td>\n      <td>6</td>\n      <td>0</td>\n      <td>480.0</td>\n      <td>4</td>\n    </tr>\n    <tr>\n      <th>5</th>\n      <td>2017-01-01 00:29:00</td>\n      <td>2017-01-01 00:36:00</td>\n      <td>3047</td>\n      <td>3124</td>\n      <td>2479</td>\n      <td>Walk-up</td>\n      <td>Independence Mall, NPS</td>\n      <td>Race Street Pier</td>\n      <td>0 days 00:07:00</td>\n      <td>6</td>\n      <td>0</td>\n      <td>420.0</td>\n      <td>4</td>\n    </tr>\n    <tr>\n      <th>8</th>\n      <td>2017-01-01 00:38:00</td>\n      <td>2017-01-01 00:57:00</td>\n      <td>3013</td>\n      <td>3028</td>\n      <td>3716</td>\n      <td>Walk-up</td>\n      <td>6th &amp; Fairmount</td>\n      <td>4th &amp; Bainbridge</td>\n      <td>0 days 00:19:00</td>\n      <td>6</td>\n      <td>0</td>\n      <td>1140.0</td>\n      <td>4</td>\n    </tr>\n  </tbody>\n</table>\n</div>"
     },
     "execution_count": 95,
     "metadata": {},
     "output_type": "execute_result"
    }
   ],
   "source": [
    "import math\n",
    "\n",
    "# Calculation for user type 'Walk-up' based on the official 2015 prices of Indego. It costs 4$ every beginning 30 Minutes.\n",
    "\n",
    "df_walk_up = df_bikes[df_bikes['user_type'] == 'Walk-up']\n",
    "df_walk_up['duration_to_seconds'] = df_walk_up['duration'].apply(lambda x: x.total_seconds())\n",
    "df_walk_up['price'] = df_walk_up['duration_to_seconds'].apply(lambda x: (int(math.ceil(x/1800)))*4)\n",
    "\n",
    "#test\n",
    "df_walk_up.head(5)"
   ],
   "metadata": {
    "collapsed": false,
    "pycharm": {
     "name": "#%%\n"
    }
   }
  },
  {
   "cell_type": "code",
   "execution_count": 96,
   "outputs": [
    {
     "name": "stdout",
     "output_type": "stream",
     "text": [
      "449888\n"
     ]
    }
   ],
   "source": [
    "# total sum of all Walk-up profits\n",
    "\n",
    "sum_Walk_up_profit = sum(df_walk_up['price'].apply(lambda x: x))\n",
    "print(sum_Walk_up_profit)\n"
   ],
   "metadata": {
    "collapsed": false,
    "pycharm": {
     "name": "#%%\n"
    }
   }
  },
  {
   "cell_type": "code",
   "execution_count": 97,
   "outputs": [
    {
     "name": "stderr",
     "output_type": "stream",
     "text": [
      "<ipython-input-97-9df66264aad5>:4: SettingWithCopyWarning: \n",
      "A value is trying to be set on a copy of a slice from a DataFrame.\n",
      "Try using .loc[row_indexer,col_indexer] = value instead\n",
      "\n",
      "See the caveats in the documentation: https://pandas.pydata.org/pandas-docs/stable/user_guide/indexing.html#returning-a-view-versus-a-copy\n",
      "  df_flex['duration_to_seconds'] = df_flex['duration'].apply(lambda x: x.total_seconds())\n",
      "<ipython-input-97-9df66264aad5>:5: SettingWithCopyWarning: \n",
      "A value is trying to be set on a copy of a slice from a DataFrame.\n",
      "Try using .loc[row_indexer,col_indexer] = value instead\n",
      "\n",
      "See the caveats in the documentation: https://pandas.pydata.org/pandas-docs/stable/user_guide/indexing.html#returning-a-view-versus-a-copy\n",
      "  df_flex['price'] = df_flex['duration_to_seconds'].apply(lambda x: (int(math.ceil(x/3600)))*4)\n"
     ]
    },
    {
     "data": {
      "text/plain": "             start_time            end_time  start_station_id  end_station_id  \\\n190 2017-01-01 11:39:00 2017-01-01 11:44:00              3012            3114   \n195 2017-01-01 11:42:00 2017-01-01 11:54:00              3054            3125   \n235 2017-01-01 12:26:00 2017-01-01 12:42:00              3037            3014   \n464 2017-01-01 15:22:00 2017-01-01 15:30:00              3068            3010   \n625 2017-01-01 17:27:00 2017-01-01 17:49:00              3010            3099   \n\n     bike_id   user_type              start_station_name  \\\n190     3378  IndegoFlex                21st & Catharine   \n195     5182  IndegoFlex                    Rodin Museum   \n235     5214  IndegoFlex  Pennsylvania Convention Center   \n464    11009  IndegoFlex                 Broad & Federal   \n625     3315  IndegoFlex                   15th & Spruce   \n\n                      end_station_name        duration  weekday  is_weekday  \\\n190                     22nd & Federal 0 days 00:05:00        6           0   \n195                       15th & South 0 days 00:12:00        6           0   \n235  21st & Winter, Franklin Institute 0 days 00:16:00        6           0   \n464                      15th & Spruce 0 days 00:08:00        6           0   \n625                   4th & Washington 0 days 00:22:00        6           0   \n\n     duration_to_seconds  price  \n190                300.0      4  \n195                720.0      4  \n235                960.0      4  \n464                480.0      4  \n625               1320.0      4  ",
      "text/html": "<div>\n<style scoped>\n    .dataframe tbody tr th:only-of-type {\n        vertical-align: middle;\n    }\n\n    .dataframe tbody tr th {\n        vertical-align: top;\n    }\n\n    .dataframe thead th {\n        text-align: right;\n    }\n</style>\n<table border=\"1\" class=\"dataframe\">\n  <thead>\n    <tr style=\"text-align: right;\">\n      <th></th>\n      <th>start_time</th>\n      <th>end_time</th>\n      <th>start_station_id</th>\n      <th>end_station_id</th>\n      <th>bike_id</th>\n      <th>user_type</th>\n      <th>start_station_name</th>\n      <th>end_station_name</th>\n      <th>duration</th>\n      <th>weekday</th>\n      <th>is_weekday</th>\n      <th>duration_to_seconds</th>\n      <th>price</th>\n    </tr>\n  </thead>\n  <tbody>\n    <tr>\n      <th>190</th>\n      <td>2017-01-01 11:39:00</td>\n      <td>2017-01-01 11:44:00</td>\n      <td>3012</td>\n      <td>3114</td>\n      <td>3378</td>\n      <td>IndegoFlex</td>\n      <td>21st &amp; Catharine</td>\n      <td>22nd &amp; Federal</td>\n      <td>0 days 00:05:00</td>\n      <td>6</td>\n      <td>0</td>\n      <td>300.0</td>\n      <td>4</td>\n    </tr>\n    <tr>\n      <th>195</th>\n      <td>2017-01-01 11:42:00</td>\n      <td>2017-01-01 11:54:00</td>\n      <td>3054</td>\n      <td>3125</td>\n      <td>5182</td>\n      <td>IndegoFlex</td>\n      <td>Rodin Museum</td>\n      <td>15th &amp; South</td>\n      <td>0 days 00:12:00</td>\n      <td>6</td>\n      <td>0</td>\n      <td>720.0</td>\n      <td>4</td>\n    </tr>\n    <tr>\n      <th>235</th>\n      <td>2017-01-01 12:26:00</td>\n      <td>2017-01-01 12:42:00</td>\n      <td>3037</td>\n      <td>3014</td>\n      <td>5214</td>\n      <td>IndegoFlex</td>\n      <td>Pennsylvania Convention Center</td>\n      <td>21st &amp; Winter, Franklin Institute</td>\n      <td>0 days 00:16:00</td>\n      <td>6</td>\n      <td>0</td>\n      <td>960.0</td>\n      <td>4</td>\n    </tr>\n    <tr>\n      <th>464</th>\n      <td>2017-01-01 15:22:00</td>\n      <td>2017-01-01 15:30:00</td>\n      <td>3068</td>\n      <td>3010</td>\n      <td>11009</td>\n      <td>IndegoFlex</td>\n      <td>Broad &amp; Federal</td>\n      <td>15th &amp; Spruce</td>\n      <td>0 days 00:08:00</td>\n      <td>6</td>\n      <td>0</td>\n      <td>480.0</td>\n      <td>4</td>\n    </tr>\n    <tr>\n      <th>625</th>\n      <td>2017-01-01 17:27:00</td>\n      <td>2017-01-01 17:49:00</td>\n      <td>3010</td>\n      <td>3099</td>\n      <td>3315</td>\n      <td>IndegoFlex</td>\n      <td>15th &amp; Spruce</td>\n      <td>4th &amp; Washington</td>\n      <td>0 days 00:22:00</td>\n      <td>6</td>\n      <td>0</td>\n      <td>1320.0</td>\n      <td>4</td>\n    </tr>\n  </tbody>\n</table>\n</div>"
     },
     "execution_count": 97,
     "metadata": {},
     "output_type": "execute_result"
    }
   ],
   "source": [
    "# Calculation for user type 'IndegoFlex' based on the official 2015 prices of Indego. It costs 4$ every beginning 60 Minutes.\n",
    "\n",
    "df_flex = df_bikes[df_bikes['user_type'] == 'IndegoFlex']\n",
    "df_flex['duration_to_seconds'] = df_flex['duration'].apply(lambda x: x.total_seconds())\n",
    "df_flex['price'] = df_flex['duration_to_seconds'].apply(lambda x: (int(math.ceil(x/3600)))*4)\n",
    "\n",
    "#test\n",
    "df_flex.head(5)"
   ],
   "metadata": {
    "collapsed": false,
    "pycharm": {
     "name": "#%%\n"
    }
   }
  },
  {
   "cell_type": "code",
   "execution_count": 98,
   "outputs": [
    {
     "name": "stdout",
     "output_type": "stream",
     "text": [
      "22516\n"
     ]
    }
   ],
   "source": [
    "# total sum of all IndegoFlex profits\n",
    "\n",
    "sum_flex_profit = sum(df_flex['price'].apply(lambda x: x))\n",
    "print(sum_flex_profit)\n"
   ],
   "metadata": {
    "collapsed": false,
    "pycharm": {
     "name": "#%%\n"
    }
   }
  },
  {
   "cell_type": "code",
   "execution_count": 99,
   "outputs": [
    {
     "name": "stderr",
     "output_type": "stream",
     "text": [
      "<ipython-input-99-c2d2a52ad31c>:6: SettingWithCopyWarning: \n",
      "A value is trying to be set on a copy of a slice from a DataFrame.\n",
      "Try using .loc[row_indexer,col_indexer] = value instead\n",
      "\n",
      "See the caveats in the documentation: https://pandas.pydata.org/pandas-docs/stable/user_guide/indexing.html#returning-a-view-versus-a-copy\n",
      "  df_Indego30_more_than_60_mins[\"overtime\"] = df_Indego30_more_than_60_mins[\"duration\"] - minutes60\n",
      "<ipython-input-99-c2d2a52ad31c>:8: SettingWithCopyWarning: \n",
      "A value is trying to be set on a copy of a slice from a DataFrame.\n",
      "Try using .loc[row_indexer,col_indexer] = value instead\n",
      "\n",
      "See the caveats in the documentation: https://pandas.pydata.org/pandas-docs/stable/user_guide/indexing.html#returning-a-view-versus-a-copy\n",
      "  df_Indego30_more_than_60_mins[\"costs_overtime\"] = df_Indego30_more_than_60_mins[\"overtime\"].apply(lambda x: (x.total_seconds() / 60) * 0.15)\n"
     ]
    },
    {
     "data": {
      "text/plain": "              start_time            end_time  start_station_id  \\\n60   2017-01-01 02:52:00 2017-01-01 03:56:00              3059   \n844  2017-01-01 22:31:00 2017-01-01 23:41:00              3067   \n1255 2017-03-01 06:48:00 2017-03-01 07:58:00              3032   \n1457 2017-03-01 12:51:00 2017-03-01 13:52:00              3068   \n2441 2017-04-01 12:29:00 2017-04-01 13:38:00              3078   \n\n      end_station_id  bike_id user_type  \\\n60              3073    11042  Indego30   \n844             3067     5144  Indego30   \n1255            3022     3645  Indego30   \n1457            3033     3556  Indego30   \n2441            3023     5291  Indego30   \n\n                                     start_station_name  \\\n60                           Spring Garden Station, BSL   \n844   39th & Mt. Vernon, Mantua Haverford Community ...   \n1255                                       23rd & South   \n1457                                    Broad & Federal   \n2441                                      19th & Market   \n\n                                       end_station_name        duration  \\\n60                                  9th & Spring Garden 0 days 01:04:00   \n844   39th & Mt. Vernon, Mantua Haverford Community ... 0 days 01:10:00   \n1255                         Amtrak 30th Street Station 0 days 01:10:00   \n1457                                    10th & Chestnut 0 days 01:01:00   \n2441                                 Rittenhouse Square 0 days 01:09:00   \n\n      weekday  is_weekday        overtime  costs_overtime  \n60          6           0 0 days 00:04:00            0.60  \n844         6           0 0 days 00:10:00            1.50  \n1255        2           1 0 days 00:10:00            1.50  \n1457        2           1 0 days 00:01:00            0.15  \n2441        5           0 0 days 00:09:00            1.35  ",
      "text/html": "<div>\n<style scoped>\n    .dataframe tbody tr th:only-of-type {\n        vertical-align: middle;\n    }\n\n    .dataframe tbody tr th {\n        vertical-align: top;\n    }\n\n    .dataframe thead th {\n        text-align: right;\n    }\n</style>\n<table border=\"1\" class=\"dataframe\">\n  <thead>\n    <tr style=\"text-align: right;\">\n      <th></th>\n      <th>start_time</th>\n      <th>end_time</th>\n      <th>start_station_id</th>\n      <th>end_station_id</th>\n      <th>bike_id</th>\n      <th>user_type</th>\n      <th>start_station_name</th>\n      <th>end_station_name</th>\n      <th>duration</th>\n      <th>weekday</th>\n      <th>is_weekday</th>\n      <th>overtime</th>\n      <th>costs_overtime</th>\n    </tr>\n  </thead>\n  <tbody>\n    <tr>\n      <th>60</th>\n      <td>2017-01-01 02:52:00</td>\n      <td>2017-01-01 03:56:00</td>\n      <td>3059</td>\n      <td>3073</td>\n      <td>11042</td>\n      <td>Indego30</td>\n      <td>Spring Garden Station, BSL</td>\n      <td>9th &amp; Spring Garden</td>\n      <td>0 days 01:04:00</td>\n      <td>6</td>\n      <td>0</td>\n      <td>0 days 00:04:00</td>\n      <td>0.60</td>\n    </tr>\n    <tr>\n      <th>844</th>\n      <td>2017-01-01 22:31:00</td>\n      <td>2017-01-01 23:41:00</td>\n      <td>3067</td>\n      <td>3067</td>\n      <td>5144</td>\n      <td>Indego30</td>\n      <td>39th &amp; Mt. Vernon, Mantua Haverford Community ...</td>\n      <td>39th &amp; Mt. Vernon, Mantua Haverford Community ...</td>\n      <td>0 days 01:10:00</td>\n      <td>6</td>\n      <td>0</td>\n      <td>0 days 00:10:00</td>\n      <td>1.50</td>\n    </tr>\n    <tr>\n      <th>1255</th>\n      <td>2017-03-01 06:48:00</td>\n      <td>2017-03-01 07:58:00</td>\n      <td>3032</td>\n      <td>3022</td>\n      <td>3645</td>\n      <td>Indego30</td>\n      <td>23rd &amp; South</td>\n      <td>Amtrak 30th Street Station</td>\n      <td>0 days 01:10:00</td>\n      <td>2</td>\n      <td>1</td>\n      <td>0 days 00:10:00</td>\n      <td>1.50</td>\n    </tr>\n    <tr>\n      <th>1457</th>\n      <td>2017-03-01 12:51:00</td>\n      <td>2017-03-01 13:52:00</td>\n      <td>3068</td>\n      <td>3033</td>\n      <td>3556</td>\n      <td>Indego30</td>\n      <td>Broad &amp; Federal</td>\n      <td>10th &amp; Chestnut</td>\n      <td>0 days 01:01:00</td>\n      <td>2</td>\n      <td>1</td>\n      <td>0 days 00:01:00</td>\n      <td>0.15</td>\n    </tr>\n    <tr>\n      <th>2441</th>\n      <td>2017-04-01 12:29:00</td>\n      <td>2017-04-01 13:38:00</td>\n      <td>3078</td>\n      <td>3023</td>\n      <td>5291</td>\n      <td>Indego30</td>\n      <td>19th &amp; Market</td>\n      <td>Rittenhouse Square</td>\n      <td>0 days 01:09:00</td>\n      <td>5</td>\n      <td>0</td>\n      <td>0 days 00:09:00</td>\n      <td>1.35</td>\n    </tr>\n  </tbody>\n</table>\n</div>"
     },
     "execution_count": 99,
     "metadata": {},
     "output_type": "execute_result"
    }
   ],
   "source": [
    "#profit from overtime loans of usertype Indego30\n",
    "minutes60 = timedelta(minutes=60)\n",
    "\n",
    "df_Indego30 = df_bikes[df_bikes[\"user_type\"] == \"Indego30\"]\n",
    "df_Indego30_more_than_60_mins = df_Indego30[df_Indego30[\"duration\"] > minutes60]\n",
    "df_Indego30_more_than_60_mins[\"overtime\"] = df_Indego30_more_than_60_mins[\"duration\"] - minutes60\n",
    "\n",
    "df_Indego30_more_than_60_mins[\"costs_overtime\"] = df_Indego30_more_than_60_mins[\"overtime\"].apply(lambda x: (x.total_seconds() / 60) * 0.15)\n",
    "\n",
    "df_Indego30_more_than_60_mins.head()"
   ],
   "metadata": {
    "collapsed": false,
    "pycharm": {
     "name": "#%%\n"
    }
   }
  },
  {
   "cell_type": "code",
   "execution_count": 100,
   "outputs": [
    {
     "name": "stdout",
     "output_type": "stream",
     "text": [
      "2035.6500000000005\n"
     ]
    }
   ],
   "source": [
    "#total sum of all  overtime loans of usertype Indego30\n",
    "sumIndego30OvertimeProfit = sum(df_Indego30_more_than_60_mins[\"costs_overtime\"].apply(lambda x: x))\n",
    "print(sumIndego30OvertimeProfit)"
   ],
   "metadata": {
    "collapsed": false,
    "pycharm": {
     "name": "#%%\n"
    }
   }
  },
  {
   "cell_type": "code",
   "execution_count": 101,
   "outputs": [
    {
     "name": "stderr",
     "output_type": "stream",
     "text": [
      "<ipython-input-101-cddbfc7704ad>:5: SettingWithCopyWarning: \n",
      "A value is trying to be set on a copy of a slice from a DataFrame.\n",
      "Try using .loc[row_indexer,col_indexer] = value instead\n",
      "\n",
      "See the caveats in the documentation: https://pandas.pydata.org/pandas-docs/stable/user_guide/indexing.html#returning-a-view-versus-a-copy\n",
      "  df_Indego365_more_than_60_mins[\"overtime\"] = df_Indego365_more_than_60_mins[\"duration\"] - minutes60\n",
      "<ipython-input-101-cddbfc7704ad>:7: SettingWithCopyWarning: \n",
      "A value is trying to be set on a copy of a slice from a DataFrame.\n",
      "Try using .loc[row_indexer,col_indexer] = value instead\n",
      "\n",
      "See the caveats in the documentation: https://pandas.pydata.org/pandas-docs/stable/user_guide/indexing.html#returning-a-view-versus-a-copy\n",
      "  df_Indego365_more_than_60_mins[\"costs_overtime\"] = df_Indego365_more_than_60_mins[\"overtime\"].apply(lambda x: (x.total_seconds() / 60) * 0.15)\n"
     ]
    },
    {
     "data": {
      "text/plain": "                start_time            end_time  start_station_id  \\\n730681 2017-11-17 17:23:00 2017-11-17 18:31:00              3086   \n734250 2017-11-20 06:51:00 2017-11-20 08:00:00              3165   \n740289 2017-11-23 12:32:00 2017-11-23 13:34:00              3150   \n758225 2017-12-04 05:53:00 2017-12-04 06:54:00              3102   \n758932 2017-12-04 12:10:00 2017-12-04 13:14:00              3129   \n\n        end_station_id  bike_id  user_type  \\\n730681            3037    11821  Indego365   \n734250            3161     3506  Indego365   \n740289            3150    11726  Indego365   \n758225            3161     2536  Indego365   \n758932            3129     3288  Indego365   \n\n                                       start_station_name  \\\n730681                                  Broad & Christian   \n734250                                    24th & Race SRT   \n740289              15th & Castle, DiSilvestro Playground   \n758225         Pennsylvania & Fairmount Perelman Building   \n758932  The Children's Hospital of Philadelphia, Osler...   \n\n                                         end_station_name        duration  \\\n730681                     Pennsylvania Convention Center 0 days 01:08:00   \n734250                           30th Street Station East 0 days 01:09:00   \n740289              15th & Castle, DiSilvestro Playground 0 days 01:02:00   \n758225                           30th Street Station East 0 days 01:01:00   \n758932  The Children's Hospital of Philadelphia, Osler... 0 days 01:04:00   \n\n        weekday  is_weekday        overtime  costs_overtime  \n730681        4           1 0 days 00:08:00            1.20  \n734250        0           1 0 days 00:09:00            1.35  \n740289        3           1 0 days 00:02:00            0.30  \n758225        0           1 0 days 00:01:00            0.15  \n758932        0           1 0 days 00:04:00            0.60  ",
      "text/html": "<div>\n<style scoped>\n    .dataframe tbody tr th:only-of-type {\n        vertical-align: middle;\n    }\n\n    .dataframe tbody tr th {\n        vertical-align: top;\n    }\n\n    .dataframe thead th {\n        text-align: right;\n    }\n</style>\n<table border=\"1\" class=\"dataframe\">\n  <thead>\n    <tr style=\"text-align: right;\">\n      <th></th>\n      <th>start_time</th>\n      <th>end_time</th>\n      <th>start_station_id</th>\n      <th>end_station_id</th>\n      <th>bike_id</th>\n      <th>user_type</th>\n      <th>start_station_name</th>\n      <th>end_station_name</th>\n      <th>duration</th>\n      <th>weekday</th>\n      <th>is_weekday</th>\n      <th>overtime</th>\n      <th>costs_overtime</th>\n    </tr>\n  </thead>\n  <tbody>\n    <tr>\n      <th>730681</th>\n      <td>2017-11-17 17:23:00</td>\n      <td>2017-11-17 18:31:00</td>\n      <td>3086</td>\n      <td>3037</td>\n      <td>11821</td>\n      <td>Indego365</td>\n      <td>Broad &amp; Christian</td>\n      <td>Pennsylvania Convention Center</td>\n      <td>0 days 01:08:00</td>\n      <td>4</td>\n      <td>1</td>\n      <td>0 days 00:08:00</td>\n      <td>1.20</td>\n    </tr>\n    <tr>\n      <th>734250</th>\n      <td>2017-11-20 06:51:00</td>\n      <td>2017-11-20 08:00:00</td>\n      <td>3165</td>\n      <td>3161</td>\n      <td>3506</td>\n      <td>Indego365</td>\n      <td>24th &amp; Race SRT</td>\n      <td>30th Street Station East</td>\n      <td>0 days 01:09:00</td>\n      <td>0</td>\n      <td>1</td>\n      <td>0 days 00:09:00</td>\n      <td>1.35</td>\n    </tr>\n    <tr>\n      <th>740289</th>\n      <td>2017-11-23 12:32:00</td>\n      <td>2017-11-23 13:34:00</td>\n      <td>3150</td>\n      <td>3150</td>\n      <td>11726</td>\n      <td>Indego365</td>\n      <td>15th &amp; Castle, DiSilvestro Playground</td>\n      <td>15th &amp; Castle, DiSilvestro Playground</td>\n      <td>0 days 01:02:00</td>\n      <td>3</td>\n      <td>1</td>\n      <td>0 days 00:02:00</td>\n      <td>0.30</td>\n    </tr>\n    <tr>\n      <th>758225</th>\n      <td>2017-12-04 05:53:00</td>\n      <td>2017-12-04 06:54:00</td>\n      <td>3102</td>\n      <td>3161</td>\n      <td>2536</td>\n      <td>Indego365</td>\n      <td>Pennsylvania &amp; Fairmount Perelman Building</td>\n      <td>30th Street Station East</td>\n      <td>0 days 01:01:00</td>\n      <td>0</td>\n      <td>1</td>\n      <td>0 days 00:01:00</td>\n      <td>0.15</td>\n    </tr>\n    <tr>\n      <th>758932</th>\n      <td>2017-12-04 12:10:00</td>\n      <td>2017-12-04 13:14:00</td>\n      <td>3129</td>\n      <td>3129</td>\n      <td>3288</td>\n      <td>Indego365</td>\n      <td>The Children's Hospital of Philadelphia, Osler...</td>\n      <td>The Children's Hospital of Philadelphia, Osler...</td>\n      <td>0 days 01:04:00</td>\n      <td>0</td>\n      <td>1</td>\n      <td>0 days 00:04:00</td>\n      <td>0.60</td>\n    </tr>\n  </tbody>\n</table>\n</div>"
     },
     "execution_count": 101,
     "metadata": {},
     "output_type": "execute_result"
    }
   ],
   "source": [
    "#profit from overtime loans of usertype Indego365\n",
    "\n",
    "df_Indego365 = df_bikes[df_bikes[\"user_type\"] == \"Indego365\"]\n",
    "df_Indego365_more_than_60_mins = df_Indego365[df_Indego365[\"duration\"] > minutes60]\n",
    "df_Indego365_more_than_60_mins[\"overtime\"] = df_Indego365_more_than_60_mins[\"duration\"] - minutes60\n",
    "\n",
    "df_Indego365_more_than_60_mins[\"costs_overtime\"] = df_Indego365_more_than_60_mins[\"overtime\"].apply(lambda x: (x.total_seconds() / 60) * 0.15)\n",
    "\n",
    "df_Indego365_more_than_60_mins.head()"
   ],
   "metadata": {
    "collapsed": false,
    "pycharm": {
     "name": "#%%\n"
    }
   }
  },
  {
   "cell_type": "code",
   "execution_count": 102,
   "outputs": [
    {
     "name": "stdout",
     "output_type": "stream",
     "text": [
      "7.95\n"
     ]
    }
   ],
   "source": [
    "#total sum of all  overtime loans of usertype Indego365\n",
    "sumIndego365OvertimeProfit = sum(df_Indego365_more_than_60_mins[\"costs_overtime\"].apply(lambda x: x))\n",
    "print(sumIndego365OvertimeProfit)"
   ],
   "metadata": {
    "collapsed": false,
    "pycharm": {
     "name": "#%%\n"
    }
   }
  },
  {
   "cell_type": "code",
   "execution_count": 103,
   "outputs": [
    {
     "name": "stdout",
     "output_type": "stream",
     "text": [
      "[datetime.datetime(2017, 1, 1, 0, 0), datetime.datetime(2017, 1, 2, 0, 0), datetime.datetime(2017, 1, 3, 0, 0), datetime.datetime(2017, 1, 4, 0, 0), datetime.datetime(2017, 1, 5, 0, 0), datetime.datetime(2017, 1, 6, 0, 0), datetime.datetime(2017, 1, 7, 0, 0), datetime.datetime(2017, 1, 8, 0, 0), datetime.datetime(2017, 1, 9, 0, 0), datetime.datetime(2017, 1, 10, 0, 0), datetime.datetime(2017, 1, 11, 0, 0), datetime.datetime(2017, 1, 12, 0, 0), datetime.datetime(2017, 1, 13, 0, 0), datetime.datetime(2017, 1, 14, 0, 0), datetime.datetime(2017, 1, 15, 0, 0), datetime.datetime(2017, 1, 16, 0, 0), datetime.datetime(2017, 1, 17, 0, 0), datetime.datetime(2017, 1, 18, 0, 0), datetime.datetime(2017, 1, 19, 0, 0), datetime.datetime(2017, 1, 20, 0, 0), datetime.datetime(2017, 1, 21, 0, 0), datetime.datetime(2017, 1, 22, 0, 0), datetime.datetime(2017, 1, 23, 0, 0), datetime.datetime(2017, 1, 24, 0, 0), datetime.datetime(2017, 1, 25, 0, 0), datetime.datetime(2017, 1, 26, 0, 0), datetime.datetime(2017, 1, 27, 0, 0), datetime.datetime(2017, 1, 28, 0, 0), datetime.datetime(2017, 1, 29, 0, 0), datetime.datetime(2017, 1, 30, 0, 0), datetime.datetime(2017, 1, 31, 0, 0), datetime.datetime(2017, 2, 1, 0, 0), datetime.datetime(2017, 2, 2, 0, 0), datetime.datetime(2017, 2, 3, 0, 0), datetime.datetime(2017, 2, 4, 0, 0), datetime.datetime(2017, 2, 5, 0, 0), datetime.datetime(2017, 2, 6, 0, 0), datetime.datetime(2017, 2, 7, 0, 0), datetime.datetime(2017, 2, 8, 0, 0), datetime.datetime(2017, 2, 9, 0, 0), datetime.datetime(2017, 2, 10, 0, 0), datetime.datetime(2017, 2, 11, 0, 0), datetime.datetime(2017, 2, 12, 0, 0), datetime.datetime(2017, 2, 13, 0, 0), datetime.datetime(2017, 2, 14, 0, 0), datetime.datetime(2017, 2, 15, 0, 0), datetime.datetime(2017, 2, 16, 0, 0), datetime.datetime(2017, 2, 17, 0, 0), datetime.datetime(2017, 2, 18, 0, 0), datetime.datetime(2017, 2, 19, 0, 0), datetime.datetime(2017, 2, 20, 0, 0), datetime.datetime(2017, 2, 21, 0, 0), datetime.datetime(2017, 2, 22, 0, 0), datetime.datetime(2017, 2, 23, 0, 0), datetime.datetime(2017, 2, 24, 0, 0), datetime.datetime(2017, 2, 25, 0, 0), datetime.datetime(2017, 2, 26, 0, 0), datetime.datetime(2017, 2, 27, 0, 0), datetime.datetime(2017, 2, 28, 0, 0), datetime.datetime(2017, 3, 1, 0, 0), datetime.datetime(2017, 3, 2, 0, 0), datetime.datetime(2017, 3, 3, 0, 0), datetime.datetime(2017, 3, 4, 0, 0), datetime.datetime(2017, 3, 5, 0, 0), datetime.datetime(2017, 3, 6, 0, 0), datetime.datetime(2017, 3, 7, 0, 0), datetime.datetime(2017, 3, 8, 0, 0), datetime.datetime(2017, 3, 9, 0, 0), datetime.datetime(2017, 3, 10, 0, 0), datetime.datetime(2017, 3, 11, 0, 0), datetime.datetime(2017, 3, 12, 0, 0), datetime.datetime(2017, 3, 13, 0, 0), datetime.datetime(2017, 3, 14, 0, 0), datetime.datetime(2017, 3, 15, 0, 0), datetime.datetime(2017, 3, 16, 0, 0), datetime.datetime(2017, 3, 17, 0, 0), datetime.datetime(2017, 3, 18, 0, 0), datetime.datetime(2017, 3, 19, 0, 0), datetime.datetime(2017, 3, 20, 0, 0), datetime.datetime(2017, 3, 21, 0, 0), datetime.datetime(2017, 3, 22, 0, 0), datetime.datetime(2017, 3, 23, 0, 0), datetime.datetime(2017, 3, 24, 0, 0), datetime.datetime(2017, 3, 25, 0, 0), datetime.datetime(2017, 3, 26, 0, 0), datetime.datetime(2017, 3, 27, 0, 0), datetime.datetime(2017, 3, 28, 0, 0), datetime.datetime(2017, 3, 29, 0, 0), datetime.datetime(2017, 3, 30, 0, 0), datetime.datetime(2017, 3, 31, 0, 0), datetime.datetime(2017, 4, 1, 0, 0), datetime.datetime(2017, 4, 2, 0, 0), datetime.datetime(2017, 4, 3, 0, 0), datetime.datetime(2017, 4, 4, 0, 0), datetime.datetime(2017, 4, 5, 0, 0), datetime.datetime(2017, 4, 6, 0, 0), datetime.datetime(2017, 4, 7, 0, 0), datetime.datetime(2017, 4, 8, 0, 0), datetime.datetime(2017, 4, 9, 0, 0), datetime.datetime(2017, 4, 10, 0, 0), datetime.datetime(2017, 4, 11, 0, 0), datetime.datetime(2017, 4, 12, 0, 0), datetime.datetime(2017, 4, 13, 0, 0), datetime.datetime(2017, 4, 14, 0, 0), datetime.datetime(2017, 4, 15, 0, 0), datetime.datetime(2017, 4, 16, 0, 0), datetime.datetime(2017, 4, 17, 0, 0), datetime.datetime(2017, 4, 18, 0, 0), datetime.datetime(2017, 4, 19, 0, 0), datetime.datetime(2017, 4, 20, 0, 0), datetime.datetime(2017, 4, 21, 0, 0), datetime.datetime(2017, 4, 22, 0, 0), datetime.datetime(2017, 4, 23, 0, 0), datetime.datetime(2017, 4, 24, 0, 0), datetime.datetime(2017, 4, 25, 0, 0), datetime.datetime(2017, 4, 26, 0, 0), datetime.datetime(2017, 4, 27, 0, 0), datetime.datetime(2017, 4, 28, 0, 0), datetime.datetime(2017, 4, 29, 0, 0), datetime.datetime(2017, 4, 30, 0, 0), datetime.datetime(2017, 5, 1, 0, 0), datetime.datetime(2017, 5, 2, 0, 0), datetime.datetime(2017, 5, 3, 0, 0), datetime.datetime(2017, 5, 4, 0, 0), datetime.datetime(2017, 5, 5, 0, 0), datetime.datetime(2017, 5, 6, 0, 0), datetime.datetime(2017, 5, 7, 0, 0), datetime.datetime(2017, 5, 8, 0, 0), datetime.datetime(2017, 5, 9, 0, 0), datetime.datetime(2017, 5, 10, 0, 0), datetime.datetime(2017, 5, 11, 0, 0), datetime.datetime(2017, 5, 12, 0, 0), datetime.datetime(2017, 5, 13, 0, 0), datetime.datetime(2017, 5, 14, 0, 0), datetime.datetime(2017, 5, 15, 0, 0), datetime.datetime(2017, 5, 16, 0, 0), datetime.datetime(2017, 5, 17, 0, 0), datetime.datetime(2017, 5, 18, 0, 0), datetime.datetime(2017, 5, 19, 0, 0), datetime.datetime(2017, 5, 20, 0, 0), datetime.datetime(2017, 5, 21, 0, 0), datetime.datetime(2017, 5, 22, 0, 0), datetime.datetime(2017, 5, 23, 0, 0), datetime.datetime(2017, 5, 24, 0, 0), datetime.datetime(2017, 5, 25, 0, 0), datetime.datetime(2017, 5, 26, 0, 0), datetime.datetime(2017, 5, 27, 0, 0), datetime.datetime(2017, 5, 28, 0, 0), datetime.datetime(2017, 5, 29, 0, 0), datetime.datetime(2017, 5, 30, 0, 0), datetime.datetime(2017, 5, 31, 0, 0), datetime.datetime(2017, 6, 1, 0, 0), datetime.datetime(2017, 6, 2, 0, 0), datetime.datetime(2017, 6, 3, 0, 0), datetime.datetime(2017, 6, 4, 0, 0), datetime.datetime(2017, 6, 5, 0, 0), datetime.datetime(2017, 6, 6, 0, 0), datetime.datetime(2017, 6, 7, 0, 0), datetime.datetime(2017, 6, 8, 0, 0), datetime.datetime(2017, 6, 9, 0, 0), datetime.datetime(2017, 6, 10, 0, 0), datetime.datetime(2017, 6, 11, 0, 0), datetime.datetime(2017, 6, 12, 0, 0), datetime.datetime(2017, 6, 13, 0, 0), datetime.datetime(2017, 6, 14, 0, 0), datetime.datetime(2017, 6, 15, 0, 0), datetime.datetime(2017, 6, 16, 0, 0), datetime.datetime(2017, 6, 17, 0, 0), datetime.datetime(2017, 6, 18, 0, 0), datetime.datetime(2017, 6, 19, 0, 0), datetime.datetime(2017, 6, 20, 0, 0), datetime.datetime(2017, 6, 21, 0, 0), datetime.datetime(2017, 6, 22, 0, 0), datetime.datetime(2017, 6, 23, 0, 0), datetime.datetime(2017, 6, 24, 0, 0), datetime.datetime(2017, 6, 25, 0, 0), datetime.datetime(2017, 6, 26, 0, 0), datetime.datetime(2017, 6, 27, 0, 0), datetime.datetime(2017, 6, 28, 0, 0), datetime.datetime(2017, 6, 29, 0, 0), datetime.datetime(2017, 6, 30, 0, 0), datetime.datetime(2017, 7, 1, 0, 0), datetime.datetime(2017, 7, 2, 0, 0), datetime.datetime(2017, 7, 3, 0, 0), datetime.datetime(2017, 7, 4, 0, 0), datetime.datetime(2017, 7, 5, 0, 0), datetime.datetime(2017, 7, 6, 0, 0), datetime.datetime(2017, 7, 7, 0, 0), datetime.datetime(2017, 7, 8, 0, 0), datetime.datetime(2017, 7, 9, 0, 0), datetime.datetime(2017, 7, 10, 0, 0), datetime.datetime(2017, 7, 11, 0, 0), datetime.datetime(2017, 7, 12, 0, 0), datetime.datetime(2017, 7, 13, 0, 0), datetime.datetime(2017, 7, 14, 0, 0), datetime.datetime(2017, 7, 15, 0, 0), datetime.datetime(2017, 7, 16, 0, 0), datetime.datetime(2017, 7, 17, 0, 0), datetime.datetime(2017, 7, 18, 0, 0), datetime.datetime(2017, 7, 19, 0, 0), datetime.datetime(2017, 7, 20, 0, 0), datetime.datetime(2017, 7, 21, 0, 0), datetime.datetime(2017, 7, 22, 0, 0), datetime.datetime(2017, 7, 23, 0, 0), datetime.datetime(2017, 7, 24, 0, 0), datetime.datetime(2017, 7, 25, 0, 0), datetime.datetime(2017, 7, 26, 0, 0), datetime.datetime(2017, 7, 27, 0, 0), datetime.datetime(2017, 7, 28, 0, 0), datetime.datetime(2017, 7, 29, 0, 0), datetime.datetime(2017, 7, 30, 0, 0), datetime.datetime(2017, 7, 31, 0, 0), datetime.datetime(2017, 8, 1, 0, 0), datetime.datetime(2017, 8, 2, 0, 0), datetime.datetime(2017, 8, 3, 0, 0), datetime.datetime(2017, 8, 4, 0, 0), datetime.datetime(2017, 8, 5, 0, 0), datetime.datetime(2017, 8, 6, 0, 0), datetime.datetime(2017, 8, 7, 0, 0), datetime.datetime(2017, 8, 8, 0, 0), datetime.datetime(2017, 8, 9, 0, 0), datetime.datetime(2017, 8, 10, 0, 0), datetime.datetime(2017, 8, 11, 0, 0), datetime.datetime(2017, 8, 12, 0, 0), datetime.datetime(2017, 8, 13, 0, 0), datetime.datetime(2017, 8, 14, 0, 0), datetime.datetime(2017, 8, 15, 0, 0), datetime.datetime(2017, 8, 16, 0, 0), datetime.datetime(2017, 8, 17, 0, 0), datetime.datetime(2017, 8, 18, 0, 0), datetime.datetime(2017, 8, 19, 0, 0), datetime.datetime(2017, 8, 20, 0, 0), datetime.datetime(2017, 8, 21, 0, 0), datetime.datetime(2017, 8, 22, 0, 0), datetime.datetime(2017, 8, 23, 0, 0), datetime.datetime(2017, 8, 24, 0, 0), datetime.datetime(2017, 8, 25, 0, 0), datetime.datetime(2017, 8, 26, 0, 0), datetime.datetime(2017, 8, 27, 0, 0), datetime.datetime(2017, 8, 28, 0, 0), datetime.datetime(2017, 8, 29, 0, 0), datetime.datetime(2017, 8, 30, 0, 0), datetime.datetime(2017, 8, 31, 0, 0), datetime.datetime(2017, 9, 1, 0, 0), datetime.datetime(2017, 9, 2, 0, 0), datetime.datetime(2017, 9, 3, 0, 0), datetime.datetime(2017, 9, 4, 0, 0), datetime.datetime(2017, 9, 5, 0, 0), datetime.datetime(2017, 9, 6, 0, 0), datetime.datetime(2017, 9, 7, 0, 0), datetime.datetime(2017, 9, 8, 0, 0), datetime.datetime(2017, 9, 9, 0, 0), datetime.datetime(2017, 9, 10, 0, 0), datetime.datetime(2017, 9, 11, 0, 0), datetime.datetime(2017, 9, 12, 0, 0), datetime.datetime(2017, 9, 13, 0, 0), datetime.datetime(2017, 9, 14, 0, 0), datetime.datetime(2017, 9, 15, 0, 0), datetime.datetime(2017, 9, 16, 0, 0), datetime.datetime(2017, 9, 17, 0, 0), datetime.datetime(2017, 9, 18, 0, 0), datetime.datetime(2017, 9, 19, 0, 0), datetime.datetime(2017, 9, 20, 0, 0), datetime.datetime(2017, 9, 21, 0, 0), datetime.datetime(2017, 9, 22, 0, 0), datetime.datetime(2017, 9, 23, 0, 0), datetime.datetime(2017, 9, 24, 0, 0), datetime.datetime(2017, 9, 25, 0, 0), datetime.datetime(2017, 9, 26, 0, 0), datetime.datetime(2017, 9, 27, 0, 0), datetime.datetime(2017, 9, 28, 0, 0), datetime.datetime(2017, 9, 29, 0, 0), datetime.datetime(2017, 9, 30, 0, 0), datetime.datetime(2017, 10, 1, 0, 0), datetime.datetime(2017, 10, 2, 0, 0), datetime.datetime(2017, 10, 3, 0, 0), datetime.datetime(2017, 10, 4, 0, 0), datetime.datetime(2017, 10, 5, 0, 0), datetime.datetime(2017, 10, 6, 0, 0), datetime.datetime(2017, 10, 7, 0, 0), datetime.datetime(2017, 10, 8, 0, 0), datetime.datetime(2017, 10, 9, 0, 0), datetime.datetime(2017, 10, 10, 0, 0), datetime.datetime(2017, 10, 11, 0, 0), datetime.datetime(2017, 10, 12, 0, 0), datetime.datetime(2017, 10, 13, 0, 0), datetime.datetime(2017, 10, 14, 0, 0), datetime.datetime(2017, 10, 15, 0, 0), datetime.datetime(2017, 10, 16, 0, 0), datetime.datetime(2017, 10, 17, 0, 0), datetime.datetime(2017, 10, 18, 0, 0), datetime.datetime(2017, 10, 19, 0, 0), datetime.datetime(2017, 10, 20, 0, 0), datetime.datetime(2017, 10, 21, 0, 0), datetime.datetime(2017, 10, 22, 0, 0), datetime.datetime(2017, 10, 23, 0, 0), datetime.datetime(2017, 10, 24, 0, 0), datetime.datetime(2017, 10, 25, 0, 0), datetime.datetime(2017, 10, 26, 0, 0), datetime.datetime(2017, 10, 27, 0, 0), datetime.datetime(2017, 10, 28, 0, 0), datetime.datetime(2017, 10, 29, 0, 0), datetime.datetime(2017, 10, 30, 0, 0), datetime.datetime(2017, 10, 31, 0, 0), datetime.datetime(2017, 11, 1, 0, 0), datetime.datetime(2017, 11, 2, 0, 0), datetime.datetime(2017, 11, 3, 0, 0), datetime.datetime(2017, 11, 4, 0, 0), datetime.datetime(2017, 11, 5, 0, 0), datetime.datetime(2017, 11, 6, 0, 0), datetime.datetime(2017, 11, 7, 0, 0), datetime.datetime(2017, 11, 8, 0, 0), datetime.datetime(2017, 11, 9, 0, 0), datetime.datetime(2017, 11, 10, 0, 0), datetime.datetime(2017, 11, 11, 0, 0), datetime.datetime(2017, 11, 12, 0, 0), datetime.datetime(2017, 11, 13, 0, 0), datetime.datetime(2017, 11, 14, 0, 0), datetime.datetime(2017, 11, 15, 0, 0), datetime.datetime(2017, 11, 16, 0, 0), datetime.datetime(2017, 11, 17, 0, 0), datetime.datetime(2017, 11, 18, 0, 0), datetime.datetime(2017, 11, 19, 0, 0), datetime.datetime(2017, 11, 20, 0, 0), datetime.datetime(2017, 11, 21, 0, 0), datetime.datetime(2017, 11, 22, 0, 0), datetime.datetime(2017, 11, 23, 0, 0), datetime.datetime(2017, 11, 24, 0, 0), datetime.datetime(2017, 11, 25, 0, 0), datetime.datetime(2017, 11, 26, 0, 0), datetime.datetime(2017, 11, 27, 0, 0), datetime.datetime(2017, 11, 28, 0, 0), datetime.datetime(2017, 11, 29, 0, 0), datetime.datetime(2017, 11, 30, 0, 0), datetime.datetime(2017, 12, 1, 0, 0), datetime.datetime(2017, 12, 2, 0, 0), datetime.datetime(2017, 12, 3, 0, 0), datetime.datetime(2017, 12, 4, 0, 0), datetime.datetime(2017, 12, 5, 0, 0), datetime.datetime(2017, 12, 6, 0, 0), datetime.datetime(2017, 12, 7, 0, 0), datetime.datetime(2017, 12, 8, 0, 0), datetime.datetime(2017, 12, 9, 0, 0), datetime.datetime(2017, 12, 10, 0, 0), datetime.datetime(2017, 12, 11, 0, 0), datetime.datetime(2017, 12, 12, 0, 0), datetime.datetime(2017, 12, 13, 0, 0), datetime.datetime(2017, 12, 14, 0, 0), datetime.datetime(2017, 12, 15, 0, 0), datetime.datetime(2017, 12, 16, 0, 0), datetime.datetime(2017, 12, 17, 0, 0), datetime.datetime(2017, 12, 18, 0, 0), datetime.datetime(2017, 12, 19, 0, 0), datetime.datetime(2017, 12, 20, 0, 0), datetime.datetime(2017, 12, 21, 0, 0), datetime.datetime(2017, 12, 22, 0, 0), datetime.datetime(2017, 12, 23, 0, 0), datetime.datetime(2017, 12, 24, 0, 0), datetime.datetime(2017, 12, 25, 0, 0), datetime.datetime(2017, 12, 26, 0, 0), datetime.datetime(2017, 12, 27, 0, 0), datetime.datetime(2017, 12, 28, 0, 0), datetime.datetime(2017, 12, 29, 0, 0), datetime.datetime(2017, 12, 30, 0, 0), datetime.datetime(2017, 12, 31, 0, 0)]\n"
     ]
    }
   ],
   "source": [
    "# array containing all dates of the year\n",
    "start_2017 = datetime(2017, 1, 1)\n",
    "add_day = timedelta(days = 1)\n",
    "\n",
    "days_2017 = []\n",
    "\n",
    "for i in range(0, 365):\n",
    "    days_2017.append(start_2017)\n",
    "    start_2017 += add_day\n",
    "\n",
    "print(days_2017)\n"
   ],
   "metadata": {
    "collapsed": false,
    "pycharm": {
     "name": "#%%\n"
    }
   }
  },
  {
   "cell_type": "code",
   "execution_count": 104,
   "outputs": [
    {
     "name": "stdout",
     "output_type": "stream",
     "text": [
      "31 28 31 30 31 30 31 31 30 31 30 31\n"
     ]
    }
   ],
   "source": [
    "# shows loans of every day - just for orientation\n",
    "\n",
    "#create for every month in 2017 an array of the daily total amount of loans and then combine them\n",
    "#in another array\n",
    "days_28 = range(0, 28)\n",
    "days_30 = range(0, 30)\n",
    "days_31 = range(0, 31)\n",
    "\n",
    "jan_loans = []\n",
    "for i in range(1, 32):\n",
    "    jan_loans.append(loans_per_day(1, i))\n",
    "jan_Series = pd.Series(jan_loans, index=days_31)\n",
    "\n",
    "feb_loans = []\n",
    "for i in range(1, 29):\n",
    "    feb_loans.append(loans_per_day(2, i))\n",
    "feb_Series = pd.Series(feb_loans, index=days_28)\n",
    "\n",
    "mar_loans = []\n",
    "for i in range(1, 32):\n",
    "    mar_loans.append(loans_per_day(3, i))\n",
    "mar_Series = pd.Series(mar_loans, index=days_31)\n",
    "\n",
    "apr_loans = []\n",
    "for i in range(1, 31):\n",
    "    apr_loans.append(loans_per_day(4, i))\n",
    "apr_Series = pd.Series(apr_loans, index=days_30)\n",
    "\n",
    "may_loans = []\n",
    "for i in range(1, 32):\n",
    "    may_loans.append(loans_per_day(5, i))\n",
    "may_Series = pd.Series(may_loans, index=days_31)\n",
    "\n",
    "jun_loans = []\n",
    "for i in range(1, 31):\n",
    "    jun_loans.append(loans_per_day(6, i))\n",
    "jun_Series = pd.Series(jun_loans, index=days_30)\n",
    "\n",
    "jul_loans = []\n",
    "for i in range(1, 32):\n",
    "    jul_loans.append(loans_per_day(7, i))\n",
    "jul_Series = pd.Series(jul_loans, index=days_31)\n",
    "\n",
    "aug_loans = []\n",
    "for i in range(1, 32):\n",
    "    aug_loans.append(loans_per_day(8, i))\n",
    "aug_Series = pd.Series(aug_loans, index=days_31)\n",
    "\n",
    "sep_loans = []\n",
    "for i in range(1, 31):\n",
    "    sep_loans.append(loans_per_day(9, i))\n",
    "sep_Series = pd.Series(sep_loans, index=days_30)\n",
    "\n",
    "oct_loans = []\n",
    "for i in range(1, 32):\n",
    "    oct_loans.append(loans_per_day(10, i))\n",
    "oct_Series = pd.Series(oct_loans, index=days_31)\n",
    "\n",
    "nov_loans = []\n",
    "for i in range(1, 31):\n",
    "    nov_loans.append(loans_per_day(11, i))\n",
    "nov_Series = pd.Series(nov_loans, index=days_30)\n",
    "\n",
    "dec_loans = []\n",
    "for i in range(1, 32):\n",
    "    dec_loans.append(loans_per_day(12, i))\n",
    "dec_Series = pd.Series(dec_loans, index=days_31)\n",
    "\n",
    "print(jan_Series.__len__(), feb_Series.__len__(), mar_Series.__len__(), apr_Series.__len__(),may_Series.__len__(), jun_Series.__len__(), jul_Series.__len__(), aug_Series.__len__(), sep_Series.__len__(), oct_Series.__len__(), nov_Series.__len__(), dec_Series.__len__())\n"
   ],
   "metadata": {
    "collapsed": false,
    "pycharm": {
     "name": "#%%\n"
    }
   }
  },
  {
   "cell_type": "code",
   "execution_count": 105,
   "outputs": [
    {
     "data": {
      "text/plain": "0     2017-01-01\n1     2017-01-02\n2     2017-01-03\n3     2017-01-04\n4     2017-01-05\n         ...    \n360   2017-12-27\n361   2017-12-28\n362   2017-12-29\n363   2017-12-30\n364   2017-12-31\nLength: 365, dtype: datetime64[ns]"
     },
     "execution_count": 105,
     "metadata": {},
     "output_type": "execute_result"
    }
   ],
   "source": [
    "days = range(0, 365)\n",
    "\n",
    "days_Series = pd.Series(days_2017, index=days)\n",
    "days_Series"
   ],
   "metadata": {
    "collapsed": false,
    "pycharm": {
     "name": "#%%\n"
    }
   }
  },
  {
   "cell_type": "code",
   "execution_count": 123,
   "outputs": [
    {
     "name": "stdout",
     "output_type": "stream",
     "text": [
      "1802.400000000001\n"
     ]
    },
    {
     "data": {
      "text/plain": "Empty DataFrame\nColumns: [start_time, end_time, start_station_id, end_station_id, bike_id, user_type, start_station_name, end_station_name, duration, weekday, is_weekday, overtime, costs_overtime]\nIndex: []",
      "text/html": "<div>\n<style scoped>\n    .dataframe tbody tr th:only-of-type {\n        vertical-align: middle;\n    }\n\n    .dataframe tbody tr th {\n        vertical-align: top;\n    }\n\n    .dataframe thead th {\n        text-align: right;\n    }\n</style>\n<table border=\"1\" class=\"dataframe\">\n  <thead>\n    <tr style=\"text-align: right;\">\n      <th></th>\n      <th>start_time</th>\n      <th>end_time</th>\n      <th>start_station_id</th>\n      <th>end_station_id</th>\n      <th>bike_id</th>\n      <th>user_type</th>\n      <th>start_station_name</th>\n      <th>end_station_name</th>\n      <th>duration</th>\n      <th>weekday</th>\n      <th>is_weekday</th>\n      <th>overtime</th>\n      <th>costs_overtime</th>\n    </tr>\n  </thead>\n  <tbody>\n  </tbody>\n</table>\n</div>"
     },
     "execution_count": 123,
     "metadata": {},
     "output_type": "execute_result"
    }
   ],
   "source": [
    "# Calculate revenue for all 4 quarters: OneDayPass\n",
    "\n",
    "qu1 = datetime(2017, 3, 31, 23, 59)\n",
    "qu2 = datetime(2017, 6, 30, 23, 59)\n",
    "qu3 = datetime(2017, 9, 30, 23, 59)\n",
    "qu4 = datetime(2017, 12, 31, 23, 59)\n",
    "\n",
    "\n",
    "qu1_OneDay = df_one_day_more_than_30_mins[df_one_day_more_than_30_mins[\"start_time\"] <= qu1]\n",
    "sum_Q1_OneDay = sum(qu1_OneDay[\"costs_overtime\"].apply(lambda x: x))\n",
    "\n",
    "qu2_OneDay = df_one_day_more_than_30_mins[df_one_day_more_than_30_mins[\"start_time\"] > qu1]\n",
    "qu2_OneDay_s = qu2_OneDay[qu2_OneDay[\"start_time\"] <= qu2]\n",
    "sum_Q2_OneDay = sum(qu2_OneDay_s[\"costs_overtime\"].apply(lambda x: x))\n",
    "\n",
    "qu3_OneDay = df_one_day_more_than_30_mins[df_one_day_more_than_30_mins[\"start_time\"] > qu2]\n",
    "qu3_OneDay_s = qu3_OneDay[qu3_OneDay[\"start_time\"] <= qu3]\n",
    "sum_Q3_OneDay = sum(qu3_OneDay_s[\"costs_overtime\"].apply(lambda x: x))\n",
    "\n",
    "qu4_OneDay = df_one_day_more_than_30_mins[df_one_day_more_than_30_mins[\"start_time\"] > qu3]\n",
    "sum_Q4_OneDay = sum(qu4_OneDay[\"costs_overtime\"].apply(lambda x: x))\n",
    "\n",
    "print(sum_Q1_OneDay + sum_Q2_OneDay + sum_Q3_OneDay + sum_Q4_OneDay)"
   ],
   "metadata": {
    "collapsed": false,
    "pycharm": {
     "name": "#%%\n"
    }
   }
  },
  {
   "cell_type": "code",
   "execution_count": 162,
   "outputs": [
    {
     "name": "stdout",
     "output_type": "stream",
     "text": [
      "403.2000000000001\n",
      "0 0 403.2000000000001 0\n"
     ]
    }
   ],
   "source": [
    "# Calculate revenue for all 4 quarters: TwoDayPass\n",
    "\n",
    "qu1_TwoDay = df_two_day_more_than_30_mins[df_two_day_more_than_30_mins[\"start_time\"] <= qu1]\n",
    "sum_Q1_TwoDay = sum(qu1_TwoDay[\"costs_overtime\"].apply(lambda x: x))\n",
    "\n",
    "qu2_TwoDay = df_two_day_more_than_30_mins[df_two_day_more_than_30_mins[\"start_time\"] > qu1]\n",
    "qu2_TwoDay_s = qu2_TwoDay[qu2_TwoDay[\"start_time\"] <= qu2]\n",
    "sum_Q2_TwoDay = sum(qu2_TwoDay_s[\"costs_overtime\"].apply(lambda x: x))\n",
    "\n",
    "qu3_TwoDay = df_two_day_more_than_30_mins[df_two_day_more_than_30_mins[\"start_time\"] > qu2]\n",
    "qu3_TwoDay_s = qu3_TwoDay[qu3_TwoDay[\"start_time\"] <= qu3]\n",
    "sum_Q3_TwoDay = sum(qu3_TwoDay_s[\"costs_overtime\"].apply(lambda x: x))\n",
    "\n",
    "qu4_TwoDay = df_two_day_more_than_30_mins[df_two_day_more_than_30_mins[\"start_time\"] > qu3]\n",
    "sum_Q4_TwoDay = sum(qu4_TwoDay[\"costs_overtime\"].apply(lambda x: x))\n",
    "\n",
    "print(sum_Q1_TwoDay + sum_Q2_TwoDay + sum_Q3_TwoDay + sum_Q4_TwoDay)"
   ],
   "metadata": {
    "collapsed": false,
    "pycharm": {
     "name": "#%%\n"
    }
   }
  },
  {
   "cell_type": "code",
   "execution_count": 128,
   "outputs": [
    {
     "name": "stdout",
     "output_type": "stream",
     "text": [
      "449888\n"
     ]
    }
   ],
   "source": [
    "# Calculate revenue for all 4 quarters: Walk-up\n",
    "\n",
    "qu1_WalkUp = df_walk_up[df_walk_up[\"start_time\"] <= qu1]\n",
    "sum_Q1_WalkUp = sum(qu1_WalkUp[\"price\"].apply(lambda x: x))\n",
    "\n",
    "qu2_WalkUp = df_walk_up[df_walk_up[\"start_time\"] > qu1]\n",
    "qu2_WalkUp_s = qu2_WalkUp[qu2_WalkUp[\"start_time\"] <= qu2]\n",
    "sum_Q2_WalkUp = sum(qu2_WalkUp_s[\"price\"].apply(lambda x: x))\n",
    "\n",
    "qu3_WalkUp = df_walk_up[df_walk_up[\"start_time\"] > qu2]\n",
    "qu3_WalkUp_s = qu3_WalkUp[qu3_WalkUp[\"start_time\"] <= qu3]\n",
    "sum_Q3_WalkUp = sum(qu3_WalkUp_s[\"price\"].apply(lambda x: x))\n",
    "\n",
    "qu4_WalkUp = df_walk_up[df_walk_up[\"start_time\"] > qu3]\n",
    "sum_Q4_WalkUp = sum(qu4_WalkUp[\"price\"].apply(lambda x: x))\n",
    "\n",
    "print(sum_Q1_WalkUp + sum_Q2_WalkUp + sum_Q3_WalkUp + sum_Q4_WalkUp)"
   ],
   "metadata": {
    "collapsed": false,
    "pycharm": {
     "name": "#%%\n"
    }
   }
  },
  {
   "cell_type": "code",
   "execution_count": 130,
   "outputs": [
    {
     "name": "stdout",
     "output_type": "stream",
     "text": [
      "22516\n"
     ]
    }
   ],
   "source": [
    "# Calculate revenue for all 4 quarters: IndegoFlex\n",
    "\n",
    "qu1_flex = df_flex[df_flex[\"start_time\"] <= qu1]\n",
    "sum_Q1_flex = sum(qu1_flex[\"price\"].apply(lambda x: x))\n",
    "\n",
    "qu2_flex = df_flex[df_flex[\"start_time\"] > qu1]\n",
    "qu2_flex_s = qu2_flex[qu2_flex[\"start_time\"] <= qu2]\n",
    "sum_Q2_flex = sum(qu2_flex_s[\"price\"].apply(lambda x: x))\n",
    "\n",
    "qu3_flex = df_flex[df_flex[\"start_time\"] > qu2]\n",
    "qu3_flex_s = qu3_flex[qu3_flex[\"start_time\"] <= qu3]\n",
    "sum_Q3_flex = sum(qu3_flex_s[\"price\"].apply(lambda x: x))\n",
    "\n",
    "qu4_flex = df_flex[df_flex[\"start_time\"] > qu3]\n",
    "sum_Q4_flex = sum(qu4_flex[\"price\"].apply(lambda x: x))\n",
    "\n",
    "print(sum_Q1_flex + sum_Q2_flex + sum_Q3_flex + sum_Q4_flex)"
   ],
   "metadata": {
    "collapsed": false,
    "pycharm": {
     "name": "#%%\n"
    }
   }
  },
  {
   "cell_type": "code",
   "execution_count": 132,
   "outputs": [
    {
     "name": "stdout",
     "output_type": "stream",
     "text": [
      "2035.6499999999965\n"
     ]
    }
   ],
   "source": [
    "# Calculate revenue for all 4 quarters: Indego30\n",
    "\n",
    "qu1_Indego30 = df_Indego30_more_than_60_mins[df_Indego30_more_than_60_mins[\"start_time\"] <= qu1]\n",
    "sum_Q1_Indego30 = sum(qu1_Indego30[\"costs_overtime\"].apply(lambda x: x))\n",
    "\n",
    "qu2_Indego30 = df_Indego30_more_than_60_mins[df_Indego30_more_than_60_mins[\"start_time\"] > qu1]\n",
    "qu2_Indego30_s = qu2_Indego30[qu2_Indego30[\"start_time\"] <= qu2]\n",
    "sum_Q2_Indego30 = sum(qu2_Indego30_s[\"costs_overtime\"].apply(lambda x: x))\n",
    "\n",
    "qu3_Indego30 = df_Indego30_more_than_60_mins[df_Indego30_more_than_60_mins[\"start_time\"] > qu2]\n",
    "qu3_Indego30_s = qu3_Indego30[qu3_Indego30[\"start_time\"] <= qu3]\n",
    "sum_Q3_Indego30 = sum(qu3_Indego30_s[\"costs_overtime\"].apply(lambda x: x))\n",
    "\n",
    "qu4_Indego30 = df_Indego30_more_than_60_mins[df_Indego30_more_than_60_mins[\"start_time\"] > qu3]\n",
    "sum_Q4_Indego30 = sum(qu4_Indego30[\"costs_overtime\"].apply(lambda x: x))\n",
    "\n",
    "print(sum_Q1_Indego30 + sum_Q2_Indego30 + sum_Q3_Indego30 + sum_Q4_Indego30)"
   ],
   "metadata": {
    "collapsed": false,
    "pycharm": {
     "name": "#%%\n"
    }
   }
  },
  {
   "cell_type": "code",
   "execution_count": 161,
   "outputs": [
    {
     "name": "stdout",
     "output_type": "stream",
     "text": [
      "7.95\n",
      "0 0 0 7.95\n"
     ]
    }
   ],
   "source": [
    "# Calculate revenue for all 4 quarters: Indego30\n",
    "\n",
    "qu1_Indego365 = df_Indego365_more_than_60_mins[df_Indego365_more_than_60_mins[\"start_time\"] <= qu1]\n",
    "sum_Q1_Indego365 = sum(qu1_Indego365[\"costs_overtime\"].apply(lambda x: x))\n",
    "\n",
    "qu2_Indego365 = df_Indego365_more_than_60_mins[df_Indego365_more_than_60_mins[\"start_time\"] > qu1]\n",
    "qu2_Indego365_s = qu2_Indego365[qu2_Indego365[\"start_time\"] <= qu2]\n",
    "sum_Q2_Indego365 = sum(qu2_Indego365_s[\"costs_overtime\"].apply(lambda x: x))\n",
    "\n",
    "qu3_Indego365 = df_Indego365_more_than_60_mins[df_Indego365_more_than_60_mins[\"start_time\"] > qu2]\n",
    "qu3_Indego365_s = qu3_Indego365[qu3_Indego365[\"start_time\"] <= qu3]\n",
    "sum_Q3_Indego365 = sum(qu3_Indego365_s[\"costs_overtime\"].apply(lambda x: x))\n",
    "\n",
    "qu4_Indego365 = df_Indego365_more_than_60_mins[df_Indego365_more_than_60_mins[\"start_time\"] > qu3]\n",
    "sum_Q4_Indego365 = sum(qu4_Indego365[\"costs_overtime\"].apply(lambda x: x))\n",
    "\n",
    "print(sum_Q1_Indego365 + sum_Q2_Indego365 + sum_Q3_Indego365 + sum_Q4_Indego365)"
   ],
   "metadata": {
    "collapsed": false,
    "pycharm": {
     "name": "#%%\n"
    }
   }
  },
  {
   "cell_type": "markdown",
   "source": [
    "Now we plot the quarters in pie charts"
   ],
   "metadata": {
    "collapsed": false,
    "pycharm": {
     "name": "#%% md\n"
    }
   }
  },
  {
   "cell_type": "code",
   "execution_count": 171,
   "outputs": [
    {
     "data": {
      "text/plain": "<Figure size 432x288 with 1 Axes>",
      "image/png": "[encoded data removed]"
     },
     "metadata": {},
     "output_type": "display_data"
    }
   ],
   "source": [
    "# 1st quarter\n",
    "\n",
    "quarter1 = np.array([sum_Q1_WalkUp, sum_Q1_flex, sum_Q1_Indego30, sum_Q1_OneDay, sum_Q1_TwoDay, sum_Q1_Indego365])\n",
    "ourlabels = [\"Walk-up\", \"IndegoFlex\", \"others\", \" \", \" \", \" \"]\n",
    "ourexplode = [0, 0, 0.2, 0.2, 0.2, 0.2]\n",
    "\n",
    "plt.pie(quarter1, labels=ourlabels, explode=ourexplode)\n",
    "plt.title('Indego revenue 1st quarter 2017')\n",
    "plt.show()"
   ],
   "metadata": {
    "collapsed": false,
    "pycharm": {
     "name": "#%%\n"
    }
   }
  },
  {
   "cell_type": "code",
   "execution_count": 172,
   "outputs": [
    {
     "data": {
      "text/plain": "<Figure size 432x288 with 1 Axes>",
      "image/png": "[encoded data removed]"
     },
     "metadata": {},
     "output_type": "display_data"
    }
   ],
   "source": [
    "# 2nd quarter\n",
    "\n",
    "quarter2 = np.array([sum_Q2_WalkUp, sum_Q2_flex, sum_Q2_Indego30, sum_Q2_OneDay, sum_Q2_TwoDay, sum_Q2_Indego365])\n",
    "\n",
    "plt.pie(quarter2, labels=ourlabels, explode=ourexplode)\n",
    "plt.title('Indego revenue 2nd quarter 2017')\n",
    "plt.show()"
   ],
   "metadata": {
    "collapsed": false,
    "pycharm": {
     "name": "#%%\n"
    }
   }
  },
  {
   "cell_type": "code",
   "execution_count": 173,
   "outputs": [
    {
     "data": {
      "text/plain": "<Figure size 432x288 with 1 Axes>",
      "image/png": "[encoded data removed]"
     },
     "metadata": {},
     "output_type": "display_data"
    }
   ],
   "source": [
    "# 3rd quarter\n",
    "\n",
    "quarter3 = np.array([sum_Q3_WalkUp, sum_Q3_flex, sum_Q3_Indego30, sum_Q3_OneDay, sum_Q3_TwoDay, sum_Q3_Indego365])\n",
    "ourlabels2 = [\"Walk-up\", \"IndegoFlex\", \"Indego30\", \"OneDayPass\", \"TwoDayPass\", \" \"]\n",
    "ourexplode2 = [0, 0, 0.1, 1.25, 0.5, 0.2]\n",
    "\n",
    "plt.pie(quarter3, labels=ourlabels2, explode=ourexplode2)\n",
    "plt.title('Indego revenue 3rd quarter 2017')\n",
    "plt.show()"
   ],
   "metadata": {
    "collapsed": false,
    "pycharm": {
     "name": "#%%\n"
    }
   }
  },
  {
   "cell_type": "code",
   "execution_count": 174,
   "outputs": [
    {
     "data": {
      "text/plain": "<Figure size 432x288 with 1 Axes>",
      "image/png": "[encoded data removed]"
     },
     "metadata": {},
     "output_type": "display_data"
    }
   ],
   "source": [
    "# 4th quarter\n",
    "\n",
    "quarter4 = np.array([sum_Q4_WalkUp, sum_Q4_flex, sum_Q4_Indego30, sum_Q4_OneDay, sum_Q4_TwoDay, sum_Q4_Indego365])\n",
    "ourlabels3 = [\"Walk-up\", \"IndegoFlex\", \"Indego30\", \"OneDayPass\", \"Indego365\", \" \"]\n",
    "\n",
    "plt.pie(quarter4, labels=ourlabels3, explode=ourexplode2)\n",
    "plt.title('Indego revenue 4th quarter 2017')\n",
    "plt.show()"
   ],
   "metadata": {
    "collapsed": false,
    "pycharm": {
     "name": "#%%\n"
    }
   }
  },
  {
   "cell_type": "code",
   "execution_count": null,
   "outputs": [],
   "source": [],
   "metadata": {
    "collapsed": false,
    "pycharm": {
     "name": "#%%\n"
    }
   }
  }
 ],
 "metadata": {
  "kernelspec": {
   "display_name": "Python 3",
   "language": "python",
   "name": "python3"
  },
  "language_info": {
   "codemirror_mode": {
    "name": "ipython",
    "version": 2
   },
   "file_extension": ".py",
   "mimetype": "text/x-python",
   "name": "python",
   "nbconvert_exporter": "python",
   "pygments_lexer": "ipython2",
   "version": "2.7.6"
  }
 },
 "nbformat": 4,
 "nbformat_minor": 0
}