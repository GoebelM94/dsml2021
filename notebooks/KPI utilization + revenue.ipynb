{
 "cells": [
  {
   "cell_type": "code",
   "execution_count": 32,
   "metadata": {
    "collapsed": true
   },
   "outputs": [],
   "source": [
    "#general imports\n",
    "import pandas as pd\n",
    "import numpy as np\n",
    "\n",
    "#statsmodels for regression\n",
    "import statsmodels.api as sm\n",
    "import statsmodels.formula.api as smf\n",
    "from statsmodels.iolib.summary2 import summary_col\n",
    "\n",
    "#scipy for testing\n",
    "from scipy import stats\n",
    "\n",
    "#for visualization\n",
    "import matplotlib.pyplot as plt\n",
    "import seaborn as sns\n",
    "\n",
    "from datetime import datetime\n",
    "from datetime import timedelta"
   ]
  },
  {
   "cell_type": "code",
   "execution_count": 33,
   "outputs": [],
   "source": [
    "##Bike Data"
   ],
   "metadata": {
    "collapsed": false,
    "pycharm": {
     "name": "#%%\n"
    }
   }
  },
  {
   "cell_type": "code",
   "execution_count": 34,
   "outputs": [
    {
     "data": {
      "text/plain": "      start_time       end_time  start_station_id  end_station_id  bike_id  \\\n0  1/1/2017 0:05  1/1/2017 0:16              3046            3041     5347   \n1  1/1/2017 0:21  1/1/2017 0:57              3110            3054     3364   \n2  1/1/2017 0:22  1/1/2017 0:57              3110            3054     2536   \n3  1/1/2017 0:27  1/1/2017 0:39              3041            3005     5176   \n4  1/1/2017 0:28  1/1/2017 0:36              3047            3124     5370   \n\n  user_type           start_station_name     end_station_name  \n0  Indego30                 2nd & Market  Girard Station, MFL  \n1   Walk-up  Del. River Trail & Penn St.         Rodin Museum  \n2   Walk-up  Del. River Trail & Penn St.         Rodin Museum  \n3  Indego30          Girard Station, MFL    Welcome Park, NPS  \n4   Walk-up       Independence Mall, NPS     Race Street Pier  ",
      "text/html": "<div>\n<style scoped>\n    .dataframe tbody tr th:only-of-type {\n        vertical-align: middle;\n    }\n\n    .dataframe tbody tr th {\n        vertical-align: top;\n    }\n\n    .dataframe thead th {\n        text-align: right;\n    }\n</style>\n<table border=\"1\" class=\"dataframe\">\n  <thead>\n    <tr style=\"text-align: right;\">\n      <th></th>\n      <th>start_time</th>\n      <th>end_time</th>\n      <th>start_station_id</th>\n      <th>end_station_id</th>\n      <th>bike_id</th>\n      <th>user_type</th>\n      <th>start_station_name</th>\n      <th>end_station_name</th>\n    </tr>\n  </thead>\n  <tbody>\n    <tr>\n      <th>0</th>\n      <td>1/1/2017 0:05</td>\n      <td>1/1/2017 0:16</td>\n      <td>3046</td>\n      <td>3041</td>\n      <td>5347</td>\n      <td>Indego30</td>\n      <td>2nd &amp; Market</td>\n      <td>Girard Station, MFL</td>\n    </tr>\n    <tr>\n      <th>1</th>\n      <td>1/1/2017 0:21</td>\n      <td>1/1/2017 0:57</td>\n      <td>3110</td>\n      <td>3054</td>\n      <td>3364</td>\n      <td>Walk-up</td>\n      <td>Del. River Trail &amp; Penn St.</td>\n      <td>Rodin Museum</td>\n    </tr>\n    <tr>\n      <th>2</th>\n      <td>1/1/2017 0:22</td>\n      <td>1/1/2017 0:57</td>\n      <td>3110</td>\n      <td>3054</td>\n      <td>2536</td>\n      <td>Walk-up</td>\n      <td>Del. River Trail &amp; Penn St.</td>\n      <td>Rodin Museum</td>\n    </tr>\n    <tr>\n      <th>3</th>\n      <td>1/1/2017 0:27</td>\n      <td>1/1/2017 0:39</td>\n      <td>3041</td>\n      <td>3005</td>\n      <td>5176</td>\n      <td>Indego30</td>\n      <td>Girard Station, MFL</td>\n      <td>Welcome Park, NPS</td>\n    </tr>\n    <tr>\n      <th>4</th>\n      <td>1/1/2017 0:28</td>\n      <td>1/1/2017 0:36</td>\n      <td>3047</td>\n      <td>3124</td>\n      <td>5370</td>\n      <td>Walk-up</td>\n      <td>Independence Mall, NPS</td>\n      <td>Race Street Pier</td>\n    </tr>\n  </tbody>\n</table>\n</div>"
     },
     "execution_count": 34,
     "metadata": {},
     "output_type": "execute_result"
    }
   ],
   "source": [
    "df_bikes = pd.read_csv('../data/philadelphia_2017.csv')\n",
    "df_weather = pd.read_csv('../data/weather_hourly_philadelphia.csv')\n",
    "\n",
    "df_bikes.head()"
   ],
   "metadata": {
    "collapsed": false,
    "pycharm": {
     "name": "#%%\n"
    }
   }
  },
  {
   "cell_type": "code",
   "execution_count": 35,
   "outputs": [
    {
     "data": {
      "text/plain": "       start_station_id  end_station_id        bike_id\ncount     788907.000000   788907.000000  788907.000000\nmean        3057.400081     3056.431487    5428.980913\nstd           41.126829       41.108792    3221.972215\nmin         3000.000000     3000.000000       0.000000\n25%         3023.000000     3023.000000    3350.000000\n50%         3050.000000     3049.000000    3703.000000\n75%         3075.000000     3074.000000    5370.000000\nmax         3170.000000     3170.000000   11965.000000",
      "text/html": "<div>\n<style scoped>\n    .dataframe tbody tr th:only-of-type {\n        vertical-align: middle;\n    }\n\n    .dataframe tbody tr th {\n        vertical-align: top;\n    }\n\n    .dataframe thead th {\n        text-align: right;\n    }\n</style>\n<table border=\"1\" class=\"dataframe\">\n  <thead>\n    <tr style=\"text-align: right;\">\n      <th></th>\n      <th>start_station_id</th>\n      <th>end_station_id</th>\n      <th>bike_id</th>\n    </tr>\n  </thead>\n  <tbody>\n    <tr>\n      <th>count</th>\n      <td>788907.000000</td>\n      <td>788907.000000</td>\n      <td>788907.000000</td>\n    </tr>\n    <tr>\n      <th>mean</th>\n      <td>3057.400081</td>\n      <td>3056.431487</td>\n      <td>5428.980913</td>\n    </tr>\n    <tr>\n      <th>std</th>\n      <td>41.126829</td>\n      <td>41.108792</td>\n      <td>3221.972215</td>\n    </tr>\n    <tr>\n      <th>min</th>\n      <td>3000.000000</td>\n      <td>3000.000000</td>\n      <td>0.000000</td>\n    </tr>\n    <tr>\n      <th>25%</th>\n      <td>3023.000000</td>\n      <td>3023.000000</td>\n      <td>3350.000000</td>\n    </tr>\n    <tr>\n      <th>50%</th>\n      <td>3050.000000</td>\n      <td>3049.000000</td>\n      <td>3703.000000</td>\n    </tr>\n    <tr>\n      <th>75%</th>\n      <td>3075.000000</td>\n      <td>3074.000000</td>\n      <td>5370.000000</td>\n    </tr>\n    <tr>\n      <th>max</th>\n      <td>3170.000000</td>\n      <td>3170.000000</td>\n      <td>11965.000000</td>\n    </tr>\n  </tbody>\n</table>\n</div>"
     },
     "execution_count": 35,
     "metadata": {},
     "output_type": "execute_result"
    }
   ],
   "source": [
    "df_bikes.describe()"
   ],
   "metadata": {
    "collapsed": false,
    "pycharm": {
     "name": "#%%\n"
    }
   }
  },
  {
   "cell_type": "code",
   "execution_count": 36,
   "outputs": [],
   "source": [
    "##Weather Data"
   ],
   "metadata": {
    "collapsed": false,
    "pycharm": {
     "name": "#%%\n"
    }
   }
  },
  {
   "cell_type": "code",
   "execution_count": 37,
   "outputs": [
    {
     "data": {
      "text/plain": "             date_time  max_temp  min_temp  precip\n0  2015-01-02 01:00:00       3.3       3.3     0.0\n1  2015-01-02 02:00:00       2.8       2.8     0.0\n2  2015-01-02 03:00:00       2.2       2.2     0.0\n3  2015-01-02 04:00:00       0.6       0.6     0.0\n4  2015-01-02 05:00:00       1.1       1.1     0.0",
      "text/html": "<div>\n<style scoped>\n    .dataframe tbody tr th:only-of-type {\n        vertical-align: middle;\n    }\n\n    .dataframe tbody tr th {\n        vertical-align: top;\n    }\n\n    .dataframe thead th {\n        text-align: right;\n    }\n</style>\n<table border=\"1\" class=\"dataframe\">\n  <thead>\n    <tr style=\"text-align: right;\">\n      <th></th>\n      <th>date_time</th>\n      <th>max_temp</th>\n      <th>min_temp</th>\n      <th>precip</th>\n    </tr>\n  </thead>\n  <tbody>\n    <tr>\n      <th>0</th>\n      <td>2015-01-02 01:00:00</td>\n      <td>3.3</td>\n      <td>3.3</td>\n      <td>0.0</td>\n    </tr>\n    <tr>\n      <th>1</th>\n      <td>2015-01-02 02:00:00</td>\n      <td>2.8</td>\n      <td>2.8</td>\n      <td>0.0</td>\n    </tr>\n    <tr>\n      <th>2</th>\n      <td>2015-01-02 03:00:00</td>\n      <td>2.2</td>\n      <td>2.2</td>\n      <td>0.0</td>\n    </tr>\n    <tr>\n      <th>3</th>\n      <td>2015-01-02 04:00:00</td>\n      <td>0.6</td>\n      <td>0.6</td>\n      <td>0.0</td>\n    </tr>\n    <tr>\n      <th>4</th>\n      <td>2015-01-02 05:00:00</td>\n      <td>1.1</td>\n      <td>1.1</td>\n      <td>0.0</td>\n    </tr>\n  </tbody>\n</table>\n</div>"
     },
     "execution_count": 37,
     "metadata": {},
     "output_type": "execute_result"
    }
   ],
   "source": [
    "df_weather.head()"
   ],
   "metadata": {
    "collapsed": false,
    "pycharm": {
     "name": "#%%\n"
    }
   }
  },
  {
   "cell_type": "code",
   "execution_count": 38,
   "outputs": [
    {
     "data": {
      "text/plain": "           max_temp      min_temp        precip\ncount  43785.000000  43785.000000  43785.000000\nmean      14.204796     14.121300      0.087770\nstd       10.272673     10.259344      0.282963\nmin      -16.700000    -16.700000      0.000000\n25%        6.100000      6.100000      0.000000\n50%       15.000000     14.400000      0.000000\n75%       22.800000     22.800000      0.000000\nmax       36.700000     36.700000      1.000000",
      "text/html": "<div>\n<style scoped>\n    .dataframe tbody tr th:only-of-type {\n        vertical-align: middle;\n    }\n\n    .dataframe tbody tr th {\n        vertical-align: top;\n    }\n\n    .dataframe thead th {\n        text-align: right;\n    }\n</style>\n<table border=\"1\" class=\"dataframe\">\n  <thead>\n    <tr style=\"text-align: right;\">\n      <th></th>\n      <th>max_temp</th>\n      <th>min_temp</th>\n      <th>precip</th>\n    </tr>\n  </thead>\n  <tbody>\n    <tr>\n      <th>count</th>\n      <td>43785.000000</td>\n      <td>43785.000000</td>\n      <td>43785.000000</td>\n    </tr>\n    <tr>\n      <th>mean</th>\n      <td>14.204796</td>\n      <td>14.121300</td>\n      <td>0.087770</td>\n    </tr>\n    <tr>\n      <th>std</th>\n      <td>10.272673</td>\n      <td>10.259344</td>\n      <td>0.282963</td>\n    </tr>\n    <tr>\n      <th>min</th>\n      <td>-16.700000</td>\n      <td>-16.700000</td>\n      <td>0.000000</td>\n    </tr>\n    <tr>\n      <th>25%</th>\n      <td>6.100000</td>\n      <td>6.100000</td>\n      <td>0.000000</td>\n    </tr>\n    <tr>\n      <th>50%</th>\n      <td>15.000000</td>\n      <td>14.400000</td>\n      <td>0.000000</td>\n    </tr>\n    <tr>\n      <th>75%</th>\n      <td>22.800000</td>\n      <td>22.800000</td>\n      <td>0.000000</td>\n    </tr>\n    <tr>\n      <th>max</th>\n      <td>36.700000</td>\n      <td>36.700000</td>\n      <td>1.000000</td>\n    </tr>\n  </tbody>\n</table>\n</div>"
     },
     "execution_count": 38,
     "metadata": {},
     "output_type": "execute_result"
    }
   ],
   "source": [
    "df_weather.describe()"
   ],
   "metadata": {
    "collapsed": false,
    "pycharm": {
     "name": "#%%\n"
    }
   }
  },
  {
   "cell_type": "code",
   "execution_count": 39,
   "outputs": [
    {
     "data": {
      "text/plain": "           start_time            end_time  start_station_id  end_station_id  \\\n0 2017-01-01 00:05:00 2017-01-01 00:16:00              3046            3041   \n1 2017-01-01 00:21:00 2017-01-01 00:57:00              3110            3054   \n2 2017-01-01 00:22:00 2017-01-01 00:57:00              3110            3054   \n3 2017-01-01 00:27:00 2017-01-01 00:39:00              3041            3005   \n4 2017-01-01 00:28:00 2017-01-01 00:36:00              3047            3124   \n5 2017-01-01 00:29:00 2017-01-01 00:36:00              3047            3124   \n6 2017-01-01 00:31:00 2017-01-01 00:40:00              3072            3068   \n7 2017-01-01 00:34:00 2017-01-01 00:50:00              3033            3114   \n8 2017-01-01 00:38:00 2017-01-01 00:57:00              3013            3028   \n9 2017-01-01 00:40:00 2017-01-01 00:57:00              3013            3028   \n\n   bike_id user_type           start_station_name     end_station_name  \\\n0     5347  Indego30                 2nd & Market  Girard Station, MFL   \n1     3364   Walk-up  Del. River Trail & Penn St.         Rodin Museum   \n2     2536   Walk-up  Del. River Trail & Penn St.         Rodin Museum   \n3     5176  Indego30          Girard Station, MFL    Welcome Park, NPS   \n4     5370   Walk-up       Independence Mall, NPS     Race Street Pier   \n5     2479   Walk-up       Independence Mall, NPS     Race Street Pier   \n6     5332  Indego30            Front & Carpenter      Broad & Federal   \n7     5359  Indego30              10th & Chestnut       22nd & Federal   \n8     3716   Walk-up              6th & Fairmount     4th & Bainbridge   \n9     2557   Walk-up              6th & Fairmount     4th & Bainbridge   \n\n  ride_duration_minutes  \n0       0 days 00:11:00  \n1       0 days 00:36:00  \n2       0 days 00:35:00  \n3       0 days 00:12:00  \n4       0 days 00:08:00  \n5       0 days 00:07:00  \n6       0 days 00:09:00  \n7       0 days 00:16:00  \n8       0 days 00:19:00  \n9       0 days 00:17:00  ",
      "text/html": "<div>\n<style scoped>\n    .dataframe tbody tr th:only-of-type {\n        vertical-align: middle;\n    }\n\n    .dataframe tbody tr th {\n        vertical-align: top;\n    }\n\n    .dataframe thead th {\n        text-align: right;\n    }\n</style>\n<table border=\"1\" class=\"dataframe\">\n  <thead>\n    <tr style=\"text-align: right;\">\n      <th></th>\n      <th>start_time</th>\n      <th>end_time</th>\n      <th>start_station_id</th>\n      <th>end_station_id</th>\n      <th>bike_id</th>\n      <th>user_type</th>\n      <th>start_station_name</th>\n      <th>end_station_name</th>\n      <th>ride_duration_minutes</th>\n    </tr>\n  </thead>\n  <tbody>\n    <tr>\n      <th>0</th>\n      <td>2017-01-01 00:05:00</td>\n      <td>2017-01-01 00:16:00</td>\n      <td>3046</td>\n      <td>3041</td>\n      <td>5347</td>\n      <td>Indego30</td>\n      <td>2nd &amp; Market</td>\n      <td>Girard Station, MFL</td>\n      <td>0 days 00:11:00</td>\n    </tr>\n    <tr>\n      <th>1</th>\n      <td>2017-01-01 00:21:00</td>\n      <td>2017-01-01 00:57:00</td>\n      <td>3110</td>\n      <td>3054</td>\n      <td>3364</td>\n      <td>Walk-up</td>\n      <td>Del. River Trail &amp; Penn St.</td>\n      <td>Rodin Museum</td>\n      <td>0 days 00:36:00</td>\n    </tr>\n    <tr>\n      <th>2</th>\n      <td>2017-01-01 00:22:00</td>\n      <td>2017-01-01 00:57:00</td>\n      <td>3110</td>\n      <td>3054</td>\n      <td>2536</td>\n      <td>Walk-up</td>\n      <td>Del. River Trail &amp; Penn St.</td>\n      <td>Rodin Museum</td>\n      <td>0 days 00:35:00</td>\n    </tr>\n    <tr>\n      <th>3</th>\n      <td>2017-01-01 00:27:00</td>\n      <td>2017-01-01 00:39:00</td>\n      <td>3041</td>\n      <td>3005</td>\n      <td>5176</td>\n      <td>Indego30</td>\n      <td>Girard Station, MFL</td>\n      <td>Welcome Park, NPS</td>\n      <td>0 days 00:12:00</td>\n    </tr>\n    <tr>\n      <th>4</th>\n      <td>2017-01-01 00:28:00</td>\n      <td>2017-01-01 00:36:00</td>\n      <td>3047</td>\n      <td>3124</td>\n      <td>5370</td>\n      <td>Walk-up</td>\n      <td>Independence Mall, NPS</td>\n      <td>Race Street Pier</td>\n      <td>0 days 00:08:00</td>\n    </tr>\n    <tr>\n      <th>5</th>\n      <td>2017-01-01 00:29:00</td>\n      <td>2017-01-01 00:36:00</td>\n      <td>3047</td>\n      <td>3124</td>\n      <td>2479</td>\n      <td>Walk-up</td>\n      <td>Independence Mall, NPS</td>\n      <td>Race Street Pier</td>\n      <td>0 days 00:07:00</td>\n    </tr>\n    <tr>\n      <th>6</th>\n      <td>2017-01-01 00:31:00</td>\n      <td>2017-01-01 00:40:00</td>\n      <td>3072</td>\n      <td>3068</td>\n      <td>5332</td>\n      <td>Indego30</td>\n      <td>Front &amp; Carpenter</td>\n      <td>Broad &amp; Federal</td>\n      <td>0 days 00:09:00</td>\n    </tr>\n    <tr>\n      <th>7</th>\n      <td>2017-01-01 00:34:00</td>\n      <td>2017-01-01 00:50:00</td>\n      <td>3033</td>\n      <td>3114</td>\n      <td>5359</td>\n      <td>Indego30</td>\n      <td>10th &amp; Chestnut</td>\n      <td>22nd &amp; Federal</td>\n      <td>0 days 00:16:00</td>\n    </tr>\n    <tr>\n      <th>8</th>\n      <td>2017-01-01 00:38:00</td>\n      <td>2017-01-01 00:57:00</td>\n      <td>3013</td>\n      <td>3028</td>\n      <td>3716</td>\n      <td>Walk-up</td>\n      <td>6th &amp; Fairmount</td>\n      <td>4th &amp; Bainbridge</td>\n      <td>0 days 00:19:00</td>\n    </tr>\n    <tr>\n      <th>9</th>\n      <td>2017-01-01 00:40:00</td>\n      <td>2017-01-01 00:57:00</td>\n      <td>3013</td>\n      <td>3028</td>\n      <td>2557</td>\n      <td>Walk-up</td>\n      <td>6th &amp; Fairmount</td>\n      <td>4th &amp; Bainbridge</td>\n      <td>0 days 00:17:00</td>\n    </tr>\n  </tbody>\n</table>\n</div>"
     },
     "execution_count": 39,
     "metadata": {},
     "output_type": "execute_result"
    }
   ],
   "source": [
    "\n",
    "df_bikes = pd.read_csv('../data/philadelphia_2017.csv')\n",
    "\n",
    "df_bikes[\"start_time\"] = pd.to_datetime(df_bikes[\"start_time\"], dayfirst = True)\n",
    "\n",
    "df_bikes[\"end_time\"] = pd.to_datetime(df_bikes[\"end_time\"], dayfirst = True)\n",
    "\n",
    "df_bikes['ride_duration_minutes'] = df_bikes['end_time'] - df_bikes['start_time']\n",
    "\n",
    "ride_lengths = []\n",
    "\n",
    "for label, content in df_bikes.iterrows():\n",
    "    ride_lengths.append(content[\"ride_duration_minutes\"])\n",
    "\n",
    "ride_lengths_np = np.array(ride_lengths)\n",
    "iqr = stats.iqr(ride_lengths_np)\n",
    "\n",
    "q1,q3 = np.percentile(ride_lengths_np, [25,99.9])\n",
    "\n",
    "upper_range = q3 + (1.5*iqr)\n",
    "\n",
    "df_bikes.drop(df_bikes[ (df_bikes.ride_duration_minutes > upper_range) | (df_bikes.end_time > pd.to_datetime(\"2017-12-31 23:59:59\")) | (df_bikes.start_time > pd.to_datetime(\"2017-12-31 23:59:59\")) | (df_bikes.ride_duration_minutes < pd.to_timedelta(0))].index , inplace=True)\n",
    "\n",
    "df_bikes.head(10)"
   ],
   "metadata": {
    "collapsed": false,
    "pycharm": {
     "name": "#%%\n"
    }
   }
  },
  {
   "cell_type": "code",
   "execution_count": 40,
   "outputs": [],
   "source": [
    "df_weather[\"date_time\"] = pd.to_datetime(df_weather[\"date_time\"])"
   ],
   "metadata": {
    "collapsed": false,
    "pycharm": {
     "name": "#%%\n"
    }
   }
  },
  {
   "cell_type": "code",
   "execution_count": 41,
   "outputs": [],
   "source": [
    "df_weather = df_weather.sort_values(by=['date_time'])"
   ],
   "metadata": {
    "collapsed": false,
    "pycharm": {
     "name": "#%%\n"
    }
   }
  },
  {
   "cell_type": "code",
   "execution_count": 42,
   "outputs": [
    {
     "name": "stderr",
     "output_type": "stream",
     "text": [
      "<ipython-input-42-92eb66279140>:6: SettingWithCopyWarning: \n",
      "A value is trying to be set on a copy of a slice from a DataFrame.\n",
      "Try using .loc[row_indexer,col_indexer] = value instead\n",
      "\n",
      "See the caveats in the documentation: https://pandas.pydata.org/pandas-docs/stable/user_guide/indexing.html#returning-a-view-versus-a-copy\n",
      "  df_2017weather_unique['Order'] = np.arange(len(df_2017weather_unique))\n"
     ]
    }
   ],
   "source": [
    "start2017 = datetime(2016, 12, 31, 23)\n",
    "end2017 = datetime(2018, 1, 1)\n",
    "\n",
    "df_2017weather = df_weather[(df_weather[\"date_time\"] > start2017) & (df_weather[\"date_time\"] < end2017)]\n",
    "df_2017weather_unique = df_2017weather.drop_duplicates(subset='date_time')\n",
    "df_2017weather_unique['Order'] = np.arange(len(df_2017weather_unique))\n",
    "df_2017weather_unique = df_2017weather_unique.set_index('Order')"
   ],
   "metadata": {
    "collapsed": false,
    "pycharm": {
     "name": "#%%\n"
    }
   }
  },
  {
   "cell_type": "code",
   "execution_count": 43,
   "outputs": [],
   "source": [
    "for i in df_2017weather_unique.index:\n",
    "    if i == 8231:\n",
    "        pass\n",
    "    elif (df_2017weather_unique['date_time'][i] - df_2017weather_unique['date_time'][i+1]) != (df_2017weather_unique['date_time'][1] - df_2017weather_unique['date_time'][2]):\n",
    "        df_2017weather_support = {'date_time': (df_2017weather_unique['date_time'][i] + pd.DateOffset(hours=1)), 'max_temp': (df_2017weather_unique['max_temp'][i] + df_2017weather_unique['max_temp'][i+1])/2, 'min_temp': (df_2017weather_unique['max_temp'][i] + df_2017weather_unique['max_temp'][i+1])/2, 'precip': df_2017weather_unique['precip'][i]}\n",
    "        df_2017weather_unique = df_2017weather_unique.append(df_2017weather_support, ignore_index=True)"
   ],
   "metadata": {
    "collapsed": false,
    "pycharm": {
     "name": "#%%\n"
    }
   }
  },
  {
   "cell_type": "code",
   "execution_count": 44,
   "outputs": [],
   "source": [
    "df_2017weather_unique = df_2017weather_unique.sort_values(by=['date_time'])\n",
    "df_2017weather_unique['Order'] = np.arange(len(df_2017weather_unique))\n",
    "df_2017weather_unique = df_2017weather_unique.set_index('Order')"
   ],
   "metadata": {
    "collapsed": false,
    "pycharm": {
     "name": "#%%\n"
    }
   }
  },
  {
   "cell_type": "code",
   "execution_count": 45,
   "outputs": [],
   "source": [
    "for i in df_2017weather_unique.index:\n",
    "    if i == 8758:\n",
    "        pass\n",
    "    elif (df_2017weather_unique['date_time'][i] - df_2017weather_unique['date_time'][i+1]) != (df_2017weather_unique['date_time'][1] - df_2017weather_unique['date_time'][2]):\n",
    "        df_2017weather_support = {'date_time': (df_2017weather_unique['date_time'][i] + pd.DateOffset(hours=1)), 'max_temp': (df_2017weather_unique['max_temp'][i] + df_2017weather_unique['max_temp'][i+1])/2, 'min_temp': (df_2017weather_unique['max_temp'][i] + df_2017weather_unique['max_temp'][i+1])/2, 'precip': df_2017weather_unique['precip'][i]}\n",
    "        df_2017weather_unique = df_2017weather_unique.append(df_2017weather_support, ignore_index=True)"
   ],
   "metadata": {
    "collapsed": false,
    "pycharm": {
     "name": "#%%\n"
    }
   }
  },
  {
   "cell_type": "code",
   "execution_count": 46,
   "outputs": [
    {
     "data": {
      "text/plain": "                date_time  max_temp  min_temp  precip\nOrder                                                \n0     2017-01-01 00:00:00       6.1       6.1     0.0\n1     2017-01-01 01:00:00       6.1       6.1     0.0\n2     2017-01-01 02:00:00       6.7       6.7     0.0\n3     2017-01-01 03:00:00       7.2       7.2     0.0\n4     2017-01-01 04:00:00       7.8       7.8     0.0",
      "text/html": "<div>\n<style scoped>\n    .dataframe tbody tr th:only-of-type {\n        vertical-align: middle;\n    }\n\n    .dataframe tbody tr th {\n        vertical-align: top;\n    }\n\n    .dataframe thead th {\n        text-align: right;\n    }\n</style>\n<table border=\"1\" class=\"dataframe\">\n  <thead>\n    <tr style=\"text-align: right;\">\n      <th></th>\n      <th>date_time</th>\n      <th>max_temp</th>\n      <th>min_temp</th>\n      <th>precip</th>\n    </tr>\n    <tr>\n      <th>Order</th>\n      <th></th>\n      <th></th>\n      <th></th>\n      <th></th>\n    </tr>\n  </thead>\n  <tbody>\n    <tr>\n      <th>0</th>\n      <td>2017-01-01 00:00:00</td>\n      <td>6.1</td>\n      <td>6.1</td>\n      <td>0.0</td>\n    </tr>\n    <tr>\n      <th>1</th>\n      <td>2017-01-01 01:00:00</td>\n      <td>6.1</td>\n      <td>6.1</td>\n      <td>0.0</td>\n    </tr>\n    <tr>\n      <th>2</th>\n      <td>2017-01-01 02:00:00</td>\n      <td>6.7</td>\n      <td>6.7</td>\n      <td>0.0</td>\n    </tr>\n    <tr>\n      <th>3</th>\n      <td>2017-01-01 03:00:00</td>\n      <td>7.2</td>\n      <td>7.2</td>\n      <td>0.0</td>\n    </tr>\n    <tr>\n      <th>4</th>\n      <td>2017-01-01 04:00:00</td>\n      <td>7.8</td>\n      <td>7.8</td>\n      <td>0.0</td>\n    </tr>\n  </tbody>\n</table>\n</div>"
     },
     "execution_count": 46,
     "metadata": {},
     "output_type": "execute_result"
    }
   ],
   "source": [
    "df_2017weather_unique = df_2017weather_unique.sort_values(by=['date_time'])\n",
    "df_2017weather_unique['Order'] = np.arange(len(df_2017weather_unique))\n",
    "df_2017weather_unique = df_2017weather_unique.set_index('Order')\n",
    "df_2017weather_unique.head()"
   ],
   "metadata": {
    "collapsed": false,
    "pycharm": {
     "name": "#%%\n"
    }
   }
  },
  {
   "cell_type": "code",
   "execution_count": 47,
   "outputs": [],
   "source": [
    "for i in df_2017weather_unique.index:\n",
    "    if i == 8759:\n",
    "        pass\n",
    "    elif (df_2017weather_unique['date_time'][i] - df_2017weather_unique['date_time'][i+1]) != (df_2017weather_unique['date_time'][1] - df_2017weather_unique['date_time'][2]):\n",
    "        df_2017weather_support = {'date_time': (df_2017weather_unique['date_time'][i] + pd.DateOffset(hours=1)), 'max_temp': (df_2017weather_unique['max_temp'][i] + df_2017weather_unique['max_temp'][i+1])/2, 'min_temp': (df_2017weather_unique['max_temp'][i] + df_2017weather_unique['max_temp'][i+1])/2, 'precip': df_2017weather_unique['precip'][i]}\n",
    "        df_2017weather_unique = df_2017weather_unique.append(df_2017weather_support, ignore_index=True)\n",
    "\n",
    "def would_be_rounded_up(num):\n",
    "    if round(num) == int(num) + 1:\n",
    "        return True\n",
    "    else:\n",
    "        return False\n",
    "\n",
    "def get_precip(start_time, end_time):\n",
    "    return df_2017weather_unique[\"precip\"][get_weather_df_row(start_time, end_time)]\n",
    "\n",
    "def get_temperature(start_time, end_time):\n",
    "    row = get_weather_df_row(start_time, end_time)\n",
    "    return (df_2017weather_unique[\"min_temp\"][row] + df_2017weather_unique[\"max_temp\"][row])/2\n",
    "\n",
    "def get_weather_df_row(start_time, end_time):\n",
    "    duration_of_travel = end_time-start_time\n",
    "    average_timestamp = end_time - datetime.fromisoformat(\"2017-01-01 00:00:00\") - duration_of_travel/2\n",
    "    weather_row = average_timestamp.total_seconds()/3600\n",
    "    return int(weather_row)\n",
    "\n",
    "df_bikes[\"temperature\"] = df_bikes.apply(lambda x: get_temperature(x[\"start_time\"], x[\"end_time\"]), axis=1)\n",
    "df_bikes[\"precip\"] = df_bikes.apply(lambda x: get_precip(x[\"start_time\"],x[\"end_time\"]), axis=1)"
   ],
   "metadata": {
    "collapsed": false,
    "pycharm": {
     "name": "#%%\n"
    }
   }
  },
  {
   "cell_type": "code",
   "execution_count": 48,
   "outputs": [
    {
     "data": {
      "text/plain": "                start_time            end_time  start_station_id  \\\n788900 2017-12-31 22:56:00 2017-12-31 22:59:00              3045   \n788902 2017-12-31 23:05:00 2017-12-31 23:33:00              3070   \n788904 2017-12-31 23:18:00 2017-12-31 23:25:00              3033   \n788905 2017-12-31 23:39:00 2017-12-31 23:40:00              3163   \n788906 2017-12-31 23:41:00 2017-12-31 23:55:00              3163   \n\n        end_station_id  bike_id user_type          start_station_name  \\\n788900            3052    11870  Indego30               13th & Locust   \n788902            3124     3708  Indego30  Spring Garden Station, MFL   \n788904            3046    11933  Indego30             10th & Chestnut   \n788905            3163     6725  Indego30               25th & Locust   \n788906            3057    11864  Indego30               25th & Locust   \n\n                  end_station_name ride_duration_minutes  temperature  precip  \n788900                9th & Locust       0 days 00:03:00        -10.0     0.0  \n788902            Race Street Pier       0 days 00:28:00        -10.0     0.0  \n788904                2nd & Market       0 days 00:07:00        -10.0     0.0  \n788905               25th & Locust       0 days 00:01:00        -10.0     0.0  \n788906  Philadelphia Museum of Art       0 days 00:14:00        -10.0     0.0  ",
      "text/html": "<div>\n<style scoped>\n    .dataframe tbody tr th:only-of-type {\n        vertical-align: middle;\n    }\n\n    .dataframe tbody tr th {\n        vertical-align: top;\n    }\n\n    .dataframe thead th {\n        text-align: right;\n    }\n</style>\n<table border=\"1\" class=\"dataframe\">\n  <thead>\n    <tr style=\"text-align: right;\">\n      <th></th>\n      <th>start_time</th>\n      <th>end_time</th>\n      <th>start_station_id</th>\n      <th>end_station_id</th>\n      <th>bike_id</th>\n      <th>user_type</th>\n      <th>start_station_name</th>\n      <th>end_station_name</th>\n      <th>ride_duration_minutes</th>\n      <th>temperature</th>\n      <th>precip</th>\n    </tr>\n  </thead>\n  <tbody>\n    <tr>\n      <th>788900</th>\n      <td>2017-12-31 22:56:00</td>\n      <td>2017-12-31 22:59:00</td>\n      <td>3045</td>\n      <td>3052</td>\n      <td>11870</td>\n      <td>Indego30</td>\n      <td>13th &amp; Locust</td>\n      <td>9th &amp; Locust</td>\n      <td>0 days 00:03:00</td>\n      <td>-10.0</td>\n      <td>0.0</td>\n    </tr>\n    <tr>\n      <th>788902</th>\n      <td>2017-12-31 23:05:00</td>\n      <td>2017-12-31 23:33:00</td>\n      <td>3070</td>\n      <td>3124</td>\n      <td>3708</td>\n      <td>Indego30</td>\n      <td>Spring Garden Station, MFL</td>\n      <td>Race Street Pier</td>\n      <td>0 days 00:28:00</td>\n      <td>-10.0</td>\n      <td>0.0</td>\n    </tr>\n    <tr>\n      <th>788904</th>\n      <td>2017-12-31 23:18:00</td>\n      <td>2017-12-31 23:25:00</td>\n      <td>3033</td>\n      <td>3046</td>\n      <td>11933</td>\n      <td>Indego30</td>\n      <td>10th &amp; Chestnut</td>\n      <td>2nd &amp; Market</td>\n      <td>0 days 00:07:00</td>\n      <td>-10.0</td>\n      <td>0.0</td>\n    </tr>\n    <tr>\n      <th>788905</th>\n      <td>2017-12-31 23:39:00</td>\n      <td>2017-12-31 23:40:00</td>\n      <td>3163</td>\n      <td>3163</td>\n      <td>6725</td>\n      <td>Indego30</td>\n      <td>25th &amp; Locust</td>\n      <td>25th &amp; Locust</td>\n      <td>0 days 00:01:00</td>\n      <td>-10.0</td>\n      <td>0.0</td>\n    </tr>\n    <tr>\n      <th>788906</th>\n      <td>2017-12-31 23:41:00</td>\n      <td>2017-12-31 23:55:00</td>\n      <td>3163</td>\n      <td>3057</td>\n      <td>11864</td>\n      <td>Indego30</td>\n      <td>25th &amp; Locust</td>\n      <td>Philadelphia Museum of Art</td>\n      <td>0 days 00:14:00</td>\n      <td>-10.0</td>\n      <td>0.0</td>\n    </tr>\n  </tbody>\n</table>\n</div>"
     },
     "execution_count": 48,
     "metadata": {},
     "output_type": "execute_result"
    }
   ],
   "source": [
    "df_bikes.tail(5)"
   ],
   "metadata": {
    "collapsed": false,
    "pycharm": {
     "name": "#%%\n"
    }
   }
  },
  {
   "cell_type": "code",
   "execution_count": 49,
   "outputs": [
    {
     "data": {
      "text/plain": "                date_time  max_temp  min_temp  precip\nOrder                                                \n8755  2017-12-31 19:00:00      -8.9      -8.9     0.0\n8756  2017-12-31 20:00:00      -8.9      -8.9     0.0\n8757  2017-12-31 21:00:00      -9.4      -9.4     0.0\n8758  2017-12-31 22:00:00     -10.0     -10.0     0.0\n8759  2017-12-31 23:00:00     -10.0     -10.0     0.0",
      "text/html": "<div>\n<style scoped>\n    .dataframe tbody tr th:only-of-type {\n        vertical-align: middle;\n    }\n\n    .dataframe tbody tr th {\n        vertical-align: top;\n    }\n\n    .dataframe thead th {\n        text-align: right;\n    }\n</style>\n<table border=\"1\" class=\"dataframe\">\n  <thead>\n    <tr style=\"text-align: right;\">\n      <th></th>\n      <th>date_time</th>\n      <th>max_temp</th>\n      <th>min_temp</th>\n      <th>precip</th>\n    </tr>\n    <tr>\n      <th>Order</th>\n      <th></th>\n      <th></th>\n      <th></th>\n      <th></th>\n    </tr>\n  </thead>\n  <tbody>\n    <tr>\n      <th>8755</th>\n      <td>2017-12-31 19:00:00</td>\n      <td>-8.9</td>\n      <td>-8.9</td>\n      <td>0.0</td>\n    </tr>\n    <tr>\n      <th>8756</th>\n      <td>2017-12-31 20:00:00</td>\n      <td>-8.9</td>\n      <td>-8.9</td>\n      <td>0.0</td>\n    </tr>\n    <tr>\n      <th>8757</th>\n      <td>2017-12-31 21:00:00</td>\n      <td>-9.4</td>\n      <td>-9.4</td>\n      <td>0.0</td>\n    </tr>\n    <tr>\n      <th>8758</th>\n      <td>2017-12-31 22:00:00</td>\n      <td>-10.0</td>\n      <td>-10.0</td>\n      <td>0.0</td>\n    </tr>\n    <tr>\n      <th>8759</th>\n      <td>2017-12-31 23:00:00</td>\n      <td>-10.0</td>\n      <td>-10.0</td>\n      <td>0.0</td>\n    </tr>\n  </tbody>\n</table>\n</div>"
     },
     "execution_count": 49,
     "metadata": {},
     "output_type": "execute_result"
    }
   ],
   "source": [
    "df_2017weather_unique.tail(5)\n"
   ],
   "metadata": {
    "collapsed": false,
    "pycharm": {
     "name": "#%%\n"
    }
   }
  },
  {
   "cell_type": "code",
   "execution_count": 50,
   "outputs": [
    {
     "data": {
      "text/plain": "           start_time            end_time  start_station_id  end_station_id  \\\n0 2017-01-01 00:05:00 2017-01-01 00:16:00              3046            3041   \n1 2017-01-01 00:21:00 2017-01-01 00:57:00              3110            3054   \n2 2017-01-01 00:22:00 2017-01-01 00:57:00              3110            3054   \n3 2017-01-01 00:27:00 2017-01-01 00:39:00              3041            3005   \n4 2017-01-01 00:28:00 2017-01-01 00:36:00              3047            3124   \n\n   bike_id user_type           start_station_name     end_station_name  \\\n0     5347  Indego30                 2nd & Market  Girard Station, MFL   \n1     3364   Walk-up  Del. River Trail & Penn St.         Rodin Museum   \n2     2536   Walk-up  Del. River Trail & Penn St.         Rodin Museum   \n3     5176  Indego30          Girard Station, MFL    Welcome Park, NPS   \n4     5370   Walk-up       Independence Mall, NPS     Race Street Pier   \n\n  ride_duration_minutes  temperature  precip  weekday  is_weekday  \n0       0 days 00:11:00          6.1     0.0        6           0  \n1       0 days 00:36:00          6.1     0.0        6           0  \n2       0 days 00:35:00          6.1     0.0        6           0  \n3       0 days 00:12:00          6.1     0.0        6           0  \n4       0 days 00:08:00          6.1     0.0        6           0  ",
      "text/html": "<div>\n<style scoped>\n    .dataframe tbody tr th:only-of-type {\n        vertical-align: middle;\n    }\n\n    .dataframe tbody tr th {\n        vertical-align: top;\n    }\n\n    .dataframe thead th {\n        text-align: right;\n    }\n</style>\n<table border=\"1\" class=\"dataframe\">\n  <thead>\n    <tr style=\"text-align: right;\">\n      <th></th>\n      <th>start_time</th>\n      <th>end_time</th>\n      <th>start_station_id</th>\n      <th>end_station_id</th>\n      <th>bike_id</th>\n      <th>user_type</th>\n      <th>start_station_name</th>\n      <th>end_station_name</th>\n      <th>ride_duration_minutes</th>\n      <th>temperature</th>\n      <th>precip</th>\n      <th>weekday</th>\n      <th>is_weekday</th>\n    </tr>\n  </thead>\n  <tbody>\n    <tr>\n      <th>0</th>\n      <td>2017-01-01 00:05:00</td>\n      <td>2017-01-01 00:16:00</td>\n      <td>3046</td>\n      <td>3041</td>\n      <td>5347</td>\n      <td>Indego30</td>\n      <td>2nd &amp; Market</td>\n      <td>Girard Station, MFL</td>\n      <td>0 days 00:11:00</td>\n      <td>6.1</td>\n      <td>0.0</td>\n      <td>6</td>\n      <td>0</td>\n    </tr>\n    <tr>\n      <th>1</th>\n      <td>2017-01-01 00:21:00</td>\n      <td>2017-01-01 00:57:00</td>\n      <td>3110</td>\n      <td>3054</td>\n      <td>3364</td>\n      <td>Walk-up</td>\n      <td>Del. River Trail &amp; Penn St.</td>\n      <td>Rodin Museum</td>\n      <td>0 days 00:36:00</td>\n      <td>6.1</td>\n      <td>0.0</td>\n      <td>6</td>\n      <td>0</td>\n    </tr>\n    <tr>\n      <th>2</th>\n      <td>2017-01-01 00:22:00</td>\n      <td>2017-01-01 00:57:00</td>\n      <td>3110</td>\n      <td>3054</td>\n      <td>2536</td>\n      <td>Walk-up</td>\n      <td>Del. River Trail &amp; Penn St.</td>\n      <td>Rodin Museum</td>\n      <td>0 days 00:35:00</td>\n      <td>6.1</td>\n      <td>0.0</td>\n      <td>6</td>\n      <td>0</td>\n    </tr>\n    <tr>\n      <th>3</th>\n      <td>2017-01-01 00:27:00</td>\n      <td>2017-01-01 00:39:00</td>\n      <td>3041</td>\n      <td>3005</td>\n      <td>5176</td>\n      <td>Indego30</td>\n      <td>Girard Station, MFL</td>\n      <td>Welcome Park, NPS</td>\n      <td>0 days 00:12:00</td>\n      <td>6.1</td>\n      <td>0.0</td>\n      <td>6</td>\n      <td>0</td>\n    </tr>\n    <tr>\n      <th>4</th>\n      <td>2017-01-01 00:28:00</td>\n      <td>2017-01-01 00:36:00</td>\n      <td>3047</td>\n      <td>3124</td>\n      <td>5370</td>\n      <td>Walk-up</td>\n      <td>Independence Mall, NPS</td>\n      <td>Race Street Pier</td>\n      <td>0 days 00:08:00</td>\n      <td>6.1</td>\n      <td>0.0</td>\n      <td>6</td>\n      <td>0</td>\n    </tr>\n  </tbody>\n</table>\n</div>"
     },
     "execution_count": 50,
     "metadata": {},
     "output_type": "execute_result"
    }
   ],
   "source": [
    "df_bikes['weekday'] = df_bikes[\"start_time\"].apply(lambda x: x.weekday())\n",
    "\n",
    "\n",
    "#checks whether the weekday is a day in the week(1) or in weekend(0)\n",
    "def is_weekday(day):\n",
    "    if day == 5 or day == 6:\n",
    "        return 0\n",
    "    else:\n",
    "        return 1\n",
    "\n",
    "\n",
    "df_bikes['is_weekday'] = df_bikes['weekday'].apply(lambda x: is_weekday(x))\n",
    "\n",
    "df_bikes.head()\n"
   ],
   "metadata": {
    "collapsed": false,
    "pycharm": {
     "name": "#%%\n"
    }
   }
  },
  {
   "cell_type": "code",
   "execution_count": 171,
   "outputs": [
    {
     "data": {
      "text/plain": "0      2017-01-01 00:00:00\n1      2017-01-01 01:00:00\n2      2017-01-01 02:00:00\n3      2017-01-01 03:00:00\n4      2017-01-01 04:00:00\n               ...        \n8755   2017-12-31 19:00:00\n8756   2017-12-31 20:00:00\n8757   2017-12-31 21:00:00\n8758   2017-12-31 22:00:00\n8759   2017-12-31 23:00:00\nLength: 8760, dtype: datetime64[ns]"
     },
     "execution_count": 171,
     "metadata": {},
     "output_type": "execute_result"
    }
   ],
   "source": [
    "# array containing all dates of the year\n",
    "start_hours_2017 = datetime(2017, 1, 1, 0)\n",
    "add_hour = timedelta(hours = 1)\n",
    "\n",
    "hours_2017 = []\n",
    "\n",
    "for i in range(0, 8760):\n",
    "    hours_2017.append(start_hours_2017)\n",
    "    start_hours_2017 += add_hour\n",
    "\n",
    "hours = range(0, 8760)\n",
    "hours_Series = pd.Series(hours_2017, index=hours)\n",
    "hours_Series\n",
    "\n",
    "\n"
   ],
   "metadata": {
    "collapsed": false,
    "pycharm": {
     "name": "#%%\n"
    }
   }
  },
  {
   "cell_type": "code",
   "execution_count": 172,
   "outputs": [
    {
     "data": {
      "text/plain": "                    date  weekday  is_weekday  loans\n8755 2017-12-31 19:00:00        6           0     14\n8756 2017-12-31 20:00:00        6           0      4\n8757 2017-12-31 21:00:00        6           0      7\n8758 2017-12-31 22:00:00        6           0     10\n8759 2017-12-31 23:00:00        6           0      4",
      "text/html": "<div>\n<style scoped>\n    .dataframe tbody tr th:only-of-type {\n        vertical-align: middle;\n    }\n\n    .dataframe tbody tr th {\n        vertical-align: top;\n    }\n\n    .dataframe thead th {\n        text-align: right;\n    }\n</style>\n<table border=\"1\" class=\"dataframe\">\n  <thead>\n    <tr style=\"text-align: right;\">\n      <th></th>\n      <th>date</th>\n      <th>weekday</th>\n      <th>is_weekday</th>\n      <th>loans</th>\n    </tr>\n  </thead>\n  <tbody>\n    <tr>\n      <th>8755</th>\n      <td>2017-12-31 19:00:00</td>\n      <td>6</td>\n      <td>0</td>\n      <td>14</td>\n    </tr>\n    <tr>\n      <th>8756</th>\n      <td>2017-12-31 20:00:00</td>\n      <td>6</td>\n      <td>0</td>\n      <td>4</td>\n    </tr>\n    <tr>\n      <th>8757</th>\n      <td>2017-12-31 21:00:00</td>\n      <td>6</td>\n      <td>0</td>\n      <td>7</td>\n    </tr>\n    <tr>\n      <th>8758</th>\n      <td>2017-12-31 22:00:00</td>\n      <td>6</td>\n      <td>0</td>\n      <td>10</td>\n    </tr>\n    <tr>\n      <th>8759</th>\n      <td>2017-12-31 23:00:00</td>\n      <td>6</td>\n      <td>0</td>\n      <td>4</td>\n    </tr>\n  </tbody>\n</table>\n</div>"
     },
     "execution_count": 172,
     "metadata": {},
     "output_type": "execute_result"
    }
   ],
   "source": [
    "#sums up all loans for every hour in 2017 and shows it in a dataframe\n",
    "def loans_per_hour(month, day, hour):\n",
    "    if hour == np.NaN:\n",
    "        hour =0;\n",
    "\n",
    "    hour_in_2017_start = datetime(2017, month = int(month), day = int(day), hour = hour)\n",
    "    hour_in_2017_end = datetime(2017, month, day, hour, 59)\n",
    "    df_hour_start = df_bikes[df_bikes[\"start_time\"] >= hour_in_2017_start]\n",
    "    df_hour_end = df_hour_start[df_hour_start[\"start_time\"] <= hour_in_2017_end]\n",
    "    return len(df_hour_end)\n",
    "\n",
    "\n",
    "lin_reg_bikes_df = pd.DataFrame({'date': pd.concat([hours_Series])},\n",
    "                                index=range(0, 8760),\n",
    "                                columns=['date'])\n",
    "\n",
    "lin_reg_bikes_df['weekday'] = lin_reg_bikes_df['date'].apply(lambda x: x.weekday())\n",
    "lin_reg_bikes_df['is_weekday'] = lin_reg_bikes_df['weekday'].apply(lambda x: is_weekday(x))\n",
    "lin_reg_bikes_df['loans'] = lin_reg_bikes_df['date'].apply(lambda x: loans_per_hour(x.month, x.day, x.hour))\n",
    "\n",
    "\n",
    "lin_reg_bikes_df.tail()\n",
    "\n",
    "\n",
    "\n",
    "\n"
   ],
   "metadata": {
    "collapsed": false,
    "pycharm": {
     "name": "#%%\n"
    }
   }
  },
  {
   "cell_type": "code",
   "execution_count": 51,
   "outputs": [],
   "source": [
    "\n",
    "#ride_lengths_np = np.array(ride_lengths)\n",
    "#iqr = stats.iqr(ride_lengths_np)\n",
    "#iqr\n",
    "\n",
    "#q1,q3 = np.percentile(ride_lengths_np, [25,95])\n",
    "\n",
    "#lower_range = q1 - (1.5*iqr)\n",
    "#upper_range = q3 + (1.5*iqr)\n",
    "\n",
    "\n",
    "#minutes_0 = timedelta(minutes=0)\n",
    "\n",
    "#A ride, can't be shorter than 0 Minutes obviously\n",
    "#if lower_range < minutes_0:\n",
    "#    lower_range = minutes_0\n",
    "\n",
    "#df_bikes.drop(df_bikes[ (df_bikes['duration'].apply(lambda x: x) > upper_range) | (df_bikes['duration'].apply(lambda x: x) < lower_range) ].index , inplace=True)"
   ],
   "metadata": {
    "collapsed": false,
    "pycharm": {
     "name": "#%%\n"
    }
   }
  },
  {
   "cell_type": "code",
   "execution_count": 52,
   "outputs": [],
   "source": [
    "#print(len(df_bikes))"
   ],
   "metadata": {
    "collapsed": false,
    "pycharm": {
     "name": "#%%\n"
    }
   }
  },
  {
   "cell_type": "code",
   "execution_count": 53,
   "outputs": [],
   "source": [
    "#df_bikes['end_time_rounded'] = df_bikes[\"end_time\"][0].replace(minute=0)\n",
    "#df_bikes.head(30)"
   ],
   "metadata": {
    "collapsed": false,
    "pycharm": {
     "name": "#%%\n"
    }
   }
  },
  {
   "cell_type": "code",
   "execution_count": 54,
   "outputs": [],
   "source": [
    "#s = 0\n",
    "#z = 1\n",
    "#for x in range(0,788906):\n",
    " #   if x not in df_bikes.index:\n",
    " #       s = s + 1\n",
    " #       if s == 1000*z:\n",
    " #           print(x)\n",
    " #           z = z + 1\n",
    " #       else:\n",
    " #           pass\n",
    " #   else:\n",
    "  #      df_bikes['end_time_rounded'][x] = df_bikes[\"end_time\"][x].replace(minute=0)\n",
    "\n",
    "#df_bikes.head(5)\n"
   ],
   "metadata": {
    "collapsed": false,
    "pycharm": {
     "name": "#%%\n"
    }
   }
  },
  {
   "cell_type": "code",
   "execution_count": 55,
   "outputs": [],
   "source": [
    "#df_bikes['end_time_rounded'] = df_bikes['end_time_rounded'].dt.strftime(\"%y/%m/%d %H\")\n",
    "#df_bikes.head()\n"
   ],
   "metadata": {
    "collapsed": false,
    "pycharm": {
     "name": "#%%\n"
    }
   }
  },
  {
   "cell_type": "code",
   "execution_count": 56,
   "outputs": [],
   "source": [
    "ride_lengths = []\n",
    "\n",
    "for label, content in df_bikes.iterrows():\n",
    "    ride_lengths.append(content['ride_duration_minutes'])"
   ],
   "metadata": {
    "collapsed": false,
    "pycharm": {
     "name": "#%%\n"
    }
   }
  },
  {
   "cell_type": "code",
   "execution_count": 57,
   "outputs": [
    {
     "name": "stdout",
     "output_type": "stream",
     "text": [
      "[[3072, 'Front & Carpenter'], [3073, '9th & Spring Garden'], [3074, '44th & Walnut'], [3075, 'Fairmount & Ridge'], [3077, '17th & Girard'], [3078, '19th & Market'], [3083, '3083'], [3086, 'Broad & Christian'], [3088, '3rd & Girard'], [3093, '33rd & Diamond'], [3095, '29th & Diamond'], [3096, '29th & Dauphin'], [3097, 'Berks Station, MFL'], [3098, '10th & Federal'], [3099, '4th & Washington'], [3100, 'Moyamensing & Tasker'], [3101, '11th & South'], [3102, 'Pennsylvania & Fairmount Perelman Building'], [3103, '27th & Master, Athletic Recreation Center'], [3104, '34th & Mantua'], [3105, 'Penn Treaty Park'], [3106, '33rd & Dauphin'], [3107, '33rd & Reservoir'], [3108, '15th & Market'], [3109, 'Parkside & Girard'], [3110, 'Del. River Trail & Penn St.'], [3111, 'Parkside & Belmont, Case Building'], [3112, '48th & Spruce'], [3113, 'Philadelphia Zoo'], [3114, '22nd & Federal'], [3115, '19th & Girard, PTTI'], [3116, 'Barnes Foundation'], [3117, 'ParkWest Town Center'], [3118, '46th Street Station, MFL'], [3119, '42nd & Lancaster'], [3120, '31st & Girard'], [3121, '27th & Girard'], [3122, '24th & Cecil B. Moore, Cecil B. Moore Library'], [3123, '22nd & Cecil B. Moore'], [3124, 'Race Street Pier'], [3125, '15th & South'], [3129, \"The Children's Hospital of Philadelphia, Osler Circle\"], [3150, '15th & Castle, DiSilvestro Playground'], [3152, '40th & Baltimore, Trolley Portal'], [3153, 'Thompson & Palmer, Adaire School'], [3154, '12th & Callowhill'], [3155, '7th & Fitzwater'], [3156, '20th & Market'], [3157, '8th & Mifflin, Bok Building'], [3158, 'Broad & Passyunk'], [3159, '38th & Spruce'], [3160, '38th & Market'], [3161, '30th Street Station East'], [3162, '27th & South'], [3163, '25th & Locust'], [3164, '12th & Passyunk'], [3165, '24th & Race SRT'], [3168, '20th & Sansom'], [3169, '2nd & Race'], [3170, 'Grays Ferry & Pemberton'], [3000, 'Virtual Station'], [3004, 'Municipal Services Building Plaza'], [3005, 'Welcome Park, NPS'], [3006, '40th & Spruce'], [3007, '11th & Pine, Kahn Park'], [3008, 'Temple University Station'], [3009, '33rd & Market'], [3010, '15th & Spruce'], [3011, '38th & Powelton'], [3012, '21st & Catharine'], [3013, '6th & Fairmount'], [3014, '21st & Winter, Franklin Institute'], [3015, '4th & Walnut, NPS'], [3016, '11th & Poplar, John F. Street Community Center'], [3017, '6th & Berks'], [3018, '12th & Filbert'], [3019, '6th & Race'], [3020, 'University City Station'], [3021, '18th & JFK'], [3022, 'Amtrak 30th Street Station'], [3023, 'Rittenhouse Square'], [3024, '43rd & Chester, Clark Park'], [3025, '11th & Washington'], [3026, '2nd & South'], [3027, '40th Street Station, MFL'], [3028, '4th & Bainbridge'], [3029, '36th & Sansom'], [3030, 'Darien & Catharine'], [3031, '13th & Montgomery'], [3032, '23rd & South'], [3033, '10th & Chestnut'], [3034, '11th & Reed'], [3035, 'Dornsife Center'], [3036, '2nd & Germantown'], [3037, 'Pennsylvania Convention Center'], [3038, \"The Children's Hospital of Philadelphia (CHOP)\"], [3039, 'Broad & Girard'], [3040, '17th & Spring Garden'], [3041, 'Girard Station, MFL'], [3043, '18th & Fernon, Aquinas Center'], [3045, '13th & Locust'], [3046, '2nd & Market'], [3047, 'Independence Mall, NPS'], [3049, 'Foglietta Plaza'], [3050, '9th & Arch'], [3051, '23rd & Fairmount'], [3052, '9th & Locust'], [3053, 'Point Breeze & Tasker'], [3054, 'Rodin Museum'], [3055, '8th & Market'], [3056, 'Broad & Oxford'], [3057, 'Philadelphia Museum of Art'], [3058, '20th & Fairmount'], [3059, 'Spring Garden Station, BSL'], [3060, 'Free Library of Philadelphia - Central Library'], [3061, '23rd & Market'], [3062, '24th & Sansom'], [3063, '17th & Pine'], [3064, '18th & Washington, Chew Playground'], [3065, 'Girard & Hutchinson'], [3066, '19th & Lombard'], [3067, '39th & Mt. Vernon, Mantua Haverford Community Center'], [3068, 'Broad & Federal'], [3069, '4th & Christian'], [3070, 'Spring Garden Station, MFL'], [3071, '32nd & Baring, Drexel Park']]\n"
     ]
    }
   ],
   "source": [
    "\n",
    "unique_station_ids = set(df_bikes['start_station_id'])\n",
    "id_mapped_to_station = []\n",
    "for id in unique_station_ids:\n",
    "    this_station = []\n",
    "    this_station.append(id)\n",
    "    this_station.append(df_bikes.loc[df_bikes['start_station_id'] == id].iloc[0]['start_station_name'])\n",
    "    id_mapped_to_station.append(this_station)\n",
    "print(id_mapped_to_station)"
   ],
   "metadata": {
    "collapsed": false,
    "pycharm": {
     "name": "#%%\n"
    }
   }
  },
  {
   "cell_type": "code",
   "execution_count": 58,
   "outputs": [
    {
     "name": "stdout",
     "output_type": "stream",
     "text": [
      "[4671, 6109, 5370, 5442, 2210, 10960, 10, 5651, 2794, 769, 1602, 980, 2620, 4726, 4370, 6516, 13876, 11746, 1093, 1836, 1167, 1204, 1389, 12986, 1401, 3415, 1689, 4836, 856, 6484, 3155, 48, 878, 2491, 2085, 5451, 5629, 830, 1333, 5165, 10228, 4049, 1660, 782, 1483, 3456, 1268, 5722, 2225, 2876, 4063, 2785, 4520, 3727, 4713, 587, 971, 133, 967, 3632, 110, 9008, 4678, 7819, 12093, 2963, 11425, 23638, 4237, 15337, 4917, 1889, 6550, 751, 1412, 11639, 4096, 16025, 19813, 14381, 24809, 4997, 6626, 8481, 4575, 12760, 11640, 8998, 6067, 16333, 8477, 7846, 5429, 2803, 6734, 10004, 5102, 9955, 4322, 5317, 19209, 9370, 9061, 5583, 7449, 9324, 12295, 8134, 16388, 6202, 8962, 14182, 9958, 8077, 8401, 10227, 6602, 12838, 9207, 1423, 10825, 750, 7740, 6366, 5386, 4391]\n"
     ]
    }
   ],
   "source": [
    "\n",
    "# das noch mit den IDs oder Namen der Stations matchen\n",
    "starting_id_loans = []\n",
    "for id in unique_station_ids:\n",
    "    starting_id_loans.append(sum(1 for i in df_bikes['start_station_id'] if i == id))\n",
    "print(starting_id_loans)"
   ],
   "metadata": {
    "collapsed": false,
    "pycharm": {
     "name": "#%%\n"
    }
   }
  },
  {
   "cell_type": "code",
   "execution_count": 59,
   "outputs": [
    {
     "name": "stdout",
     "output_type": "stream",
     "text": [
      "[4671, 6109, 5370, 5442, 2210, 10960, 10, 5651, 2794, 769, 1602, 980, 2620, 4726, 4370, 6516, 13876, 11746, 1093, 1836, 1167, 1204, 1389, 12986, 1401, 3415, 1689, 4836, 856, 6484, 3155, 48, 878, 2491, 2085, 5451, 5629, 830, 1333, 5165, 10228, 4049, 1660, 782, 1483, 3456, 1268, 5722, 2225, 2876, 4063, 2785, 4520, 3727, 4713, 587, 971, 133, 967, 3632, 110, 9008, 4678, 7819, 12093, 2963, 11425, 23638, 4237, 15337, 4917, 1889, 6550, 751, 1412, 11639, 4096, 16025, 19813, 14381, 24809, 4997, 6626, 8481, 4575, 12760, 11640, 8998, 6067, 16333, 8477, 7846, 5429, 2803, 6734, 10004, 5102, 9955, 4322, 5317, 19209, 9370, 9061, 5583, 7449, 9324, 12295, 8134, 16388, 6202, 8962, 14182, 9958, 8077, 8401, 10227, 6602, 12838, 9207, 1423, 10825, 750, 7740, 6366, 5386, 4391]\n"
     ]
    }
   ],
   "source": [
    "\n",
    "# das noch mit den IDs oder Namen der Stations matchen\n",
    "ending_id_loans = []\n",
    "for id in unique_station_ids:\n",
    "    ending_id_loans.append(sum(1 for i in df_bikes['end_station_id'] if i == id))\n",
    "print(starting_id_loans)"
   ],
   "metadata": {
    "collapsed": false,
    "pycharm": {
     "name": "#%%\n"
    }
   }
  },
  {
   "cell_type": "code",
   "execution_count": 60,
   "outputs": [
    {
     "data": {
      "text/plain": "Text(0, 0.5, 'EndID')"
     },
     "execution_count": 60,
     "metadata": {},
     "output_type": "execute_result"
    },
    {
     "data": {
      "text/plain": "<Figure size 432x288 with 1 Axes>",
      "image/png": "[encoded data removed]"
     },
     "metadata": {
      "needs_background": "light"
     },
     "output_type": "display_data"
    }
   ],
   "source": [
    "\n",
    "# just tested\n",
    "fig, scplot_ids = plt.subplots(nrows=1,ncols=1)\n",
    "scplot_ids.scatter(df_bikes['start_station_id'],df_bikes['end_station_id'],s=3)\n",
    "scplot_ids.set_title(\"StartID - EndID Scatterplot\",fontsize=16)\n",
    "scplot_ids.set_xlabel(\"StartID\")\n",
    "scplot_ids.set_ylabel(\"EndID\")\n",
    "#scplot_ids.show()"
   ],
   "metadata": {
    "collapsed": false,
    "pycharm": {
     "name": "#%%\n"
    }
   }
  },
  {
   "cell_type": "markdown",
   "source": [
    "## KPI Utilization"
   ],
   "metadata": {
    "collapsed": false,
    "pycharm": {
     "name": "#%% md\n"
    }
   }
  },
  {
   "cell_type": "code",
   "execution_count": 61,
   "outputs": [
    {
     "data": {
      "text/plain": "Indego30      667066\nWalkUp        100233\nIndegoFlex      6029\nOneDayPass      6326\nTwoDayPass      1603\nIndego365       6839\ndtype: int64"
     },
     "execution_count": 61,
     "metadata": {},
     "output_type": "execute_result"
    }
   ],
   "source": [
    "\n",
    "#lists up all possible user types\n",
    "\n",
    "#Note:\n",
    "#Because we are working in 2021 with this dataset, some passes have changed. We got our Information\n",
    "#from the official Indego Website so we derived that the 2017 user type 'Walk-up' is equivalent\n",
    "#to the 2021 'Guest Pass'.\n",
    "#Furthermore the user types 'IndegoFlex', 'OneDayPass' and 'TwoDayPass' do not exist any more in\n",
    "#2021. Due to the low amount of loans of these user types we decided to drop them and focus on the\n",
    "#more relevant user types which still exist and have significant more loans.\n",
    "\n",
    "sumIndego30 = sum(1 for i in df_bikes[\"user_type\"] if i == 'Indego30')\n",
    "sumWalkUp = sum(1 for i in df_bikes[\"user_type\"] if i == 'Walk-up')\n",
    "sumIndegoFlex = sum(1 for i in df_bikes[\"user_type\"] if i == 'IndegoFlex')\n",
    "sumOneDayPass = sum(1 for i in df_bikes[\"user_type\"] if i == 'One Day Pass')\n",
    "sumTwoDayPass = sum(1 for i in df_bikes[\"user_type\"] if i == 'Two Day Pass')\n",
    "sumIndego365 = sum(1 for i in df_bikes[\"user_type\"] if i == 'Indego365')\n",
    "\n",
    "\n",
    "user_type_dict = {'Indego30': sumIndego30,\n",
    "                  'WalkUp': sumWalkUp,\n",
    "                  'IndegoFlex': sumIndegoFlex,\n",
    "                  'OneDayPass': sumOneDayPass,\n",
    "                  'TwoDayPass': sumTwoDayPass,\n",
    "                  'Indego365': sumIndego365\n",
    "                 }\n",
    "user_type = pd.Series(user_type_dict)\n",
    "user_type\n"
   ],
   "metadata": {
    "collapsed": false,
    "pycharm": {
     "name": "#%%\n"
    }
   }
  },
  {
   "cell_type": "code",
   "execution_count": 62,
   "outputs": [
    {
     "name": "stdout",
     "output_type": "stream",
     "text": [
      "1250\n"
     ]
    }
   ],
   "source": [
    "\n",
    "#Wert müsste ungefähr passen. Laut Internetseite von Indego haben die seit 2019 1400 Fahrräder in der Flotte.\n",
    "\n",
    "unique_bike_id = set(df_bikes['bike_id'])\n",
    "\n",
    "print(len(unique_bike_id))"
   ],
   "metadata": {
    "collapsed": false,
    "pycharm": {
     "name": "#%%\n"
    }
   }
  },
  {
   "cell_type": "code",
   "execution_count": 63,
   "outputs": [
    {
     "name": "stdout",
     "output_type": "stream",
     "text": [
      "622\n"
     ]
    }
   ],
   "source": [
    "\n",
    "#sums up the number of loans of one specific bike in the dataset within 2017 (type in bike ID)\n",
    "def calc_unique_bike_amount_rides(v):\n",
    "    unique_bike_amount_rides = sum(1 for i in df_bikes[\"bike_id\"] if i == v)\n",
    "    return print(unique_bike_amount_rides)\n",
    "\n",
    "calc_unique_bike_amount_rides(2536)\n"
   ],
   "metadata": {
    "collapsed": false,
    "pycharm": {
     "name": "#%%\n"
    }
   }
  },
  {
   "cell_type": "code",
   "execution_count": 64,
   "outputs": [
    {
     "data": {
      "text/plain": "1.2"
     },
     "execution_count": 64,
     "metadata": {},
     "output_type": "execute_result"
    }
   ],
   "source": [
    "# Type in the parameters to get the utilization in % at this point of time.\n",
    "# Regarding to the unique bike id's Indego had 1250 bikes in his fleet in 2017.\n",
    "def utilization(year, month, day, hour, minute):\n",
    "    point_of_time = datetime(year, month, day, hour, minute)\n",
    "    df_smaller_pot = df_bikes[df_bikes[\"start_time\"] < point_of_time]\n",
    "    df_greater_pot = df_smaller_pot[df_smaller_pot[\"end_time\"] > point_of_time]\n",
    "    util = (len(df_greater_pot) / 1250) *100\n",
    "    return util\n",
    "\n",
    "# test\n",
    "utilization(2017, 1, 3, 12, 30)"
   ],
   "metadata": {
    "collapsed": false,
    "pycharm": {
     "name": "#%%\n"
    }
   }
  },
  {
   "cell_type": "code",
   "execution_count": 65,
   "outputs": [
    {
     "data": {
      "text/plain": "98.8"
     },
     "execution_count": 65,
     "metadata": {},
     "output_type": "execute_result"
    }
   ],
   "source": [
    "#type in the parameters to get the percentage of available bikes at this point of time\n",
    "def available_bikes(year, month, day, hour, minute):\n",
    "    point_of_time = datetime(year, month, day, hour, minute)\n",
    "    df_smaller_pot = df_bikes[df_bikes[\"start_time\"] < point_of_time]\n",
    "    df_greater_pot = df_smaller_pot[df_smaller_pot[\"end_time\"] > point_of_time]\n",
    "    avlbl = ((1250 - len(df_greater_pot)) / 1250) *100\n",
    "    return avlbl\n",
    "\n",
    "# test\n",
    "available_bikes(2017, 1, 3, 12, 30)"
   ],
   "metadata": {
    "collapsed": false,
    "pycharm": {
     "name": "#%%\n"
    }
   }
  },
  {
   "cell_type": "code",
   "execution_count": 66,
   "outputs": [
    {
     "name": "stdout",
     "output_type": "stream",
     "text": [
      "[0.88, 0.88, 0.96, 0.88, 0.88, 0.88, 1.04, 1.04, 1.04, 1.04, 1.04, 1.1199999999999999, 1.2, 1.28, 1.28, 1.28, 1.28, 1.28, 0.96, 0.96, 1.1199999999999999, 1.1199999999999999, 1.1199999999999999, 1.2, 1.3599999999999999, 1.28, 1.1199999999999999, 1.28, 1.52, 1.3599999999999999, 1.2, 1.1199999999999999, 1.2, 1.3599999999999999, 1.44, 1.52, 1.52, 1.44, 1.52, 1.52, 1.52, 1.44, 1.1199999999999999, 1.2, 1.3599999999999999, 1.04, 1.04, 0.96, 1.1199999999999999, 1.2, 1.3599999999999999, 1.28, 1.28, 1.3599999999999999, 1.3599999999999999, 1.1199999999999999, 1.2, 1.44, 1.52, 1.44]\n",
      "1.52\n"
     ]
    }
   ],
   "source": [
    "\n",
    "#creates an array containing the utilization of every minute within one hour\n",
    "util_arr = []\n",
    "for i in range(0, 60):\n",
    "    util_arr.append(utilization(2017, 1, 3, 12, i))\n",
    "print(util_arr)\n",
    "print(max(util_arr))"
   ],
   "metadata": {
    "collapsed": false,
    "pycharm": {
     "name": "#%%\n"
    }
   }
  },
  {
   "cell_type": "code",
   "execution_count": 67,
   "outputs": [
    {
     "data": {
      "text/plain": "1.52"
     },
     "execution_count": 67,
     "metadata": {},
     "output_type": "execute_result"
    }
   ],
   "source": [
    "def calc_util_percentage(month, day, hour):\n",
    "    util_arr = []\n",
    "    max_util = utilization(2017, month, day, hour, 0)\n",
    "    for i in range(1, 60):\n",
    "        if max_util < utilization(2017, month, day, hour, i):\n",
    "            max_util = utilization(2017, month, day, hour, i)\n",
    "    return max_util\n",
    "\n",
    "# test\n",
    "calc_util_percentage(1, 3, 12)"
   ],
   "metadata": {
    "collapsed": false,
    "pycharm": {
     "name": "#%%\n"
    }
   }
  },
  {
   "cell_type": "code",
   "execution_count": 169,
   "outputs": [
    {
     "data": {
      "text/plain": "<Figure size 432x288 with 1 Axes>",
      "image/png": "[encoded data removed]"
     },
     "metadata": {
      "needs_background": "light"
     },
     "output_type": "display_data"
    }
   ],
   "source": [
    "\n",
    "# method to plot the hourly maximum percentage of loan bikes for one month\n",
    "# type in the month as number(1-12)\n",
    "def hourly_loans(m):\n",
    "    hourly_util = datetime(2017, m, 1, 0)\n",
    "    add_hour = timedelta(hours=1)\n",
    "\n",
    "    if m == 1 or 3 or 5 or 7 or 8 or 10 or 12:\n",
    "        h = 31\n",
    "    elif m == 2:\n",
    "        h = 28\n",
    "    else:\n",
    "        h = 30\n",
    "\n",
    "    shorter_df = df_bikes[df_bikes[\"start_time\"] >= hourly_util]\n",
    "\n",
    "\n",
    "    def utilization_h(year, month, day, hour, minute):\n",
    "        point_of_time = datetime(year, month, day, hour, minute)\n",
    "        df_smaller_pot = shorter_df[shorter_df[\"start_time\"] < point_of_time]\n",
    "        df_greater_pot = df_smaller_pot[df_smaller_pot[\"end_time\"] > point_of_time]\n",
    "        util = (len(df_greater_pot) / 1250) *100\n",
    "        return util\n",
    "\n",
    "    def calc_util_percentage_h(month, day, hour):\n",
    "        max_util = utilization_h(2017, month, day, hour, 0)\n",
    "        for i in range(1, 60):\n",
    "            if max_util < utilization_h(2017, month, day, hour, i):\n",
    "                max_util = utilization_h(2017, month, day, hour, i)\n",
    "        return max_util\n",
    "\n",
    "\n",
    "    util_percentage = []\n",
    "    for i in range(0, h*24):\n",
    "        util_percentage.append(calc_util_percentage_h(hourly_util.month, hourly_util.day, hourly_util.hour))\n",
    "        hourly_util += add_hour\n",
    "\n",
    "    x_util = range(0, h*24)\n",
    "    y_util = util_percentage\n",
    "    plt.xlabel('Hours')\n",
    "    plt.ylabel('Utilization in %')\n",
    "    plt.plot(x_util, y_util)\n",
    "    plt.savefig('UtilPercent07.png')\n",
    "\n",
    "hourly_loans(7)\n"
   ],
   "metadata": {
    "collapsed": false,
    "pycharm": {
     "name": "#%%\n"
    }
   }
  },
  {
   "cell_type": "code",
   "execution_count": null,
   "outputs": [],
   "source": [
    "# just for testing\n",
    "\n",
    "jan_util = datetime(2017, 1, 1, 0)\n",
    "add_hour = timedelta(hours=1)\n",
    "\n",
    "util_percentage_jan = []\n",
    "for i in range(0, 744):\n",
    "    util_percentage_jan.append(calc_util_percentage(jan_util.month, jan_util.day, jan_util.hour))\n",
    "    jan_util += add_hour\n",
    "\n",
    "# test\n",
    "util_percentage_jan.__len__()\n",
    "\n"
   ],
   "metadata": {
    "collapsed": false,
    "pycharm": {
     "name": "#%%\n"
    }
   }
  },
  {
   "cell_type": "code",
   "execution_count": 105,
   "outputs": [],
   "source": [
    "# just another tests\n",
    "\n",
    "feb_util = datetime(2017, 2, 1, 0)\n",
    "\n",
    "util_percentage_feb = []\n",
    "for i in range(0, 672):\n",
    "    util_percentage_feb.append(calc_util_percentage(feb_util.month, feb_util.day, feb_util.hour))\n",
    "    feb_util += add_hour\n",
    "\n",
    "\n",
    "mar_util = datetime(2017, 2, 1, 0)\n",
    "\n",
    "util_percentage_mar = []\n",
    "for i in range(0, 672):\n",
    "    util_percentage_mar.append(calc_util_percentage(mar_util.month, mar_util.day, mar_util.hour))\n",
    "    mar_util += add_hour\n"
   ],
   "metadata": {
    "collapsed": false,
    "pycharm": {
     "name": "#%%\n"
    }
   }
  },
  {
   "cell_type": "code",
   "execution_count": 106,
   "outputs": [
    {
     "data": {
      "text/plain": "[<matplotlib.lines.Line2D at 0x408b24d8>]"
     },
     "execution_count": 106,
     "metadata": {},
     "output_type": "execute_result"
    },
    {
     "data": {
      "text/plain": "<Figure size 432x288 with 1 Axes>",
      "image/png": "[encoded data removed]"
     },
     "metadata": {
      "needs_background": "light"
     },
     "output_type": "display_data"
    }
   ],
   "source": [],
   "metadata": {
    "collapsed": false,
    "pycharm": {
     "name": "#%%\n"
    }
   }
  },
  {
   "cell_type": "code",
   "execution_count": 70,
   "outputs": [
    {
     "data": {
      "text/plain": "1426"
     },
     "execution_count": 70,
     "metadata": {},
     "output_type": "execute_result"
    }
   ],
   "source": [
    "#sums up all loans for one entire day in 2017\n",
    "def loans_per_day(month, day):\n",
    "    day_in_2017_start = datetime(2017, month, day, 0, 0)\n",
    "    day_in_2017_end = datetime(2017, month, day, 23, 59)\n",
    "    df_day_start = df_bikes[df_bikes[\"start_time\"] >= day_in_2017_start]\n",
    "    df_day_end = df_day_start[df_day_start[\"start_time\"] <= day_in_2017_end]\n",
    "    return len(df_day_end)\n",
    "\n",
    "loans_per_day(1, 26)"
   ],
   "metadata": {
    "collapsed": false,
    "pycharm": {
     "name": "#%%\n"
    }
   }
  },
  {
   "cell_type": "code",
   "execution_count": 71,
   "outputs": [
    {
     "name": "stdout",
     "output_type": "stream",
     "text": [
      "[856, 1510, 1854, 0, 0, 0, 0, 0, 0, 0, 0, 0, 1397, 621, 772, 1017, 1026, 1485, 1612, 1229, 1206, 641, 536, 1111, 1686, 1426, 1347, 827, 806, 1268]\n"
     ]
    }
   ],
   "source": [
    "\n",
    "#creates an array containing the total number of loans for one entire day for one month\n",
    "month_arr = []\n",
    "for i in range(1, 31):\n",
    "    month_arr.append(loans_per_day(1, i))\n",
    "print(month_arr)\n"
   ],
   "metadata": {
    "collapsed": false,
    "pycharm": {
     "name": "#%%\n"
    }
   }
  },
  {
   "cell_type": "code",
   "execution_count": 72,
   "outputs": [
    {
     "data": {
      "text/plain": "[<matplotlib.lines.Line2D at 0x404cdbf8>]"
     },
     "execution_count": 72,
     "metadata": {},
     "output_type": "execute_result"
    },
    {
     "data": {
      "text/plain": "<Figure size 432x288 with 1 Axes>",
      "image/png": "[encoded data removed]"
     },
     "metadata": {
      "needs_background": "light"
     },
     "output_type": "display_data"
    }
   ],
   "source": [
    "\n",
    "#total number of loans for one entire day for one month as lineplot\n",
    "x = range(1, 31)\n",
    "y = month_arr\n",
    "plt.plot(x, y)"
   ],
   "metadata": {
    "collapsed": false,
    "pycharm": {
     "name": "#%%\n"
    }
   }
  },
  {
   "cell_type": "markdown",
   "source": [
    "## KPI: Profit"
   ],
   "metadata": {
    "collapsed": false,
    "pycharm": {
     "name": "#%% md\n"
    }
   }
  },
  {
   "cell_type": "code",
   "execution_count": 73,
   "outputs": [
    {
     "name": "stderr",
     "output_type": "stream",
     "text": [
      "<ipython-input-73-9156384df2a4>:18: SettingWithCopyWarning: \n",
      "A value is trying to be set on a copy of a slice from a DataFrame.\n",
      "Try using .loc[row_indexer,col_indexer] = value instead\n",
      "\n",
      "See the caveats in the documentation: https://pandas.pydata.org/pandas-docs/stable/user_guide/indexing.html#returning-a-view-versus-a-copy\n",
      "  df_one_day_more_than_30_mins['overtime'] = df_one_day_more_than_30_mins['ride_duration_minutes'] - minutes30\n",
      "<ipython-input-73-9156384df2a4>:20: SettingWithCopyWarning: \n",
      "A value is trying to be set on a copy of a slice from a DataFrame.\n",
      "Try using .loc[row_indexer,col_indexer] = value instead\n",
      "\n",
      "See the caveats in the documentation: https://pandas.pydata.org/pandas-docs/stable/user_guide/indexing.html#returning-a-view-versus-a-copy\n",
      "  df_one_day_more_than_30_mins['costs_overtime'] = df_one_day_more_than_30_mins['overtime'].apply(lambda x: (x.total_seconds() / 60) * 0.15)\n"
     ]
    },
    {
     "data": {
      "text/plain": "                start_time            end_time  start_station_id  \\\n327848 2017-06-30 20:34:00 2017-06-30 21:40:00              3057   \n328487 2017-07-01 08:35:00 2017-07-01 12:07:00              3029   \n328951 2017-07-01 12:39:00 2017-07-01 13:11:00              3074   \n329061 2017-07-01 13:24:00 2017-07-01 16:13:00              3061   \n329174 2017-07-01 14:11:00 2017-07-01 14:52:00              3050   \n\n        end_station_id  bike_id     user_type          start_station_name  \\\n327848            3045     2690  One Day Pass  Philadelphia Museum of Art   \n328487            3029     5212  One Day Pass               36th & Sansom   \n328951            3061     2588  One Day Pass               44th & Walnut   \n329061            3006     2588  One Day Pass               23rd & Market   \n329174            3058     2682  One Day Pass                  9th & Arch   \n\n        end_station_name ride_duration_minutes  temperature  precip  weekday  \\\n327848     13th & Locust       0 days 01:06:00        33.30     0.0        4   \n328487     36th & Sansom       0 days 03:32:00        25.60     0.0        5   \n328951     23rd & Market       0 days 00:32:00        25.85     0.0        5   \n329061     40th & Spruce       0 days 02:49:00        27.75     0.0        5   \n329174  20th & Fairmount       0 days 00:41:00        27.75     0.0        5   \n\n        is_weekday        overtime  costs_overtime  \n327848           1 0 days 00:36:00            5.40  \n328487           0 0 days 03:02:00           27.30  \n328951           0 0 days 00:02:00            0.30  \n329061           0 0 days 02:19:00           20.85  \n329174           0 0 days 00:11:00            1.65  ",
      "text/html": "<div>\n<style scoped>\n    .dataframe tbody tr th:only-of-type {\n        vertical-align: middle;\n    }\n\n    .dataframe tbody tr th {\n        vertical-align: top;\n    }\n\n    .dataframe thead th {\n        text-align: right;\n    }\n</style>\n<table border=\"1\" class=\"dataframe\">\n  <thead>\n    <tr style=\"text-align: right;\">\n      <th></th>\n      <th>start_time</th>\n      <th>end_time</th>\n      <th>start_station_id</th>\n      <th>end_station_id</th>\n      <th>bike_id</th>\n      <th>user_type</th>\n      <th>start_station_name</th>\n      <th>end_station_name</th>\n      <th>ride_duration_minutes</th>\n      <th>temperature</th>\n      <th>precip</th>\n      <th>weekday</th>\n      <th>is_weekday</th>\n      <th>overtime</th>\n      <th>costs_overtime</th>\n    </tr>\n  </thead>\n  <tbody>\n    <tr>\n      <th>327848</th>\n      <td>2017-06-30 20:34:00</td>\n      <td>2017-06-30 21:40:00</td>\n      <td>3057</td>\n      <td>3045</td>\n      <td>2690</td>\n      <td>One Day Pass</td>\n      <td>Philadelphia Museum of Art</td>\n      <td>13th &amp; Locust</td>\n      <td>0 days 01:06:00</td>\n      <td>33.30</td>\n      <td>0.0</td>\n      <td>4</td>\n      <td>1</td>\n      <td>0 days 00:36:00</td>\n      <td>5.40</td>\n    </tr>\n    <tr>\n      <th>328487</th>\n      <td>2017-07-01 08:35:00</td>\n      <td>2017-07-01 12:07:00</td>\n      <td>3029</td>\n      <td>3029</td>\n      <td>5212</td>\n      <td>One Day Pass</td>\n      <td>36th &amp; Sansom</td>\n      <td>36th &amp; Sansom</td>\n      <td>0 days 03:32:00</td>\n      <td>25.60</td>\n      <td>0.0</td>\n      <td>5</td>\n      <td>0</td>\n      <td>0 days 03:02:00</td>\n      <td>27.30</td>\n    </tr>\n    <tr>\n      <th>328951</th>\n      <td>2017-07-01 12:39:00</td>\n      <td>2017-07-01 13:11:00</td>\n      <td>3074</td>\n      <td>3061</td>\n      <td>2588</td>\n      <td>One Day Pass</td>\n      <td>44th &amp; Walnut</td>\n      <td>23rd &amp; Market</td>\n      <td>0 days 00:32:00</td>\n      <td>25.85</td>\n      <td>0.0</td>\n      <td>5</td>\n      <td>0</td>\n      <td>0 days 00:02:00</td>\n      <td>0.30</td>\n    </tr>\n    <tr>\n      <th>329061</th>\n      <td>2017-07-01 13:24:00</td>\n      <td>2017-07-01 16:13:00</td>\n      <td>3061</td>\n      <td>3006</td>\n      <td>2588</td>\n      <td>One Day Pass</td>\n      <td>23rd &amp; Market</td>\n      <td>40th &amp; Spruce</td>\n      <td>0 days 02:49:00</td>\n      <td>27.75</td>\n      <td>0.0</td>\n      <td>5</td>\n      <td>0</td>\n      <td>0 days 02:19:00</td>\n      <td>20.85</td>\n    </tr>\n    <tr>\n      <th>329174</th>\n      <td>2017-07-01 14:11:00</td>\n      <td>2017-07-01 14:52:00</td>\n      <td>3050</td>\n      <td>3058</td>\n      <td>2682</td>\n      <td>One Day Pass</td>\n      <td>9th &amp; Arch</td>\n      <td>20th &amp; Fairmount</td>\n      <td>0 days 00:41:00</td>\n      <td>27.75</td>\n      <td>0.0</td>\n      <td>5</td>\n      <td>0</td>\n      <td>0 days 00:11:00</td>\n      <td>1.65</td>\n    </tr>\n  </tbody>\n</table>\n</div>"
     },
     "execution_count": 73,
     "metadata": {},
     "output_type": "execute_result"
    }
   ],
   "source": [
    "#Notes:\n",
    "# Prices from Indego's official website from 2021 for the user types OneDayPass, TwoDayPass, Indego30 and Indego365.\n",
    "# For the user types Walk-up and IndegoFlex we took the official Indego prices for 2015. The price for Walk-up is 4$\n",
    "# for every beginning 30 minutes. For IndegoFlex it is 4$ for every beginning 60 minutes.\n",
    "# The four following mentioned calculations just contain the profit from overdrafts of the loans for user type OneDayPass\n",
    "# (we assume that the 2021 Guest Pass is based on the user types OneDayPass and TwoDayPass - the cost for overtime are\n",
    "# 15¢/minute for rides over 30 minutes) and the user types Indego30 and Indego365 (15¢/minute for rides over 60 minutes).\n",
    "# Of course the biggest profit of OneDayPass, TwoDayPass, Indego30 and Indego 365 is made from selling passes but we do\n",
    "# not have any information about the amount of sold passes so we focused on profit from overdrafts.\n",
    "\n",
    "\n",
    "# profit from overtime loans of usertype OneDayPass\n",
    "\n",
    "minutes30 = timedelta(minutes=30)\n",
    "\n",
    "df_one_day = df_bikes[df_bikes['user_type'] == 'One Day Pass']\n",
    "df_one_day_more_than_30_mins = df_one_day[df_one_day['ride_duration_minutes'] > minutes30]\n",
    "df_one_day_more_than_30_mins['overtime'] = df_one_day_more_than_30_mins['ride_duration_minutes'] - minutes30\n",
    "\n",
    "df_one_day_more_than_30_mins['costs_overtime'] = df_one_day_more_than_30_mins['overtime'].apply(lambda x: (x.total_seconds() / 60) * 0.15)\n",
    "\n",
    "df_one_day_more_than_30_mins.head()"
   ],
   "metadata": {
    "collapsed": false,
    "pycharm": {
     "name": "#%%\n"
    }
   }
  },
  {
   "cell_type": "code",
   "execution_count": 74,
   "outputs": [
    {
     "name": "stdout",
     "output_type": "stream",
     "text": [
      "12916.499999999995\n"
     ]
    }
   ],
   "source": [
    "# total sum of all  overtime loans of usertype OneDayPass\n",
    "sum_one_day_Overtime_Profit = sum(df_one_day_more_than_30_mins['costs_overtime'].apply(lambda x: x))\n",
    "print(sum_one_day_Overtime_Profit)"
   ],
   "metadata": {
    "collapsed": false,
    "pycharm": {
     "name": "#%%\n"
    }
   }
  },
  {
   "cell_type": "code",
   "execution_count": 75,
   "outputs": [
    {
     "name": "stderr",
     "output_type": "stream",
     "text": [
      "<ipython-input-75-7f959b0ba5cc>:5: SettingWithCopyWarning: \n",
      "A value is trying to be set on a copy of a slice from a DataFrame.\n",
      "Try using .loc[row_indexer,col_indexer] = value instead\n",
      "\n",
      "See the caveats in the documentation: https://pandas.pydata.org/pandas-docs/stable/user_guide/indexing.html#returning-a-view-versus-a-copy\n",
      "  df_two_day_more_than_30_mins['overtime'] = df_two_day_more_than_30_mins['ride_duration_minutes'] - minutes30\n",
      "<ipython-input-75-7f959b0ba5cc>:7: SettingWithCopyWarning: \n",
      "A value is trying to be set on a copy of a slice from a DataFrame.\n",
      "Try using .loc[row_indexer,col_indexer] = value instead\n",
      "\n",
      "See the caveats in the documentation: https://pandas.pydata.org/pandas-docs/stable/user_guide/indexing.html#returning-a-view-versus-a-copy\n",
      "  df_two_day_more_than_30_mins['costs_overtime'] = df_two_day_more_than_30_mins['overtime'].apply(lambda x: (x.total_seconds() / 60) * 0.15)\n"
     ]
    },
    {
     "data": {
      "text/plain": "                start_time            end_time  start_station_id  \\\n426531 2017-08-03 09:50:00 2017-08-03 15:16:00              3023   \n427254 2017-08-03 15:24:00 2017-08-03 16:04:00              3057   \n430049 2017-08-04 10:42:00 2017-08-04 12:07:00              3018   \n430153 2017-08-04 11:28:00 2017-08-04 13:53:00              3023   \n430261 2017-08-04 12:09:00 2017-08-04 13:28:00              3020   \n\n        end_station_id  bike_id     user_type          start_station_name  \\\n426531            3023     5206  Two Day Pass          Rittenhouse Square   \n427254            3101    11775  Two Day Pass  Philadelphia Museum of Art   \n430049            3020    11023  Two Day Pass              12th & Filbert   \n430153            3023     5373  Two Day Pass          Rittenhouse Square   \n430261            3020     3375  Two Day Pass     University City Station   \n\n               end_station_name ride_duration_minutes  temperature  precip  \\\n426531       Rittenhouse Square       0 days 05:26:00         22.2     0.0   \n427254             11th & South       0 days 00:40:00         26.7     0.0   \n430049  University City Station       0 days 01:25:00         22.2     0.0   \n430153       Rittenhouse Square       0 days 02:25:00         23.3     0.0   \n430261  University City Station       0 days 01:19:00         23.3     0.0   \n\n        weekday  is_weekday        overtime  costs_overtime  \n426531        3           1 0 days 04:56:00           44.40  \n427254        3           1 0 days 00:10:00            1.50  \n430049        4           1 0 days 00:55:00            8.25  \n430153        4           1 0 days 01:55:00           17.25  \n430261        4           1 0 days 00:49:00            7.35  ",
      "text/html": "<div>\n<style scoped>\n    .dataframe tbody tr th:only-of-type {\n        vertical-align: middle;\n    }\n\n    .dataframe tbody tr th {\n        vertical-align: top;\n    }\n\n    .dataframe thead th {\n        text-align: right;\n    }\n</style>\n<table border=\"1\" class=\"dataframe\">\n  <thead>\n    <tr style=\"text-align: right;\">\n      <th></th>\n      <th>start_time</th>\n      <th>end_time</th>\n      <th>start_station_id</th>\n      <th>end_station_id</th>\n      <th>bike_id</th>\n      <th>user_type</th>\n      <th>start_station_name</th>\n      <th>end_station_name</th>\n      <th>ride_duration_minutes</th>\n      <th>temperature</th>\n      <th>precip</th>\n      <th>weekday</th>\n      <th>is_weekday</th>\n      <th>overtime</th>\n      <th>costs_overtime</th>\n    </tr>\n  </thead>\n  <tbody>\n    <tr>\n      <th>426531</th>\n      <td>2017-08-03 09:50:00</td>\n      <td>2017-08-03 15:16:00</td>\n      <td>3023</td>\n      <td>3023</td>\n      <td>5206</td>\n      <td>Two Day Pass</td>\n      <td>Rittenhouse Square</td>\n      <td>Rittenhouse Square</td>\n      <td>0 days 05:26:00</td>\n      <td>22.2</td>\n      <td>0.0</td>\n      <td>3</td>\n      <td>1</td>\n      <td>0 days 04:56:00</td>\n      <td>44.40</td>\n    </tr>\n    <tr>\n      <th>427254</th>\n      <td>2017-08-03 15:24:00</td>\n      <td>2017-08-03 16:04:00</td>\n      <td>3057</td>\n      <td>3101</td>\n      <td>11775</td>\n      <td>Two Day Pass</td>\n      <td>Philadelphia Museum of Art</td>\n      <td>11th &amp; South</td>\n      <td>0 days 00:40:00</td>\n      <td>26.7</td>\n      <td>0.0</td>\n      <td>3</td>\n      <td>1</td>\n      <td>0 days 00:10:00</td>\n      <td>1.50</td>\n    </tr>\n    <tr>\n      <th>430049</th>\n      <td>2017-08-04 10:42:00</td>\n      <td>2017-08-04 12:07:00</td>\n      <td>3018</td>\n      <td>3020</td>\n      <td>11023</td>\n      <td>Two Day Pass</td>\n      <td>12th &amp; Filbert</td>\n      <td>University City Station</td>\n      <td>0 days 01:25:00</td>\n      <td>22.2</td>\n      <td>0.0</td>\n      <td>4</td>\n      <td>1</td>\n      <td>0 days 00:55:00</td>\n      <td>8.25</td>\n    </tr>\n    <tr>\n      <th>430153</th>\n      <td>2017-08-04 11:28:00</td>\n      <td>2017-08-04 13:53:00</td>\n      <td>3023</td>\n      <td>3023</td>\n      <td>5373</td>\n      <td>Two Day Pass</td>\n      <td>Rittenhouse Square</td>\n      <td>Rittenhouse Square</td>\n      <td>0 days 02:25:00</td>\n      <td>23.3</td>\n      <td>0.0</td>\n      <td>4</td>\n      <td>1</td>\n      <td>0 days 01:55:00</td>\n      <td>17.25</td>\n    </tr>\n    <tr>\n      <th>430261</th>\n      <td>2017-08-04 12:09:00</td>\n      <td>2017-08-04 13:28:00</td>\n      <td>3020</td>\n      <td>3020</td>\n      <td>3375</td>\n      <td>Two Day Pass</td>\n      <td>University City Station</td>\n      <td>University City Station</td>\n      <td>0 days 01:19:00</td>\n      <td>23.3</td>\n      <td>0.0</td>\n      <td>4</td>\n      <td>1</td>\n      <td>0 days 00:49:00</td>\n      <td>7.35</td>\n    </tr>\n  </tbody>\n</table>\n</div>"
     },
     "execution_count": 75,
     "metadata": {},
     "output_type": "execute_result"
    }
   ],
   "source": [
    "# profit from overtime loans of usertype TwoDayPass\n",
    "\n",
    "df_two_day = df_bikes[df_bikes['user_type'] == 'Two Day Pass']\n",
    "df_two_day_more_than_30_mins = df_two_day[df_two_day['ride_duration_minutes'] > minutes30]\n",
    "df_two_day_more_than_30_mins['overtime'] = df_two_day_more_than_30_mins['ride_duration_minutes'] - minutes30\n",
    "\n",
    "df_two_day_more_than_30_mins['costs_overtime'] = df_two_day_more_than_30_mins['overtime'].apply(lambda x: (x.total_seconds() / 60) * 0.15)\n",
    "\n",
    "df_two_day_more_than_30_mins.head()"
   ],
   "metadata": {
    "collapsed": false,
    "pycharm": {
     "name": "#%%\n"
    }
   }
  },
  {
   "cell_type": "code",
   "execution_count": 76,
   "outputs": [
    {
     "name": "stdout",
     "output_type": "stream",
     "text": [
      "1676.5500000000002\n"
     ]
    }
   ],
   "source": [
    "# total sum of all  overtime loans of usertype TwoDayPass\n",
    "sum_two_day_Overtime_Profit = sum(df_two_day_more_than_30_mins['costs_overtime'].apply(lambda x: x))\n",
    "print(sum_two_day_Overtime_Profit)\n"
   ],
   "metadata": {
    "collapsed": false,
    "pycharm": {
     "name": "#%%\n"
    }
   }
  },
  {
   "cell_type": "code",
   "execution_count": 77,
   "outputs": [
    {
     "name": "stderr",
     "output_type": "stream",
     "text": [
      "<ipython-input-77-f87c83ff1ad5>:6: SettingWithCopyWarning: \n",
      "A value is trying to be set on a copy of a slice from a DataFrame.\n",
      "Try using .loc[row_indexer,col_indexer] = value instead\n",
      "\n",
      "See the caveats in the documentation: https://pandas.pydata.org/pandas-docs/stable/user_guide/indexing.html#returning-a-view-versus-a-copy\n",
      "  df_walk_up['duration_to_seconds'] = df_walk_up['ride_duration_minutes'].apply(lambda x: x.total_seconds())\n",
      "<ipython-input-77-f87c83ff1ad5>:7: SettingWithCopyWarning: \n",
      "A value is trying to be set on a copy of a slice from a DataFrame.\n",
      "Try using .loc[row_indexer,col_indexer] = value instead\n",
      "\n",
      "See the caveats in the documentation: https://pandas.pydata.org/pandas-docs/stable/user_guide/indexing.html#returning-a-view-versus-a-copy\n",
      "  df_walk_up['price'] = df_walk_up['duration_to_seconds'].apply(lambda x: (int(math.ceil(x/1800)))*4)\n"
     ]
    },
    {
     "data": {
      "text/plain": "           start_time            end_time  start_station_id  end_station_id  \\\n1 2017-01-01 00:21:00 2017-01-01 00:57:00              3110            3054   \n2 2017-01-01 00:22:00 2017-01-01 00:57:00              3110            3054   \n4 2017-01-01 00:28:00 2017-01-01 00:36:00              3047            3124   \n5 2017-01-01 00:29:00 2017-01-01 00:36:00              3047            3124   \n8 2017-01-01 00:38:00 2017-01-01 00:57:00              3013            3028   \n\n   bike_id user_type           start_station_name  end_station_name  \\\n1     3364   Walk-up  Del. River Trail & Penn St.      Rodin Museum   \n2     2536   Walk-up  Del. River Trail & Penn St.      Rodin Museum   \n4     5370   Walk-up       Independence Mall, NPS  Race Street Pier   \n5     2479   Walk-up       Independence Mall, NPS  Race Street Pier   \n8     3716   Walk-up              6th & Fairmount  4th & Bainbridge   \n\n  ride_duration_minutes  temperature  precip  weekday  is_weekday  \\\n1       0 days 00:36:00          6.1     0.0        6           0   \n2       0 days 00:35:00          6.1     0.0        6           0   \n4       0 days 00:08:00          6.1     0.0        6           0   \n5       0 days 00:07:00          6.1     0.0        6           0   \n8       0 days 00:19:00          6.1     0.0        6           0   \n\n   duration_to_seconds  price  \n1               2160.0      8  \n2               2100.0      8  \n4                480.0      4  \n5                420.0      4  \n8               1140.0      4  ",
      "text/html": "<div>\n<style scoped>\n    .dataframe tbody tr th:only-of-type {\n        vertical-align: middle;\n    }\n\n    .dataframe tbody tr th {\n        vertical-align: top;\n    }\n\n    .dataframe thead th {\n        text-align: right;\n    }\n</style>\n<table border=\"1\" class=\"dataframe\">\n  <thead>\n    <tr style=\"text-align: right;\">\n      <th></th>\n      <th>start_time</th>\n      <th>end_time</th>\n      <th>start_station_id</th>\n      <th>end_station_id</th>\n      <th>bike_id</th>\n      <th>user_type</th>\n      <th>start_station_name</th>\n      <th>end_station_name</th>\n      <th>ride_duration_minutes</th>\n      <th>temperature</th>\n      <th>precip</th>\n      <th>weekday</th>\n      <th>is_weekday</th>\n      <th>duration_to_seconds</th>\n      <th>price</th>\n    </tr>\n  </thead>\n  <tbody>\n    <tr>\n      <th>1</th>\n      <td>2017-01-01 00:21:00</td>\n      <td>2017-01-01 00:57:00</td>\n      <td>3110</td>\n      <td>3054</td>\n      <td>3364</td>\n      <td>Walk-up</td>\n      <td>Del. River Trail &amp; Penn St.</td>\n      <td>Rodin Museum</td>\n      <td>0 days 00:36:00</td>\n      <td>6.1</td>\n      <td>0.0</td>\n      <td>6</td>\n      <td>0</td>\n      <td>2160.0</td>\n      <td>8</td>\n    </tr>\n    <tr>\n      <th>2</th>\n      <td>2017-01-01 00:22:00</td>\n      <td>2017-01-01 00:57:00</td>\n      <td>3110</td>\n      <td>3054</td>\n      <td>2536</td>\n      <td>Walk-up</td>\n      <td>Del. River Trail &amp; Penn St.</td>\n      <td>Rodin Museum</td>\n      <td>0 days 00:35:00</td>\n      <td>6.1</td>\n      <td>0.0</td>\n      <td>6</td>\n      <td>0</td>\n      <td>2100.0</td>\n      <td>8</td>\n    </tr>\n    <tr>\n      <th>4</th>\n      <td>2017-01-01 00:28:00</td>\n      <td>2017-01-01 00:36:00</td>\n      <td>3047</td>\n      <td>3124</td>\n      <td>5370</td>\n      <td>Walk-up</td>\n      <td>Independence Mall, NPS</td>\n      <td>Race Street Pier</td>\n      <td>0 days 00:08:00</td>\n      <td>6.1</td>\n      <td>0.0</td>\n      <td>6</td>\n      <td>0</td>\n      <td>480.0</td>\n      <td>4</td>\n    </tr>\n    <tr>\n      <th>5</th>\n      <td>2017-01-01 00:29:00</td>\n      <td>2017-01-01 00:36:00</td>\n      <td>3047</td>\n      <td>3124</td>\n      <td>2479</td>\n      <td>Walk-up</td>\n      <td>Independence Mall, NPS</td>\n      <td>Race Street Pier</td>\n      <td>0 days 00:07:00</td>\n      <td>6.1</td>\n      <td>0.0</td>\n      <td>6</td>\n      <td>0</td>\n      <td>420.0</td>\n      <td>4</td>\n    </tr>\n    <tr>\n      <th>8</th>\n      <td>2017-01-01 00:38:00</td>\n      <td>2017-01-01 00:57:00</td>\n      <td>3013</td>\n      <td>3028</td>\n      <td>3716</td>\n      <td>Walk-up</td>\n      <td>6th &amp; Fairmount</td>\n      <td>4th &amp; Bainbridge</td>\n      <td>0 days 00:19:00</td>\n      <td>6.1</td>\n      <td>0.0</td>\n      <td>6</td>\n      <td>0</td>\n      <td>1140.0</td>\n      <td>4</td>\n    </tr>\n  </tbody>\n</table>\n</div>"
     },
     "execution_count": 77,
     "metadata": {},
     "output_type": "execute_result"
    }
   ],
   "source": [
    "import math\n",
    "\n",
    "# Calculation for user type 'Walk-up' based on the official 2015 prices of Indego. It costs 4$ every beginning 30 Minutes.\n",
    "\n",
    "df_walk_up = df_bikes[df_bikes['user_type'] == 'Walk-up']\n",
    "df_walk_up['duration_to_seconds'] = df_walk_up['ride_duration_minutes'].apply(lambda x: x.total_seconds())\n",
    "df_walk_up['price'] = df_walk_up['duration_to_seconds'].apply(lambda x: (int(math.ceil(x/1800)))*4)\n",
    "\n",
    "#test\n",
    "df_walk_up.head(5)"
   ],
   "metadata": {
    "collapsed": false,
    "pycharm": {
     "name": "#%%\n"
    }
   }
  },
  {
   "cell_type": "code",
   "execution_count": 78,
   "outputs": [
    {
     "name": "stdout",
     "output_type": "stream",
     "text": [
      "806432\n"
     ]
    }
   ],
   "source": [
    "# total sum of all Walk-up profits\n",
    "\n",
    "sum_Walk_up_profit = sum(df_walk_up['price'].apply(lambda x: x))\n",
    "print(sum_Walk_up_profit)\n"
   ],
   "metadata": {
    "collapsed": false,
    "pycharm": {
     "name": "#%%\n"
    }
   }
  },
  {
   "cell_type": "code",
   "execution_count": 79,
   "outputs": [
    {
     "name": "stderr",
     "output_type": "stream",
     "text": [
      "<ipython-input-79-9a891169e663>:4: SettingWithCopyWarning: \n",
      "A value is trying to be set on a copy of a slice from a DataFrame.\n",
      "Try using .loc[row_indexer,col_indexer] = value instead\n",
      "\n",
      "See the caveats in the documentation: https://pandas.pydata.org/pandas-docs/stable/user_guide/indexing.html#returning-a-view-versus-a-copy\n",
      "  df_flex['duration_to_seconds'] = df_flex['ride_duration_minutes'].apply(lambda x: x.total_seconds())\n",
      "<ipython-input-79-9a891169e663>:5: SettingWithCopyWarning: \n",
      "A value is trying to be set on a copy of a slice from a DataFrame.\n",
      "Try using .loc[row_indexer,col_indexer] = value instead\n",
      "\n",
      "See the caveats in the documentation: https://pandas.pydata.org/pandas-docs/stable/user_guide/indexing.html#returning-a-view-versus-a-copy\n",
      "  df_flex['price'] = df_flex['duration_to_seconds'].apply(lambda x: (int(math.ceil(x/3600)))*4)\n"
     ]
    },
    {
     "data": {
      "text/plain": "             start_time            end_time  start_station_id  end_station_id  \\\n190 2017-01-01 11:39:00 2017-01-01 11:44:00              3012            3114   \n195 2017-01-01 11:42:00 2017-01-01 11:54:00              3054            3125   \n235 2017-01-01 12:26:00 2017-01-01 12:42:00              3037            3014   \n464 2017-01-01 15:22:00 2017-01-01 15:30:00              3068            3010   \n625 2017-01-01 17:27:00 2017-01-01 17:49:00              3010            3099   \n\n     bike_id   user_type              start_station_name  \\\n190     3378  IndegoFlex                21st & Catharine   \n195     5182  IndegoFlex                    Rodin Museum   \n235     5214  IndegoFlex  Pennsylvania Convention Center   \n464    11009  IndegoFlex                 Broad & Federal   \n625     3315  IndegoFlex                   15th & Spruce   \n\n                      end_station_name ride_duration_minutes  temperature  \\\n190                     22nd & Federal       0 days 00:05:00          5.6   \n195                       15th & South       0 days 00:12:00          5.6   \n235  21st & Winter, Franklin Institute       0 days 00:16:00          5.0   \n464                      15th & Spruce       0 days 00:08:00          7.2   \n625                   4th & Washington       0 days 00:22:00          9.4   \n\n     precip  weekday  is_weekday  duration_to_seconds  price  \n190     0.0        6           0                300.0      4  \n195     0.0        6           0                720.0      4  \n235     0.0        6           0                960.0      4  \n464     0.0        6           0                480.0      4  \n625     0.0        6           0               1320.0      4  ",
      "text/html": "<div>\n<style scoped>\n    .dataframe tbody tr th:only-of-type {\n        vertical-align: middle;\n    }\n\n    .dataframe tbody tr th {\n        vertical-align: top;\n    }\n\n    .dataframe thead th {\n        text-align: right;\n    }\n</style>\n<table border=\"1\" class=\"dataframe\">\n  <thead>\n    <tr style=\"text-align: right;\">\n      <th></th>\n      <th>start_time</th>\n      <th>end_time</th>\n      <th>start_station_id</th>\n      <th>end_station_id</th>\n      <th>bike_id</th>\n      <th>user_type</th>\n      <th>start_station_name</th>\n      <th>end_station_name</th>\n      <th>ride_duration_minutes</th>\n      <th>temperature</th>\n      <th>precip</th>\n      <th>weekday</th>\n      <th>is_weekday</th>\n      <th>duration_to_seconds</th>\n      <th>price</th>\n    </tr>\n  </thead>\n  <tbody>\n    <tr>\n      <th>190</th>\n      <td>2017-01-01 11:39:00</td>\n      <td>2017-01-01 11:44:00</td>\n      <td>3012</td>\n      <td>3114</td>\n      <td>3378</td>\n      <td>IndegoFlex</td>\n      <td>21st &amp; Catharine</td>\n      <td>22nd &amp; Federal</td>\n      <td>0 days 00:05:00</td>\n      <td>5.6</td>\n      <td>0.0</td>\n      <td>6</td>\n      <td>0</td>\n      <td>300.0</td>\n      <td>4</td>\n    </tr>\n    <tr>\n      <th>195</th>\n      <td>2017-01-01 11:42:00</td>\n      <td>2017-01-01 11:54:00</td>\n      <td>3054</td>\n      <td>3125</td>\n      <td>5182</td>\n      <td>IndegoFlex</td>\n      <td>Rodin Museum</td>\n      <td>15th &amp; South</td>\n      <td>0 days 00:12:00</td>\n      <td>5.6</td>\n      <td>0.0</td>\n      <td>6</td>\n      <td>0</td>\n      <td>720.0</td>\n      <td>4</td>\n    </tr>\n    <tr>\n      <th>235</th>\n      <td>2017-01-01 12:26:00</td>\n      <td>2017-01-01 12:42:00</td>\n      <td>3037</td>\n      <td>3014</td>\n      <td>5214</td>\n      <td>IndegoFlex</td>\n      <td>Pennsylvania Convention Center</td>\n      <td>21st &amp; Winter, Franklin Institute</td>\n      <td>0 days 00:16:00</td>\n      <td>5.0</td>\n      <td>0.0</td>\n      <td>6</td>\n      <td>0</td>\n      <td>960.0</td>\n      <td>4</td>\n    </tr>\n    <tr>\n      <th>464</th>\n      <td>2017-01-01 15:22:00</td>\n      <td>2017-01-01 15:30:00</td>\n      <td>3068</td>\n      <td>3010</td>\n      <td>11009</td>\n      <td>IndegoFlex</td>\n      <td>Broad &amp; Federal</td>\n      <td>15th &amp; Spruce</td>\n      <td>0 days 00:08:00</td>\n      <td>7.2</td>\n      <td>0.0</td>\n      <td>6</td>\n      <td>0</td>\n      <td>480.0</td>\n      <td>4</td>\n    </tr>\n    <tr>\n      <th>625</th>\n      <td>2017-01-01 17:27:00</td>\n      <td>2017-01-01 17:49:00</td>\n      <td>3010</td>\n      <td>3099</td>\n      <td>3315</td>\n      <td>IndegoFlex</td>\n      <td>15th &amp; Spruce</td>\n      <td>4th &amp; Washington</td>\n      <td>0 days 00:22:00</td>\n      <td>9.4</td>\n      <td>0.0</td>\n      <td>6</td>\n      <td>0</td>\n      <td>1320.0</td>\n      <td>4</td>\n    </tr>\n  </tbody>\n</table>\n</div>"
     },
     "execution_count": 79,
     "metadata": {},
     "output_type": "execute_result"
    }
   ],
   "source": [
    "# Calculation for user type 'IndegoFlex' based on the official 2015 prices of Indego. It costs 4$ every beginning 60 Minutes.\n",
    "\n",
    "df_flex = df_bikes[df_bikes['user_type'] == 'IndegoFlex']\n",
    "df_flex['duration_to_seconds'] = df_flex['ride_duration_minutes'].apply(lambda x: x.total_seconds())\n",
    "df_flex['price'] = df_flex['duration_to_seconds'].apply(lambda x: (int(math.ceil(x/3600)))*4)\n",
    "\n",
    "#test\n",
    "df_flex.head(5)"
   ],
   "metadata": {
    "collapsed": false,
    "pycharm": {
     "name": "#%%\n"
    }
   }
  },
  {
   "cell_type": "code",
   "execution_count": 80,
   "outputs": [
    {
     "name": "stdout",
     "output_type": "stream",
     "text": [
      "28592\n"
     ]
    }
   ],
   "source": [
    "# total sum of all IndegoFlex profits\n",
    "\n",
    "sum_flex_profit = sum(df_flex['price'].apply(lambda x: x))\n",
    "print(sum_flex_profit)\n"
   ],
   "metadata": {
    "collapsed": false,
    "pycharm": {
     "name": "#%%\n"
    }
   }
  },
  {
   "cell_type": "code",
   "execution_count": 81,
   "outputs": [
    {
     "name": "stderr",
     "output_type": "stream",
     "text": [
      "<ipython-input-81-b35ca3b40742>:6: SettingWithCopyWarning: \n",
      "A value is trying to be set on a copy of a slice from a DataFrame.\n",
      "Try using .loc[row_indexer,col_indexer] = value instead\n",
      "\n",
      "See the caveats in the documentation: https://pandas.pydata.org/pandas-docs/stable/user_guide/indexing.html#returning-a-view-versus-a-copy\n",
      "  df_Indego30_more_than_60_mins[\"overtime\"] = df_Indego30_more_than_60_mins[\"ride_duration_minutes\"] - minutes60\n",
      "<ipython-input-81-b35ca3b40742>:8: SettingWithCopyWarning: \n",
      "A value is trying to be set on a copy of a slice from a DataFrame.\n",
      "Try using .loc[row_indexer,col_indexer] = value instead\n",
      "\n",
      "See the caveats in the documentation: https://pandas.pydata.org/pandas-docs/stable/user_guide/indexing.html#returning-a-view-versus-a-copy\n",
      "  df_Indego30_more_than_60_mins[\"costs_overtime\"] = df_Indego30_more_than_60_mins[\"overtime\"].apply(lambda x: (x.total_seconds() / 60) * 0.15)\n"
     ]
    },
    {
     "data": {
      "text/plain": "             start_time            end_time  start_station_id  end_station_id  \\\n60  2017-01-01 02:52:00 2017-01-01 03:56:00              3059            3073   \n106 2017-01-01 09:04:00 2017-01-01 11:34:00              3102            3068   \n152 2017-01-01 10:54:00 2017-01-01 12:32:00              3112            3010   \n249 2017-01-01 12:40:00 2017-01-01 15:46:00              3053            3037   \n573 2017-01-01 16:50:00 2017-01-01 19:53:00              3013            3000   \n\n     bike_id user_type                          start_station_name  \\\n60     11042  Indego30                  Spring Garden Station, BSL   \n106     5254  Indego30  Pennsylvania & Fairmount Perelman Building   \n152     3730  Indego30                               48th & Spruce   \n249     5284  Indego30                       Point Breeze & Tasker   \n573     5312  Indego30                             6th & Fairmount   \n\n                   end_station_name ride_duration_minutes  temperature  \\\n60              9th & Spring Garden       0 days 01:04:00          7.2   \n106                 Broad & Federal       0 days 02:30:00          6.1   \n152                   15th & Spruce       0 days 01:38:00          5.6   \n249  Pennsylvania Convention Center       0 days 03:06:00          5.6   \n573                 Virtual Station       0 days 03:03:00         10.0   \n\n     precip  weekday  is_weekday        overtime  costs_overtime  \n60      0.0        6           0 0 days 00:04:00            0.60  \n106     0.0        6           0 0 days 01:30:00           13.50  \n152     0.0        6           0 0 days 00:38:00            5.70  \n249     0.0        6           0 0 days 02:06:00           18.90  \n573     0.0        6           0 0 days 02:03:00           18.45  ",
      "text/html": "<div>\n<style scoped>\n    .dataframe tbody tr th:only-of-type {\n        vertical-align: middle;\n    }\n\n    .dataframe tbody tr th {\n        vertical-align: top;\n    }\n\n    .dataframe thead th {\n        text-align: right;\n    }\n</style>\n<table border=\"1\" class=\"dataframe\">\n  <thead>\n    <tr style=\"text-align: right;\">\n      <th></th>\n      <th>start_time</th>\n      <th>end_time</th>\n      <th>start_station_id</th>\n      <th>end_station_id</th>\n      <th>bike_id</th>\n      <th>user_type</th>\n      <th>start_station_name</th>\n      <th>end_station_name</th>\n      <th>ride_duration_minutes</th>\n      <th>temperature</th>\n      <th>precip</th>\n      <th>weekday</th>\n      <th>is_weekday</th>\n      <th>overtime</th>\n      <th>costs_overtime</th>\n    </tr>\n  </thead>\n  <tbody>\n    <tr>\n      <th>60</th>\n      <td>2017-01-01 02:52:00</td>\n      <td>2017-01-01 03:56:00</td>\n      <td>3059</td>\n      <td>3073</td>\n      <td>11042</td>\n      <td>Indego30</td>\n      <td>Spring Garden Station, BSL</td>\n      <td>9th &amp; Spring Garden</td>\n      <td>0 days 01:04:00</td>\n      <td>7.2</td>\n      <td>0.0</td>\n      <td>6</td>\n      <td>0</td>\n      <td>0 days 00:04:00</td>\n      <td>0.60</td>\n    </tr>\n    <tr>\n      <th>106</th>\n      <td>2017-01-01 09:04:00</td>\n      <td>2017-01-01 11:34:00</td>\n      <td>3102</td>\n      <td>3068</td>\n      <td>5254</td>\n      <td>Indego30</td>\n      <td>Pennsylvania &amp; Fairmount Perelman Building</td>\n      <td>Broad &amp; Federal</td>\n      <td>0 days 02:30:00</td>\n      <td>6.1</td>\n      <td>0.0</td>\n      <td>6</td>\n      <td>0</td>\n      <td>0 days 01:30:00</td>\n      <td>13.50</td>\n    </tr>\n    <tr>\n      <th>152</th>\n      <td>2017-01-01 10:54:00</td>\n      <td>2017-01-01 12:32:00</td>\n      <td>3112</td>\n      <td>3010</td>\n      <td>3730</td>\n      <td>Indego30</td>\n      <td>48th &amp; Spruce</td>\n      <td>15th &amp; Spruce</td>\n      <td>0 days 01:38:00</td>\n      <td>5.6</td>\n      <td>0.0</td>\n      <td>6</td>\n      <td>0</td>\n      <td>0 days 00:38:00</td>\n      <td>5.70</td>\n    </tr>\n    <tr>\n      <th>249</th>\n      <td>2017-01-01 12:40:00</td>\n      <td>2017-01-01 15:46:00</td>\n      <td>3053</td>\n      <td>3037</td>\n      <td>5284</td>\n      <td>Indego30</td>\n      <td>Point Breeze &amp; Tasker</td>\n      <td>Pennsylvania Convention Center</td>\n      <td>0 days 03:06:00</td>\n      <td>5.6</td>\n      <td>0.0</td>\n      <td>6</td>\n      <td>0</td>\n      <td>0 days 02:06:00</td>\n      <td>18.90</td>\n    </tr>\n    <tr>\n      <th>573</th>\n      <td>2017-01-01 16:50:00</td>\n      <td>2017-01-01 19:53:00</td>\n      <td>3013</td>\n      <td>3000</td>\n      <td>5312</td>\n      <td>Indego30</td>\n      <td>6th &amp; Fairmount</td>\n      <td>Virtual Station</td>\n      <td>0 days 03:03:00</td>\n      <td>10.0</td>\n      <td>0.0</td>\n      <td>6</td>\n      <td>0</td>\n      <td>0 days 02:03:00</td>\n      <td>18.45</td>\n    </tr>\n  </tbody>\n</table>\n</div>"
     },
     "execution_count": 81,
     "metadata": {},
     "output_type": "execute_result"
    }
   ],
   "source": [
    "#profit from overtime loans of usertype Indego30\n",
    "minutes60 = timedelta(minutes=60)\n",
    "\n",
    "df_Indego30 = df_bikes[df_bikes[\"user_type\"] == \"Indego30\"]\n",
    "df_Indego30_more_than_60_mins = df_Indego30[df_Indego30[\"ride_duration_minutes\"] > minutes60]\n",
    "df_Indego30_more_than_60_mins[\"overtime\"] = df_Indego30_more_than_60_mins[\"ride_duration_minutes\"] - minutes60\n",
    "\n",
    "df_Indego30_more_than_60_mins[\"costs_overtime\"] = df_Indego30_more_than_60_mins[\"overtime\"].apply(lambda x: (x.total_seconds() / 60) * 0.15)\n",
    "\n",
    "df_Indego30_more_than_60_mins.head()"
   ],
   "metadata": {
    "collapsed": false,
    "pycharm": {
     "name": "#%%\n"
    }
   }
  },
  {
   "cell_type": "code",
   "execution_count": 82,
   "outputs": [
    {
     "name": "stdout",
     "output_type": "stream",
     "text": [
      "243098.84999999878\n"
     ]
    }
   ],
   "source": [
    "#total sum of all  overtime loans of usertype Indego30\n",
    "sumIndego30OvertimeProfit = sum(df_Indego30_more_than_60_mins[\"costs_overtime\"].apply(lambda x: x))\n",
    "print(sumIndego30OvertimeProfit)"
   ],
   "metadata": {
    "collapsed": false,
    "pycharm": {
     "name": "#%%\n"
    }
   }
  },
  {
   "cell_type": "code",
   "execution_count": 83,
   "outputs": [
    {
     "name": "stderr",
     "output_type": "stream",
     "text": [
      "<ipython-input-83-19c6c47cf291>:5: SettingWithCopyWarning: \n",
      "A value is trying to be set on a copy of a slice from a DataFrame.\n",
      "Try using .loc[row_indexer,col_indexer] = value instead\n",
      "\n",
      "See the caveats in the documentation: https://pandas.pydata.org/pandas-docs/stable/user_guide/indexing.html#returning-a-view-versus-a-copy\n",
      "  df_Indego365_more_than_60_mins[\"overtime\"] = df_Indego365_more_than_60_mins[\"ride_duration_minutes\"] - minutes60\n",
      "<ipython-input-83-19c6c47cf291>:7: SettingWithCopyWarning: \n",
      "A value is trying to be set on a copy of a slice from a DataFrame.\n",
      "Try using .loc[row_indexer,col_indexer] = value instead\n",
      "\n",
      "See the caveats in the documentation: https://pandas.pydata.org/pandas-docs/stable/user_guide/indexing.html#returning-a-view-versus-a-copy\n",
      "  df_Indego365_more_than_60_mins[\"costs_overtime\"] = df_Indego365_more_than_60_mins[\"overtime\"].apply(lambda x: (x.total_seconds() / 60) * 0.15)\n"
     ]
    },
    {
     "data": {
      "text/plain": "                start_time            end_time  start_station_id  \\\n681525 2017-10-27 07:58:00 2017-10-27 11:19:00              3028   \n684339 2017-10-28 07:50:00 2017-10-28 09:37:00              3150   \n684483 2017-10-28 09:08:00 2017-10-28 10:25:00              3061   \n684572 2017-10-28 09:38:00 2017-10-28 10:52:00              3018   \n685254 2017-10-28 12:09:00 2017-10-28 13:37:00              3007   \n\n        end_station_id  bike_id  user_type  \\\n681525            3000    11948  Indego365   \n684339            3086    11860  Indego365   \n684483            3026     5312  Indego365   \n684572            3017     5335  Indego365   \n685254            3007    11916  Indego365   \n\n                           start_station_name        end_station_name  \\\n681525                       4th & Bainbridge         Virtual Station   \n684339  15th & Castle, DiSilvestro Playground       Broad & Christian   \n684483                          23rd & Market             2nd & South   \n684572                         12th & Filbert             6th & Berks   \n685254                 11th & Pine, Kahn Park  11th & Pine, Kahn Park   \n\n       ride_duration_minutes  temperature  precip  weekday  is_weekday  \\\n681525       0 days 03:21:00          7.2     0.0        4           1   \n684339       0 days 01:47:00         11.1     0.0        5           0   \n684483       0 days 01:17:00         10.6     0.0        5           0   \n684572       0 days 01:14:00         10.0     0.0        5           0   \n685254       0 days 01:28:00         10.6     0.0        5           0   \n\n              overtime  costs_overtime  \n681525 0 days 02:21:00           21.15  \n684339 0 days 00:47:00            7.05  \n684483 0 days 00:17:00            2.55  \n684572 0 days 00:14:00            2.10  \n685254 0 days 00:28:00            4.20  ",
      "text/html": "<div>\n<style scoped>\n    .dataframe tbody tr th:only-of-type {\n        vertical-align: middle;\n    }\n\n    .dataframe tbody tr th {\n        vertical-align: top;\n    }\n\n    .dataframe thead th {\n        text-align: right;\n    }\n</style>\n<table border=\"1\" class=\"dataframe\">\n  <thead>\n    <tr style=\"text-align: right;\">\n      <th></th>\n      <th>start_time</th>\n      <th>end_time</th>\n      <th>start_station_id</th>\n      <th>end_station_id</th>\n      <th>bike_id</th>\n      <th>user_type</th>\n      <th>start_station_name</th>\n      <th>end_station_name</th>\n      <th>ride_duration_minutes</th>\n      <th>temperature</th>\n      <th>precip</th>\n      <th>weekday</th>\n      <th>is_weekday</th>\n      <th>overtime</th>\n      <th>costs_overtime</th>\n    </tr>\n  </thead>\n  <tbody>\n    <tr>\n      <th>681525</th>\n      <td>2017-10-27 07:58:00</td>\n      <td>2017-10-27 11:19:00</td>\n      <td>3028</td>\n      <td>3000</td>\n      <td>11948</td>\n      <td>Indego365</td>\n      <td>4th &amp; Bainbridge</td>\n      <td>Virtual Station</td>\n      <td>0 days 03:21:00</td>\n      <td>7.2</td>\n      <td>0.0</td>\n      <td>4</td>\n      <td>1</td>\n      <td>0 days 02:21:00</td>\n      <td>21.15</td>\n    </tr>\n    <tr>\n      <th>684339</th>\n      <td>2017-10-28 07:50:00</td>\n      <td>2017-10-28 09:37:00</td>\n      <td>3150</td>\n      <td>3086</td>\n      <td>11860</td>\n      <td>Indego365</td>\n      <td>15th &amp; Castle, DiSilvestro Playground</td>\n      <td>Broad &amp; Christian</td>\n      <td>0 days 01:47:00</td>\n      <td>11.1</td>\n      <td>0.0</td>\n      <td>5</td>\n      <td>0</td>\n      <td>0 days 00:47:00</td>\n      <td>7.05</td>\n    </tr>\n    <tr>\n      <th>684483</th>\n      <td>2017-10-28 09:08:00</td>\n      <td>2017-10-28 10:25:00</td>\n      <td>3061</td>\n      <td>3026</td>\n      <td>5312</td>\n      <td>Indego365</td>\n      <td>23rd &amp; Market</td>\n      <td>2nd &amp; South</td>\n      <td>0 days 01:17:00</td>\n      <td>10.6</td>\n      <td>0.0</td>\n      <td>5</td>\n      <td>0</td>\n      <td>0 days 00:17:00</td>\n      <td>2.55</td>\n    </tr>\n    <tr>\n      <th>684572</th>\n      <td>2017-10-28 09:38:00</td>\n      <td>2017-10-28 10:52:00</td>\n      <td>3018</td>\n      <td>3017</td>\n      <td>5335</td>\n      <td>Indego365</td>\n      <td>12th &amp; Filbert</td>\n      <td>6th &amp; Berks</td>\n      <td>0 days 01:14:00</td>\n      <td>10.0</td>\n      <td>0.0</td>\n      <td>5</td>\n      <td>0</td>\n      <td>0 days 00:14:00</td>\n      <td>2.10</td>\n    </tr>\n    <tr>\n      <th>685254</th>\n      <td>2017-10-28 12:09:00</td>\n      <td>2017-10-28 13:37:00</td>\n      <td>3007</td>\n      <td>3007</td>\n      <td>11916</td>\n      <td>Indego365</td>\n      <td>11th &amp; Pine, Kahn Park</td>\n      <td>11th &amp; Pine, Kahn Park</td>\n      <td>0 days 01:28:00</td>\n      <td>10.6</td>\n      <td>0.0</td>\n      <td>5</td>\n      <td>0</td>\n      <td>0 days 00:28:00</td>\n      <td>4.20</td>\n    </tr>\n  </tbody>\n</table>\n</div>"
     },
     "execution_count": 83,
     "metadata": {},
     "output_type": "execute_result"
    }
   ],
   "source": [
    "#profit from overtime loans of usertype Indego365\n",
    "\n",
    "df_Indego365 = df_bikes[df_bikes[\"user_type\"] == \"Indego365\"]\n",
    "df_Indego365_more_than_60_mins = df_Indego365[df_Indego365[\"ride_duration_minutes\"] > minutes60]\n",
    "df_Indego365_more_than_60_mins[\"overtime\"] = df_Indego365_more_than_60_mins[\"ride_duration_minutes\"] - minutes60\n",
    "\n",
    "df_Indego365_more_than_60_mins[\"costs_overtime\"] = df_Indego365_more_than_60_mins[\"overtime\"].apply(lambda x: (x.total_seconds() / 60) * 0.15)\n",
    "\n",
    "df_Indego365_more_than_60_mins.head()"
   ],
   "metadata": {
    "collapsed": false,
    "pycharm": {
     "name": "#%%\n"
    }
   }
  },
  {
   "cell_type": "code",
   "execution_count": 84,
   "outputs": [
    {
     "name": "stdout",
     "output_type": "stream",
     "text": [
      "1584.1499999999992\n"
     ]
    }
   ],
   "source": [
    "#total sum of all  overtime loans of usertype Indego365\n",
    "sumIndego365OvertimeProfit = sum(df_Indego365_more_than_60_mins[\"costs_overtime\"].apply(lambda x: x))\n",
    "print(sumIndego365OvertimeProfit)"
   ],
   "metadata": {
    "collapsed": false,
    "pycharm": {
     "name": "#%%\n"
    }
   }
  },
  {
   "cell_type": "code",
   "execution_count": 85,
   "outputs": [
    {
     "name": "stdout",
     "output_type": "stream",
     "text": [
      "[datetime.datetime(2017, 1, 1, 0, 0), datetime.datetime(2017, 1, 2, 0, 0), datetime.datetime(2017, 1, 3, 0, 0), datetime.datetime(2017, 1, 4, 0, 0), datetime.datetime(2017, 1, 5, 0, 0), datetime.datetime(2017, 1, 6, 0, 0), datetime.datetime(2017, 1, 7, 0, 0), datetime.datetime(2017, 1, 8, 0, 0), datetime.datetime(2017, 1, 9, 0, 0), datetime.datetime(2017, 1, 10, 0, 0), datetime.datetime(2017, 1, 11, 0, 0), datetime.datetime(2017, 1, 12, 0, 0), datetime.datetime(2017, 1, 13, 0, 0), datetime.datetime(2017, 1, 14, 0, 0), datetime.datetime(2017, 1, 15, 0, 0), datetime.datetime(2017, 1, 16, 0, 0), datetime.datetime(2017, 1, 17, 0, 0), datetime.datetime(2017, 1, 18, 0, 0), datetime.datetime(2017, 1, 19, 0, 0), datetime.datetime(2017, 1, 20, 0, 0), datetime.datetime(2017, 1, 21, 0, 0), datetime.datetime(2017, 1, 22, 0, 0), datetime.datetime(2017, 1, 23, 0, 0), datetime.datetime(2017, 1, 24, 0, 0), datetime.datetime(2017, 1, 25, 0, 0), datetime.datetime(2017, 1, 26, 0, 0), datetime.datetime(2017, 1, 27, 0, 0), datetime.datetime(2017, 1, 28, 0, 0), datetime.datetime(2017, 1, 29, 0, 0), datetime.datetime(2017, 1, 30, 0, 0), datetime.datetime(2017, 1, 31, 0, 0), datetime.datetime(2017, 2, 1, 0, 0), datetime.datetime(2017, 2, 2, 0, 0), datetime.datetime(2017, 2, 3, 0, 0), datetime.datetime(2017, 2, 4, 0, 0), datetime.datetime(2017, 2, 5, 0, 0), datetime.datetime(2017, 2, 6, 0, 0), datetime.datetime(2017, 2, 7, 0, 0), datetime.datetime(2017, 2, 8, 0, 0), datetime.datetime(2017, 2, 9, 0, 0), datetime.datetime(2017, 2, 10, 0, 0), datetime.datetime(2017, 2, 11, 0, 0), datetime.datetime(2017, 2, 12, 0, 0), datetime.datetime(2017, 2, 13, 0, 0), datetime.datetime(2017, 2, 14, 0, 0), datetime.datetime(2017, 2, 15, 0, 0), datetime.datetime(2017, 2, 16, 0, 0), datetime.datetime(2017, 2, 17, 0, 0), datetime.datetime(2017, 2, 18, 0, 0), datetime.datetime(2017, 2, 19, 0, 0), datetime.datetime(2017, 2, 20, 0, 0), datetime.datetime(2017, 2, 21, 0, 0), datetime.datetime(2017, 2, 22, 0, 0), datetime.datetime(2017, 2, 23, 0, 0), datetime.datetime(2017, 2, 24, 0, 0), datetime.datetime(2017, 2, 25, 0, 0), datetime.datetime(2017, 2, 26, 0, 0), datetime.datetime(2017, 2, 27, 0, 0), datetime.datetime(2017, 2, 28, 0, 0), datetime.datetime(2017, 3, 1, 0, 0), datetime.datetime(2017, 3, 2, 0, 0), datetime.datetime(2017, 3, 3, 0, 0), datetime.datetime(2017, 3, 4, 0, 0), datetime.datetime(2017, 3, 5, 0, 0), datetime.datetime(2017, 3, 6, 0, 0), datetime.datetime(2017, 3, 7, 0, 0), datetime.datetime(2017, 3, 8, 0, 0), datetime.datetime(2017, 3, 9, 0, 0), datetime.datetime(2017, 3, 10, 0, 0), datetime.datetime(2017, 3, 11, 0, 0), datetime.datetime(2017, 3, 12, 0, 0), datetime.datetime(2017, 3, 13, 0, 0), datetime.datetime(2017, 3, 14, 0, 0), datetime.datetime(2017, 3, 15, 0, 0), datetime.datetime(2017, 3, 16, 0, 0), datetime.datetime(2017, 3, 17, 0, 0), datetime.datetime(2017, 3, 18, 0, 0), datetime.datetime(2017, 3, 19, 0, 0), datetime.datetime(2017, 3, 20, 0, 0), datetime.datetime(2017, 3, 21, 0, 0), datetime.datetime(2017, 3, 22, 0, 0), datetime.datetime(2017, 3, 23, 0, 0), datetime.datetime(2017, 3, 24, 0, 0), datetime.datetime(2017, 3, 25, 0, 0), datetime.datetime(2017, 3, 26, 0, 0), datetime.datetime(2017, 3, 27, 0, 0), datetime.datetime(2017, 3, 28, 0, 0), datetime.datetime(2017, 3, 29, 0, 0), datetime.datetime(2017, 3, 30, 0, 0), datetime.datetime(2017, 3, 31, 0, 0), datetime.datetime(2017, 4, 1, 0, 0), datetime.datetime(2017, 4, 2, 0, 0), datetime.datetime(2017, 4, 3, 0, 0), datetime.datetime(2017, 4, 4, 0, 0), datetime.datetime(2017, 4, 5, 0, 0), datetime.datetime(2017, 4, 6, 0, 0), datetime.datetime(2017, 4, 7, 0, 0), datetime.datetime(2017, 4, 8, 0, 0), datetime.datetime(2017, 4, 9, 0, 0), datetime.datetime(2017, 4, 10, 0, 0), datetime.datetime(2017, 4, 11, 0, 0), datetime.datetime(2017, 4, 12, 0, 0), datetime.datetime(2017, 4, 13, 0, 0), datetime.datetime(2017, 4, 14, 0, 0), datetime.datetime(2017, 4, 15, 0, 0), datetime.datetime(2017, 4, 16, 0, 0), datetime.datetime(2017, 4, 17, 0, 0), datetime.datetime(2017, 4, 18, 0, 0), datetime.datetime(2017, 4, 19, 0, 0), datetime.datetime(2017, 4, 20, 0, 0), datetime.datetime(2017, 4, 21, 0, 0), datetime.datetime(2017, 4, 22, 0, 0), datetime.datetime(2017, 4, 23, 0, 0), datetime.datetime(2017, 4, 24, 0, 0), datetime.datetime(2017, 4, 25, 0, 0), datetime.datetime(2017, 4, 26, 0, 0), datetime.datetime(2017, 4, 27, 0, 0), datetime.datetime(2017, 4, 28, 0, 0), datetime.datetime(2017, 4, 29, 0, 0), datetime.datetime(2017, 4, 30, 0, 0), datetime.datetime(2017, 5, 1, 0, 0), datetime.datetime(2017, 5, 2, 0, 0), datetime.datetime(2017, 5, 3, 0, 0), datetime.datetime(2017, 5, 4, 0, 0), datetime.datetime(2017, 5, 5, 0, 0), datetime.datetime(2017, 5, 6, 0, 0), datetime.datetime(2017, 5, 7, 0, 0), datetime.datetime(2017, 5, 8, 0, 0), datetime.datetime(2017, 5, 9, 0, 0), datetime.datetime(2017, 5, 10, 0, 0), datetime.datetime(2017, 5, 11, 0, 0), datetime.datetime(2017, 5, 12, 0, 0), datetime.datetime(2017, 5, 13, 0, 0), datetime.datetime(2017, 5, 14, 0, 0), datetime.datetime(2017, 5, 15, 0, 0), datetime.datetime(2017, 5, 16, 0, 0), datetime.datetime(2017, 5, 17, 0, 0), datetime.datetime(2017, 5, 18, 0, 0), datetime.datetime(2017, 5, 19, 0, 0), datetime.datetime(2017, 5, 20, 0, 0), datetime.datetime(2017, 5, 21, 0, 0), datetime.datetime(2017, 5, 22, 0, 0), datetime.datetime(2017, 5, 23, 0, 0), datetime.datetime(2017, 5, 24, 0, 0), datetime.datetime(2017, 5, 25, 0, 0), datetime.datetime(2017, 5, 26, 0, 0), datetime.datetime(2017, 5, 27, 0, 0), datetime.datetime(2017, 5, 28, 0, 0), datetime.datetime(2017, 5, 29, 0, 0), datetime.datetime(2017, 5, 30, 0, 0), datetime.datetime(2017, 5, 31, 0, 0), datetime.datetime(2017, 6, 1, 0, 0), datetime.datetime(2017, 6, 2, 0, 0), datetime.datetime(2017, 6, 3, 0, 0), datetime.datetime(2017, 6, 4, 0, 0), datetime.datetime(2017, 6, 5, 0, 0), datetime.datetime(2017, 6, 6, 0, 0), datetime.datetime(2017, 6, 7, 0, 0), datetime.datetime(2017, 6, 8, 0, 0), datetime.datetime(2017, 6, 9, 0, 0), datetime.datetime(2017, 6, 10, 0, 0), datetime.datetime(2017, 6, 11, 0, 0), datetime.datetime(2017, 6, 12, 0, 0), datetime.datetime(2017, 6, 13, 0, 0), datetime.datetime(2017, 6, 14, 0, 0), datetime.datetime(2017, 6, 15, 0, 0), datetime.datetime(2017, 6, 16, 0, 0), datetime.datetime(2017, 6, 17, 0, 0), datetime.datetime(2017, 6, 18, 0, 0), datetime.datetime(2017, 6, 19, 0, 0), datetime.datetime(2017, 6, 20, 0, 0), datetime.datetime(2017, 6, 21, 0, 0), datetime.datetime(2017, 6, 22, 0, 0), datetime.datetime(2017, 6, 23, 0, 0), datetime.datetime(2017, 6, 24, 0, 0), datetime.datetime(2017, 6, 25, 0, 0), datetime.datetime(2017, 6, 26, 0, 0), datetime.datetime(2017, 6, 27, 0, 0), datetime.datetime(2017, 6, 28, 0, 0), datetime.datetime(2017, 6, 29, 0, 0), datetime.datetime(2017, 6, 30, 0, 0), datetime.datetime(2017, 7, 1, 0, 0), datetime.datetime(2017, 7, 2, 0, 0), datetime.datetime(2017, 7, 3, 0, 0), datetime.datetime(2017, 7, 4, 0, 0), datetime.datetime(2017, 7, 5, 0, 0), datetime.datetime(2017, 7, 6, 0, 0), datetime.datetime(2017, 7, 7, 0, 0), datetime.datetime(2017, 7, 8, 0, 0), datetime.datetime(2017, 7, 9, 0, 0), datetime.datetime(2017, 7, 10, 0, 0), datetime.datetime(2017, 7, 11, 0, 0), datetime.datetime(2017, 7, 12, 0, 0), datetime.datetime(2017, 7, 13, 0, 0), datetime.datetime(2017, 7, 14, 0, 0), datetime.datetime(2017, 7, 15, 0, 0), datetime.datetime(2017, 7, 16, 0, 0), datetime.datetime(2017, 7, 17, 0, 0), datetime.datetime(2017, 7, 18, 0, 0), datetime.datetime(2017, 7, 19, 0, 0), datetime.datetime(2017, 7, 20, 0, 0), datetime.datetime(2017, 7, 21, 0, 0), datetime.datetime(2017, 7, 22, 0, 0), datetime.datetime(2017, 7, 23, 0, 0), datetime.datetime(2017, 7, 24, 0, 0), datetime.datetime(2017, 7, 25, 0, 0), datetime.datetime(2017, 7, 26, 0, 0), datetime.datetime(2017, 7, 27, 0, 0), datetime.datetime(2017, 7, 28, 0, 0), datetime.datetime(2017, 7, 29, 0, 0), datetime.datetime(2017, 7, 30, 0, 0), datetime.datetime(2017, 7, 31, 0, 0), datetime.datetime(2017, 8, 1, 0, 0), datetime.datetime(2017, 8, 2, 0, 0), datetime.datetime(2017, 8, 3, 0, 0), datetime.datetime(2017, 8, 4, 0, 0), datetime.datetime(2017, 8, 5, 0, 0), datetime.datetime(2017, 8, 6, 0, 0), datetime.datetime(2017, 8, 7, 0, 0), datetime.datetime(2017, 8, 8, 0, 0), datetime.datetime(2017, 8, 9, 0, 0), datetime.datetime(2017, 8, 10, 0, 0), datetime.datetime(2017, 8, 11, 0, 0), datetime.datetime(2017, 8, 12, 0, 0), datetime.datetime(2017, 8, 13, 0, 0), datetime.datetime(2017, 8, 14, 0, 0), datetime.datetime(2017, 8, 15, 0, 0), datetime.datetime(2017, 8, 16, 0, 0), datetime.datetime(2017, 8, 17, 0, 0), datetime.datetime(2017, 8, 18, 0, 0), datetime.datetime(2017, 8, 19, 0, 0), datetime.datetime(2017, 8, 20, 0, 0), datetime.datetime(2017, 8, 21, 0, 0), datetime.datetime(2017, 8, 22, 0, 0), datetime.datetime(2017, 8, 23, 0, 0), datetime.datetime(2017, 8, 24, 0, 0), datetime.datetime(2017, 8, 25, 0, 0), datetime.datetime(2017, 8, 26, 0, 0), datetime.datetime(2017, 8, 27, 0, 0), datetime.datetime(2017, 8, 28, 0, 0), datetime.datetime(2017, 8, 29, 0, 0), datetime.datetime(2017, 8, 30, 0, 0), datetime.datetime(2017, 8, 31, 0, 0), datetime.datetime(2017, 9, 1, 0, 0), datetime.datetime(2017, 9, 2, 0, 0), datetime.datetime(2017, 9, 3, 0, 0), datetime.datetime(2017, 9, 4, 0, 0), datetime.datetime(2017, 9, 5, 0, 0), datetime.datetime(2017, 9, 6, 0, 0), datetime.datetime(2017, 9, 7, 0, 0), datetime.datetime(2017, 9, 8, 0, 0), datetime.datetime(2017, 9, 9, 0, 0), datetime.datetime(2017, 9, 10, 0, 0), datetime.datetime(2017, 9, 11, 0, 0), datetime.datetime(2017, 9, 12, 0, 0), datetime.datetime(2017, 9, 13, 0, 0), datetime.datetime(2017, 9, 14, 0, 0), datetime.datetime(2017, 9, 15, 0, 0), datetime.datetime(2017, 9, 16, 0, 0), datetime.datetime(2017, 9, 17, 0, 0), datetime.datetime(2017, 9, 18, 0, 0), datetime.datetime(2017, 9, 19, 0, 0), datetime.datetime(2017, 9, 20, 0, 0), datetime.datetime(2017, 9, 21, 0, 0), datetime.datetime(2017, 9, 22, 0, 0), datetime.datetime(2017, 9, 23, 0, 0), datetime.datetime(2017, 9, 24, 0, 0), datetime.datetime(2017, 9, 25, 0, 0), datetime.datetime(2017, 9, 26, 0, 0), datetime.datetime(2017, 9, 27, 0, 0), datetime.datetime(2017, 9, 28, 0, 0), datetime.datetime(2017, 9, 29, 0, 0), datetime.datetime(2017, 9, 30, 0, 0), datetime.datetime(2017, 10, 1, 0, 0), datetime.datetime(2017, 10, 2, 0, 0), datetime.datetime(2017, 10, 3, 0, 0), datetime.datetime(2017, 10, 4, 0, 0), datetime.datetime(2017, 10, 5, 0, 0), datetime.datetime(2017, 10, 6, 0, 0), datetime.datetime(2017, 10, 7, 0, 0), datetime.datetime(2017, 10, 8, 0, 0), datetime.datetime(2017, 10, 9, 0, 0), datetime.datetime(2017, 10, 10, 0, 0), datetime.datetime(2017, 10, 11, 0, 0), datetime.datetime(2017, 10, 12, 0, 0), datetime.datetime(2017, 10, 13, 0, 0), datetime.datetime(2017, 10, 14, 0, 0), datetime.datetime(2017, 10, 15, 0, 0), datetime.datetime(2017, 10, 16, 0, 0), datetime.datetime(2017, 10, 17, 0, 0), datetime.datetime(2017, 10, 18, 0, 0), datetime.datetime(2017, 10, 19, 0, 0), datetime.datetime(2017, 10, 20, 0, 0), datetime.datetime(2017, 10, 21, 0, 0), datetime.datetime(2017, 10, 22, 0, 0), datetime.datetime(2017, 10, 23, 0, 0), datetime.datetime(2017, 10, 24, 0, 0), datetime.datetime(2017, 10, 25, 0, 0), datetime.datetime(2017, 10, 26, 0, 0), datetime.datetime(2017, 10, 27, 0, 0), datetime.datetime(2017, 10, 28, 0, 0), datetime.datetime(2017, 10, 29, 0, 0), datetime.datetime(2017, 10, 30, 0, 0), datetime.datetime(2017, 10, 31, 0, 0), datetime.datetime(2017, 11, 1, 0, 0), datetime.datetime(2017, 11, 2, 0, 0), datetime.datetime(2017, 11, 3, 0, 0), datetime.datetime(2017, 11, 4, 0, 0), datetime.datetime(2017, 11, 5, 0, 0), datetime.datetime(2017, 11, 6, 0, 0), datetime.datetime(2017, 11, 7, 0, 0), datetime.datetime(2017, 11, 8, 0, 0), datetime.datetime(2017, 11, 9, 0, 0), datetime.datetime(2017, 11, 10, 0, 0), datetime.datetime(2017, 11, 11, 0, 0), datetime.datetime(2017, 11, 12, 0, 0), datetime.datetime(2017, 11, 13, 0, 0), datetime.datetime(2017, 11, 14, 0, 0), datetime.datetime(2017, 11, 15, 0, 0), datetime.datetime(2017, 11, 16, 0, 0), datetime.datetime(2017, 11, 17, 0, 0), datetime.datetime(2017, 11, 18, 0, 0), datetime.datetime(2017, 11, 19, 0, 0), datetime.datetime(2017, 11, 20, 0, 0), datetime.datetime(2017, 11, 21, 0, 0), datetime.datetime(2017, 11, 22, 0, 0), datetime.datetime(2017, 11, 23, 0, 0), datetime.datetime(2017, 11, 24, 0, 0), datetime.datetime(2017, 11, 25, 0, 0), datetime.datetime(2017, 11, 26, 0, 0), datetime.datetime(2017, 11, 27, 0, 0), datetime.datetime(2017, 11, 28, 0, 0), datetime.datetime(2017, 11, 29, 0, 0), datetime.datetime(2017, 11, 30, 0, 0), datetime.datetime(2017, 12, 1, 0, 0), datetime.datetime(2017, 12, 2, 0, 0), datetime.datetime(2017, 12, 3, 0, 0), datetime.datetime(2017, 12, 4, 0, 0), datetime.datetime(2017, 12, 5, 0, 0), datetime.datetime(2017, 12, 6, 0, 0), datetime.datetime(2017, 12, 7, 0, 0), datetime.datetime(2017, 12, 8, 0, 0), datetime.datetime(2017, 12, 9, 0, 0), datetime.datetime(2017, 12, 10, 0, 0), datetime.datetime(2017, 12, 11, 0, 0), datetime.datetime(2017, 12, 12, 0, 0), datetime.datetime(2017, 12, 13, 0, 0), datetime.datetime(2017, 12, 14, 0, 0), datetime.datetime(2017, 12, 15, 0, 0), datetime.datetime(2017, 12, 16, 0, 0), datetime.datetime(2017, 12, 17, 0, 0), datetime.datetime(2017, 12, 18, 0, 0), datetime.datetime(2017, 12, 19, 0, 0), datetime.datetime(2017, 12, 20, 0, 0), datetime.datetime(2017, 12, 21, 0, 0), datetime.datetime(2017, 12, 22, 0, 0), datetime.datetime(2017, 12, 23, 0, 0), datetime.datetime(2017, 12, 24, 0, 0), datetime.datetime(2017, 12, 25, 0, 0), datetime.datetime(2017, 12, 26, 0, 0), datetime.datetime(2017, 12, 27, 0, 0), datetime.datetime(2017, 12, 28, 0, 0), datetime.datetime(2017, 12, 29, 0, 0), datetime.datetime(2017, 12, 30, 0, 0), datetime.datetime(2017, 12, 31, 0, 0)]\n"
     ]
    }
   ],
   "source": [
    "# array containing all dates of the year\n",
    "start_2017 = datetime(2017, 1, 1)\n",
    "add_day = timedelta(days = 1)\n",
    "\n",
    "days_2017 = []\n",
    "\n",
    "for i in range(0, 365):\n",
    "    days_2017.append(start_2017)\n",
    "    start_2017 += add_day\n",
    "\n",
    "print(days_2017)\n"
   ],
   "metadata": {
    "collapsed": false,
    "pycharm": {
     "name": "#%%\n"
    }
   }
  },
  {
   "cell_type": "code",
   "execution_count": 87,
   "outputs": [
    {
     "name": "stdout",
     "output_type": "stream",
     "text": [
      "31 28 31 30 31 30 31 31 30 31 30 31\n"
     ]
    }
   ],
   "source": [
    "# shows loans of every day - just for orientation\n",
    "# missing values (in january, february and march 2017) are taken from the calculation for regression\n",
    "\n",
    "#create for every month in 2017 an array of the daily total amount of loans and then combine them\n",
    "#in another array\n",
    "days_28 = range(0, 28)\n",
    "days_30 = range(0, 30)\n",
    "days_31 = range(0, 31)\n",
    "\n",
    "jan_loans = []\n",
    "for i in range(1, 32):\n",
    "    jan_loans.append(loans_per_day(1, i))\n",
    "jan_Series = pd.Series(jan_loans, index=days_31)\n",
    "#jan_loans[3] =\n",
    "#jan_loans[4] =\n",
    "#jan_loans[5] =\n",
    "#jan_loans[6] =\n",
    "#jan_loans[7] =\n",
    "#jan_loans[8] =\n",
    "#jan_loans[9] =\n",
    "#jan_loans[10] =\n",
    "#jan_loans[11] =\n",
    "\n",
    "feb_loans = []\n",
    "for i in range(1, 29):\n",
    "    feb_loans.append(loans_per_day(2, i))\n",
    "feb_Series = pd.Series(feb_loans, index=days_28)\n",
    "#feb_loans[3] =\n",
    "#feb_loans[4] =\n",
    "#feb_loans[5] =\n",
    "#feb_loans[6] =\n",
    "#feb_loans[7] =\n",
    "#feb_loans[8] =\n",
    "#feb_loans[9] =\n",
    "#feb_loans[10] =\n",
    "#feb_loans[11] =\n",
    "\n",
    "mar_loans = []\n",
    "for i in range(1, 32):\n",
    "    mar_loans.append(loans_per_day(3, i))\n",
    "mar_Series = pd.Series(mar_loans, index=days_31)\n",
    "#mar_loans[3] =\n",
    "#mar_loans[4] =\n",
    "#mar_loans[5] =\n",
    "#mar_loans[6] =\n",
    "#mar_loans[7] =\n",
    "#mar_loans[8] =\n",
    "#mar_loans[9] =\n",
    "#mar_loans[10] =\n",
    "#mar_loans[11] =\n",
    "\n",
    "apr_loans = []\n",
    "for i in range(1, 31):\n",
    "    apr_loans.append(loans_per_day(4, i))\n",
    "apr_Series = pd.Series(apr_loans, index=days_30)\n",
    "\n",
    "may_loans = []\n",
    "for i in range(1, 32):\n",
    "    may_loans.append(loans_per_day(5, i))\n",
    "may_Series = pd.Series(may_loans, index=days_31)\n",
    "\n",
    "jun_loans = []\n",
    "for i in range(1, 31):\n",
    "    jun_loans.append(loans_per_day(6, i))\n",
    "jun_Series = pd.Series(jun_loans, index=days_30)\n",
    "\n",
    "jul_loans = []\n",
    "for i in range(1, 32):\n",
    "    jul_loans.append(loans_per_day(7, i))\n",
    "jul_Series = pd.Series(jul_loans, index=days_31)\n",
    "\n",
    "aug_loans = []\n",
    "for i in range(1, 32):\n",
    "    aug_loans.append(loans_per_day(8, i))\n",
    "aug_Series = pd.Series(aug_loans, index=days_31)\n",
    "\n",
    "sep_loans = []\n",
    "for i in range(1, 31):\n",
    "    sep_loans.append(loans_per_day(9, i))\n",
    "sep_Series = pd.Series(sep_loans, index=days_30)\n",
    "\n",
    "oct_loans = []\n",
    "for i in range(1, 32):\n",
    "    oct_loans.append(loans_per_day(10, i))\n",
    "oct_Series = pd.Series(oct_loans, index=days_31)\n",
    "\n",
    "nov_loans = []\n",
    "for i in range(1, 31):\n",
    "    nov_loans.append(loans_per_day(11, i))\n",
    "nov_Series = pd.Series(nov_loans, index=days_30)\n",
    "\n",
    "dec_loans = []\n",
    "for i in range(1, 32):\n",
    "    dec_loans.append(loans_per_day(12, i))\n",
    "dec_Series = pd.Series(dec_loans, index=days_31)\n",
    "\n",
    "print(jan_Series.__len__(), feb_Series.__len__(), mar_Series.__len__(), apr_Series.__len__(),may_Series.__len__(), jun_Series.__len__(), jul_Series.__len__(), aug_Series.__len__(), sep_Series.__len__(), oct_Series.__len__(), nov_Series.__len__(), dec_Series.__len__())\n"
   ],
   "metadata": {
    "collapsed": false,
    "pycharm": {
     "name": "#%%\n"
    }
   }
  },
  {
   "cell_type": "code",
   "execution_count": 88,
   "outputs": [
    {
     "name": "stdout",
     "output_type": "stream",
     "text": [
      "[856, 1510, 1854, 0, 0, 0, 0, 0, 0, 0, 0, 0, 1397, 621, 772, 1017, 1026, 1485, 1612, 1229, 1206, 641, 536, 1111, 1686, 1426, 1347, 827, 806, 1268, 1257, 322, 1482, 1545, 0, 0, 0, 0, 0, 0, 0, 0, 0, 1080, 1318, 1530, 1285, 1337, 1753, 2205, 1850, 1664, 1908, 2043, 2360, 1652, 903, 1629, 1728, 718, 1218, 1323, 0, 0, 0, 0, 0, 0, 0, 0, 0, 1273, 70, 323, 601, 868, 470, 744, 1604, 1848, 1459, 1448, 1706, 1601, 806, 1537, 1013, 1986, 1667, 474, 2460, 2527, 2788, 2166, 2520, 1163, 1513, 1550, 2206, 2581, 2835, 2760, 2570, 2604, 1982, 2004, 2282, 2833, 2458, 2739, 1819, 936, 2251, 2109, 1166, 2360, 3418, 3357, 2933, 1987, 3766, 3557, 3431, 2666, 1315, 1919, 1496, 2455, 2631, 2800, 2505, 2321, 320, 1772, 2610, 3036, 2957, 2699, 2718, 1872, 2232, 1673, 2727, 2707, 992, 2480, 2374, 1920, 1285, 1928, 2905, 3853, 4722, 4089, 2299, 2406, 2276, 2833, 2976, 3159, 2838, 2295, 2772, 2902, 3058, 3356, 3099, 1712, 2199, 1988, 3248, 2973, 3207, 2673, 2631, 2539, 3146, 3332, 3417, 3388, 3144, 2080, 4064, 4493, 3099, 3368, 1888, 2695, 2935, 2975, 3449, 3614, 3375, 2825, 2136, 2946, 2726, 3077, 3393, 3384, 3032, 2997, 2186, 2265, 2820, 3250, 3699, 3246, 3150, 2574, 3065, 3450, 3780, 4513, 5488, 3487, 2817, 2850, 1305, 3584, 3669, 3556, 3402, 2308, 2796, 3092, 2098, 3481, 3468, 2571, 2884, 2710, 3226, 3143, 3399, 3592, 3455, 3081, 2825, 3420, 1273, 3676, 3620, 3931, 1688, 4472, 2718, 3062, 1904, 3653, 3414, 2918, 2713, 3463, 3576, 3034, 3490, 3517, 2828, 2772, 3283, 2806, 3410, 3339, 3349, 2997, 2383, 3121, 3414, 3452, 3376, 3536, 2509, 3311, 4254, 4209, 3591, 3528, 3388, 2965, 1681, 2061, 3467, 3266, 2765, 3193, 2338, 2071, 2826, 3067, 3370, 3289, 3338, 2844, 2490, 3178, 2641, 2617, 2976, 2961, 3219, 529, 2328, 2847, 4272, 4195, 3861, 2328, 1984, 2563, 1615, 2475, 2718, 1898, 1093, 1222, 1349, 2347, 2430, 2395, 2331, 1409, 1426, 1912, 2271, 1605, 619, 1017, 1212, 1122, 2100, 2330, 2362, 2199, 3918, 2004, 1951, 2016, 1998, 1895, 1998, 1758, 393, 638, 1548, 1739, 1269, 1148, 799, 497, 813, 1703, 1902, 1650, 1543, 1490, 478, 422, 161, 613, 637, 566, 566, 204, 241]\n"
     ]
    }
   ],
   "source": [
    "month_loans_sum = [jan_loans, feb_loans, mar_loans, apr_loans, may_loans, jun_loans, jul_loans, aug_loans, sep_loans, oct_loans, nov_loans, dec_loans]\n",
    "daily_loans_2017 = []\n",
    "\n",
    "for i in range(0, month_loans_sum.__len__()):\n",
    "    for j in range(0, month_loans_sum[i].__len__()):\n",
    "        daily_loans_2017.append(month_loans_sum[i][j])\n",
    "\n",
    "print(daily_loans_2017)"
   ],
   "metadata": {
    "collapsed": false,
    "pycharm": {
     "name": "#%%\n"
    }
   }
  },
  {
   "cell_type": "code",
   "execution_count": 89,
   "outputs": [
    {
     "data": {
      "text/plain": "[<matplotlib.lines.Line2D at 0x427a5460>]"
     },
     "execution_count": 89,
     "metadata": {},
     "output_type": "execute_result"
    },
    {
     "data": {
      "text/plain": "<Figure size 432x288 with 1 Axes>",
      "image/png": "[encoded data removed]"
     },
     "metadata": {
      "needs_background": "light"
     },
     "output_type": "display_data"
    }
   ],
   "source": [
    "x1 = range(1, 366)\n",
    "y1 = daily_loans_2017\n",
    "plt.xlabel('Days')\n",
    "plt.ylabel('Bike Loans (absolute)')\n",
    "plt.plot(x1, y1)\n"
   ],
   "metadata": {
    "collapsed": false,
    "pycharm": {
     "name": "#%%\n"
    }
   }
  },
  {
   "cell_type": "code",
   "execution_count": 90,
   "outputs": [
    {
     "data": {
      "text/plain": "0     2017-01-01\n1     2017-01-02\n2     2017-01-03\n3     2017-01-04\n4     2017-01-05\n         ...    \n360   2017-12-27\n361   2017-12-28\n362   2017-12-29\n363   2017-12-30\n364   2017-12-31\nLength: 365, dtype: datetime64[ns]"
     },
     "execution_count": 90,
     "metadata": {},
     "output_type": "execute_result"
    }
   ],
   "source": [
    "days = range(0, 365)\n",
    "\n",
    "days_Series = pd.Series(days_2017, index=days)\n",
    "days_Series"
   ],
   "metadata": {
    "collapsed": false,
    "pycharm": {
     "name": "#%%\n"
    }
   }
  },
  {
   "cell_type": "code",
   "execution_count": 115,
   "outputs": [
    {
     "name": "stdout",
     "output_type": "stream",
     "text": [
      "12916.499999999996\n"
     ]
    }
   ],
   "source": [
    "# Calculate revenue for all 4 quarters: OneDayPass\n",
    "\n",
    "qu1 = datetime(2017, 3, 31, 23, 59)\n",
    "qu2 = datetime(2017, 6, 30, 23, 59)\n",
    "qu3 = datetime(2017, 9, 30, 23, 59)\n",
    "qu4 = datetime(2017, 12, 31, 23, 59)\n",
    "\n",
    "\n",
    "qu1_OneDay = df_one_day_more_than_30_mins[df_one_day_more_than_30_mins[\"start_time\"] <= qu1]\n",
    "sum_Q1_OneDay = sum(qu1_OneDay[\"costs_overtime\"].apply(lambda x: x))\n",
    "\n",
    "qu2_OneDay = df_one_day_more_than_30_mins[df_one_day_more_than_30_mins[\"start_time\"] > qu1]\n",
    "qu2_OneDay_s = qu2_OneDay[qu2_OneDay[\"start_time\"] <= qu2]\n",
    "sum_Q2_OneDay = sum(qu2_OneDay_s[\"costs_overtime\"].apply(lambda x: x))\n",
    "\n",
    "qu3_OneDay = df_one_day_more_than_30_mins[df_one_day_more_than_30_mins[\"start_time\"] > qu2]\n",
    "qu3_OneDay_s = qu3_OneDay[qu3_OneDay[\"start_time\"] <= qu3]\n",
    "sum_Q3_OneDay = sum(qu3_OneDay_s[\"costs_overtime\"].apply(lambda x: x))\n",
    "\n",
    "qu4_OneDay = df_one_day_more_than_30_mins[df_one_day_more_than_30_mins[\"start_time\"] > qu3]\n",
    "sum_Q4_OneDay = sum(qu4_OneDay[\"costs_overtime\"].apply(lambda x: x))\n",
    "\n",
    "sumROneDay = sum_Q1_OneDay + sum_Q2_OneDay + sum_Q3_OneDay + sum_Q4_OneDay\n",
    "\n",
    "print(sumROneDay)"
   ],
   "metadata": {
    "collapsed": false,
    "pycharm": {
     "name": "#%%\n"
    }
   }
  },
  {
   "cell_type": "code",
   "execution_count": 116,
   "outputs": [
    {
     "name": "stdout",
     "output_type": "stream",
     "text": [
      "1676.5500000000002\n"
     ]
    }
   ],
   "source": [
    "# Calculate revenue for all 4 quarters: TwoDayPass\n",
    "\n",
    "qu1_TwoDay = df_two_day_more_than_30_mins[df_two_day_more_than_30_mins[\"start_time\"] <= qu1]\n",
    "sum_Q1_TwoDay = sum(qu1_TwoDay[\"costs_overtime\"].apply(lambda x: x))\n",
    "\n",
    "qu2_TwoDay = df_two_day_more_than_30_mins[df_two_day_more_than_30_mins[\"start_time\"] > qu1]\n",
    "qu2_TwoDay_s = qu2_TwoDay[qu2_TwoDay[\"start_time\"] <= qu2]\n",
    "sum_Q2_TwoDay = sum(qu2_TwoDay_s[\"costs_overtime\"].apply(lambda x: x))\n",
    "\n",
    "qu3_TwoDay = df_two_day_more_than_30_mins[df_two_day_more_than_30_mins[\"start_time\"] > qu2]\n",
    "qu3_TwoDay_s = qu3_TwoDay[qu3_TwoDay[\"start_time\"] <= qu3]\n",
    "sum_Q3_TwoDay = sum(qu3_TwoDay_s[\"costs_overtime\"].apply(lambda x: x))\n",
    "\n",
    "qu4_TwoDay = df_two_day_more_than_30_mins[df_two_day_more_than_30_mins[\"start_time\"] > qu3]\n",
    "sum_Q4_TwoDay = sum(qu4_TwoDay[\"costs_overtime\"].apply(lambda x: x))\n",
    "\n",
    "sumRTwoDay = sum_Q1_TwoDay + sum_Q2_TwoDay + sum_Q3_TwoDay + sum_Q4_TwoDay\n",
    "\n",
    "print(sumRTwoDay)"
   ],
   "metadata": {
    "collapsed": false,
    "pycharm": {
     "name": "#%%\n"
    }
   }
  },
  {
   "cell_type": "code",
   "execution_count": 117,
   "outputs": [
    {
     "name": "stdout",
     "output_type": "stream",
     "text": [
      "806432\n"
     ]
    }
   ],
   "source": [
    "# Calculate revenue for all 4 quarters: Walk-up\n",
    "\n",
    "qu1_WalkUp = df_walk_up[df_walk_up[\"start_time\"] <= qu1]\n",
    "sum_Q1_WalkUp = sum(qu1_WalkUp[\"price\"].apply(lambda x: x))\n",
    "\n",
    "qu2_WalkUp = df_walk_up[df_walk_up[\"start_time\"] > qu1]\n",
    "qu2_WalkUp_s = qu2_WalkUp[qu2_WalkUp[\"start_time\"] <= qu2]\n",
    "sum_Q2_WalkUp = sum(qu2_WalkUp_s[\"price\"].apply(lambda x: x))\n",
    "\n",
    "qu3_WalkUp = df_walk_up[df_walk_up[\"start_time\"] > qu2]\n",
    "qu3_WalkUp_s = qu3_WalkUp[qu3_WalkUp[\"start_time\"] <= qu3]\n",
    "sum_Q3_WalkUp = sum(qu3_WalkUp_s[\"price\"].apply(lambda x: x))\n",
    "\n",
    "qu4_WalkUp = df_walk_up[df_walk_up[\"start_time\"] > qu3]\n",
    "sum_Q4_WalkUp = sum(qu4_WalkUp[\"price\"].apply(lambda x: x))\n",
    "\n",
    "sumRWalkUp = sum_Q1_WalkUp + sum_Q2_WalkUp + sum_Q3_WalkUp + sum_Q4_WalkUp\n",
    "\n",
    "print(sumRWalkUp)"
   ],
   "metadata": {
    "collapsed": false,
    "pycharm": {
     "name": "#%%\n"
    }
   }
  },
  {
   "cell_type": "code",
   "execution_count": 118,
   "outputs": [
    {
     "name": "stdout",
     "output_type": "stream",
     "text": [
      "28592\n"
     ]
    }
   ],
   "source": [
    "# Calculate revenue for all 4 quarters: IndegoFlex\n",
    "\n",
    "qu1_flex = df_flex[df_flex[\"start_time\"] <= qu1]\n",
    "sum_Q1_flex = sum(qu1_flex[\"price\"].apply(lambda x: x))\n",
    "\n",
    "qu2_flex = df_flex[df_flex[\"start_time\"] > qu1]\n",
    "qu2_flex_s = qu2_flex[qu2_flex[\"start_time\"] <= qu2]\n",
    "sum_Q2_flex = sum(qu2_flex_s[\"price\"].apply(lambda x: x))\n",
    "\n",
    "qu3_flex = df_flex[df_flex[\"start_time\"] > qu2]\n",
    "qu3_flex_s = qu3_flex[qu3_flex[\"start_time\"] <= qu3]\n",
    "sum_Q3_flex = sum(qu3_flex_s[\"price\"].apply(lambda x: x))\n",
    "\n",
    "qu4_flex = df_flex[df_flex[\"start_time\"] > qu3]\n",
    "sum_Q4_flex = sum(qu4_flex[\"price\"].apply(lambda x: x))\n",
    "\n",
    "sumRFlex = sum_Q1_flex + sum_Q2_flex + sum_Q3_flex + sum_Q4_flex\n",
    "\n",
    "print(sumRFlex)"
   ],
   "metadata": {
    "collapsed": false,
    "pycharm": {
     "name": "#%%\n"
    }
   }
  },
  {
   "cell_type": "code",
   "execution_count": 119,
   "outputs": [
    {
     "name": "stdout",
     "output_type": "stream",
     "text": [
      "243098.85000000006\n"
     ]
    }
   ],
   "source": [
    "# Calculate revenue for all 4 quarters: Indego30\n",
    "\n",
    "qu1_Indego30 = df_Indego30_more_than_60_mins[df_Indego30_more_than_60_mins[\"start_time\"] <= qu1]\n",
    "sum_Q1_Indego30 = sum(qu1_Indego30[\"costs_overtime\"].apply(lambda x: x))\n",
    "\n",
    "qu2_Indego30 = df_Indego30_more_than_60_mins[df_Indego30_more_than_60_mins[\"start_time\"] > qu1]\n",
    "qu2_Indego30_s = qu2_Indego30[qu2_Indego30[\"start_time\"] <= qu2]\n",
    "sum_Q2_Indego30 = sum(qu2_Indego30_s[\"costs_overtime\"].apply(lambda x: x))\n",
    "\n",
    "qu3_Indego30 = df_Indego30_more_than_60_mins[df_Indego30_more_than_60_mins[\"start_time\"] > qu2]\n",
    "qu3_Indego30_s = qu3_Indego30[qu3_Indego30[\"start_time\"] <= qu3]\n",
    "sum_Q3_Indego30 = sum(qu3_Indego30_s[\"costs_overtime\"].apply(lambda x: x))\n",
    "\n",
    "qu4_Indego30 = df_Indego30_more_than_60_mins[df_Indego30_more_than_60_mins[\"start_time\"] > qu3]\n",
    "sum_Q4_Indego30 = sum(qu4_Indego30[\"costs_overtime\"].apply(lambda x: x))\n",
    "\n",
    "sumR30 = sum_Q1_Indego30 + sum_Q2_Indego30 + sum_Q3_Indego30 + sum_Q4_Indego30\n",
    "\n",
    "print(sumR30)"
   ],
   "metadata": {
    "collapsed": false,
    "pycharm": {
     "name": "#%%\n"
    }
   }
  },
  {
   "cell_type": "code",
   "execution_count": 120,
   "outputs": [
    {
     "name": "stdout",
     "output_type": "stream",
     "text": [
      "1584.1499999999992\n"
     ]
    }
   ],
   "source": [
    "# Calculate revenue for all 4 quarters: Indego30\n",
    "\n",
    "qu1_Indego365 = df_Indego365_more_than_60_mins[df_Indego365_more_than_60_mins[\"start_time\"] <= qu1]\n",
    "sum_Q1_Indego365 = sum(qu1_Indego365[\"costs_overtime\"].apply(lambda x: x))\n",
    "\n",
    "qu2_Indego365 = df_Indego365_more_than_60_mins[df_Indego365_more_than_60_mins[\"start_time\"] > qu1]\n",
    "qu2_Indego365_s = qu2_Indego365[qu2_Indego365[\"start_time\"] <= qu2]\n",
    "sum_Q2_Indego365 = sum(qu2_Indego365_s[\"costs_overtime\"].apply(lambda x: x))\n",
    "\n",
    "qu3_Indego365 = df_Indego365_more_than_60_mins[df_Indego365_more_than_60_mins[\"start_time\"] > qu2]\n",
    "qu3_Indego365_s = qu3_Indego365[qu3_Indego365[\"start_time\"] <= qu3]\n",
    "sum_Q3_Indego365 = sum(qu3_Indego365_s[\"costs_overtime\"].apply(lambda x: x))\n",
    "\n",
    "qu4_Indego365 = df_Indego365_more_than_60_mins[df_Indego365_more_than_60_mins[\"start_time\"] > qu3]\n",
    "sum_Q4_Indego365 = sum(qu4_Indego365[\"costs_overtime\"].apply(lambda x: x))\n",
    "\n",
    "sumR365 = sum_Q1_Indego365 + sum_Q2_Indego365 + sum_Q3_Indego365 + sum_Q4_Indego365\n",
    "\n",
    "print(sumR365)"
   ],
   "metadata": {
    "collapsed": false,
    "pycharm": {
     "name": "#%%\n"
    }
   }
  },
  {
   "cell_type": "code",
   "execution_count": 122,
   "outputs": [
    {
     "data": {
      "text/plain": "{'Indego30': 243098.85000000006,\n 'WalkUp': 806432,\n 'IndegoFlex': 28592,\n 'OneDayPass': 12916.499999999996,\n 'TwoDayPass': 1676.5500000000002,\n 'Indego365': 1584.1499999999992}"
     },
     "execution_count": 122,
     "metadata": {},
     "output_type": "execute_result"
    }
   ],
   "source": [
    "revenue_dict = {'Indego30': sumR30,\n",
    "                  'WalkUp': sumRWalkUp,\n",
    "                  'IndegoFlex': sumRFlex,\n",
    "                  'OneDayPass': sumROneDay,\n",
    "                  'TwoDayPass': sumRTwoDay,\n",
    "                  'Indego365': sumR365\n",
    "                 }\n",
    "\n",
    "revenue_dict"
   ],
   "metadata": {
    "collapsed": false,
    "pycharm": {
     "name": "#%%\n"
    }
   }
  },
  {
   "cell_type": "markdown",
   "source": [
    "Now we plot the quarters in pie charts"
   ],
   "metadata": {
    "collapsed": false,
    "pycharm": {
     "name": "#%% md\n"
    }
   }
  },
  {
   "cell_type": "code",
   "execution_count": 135,
   "outputs": [
    {
     "data": {
      "text/plain": "<Figure size 432x288 with 1 Axes>",
      "image/png": "[encoded data removed]"
     },
     "metadata": {},
     "output_type": "display_data"
    }
   ],
   "source": [
    "# 1st quarter\n",
    "\n",
    "quarter1 = np.array([sum_Q1_WalkUp, sum_Q1_flex, sum_Q1_Indego30, sum_Q1_OneDay, sum_Q1_TwoDay, sum_Q1_Indego365])\n",
    "ourlabels = [\"Walk-up\", \"IndegoFlex\", \"Indego30\", \"\", \" \", \" \"]\n",
    "ourexplode = [0, 0, 0, 1.2, 0.2, 0.2]\n",
    "\n",
    "plt.pie(quarter1, labels=ourlabels, explode=ourexplode)\n",
    "plt.title('Indego revenue 1st quarter 2017')\n",
    "plt.savefig('RevenueQu1.png')\n",
    "plt.show()"
   ],
   "metadata": {
    "collapsed": false,
    "pycharm": {
     "name": "#%%\n"
    }
   }
  },
  {
   "cell_type": "code",
   "execution_count": 136,
   "outputs": [
    {
     "data": {
      "text/plain": "<Figure size 432x288 with 1 Axes>",
      "image/png": "[encoded data removed]"
     },
     "metadata": {},
     "output_type": "display_data"
    }
   ],
   "source": [
    "# 2nd quarter\n",
    "\n",
    "quarter2 = np.array([sum_Q2_WalkUp, sum_Q2_flex, sum_Q2_Indego30, sum_Q2_OneDay, sum_Q2_TwoDay, sum_Q2_Indego365])\n",
    "\n",
    "plt.pie(quarter2, labels=ourlabels, explode=ourexplode)\n",
    "plt.title('Indego revenue 2nd quarter 2017')\n",
    "plt.savefig('RevenueQu2.png')\n",
    "plt.show()"
   ],
   "metadata": {
    "collapsed": false,
    "pycharm": {
     "name": "#%%\n"
    }
   }
  },
  {
   "cell_type": "code",
   "execution_count": 137,
   "outputs": [
    {
     "data": {
      "text/plain": "<Figure size 432x288 with 1 Axes>",
      "image/png": "[encoded data removed]"
     },
     "metadata": {},
     "output_type": "display_data"
    }
   ],
   "source": [
    "# 3rd quarter\n",
    "\n",
    "quarter3 = np.array([sum_Q3_WalkUp, sum_Q3_flex, sum_Q3_Indego30, sum_Q3_OneDay, sum_Q3_TwoDay, sum_Q3_Indego365])\n",
    "ourlabels2 = [\"Walk-up\", \"IndegoFlex\", \"Indego30\", \"OneDayPass\", \"TwoDayPass\", \" \"]\n",
    "ourexplode2 = [0, 0, 0, 0.25, 0.5, 0.5]\n",
    "\n",
    "plt.pie(quarter3, labels=ourlabels2, explode=ourexplode2)\n",
    "plt.title('Indego revenue 3rd quarter 2017')\n",
    "plt.savefig('RevenueQu3.png')\n",
    "plt.show()"
   ],
   "metadata": {
    "collapsed": false,
    "pycharm": {
     "name": "#%%\n"
    }
   }
  },
  {
   "cell_type": "code",
   "execution_count": 138,
   "outputs": [
    {
     "data": {
      "text/plain": "<Figure size 432x288 with 1 Axes>",
      "image/png": "[encoded data removed]"
     },
     "metadata": {},
     "output_type": "display_data"
    }
   ],
   "source": [
    "# 4th quarter\n",
    "\n",
    "quarter4 = np.array([sum_Q4_WalkUp, sum_Q4_flex, sum_Q4_Indego30, sum_Q4_OneDay, sum_Q4_TwoDay, sum_Q4_Indego365])\n",
    "ourlabels3 = [\"Walk-up\", \"IndegoFlex\", \"Indego30\", \"OneDayPass\", \" \", \"Indego365\"]\n",
    "\n",
    "plt.pie(quarter4, labels=ourlabels3, explode=ourexplode2)\n",
    "plt.title('Indego revenue 4th quarter 2017')\n",
    "plt.savefig('RevenueQu4.png')\n",
    "plt.show()"
   ],
   "metadata": {
    "collapsed": false,
    "pycharm": {
     "name": "#%%\n"
    }
   }
  },
  {
   "cell_type": "code",
   "execution_count": null,
   "outputs": [],
   "source": [],
   "metadata": {
    "collapsed": false,
    "pycharm": {
     "name": "#%%\n"
    }
   }
  }
 ],
 "metadata": {
  "kernelspec": {
   "display_name": "Python 3",
   "language": "python",
   "name": "python3"
  },
  "language_info": {
   "codemirror_mode": {
    "name": "ipython",
    "version": 2
   },
   "file_extension": ".py",
   "mimetype": "text/x-python",
   "name": "python",
   "nbconvert_exporter": "python",
   "pygments_lexer": "ipython2",
   "version": "2.7.6"
  }
 },
 "nbformat": 4,
 "nbformat_minor": 0
}